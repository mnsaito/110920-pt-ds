{
 "cells": [
  {
   "cell_type": "code",
   "execution_count": 9,
   "metadata": {
    "ExecuteTime": {
     "end_time": "2021-04-07T15:00:04.979535Z",
     "start_time": "2021-04-07T15:00:04.976503Z"
    }
   },
   "outputs": [],
   "source": [
    "import numpy as np\n",
    "import matplotlib.pyplot as plt\n",
    "from sklearn.datasets import make_classification\n",
    "from sklearn.metrics import accuracy_score"
   ]
  },
  {
   "cell_type": "markdown",
   "metadata": {},
   "source": [
    "# Logistic Regression\n",
    "\n",
    "In this notebook, we break down the the Logistic Regression algorithm. **Logistic Regression** is a commonly used machine learning model for binary prediction problems that have classes of `0` and `1`.\n",
    "\n",
    "### Similiarities to Linear Regression\n",
    "\n",
    "At first, Logistic Regression behaves exactly like Linear Regression, in that:\n",
    "1. We receive a matrix `X` with m rows and n columns. \n",
    "2. We receive an array `Y` with m rows and 1 column.\n",
    "3. We initialize an array of weights `W`, or coefficients, with a shape of (n,1)\n",
    "4. We have a scaler value `b`, or our intercept.\n",
    "\n",
    "Another shared quality is that to aquire predictions we first follow the formula of linear regression exactly. \n",
    "> ie, we  multiply the weight vector by the X matrix and add the intercept $Z = WX + b$\n",
    "\n",
    "### The Sigmoid Function\n",
    "\n",
    "But this is where things begin to change. The goal of Logistic Regression is to predict either a `0` or a `1`. If we were follow the prediction formula of Linear Regression, we could end up with an array of real numbers. So instead what we do is plug the output of the linear formula into the `sigmoid function` $\\sigma$.\n",
    "\n",
    "**The sigmoid function** looks like this:\n",
    "\n",
    "$A_i = \\sigma(Z_i) = \\frac{1}{1+ e^{-Z_i}}$"
   ]
  },
  {
   "cell_type": "code",
   "execution_count": 174,
   "metadata": {
    "ExecuteTime": {
     "end_time": "2021-04-06T02:46:02.743776Z",
     "start_time": "2021-04-06T02:46:02.740923Z"
    }
   },
   "outputs": [],
   "source": [
    "def sigmoid(z):\n",
    "    return 1/(1+np.e**-z)"
   ]
  },
  {
   "cell_type": "markdown",
   "metadata": {},
   "source": [
    "The way this function works, if $Z_i$ is a very large number, the term $e^{-Z_i}$ in the denominator begins to approach 0, at which point the equation becomes $\\frac{1}{1 + 0} = 1$. "
   ]
  },
  {
   "cell_type": "code",
   "execution_count": 177,
   "metadata": {
    "ExecuteTime": {
     "end_time": "2021-04-06T02:46:26.390941Z",
     "start_time": "2021-04-06T02:46:26.387402Z"
    }
   },
   "outputs": [
    {
     "data": {
      "text/plain": [
       "1.0"
      ]
     },
     "execution_count": 177,
     "metadata": {},
     "output_type": "execute_result"
    }
   ],
   "source": [
    "# When the input is large\n",
    "# the sigmoid function outputs 1\n",
    "sigmoid(1000)"
   ]
  },
  {
   "cell_type": "markdown",
   "metadata": {},
   "source": [
    "If $Z_i$ is a very small number, the term ${e^{-Z}}$ results in a large number which increases the size of the denominator beyond the numerator and results in a small float value. Ultimately, these become probabilities between 0 and 1 and are quite effective at predicting binary targets."
   ]
  },
  {
   "cell_type": "code",
   "execution_count": 179,
   "metadata": {
    "ExecuteTime": {
     "end_time": "2021-04-06T02:47:05.561511Z",
     "start_time": "2021-04-06T02:47:05.557706Z"
    }
   },
   "outputs": [
    {
     "data": {
      "text/plain": [
       "3.7200759760208555e-44"
      ]
     },
     "execution_count": 179,
     "metadata": {},
     "output_type": "execute_result"
    }
   ],
   "source": [
    "# When the input is small\n",
    "# the sigmoid function output approaches 0\n",
    "sigmoid(-100)"
   ]
  },
  {
   "cell_type": "code",
   "execution_count": 225,
   "metadata": {
    "ExecuteTime": {
     "end_time": "2021-04-06T03:01:46.540271Z",
     "start_time": "2021-04-06T03:01:46.377151Z"
    }
   },
   "outputs": [
    {
     "data": {
      "image/png": "[encoded data removed]",
      "text/plain": [
       "<Figure size 1080x432 with 1 Axes>"
      ]
     },
     "metadata": {
      "needs_background": "light"
     },
     "output_type": "display_data"
    }
   ],
   "source": [
    "x = np.arange(-10, 10, .02)\n",
    "y = [sigmoid(val) for val in x]\n",
    "plt.figure(figsize=(15,6))\n",
    "plt.plot(x,y, lw=5)\n",
    "plt.yticks([0, .1, .2, .3, .4, .5, .6, .7, .8, .9, 1])\n",
    "plt.grid(axis='y')\n",
    "plt.title('Sigmoid Function');"
   ]
  },
  {
   "cell_type": "markdown",
   "metadata": {},
   "source": [
    "Using the sigmoid function, the output predictions are an array of float values between 0 and 1. To get them into discreet form, the standard convention is to say \"if the probability is greater than .5, then we predict `1` else we predict `0`.\n",
    "> As a side note, this threshold can be adjusted. Sometimes, if the cost of a false prediction for a particular class is large, adjusting this threshold to make it easier or hard to predict 1 is a good idea."
   ]
  },
  {
   "cell_type": "code",
   "execution_count": 235,
   "metadata": {
    "ExecuteTime": {
     "end_time": "2021-04-06T03:08:24.921517Z",
     "start_time": "2021-04-06T03:08:24.916330Z"
    }
   },
   "outputs": [
    {
     "name": "stdout",
     "output_type": "stream",
     "text": [
      "Predicted Probabilities:\n",
      " [1.7627568145969998e-48, 4.579566485415477e-127, 1.3925430242884023e-39, 2.2208453822191914e-22, 0.9735283549449385, 1.0, 1.6045423856655449e-21, 1.0, 2.2323376953657544e-45, 0.9999593946940392]\n",
      "\n",
      "Predictions:\n",
      " [0, 0, 0, 0, 1, 1, 0, 1, 0, 1]\n"
     ]
    }
   ],
   "source": [
    "sample = np.random.normal(0, scale=100, size=10)\n",
    "predicted_probs = [sigmoid(_) for _ in sample]\n",
    "predictions = [1 if _ > .5 else 0 for _ in predicted_probs]\n",
    "print('Predicted Probabilities:\\n', predicted_probs)\n",
    "print()\n",
    "print('Predictions:\\n', predictions)"
   ]
  },
  {
   "cell_type": "markdown",
   "metadata": {},
   "source": [
    "### The Cost Function\n",
    "\n",
    "The **loss function** for logistic regression is:\n",
    "\n",
    "$\\mathcal{L}(y_i, \\hat{y_i})= y_ilog(\\hat{y_i}) + (1-y_i)log(1-\\hat{y_i})$\n",
    "\n",
    "The **cost function** for logistic regression is:\n",
    "\n",
    "$\\mathcal{J} = \\frac{1}{m}\\sum_{i=1}^{m}y_ilog(\\hat{y_i}) + (1-y_i)log(1-\\hat{y_i})$\n",
    "\n",
    "#### Derivatives\n",
    "> Finding the partial derivatives for a cost function is not necessary to be a skilled machine learning practicioner. Given that, we will not be breaking down how these derivates are found in this notebook. [This video](https://www.youtube.com/watch?v=0VMK18nphpg) is a decent breakdown for both derivatives if you would like to dig into the calculus. \n",
    "\n",
    "The **derivative for the weights vector** `W` is:\n",
    "\n",
    "$X(Y-\\sigma(WX + b))$\n",
    "\n",
    "The **derivative for the intercept** `b` is:\n",
    "\n",
    "$\\frac{1}{m}\\sum_{i=1}^{m}\\sigma(w_ix_i + b)-y_i$"
   ]
  },
  {
   "cell_type": "markdown",
   "metadata": {},
   "source": [
    "# Code Logistic Regression from scratch"
   ]
  },
  {
   "cell_type": "markdown",
   "metadata": {},
   "source": [
    "Let's create a few functions. \n",
    "> Small note: Many of these functions will use `.T`. This returns the [transpose](https://mathinsight.org/matrix_transpose) of a numpy array, and is oftentimes used to make the shapes compatible between two arrays of data. \n",
    "\n",
    "1. `predict_proba`\n",
    "    - This function should:\n",
    "        1. Receive an `X` matrix, a `W` vector, and a `b` scaler.\n",
    "        2. Multiply `X` and `W` and add the `b` scaler\n",
    "        3. Pass the output of the previous step into the sigmoid function, return the result. "
   ]
  },
  {
   "cell_type": "code",
   "execution_count": null,
   "metadata": {
    "ExecuteTime": {
     "end_time": "2021-04-07T14:59:23.854939Z",
     "start_time": "2021-04-07T14:59:23.848803Z"
    }
   },
   "outputs": [],
   "source": [
    "# STEP A: Receive an X matrix, a W vector, and a b scaler.\n",
    "def predict_proba(X, W, b):\n",
    "    # STEP B: Multiply X and W and add the b scaler\n",
    "    Z = np.dot(W, X.T) + b\n",
    "    # STEP C: Pass the output of the previous \n",
    "    #         step into the sigmoid function,\n",
    "    #         return the result.\n",
    "    return 1/(1 + np.exp(-Z))"
   ]
  },
  {
   "cell_type": "markdown",
   "metadata": {},
   "source": [
    "2. `gradient_descent`\n",
    "    - This function should\n",
    "        1. Receive an `X` matrix, a `Y` vector, a `W` vector, `b` scaler, and an `alpha` scaler for the learning rate.\n",
    "        2. Use the `predict_proba` function to output a vector of probabilities\n",
    "        3. Calculate the difference between the probabilities and the Y vector\n",
    "        4. Find the derivative for `W` by multiplying the `X` matrix with output from step C and then dividing by the number of observations in the X matrix\n",
    "        5. Find the derivative for `b` by calculating the sum of the output from step C and then dividing by the number of observations in `X`.\n",
    "        6. Update the `W` vector by multiplying `alpha` with the derivative for `W` (step D) and then subtracting that from `W`.\n",
    "        7. Update `b` by multiplying `alpha` with the derivative for `b` (step E) and then subtracting that from `b`.\n",
    "        8. Return the updated versions of `W` and `b`."
   ]
  },
  {
   "cell_type": "code",
   "execution_count": null,
   "metadata": {
    "ExecuteTime": {
     "end_time": "2021-04-07T14:59:23.854939Z",
     "start_time": "2021-04-07T14:59:23.848803Z"
    }
   },
   "outputs": [],
   "source": [
    "# STEP A: Receive an X matrix, a Y vector, \n",
    "#         a W vector, b scaler, and an alpha \n",
    "#         scaler for the learning rate.\n",
    "def gradient_descent(X, Y, W, b, alpha=.001):  \n",
    "    # STEP B: Use the predict_proba function \n",
    "    #         to output a vector of probabilities\n",
    "    A = predict_proba(X, W, b) \n",
    "    # STEP C: Calculate the difference between \n",
    "    #         the probabilities and the Y vector\n",
    "    dZ = (A - Y.T).T \n",
    "    # STEP D: Find the derivative for W by multiplying the X matrix \n",
    "    #         with output from step C and then dividing by the number \n",
    "    #         of observations in the X matrix\n",
    "    dW = np.dot(X.T, dZ)/len(X)\n",
    "    # STEP E: Find the derivative for b by calculating \n",
    "    #         the sum of the output from step C and then \n",
    "    #         dividing by the number of observations in X\n",
    "    db = np.sum(dZ)/len(X)\n",
    "\n",
    "    # STEP F: Update the W vector by multiplying alpha \n",
    "    #         with the derivative for W (step D) \n",
    "    #         and then subtracting that from W\n",
    "    W = W - alpha * dW  \n",
    "    # STEP G: Update b by multiplying alpha with the \n",
    "    #         derivative for b (step E) and then \n",
    "    #         subtracting that from b\n",
    "    b = b - alpha * db\n",
    "    \n",
    "    # STEP H: Return the updated versions of W and b\n",
    "    return W, b"
   ]
  },
  {
   "cell_type": "markdown",
   "metadata": {},
   "source": [
    "3. `predict`\n",
    "    - This function should:\n",
    "        1. Receive an `X` matrix, a `W` vector, a `b` scaler.\n",
    "        2. Pass all arguments into `predict_proba` to produce probabilities\n",
    "        3.  Return a list containing 1s where the probability is greater than .5 and 0 if the probability is less than or equal to .5."
   ]
  },
  {
   "cell_type": "code",
   "execution_count": 7,
   "metadata": {
    "ExecuteTime": {
     "end_time": "2021-04-07T14:59:23.854939Z",
     "start_time": "2021-04-07T14:59:23.848803Z"
    }
   },
   "outputs": [],
   "source": [
    "# STEP A: Receive an X matrix, a W vector, a b scaler.\n",
    "def predict(X, W, b, threshold = 0.5): \n",
    "    # STEP B: Pass all arguments into predict_proba \n",
    "    #         to produce probabilities\n",
    "    A = predict_proba(X, W, b)\n",
    "    # STEP C: Return a list containing 1s \n",
    "    #         where the probability is greater than .5 \n",
    "    #         and 0 if the probability is less than or equal to .5.\n",
    "    Y = np.where(A > threshold, 1, 0) \n",
    "    return Y"
   ]
  },
  {
   "cell_type": "markdown",
   "metadata": {},
   "source": [
    "That is all we need to create a Logistic Regression model!\n",
    "\n",
    "Let's run our code on some data..."
   ]
  },
  {
   "cell_type": "code",
   "execution_count": 6,
   "metadata": {
    "ExecuteTime": {
     "end_time": "2021-04-07T14:58:12.419597Z",
     "start_time": "2021-04-07T14:58:12.387854Z"
    }
   },
   "outputs": [],
   "source": [
    "data = make_classification()\n",
    "\n",
    "X = data[0]\n",
    "Y = data[1]\n",
    "W = np.zeros(X.shape[1])\n",
    "b = 0\n",
    "\n",
    "iterations = 1000\n",
    "\n",
    "for i in range(iterations):\n",
    "    W, b = gradient_descent(X, Y, W, b)"
   ]
  },
  {
   "cell_type": "code",
   "execution_count": 10,
   "metadata": {
    "ExecuteTime": {
     "end_time": "2021-04-07T15:00:31.565797Z",
     "start_time": "2021-04-07T15:00:31.561717Z"
    }
   },
   "outputs": [
    {
     "data": {
      "text/plain": [
       "0.97"
      ]
     },
     "execution_count": 10,
     "metadata": {},
     "output_type": "execute_result"
    }
   ],
   "source": [
    "y_hat = predict(X, W, b)\n",
    "accuracy_score(Y, y_hat)"
   ]
  },
  {
   "cell_type": "markdown",
   "metadata": {},
   "source": [
    "What's even better is we could move this code into a `class`. This allows us to more easily access our model, allows the numbers of inputs to our functions to be simpler since we can store variables like `W` as class attributes, and mirrors the sklearn workflow we've become accustomed to. "
   ]
  },
  {
   "cell_type": "code",
   "execution_count": 11,
   "metadata": {
    "ExecuteTime": {
     "end_time": "2021-04-07T15:56:42.768492Z",
     "start_time": "2021-04-07T15:56:42.757633Z"
    }
   },
   "outputs": [],
   "source": [
    "class LogisticRegression:\n",
    "    \n",
    "    \"\"\"\n",
    "    Implementation of Logistic Regression\n",
    "    \n",
    "    iterations: The number of iterations\n",
    "                used in gradient descent to\n",
    "                reach the minima of the \n",
    "                cost function\n",
    "    \n",
    "    alpha:      The learning rate used to\n",
    "                adjust the stepsize proportional\n",
    "                to the gradient.\n",
    "                \n",
    "    \n",
    "    \"\"\"\n",
    "    \n",
    "    def __init__(self, iterations=1000, alpha=.001):  \n",
    "        \"\"\"\n",
    "        Initialize model hyper parameters\n",
    "        \"\"\"\n",
    "        self.iterations = iterations\n",
    "        self.alpha = alpha       \n",
    "        \n",
    "    def fit(self, X, Y): \n",
    "        self.X = X        \n",
    "        self.Y = Y\n",
    "        self.b = 0  \n",
    "        self.m, self.n = X.shape  \n",
    "        self.W = np.zeros(self.n)        \n",
    "\n",
    "        for i in range(self.iterations):            \n",
    "            self.gradient_descent()            \n",
    "           \n",
    "    def gradient_descent(self):           \n",
    "        A = self.predict_proba(self.X)       \n",
    "        dZ = (A - self.Y.T).T              \n",
    "        dW = np.dot(self.X.T, dZ)/self.m         \n",
    "        db = np.sum(dZ)/self.m \n",
    "          \n",
    "        self.W = self.W - self.alpha * dW    \n",
    "        self.b = self.b - self.alpha * db\n",
    "        \n",
    "    def predict_proba(self, X):\n",
    "        \"\"\"\n",
    "        Returns the probability that an observation\n",
    "        has a class of 1.\n",
    "        \"\"\"\n",
    "        Z = np.dot(self.W, X.T) + self.b\n",
    "        return 1/(1 + np.exp(-Z))\n",
    "      \n",
    "    def predict(self, X , threshold = 0.5): \n",
    "        \"\"\"\n",
    "        Returns an array of 0's and 1's based on\n",
    "        the probability threshold\n",
    "        \n",
    "        threshold: Default = 0.5 - The threshold used for \n",
    "                   determining an obersvation's predicted class.\n",
    "                   Values that receive a prediction greater than the\n",
    "                   threshold receive a prediction of 1. \n",
    "        \"\"\"\n",
    "        A = self.predict_proba(X)   \n",
    "        Y = np.where(A > threshold, 1, 0) \n",
    "        return Y\n",
    "    \n",
    "    def score(self, X, y, threshold=0.5):\n",
    "        \"\"\"\n",
    "        Returns the accuracy score for model predictions\n",
    "        \"\"\"\n",
    "        preds = self.predict(X, threshold=threshold)\n",
    "        return np.sum(preds == np.array(y))/len(preds)"
   ]
  },
  {
   "cell_type": "markdown",
   "metadata": {},
   "source": [
    "Now we can run our model by creating an instance of the `LogisticRegression` class"
   ]
  },
  {
   "cell_type": "code",
   "execution_count": 13,
   "metadata": {
    "ExecuteTime": {
     "end_time": "2021-04-07T15:57:46.134853Z",
     "start_time": "2021-04-07T15:57:46.102992Z"
    }
   },
   "outputs": [
    {
     "data": {
      "text/plain": [
       "0.97"
      ]
     },
     "execution_count": 13,
     "metadata": {},
     "output_type": "execute_result"
    }
   ],
   "source": [
    "my_model = LogisticRegression()\n",
    "my_model.fit(X, Y)\n",
    "my_model.score(X, Y)"
   ]
  },
  {
   "cell_type": "markdown",
   "metadata": {},
   "source": [
    "Let's compare our model with sklearn's."
   ]
  },
  {
   "cell_type": "code",
   "execution_count": 15,
   "metadata": {
    "ExecuteTime": {
     "end_time": "2021-04-07T15:58:46.719846Z",
     "start_time": "2021-04-07T15:58:46.712172Z"
    }
   },
   "outputs": [
    {
     "name": "stderr",
     "output_type": "stream",
     "text": [
      "/opt/anaconda3/lib/python3.7/site-packages/sklearn/linear_model/logistic.py:432: FutureWarning: Default solver will be changed to 'lbfgs' in 0.22. Specify a solver to silence this warning.\n",
      "  FutureWarning)\n"
     ]
    },
    {
     "data": {
      "text/plain": [
       "0.98"
      ]
     },
     "execution_count": 15,
     "metadata": {},
     "output_type": "execute_result"
    }
   ],
   "source": [
    "from sklearn.linear_model import LogisticRegression as sk_logistic\n",
    "sk_model = sk_logistic()\n",
    "sk_model.fit(X, Y)\n",
    "sk_model.score(X, Y)"
   ]
  }
 ],
 "metadata": {
  "kernelspec": {
   "display_name": "Python 3",
   "language": "python",
   "name": "python3"
  },
  "language_info": {
   "codemirror_mode": {
    "name": "ipython",
    "version": 3
   },
   "file_extension": ".py",
   "mimetype": "text/x-python",
   "name": "python",
   "nbconvert_exporter": "python",
   "pygments_lexer": "ipython3",
   "version": "3.7.4"
  },
  "toc": {
   "base_numbering": 1,
   "nav_menu": {},
   "number_sections": false,
   "sideBar": true,
   "skip_h1_title": false,
   "title_cell": "Table of Contents",
   "title_sidebar": "Contents",
   "toc_cell": false,
   "toc_position": {
    "height": "calc(100% - 180px)",
    "left": "10px",
    "top": "150px",
    "width": "212.004px"
   },
   "toc_section_display": true,
   "toc_window_display": false
  }
 },
 "nbformat": 4,
 "nbformat_minor": 2
}
