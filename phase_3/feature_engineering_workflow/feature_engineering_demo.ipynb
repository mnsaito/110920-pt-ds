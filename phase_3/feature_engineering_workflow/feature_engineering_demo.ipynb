{
 "cells": [
  {
   "cell_type": "markdown",
   "metadata": {},
   "source": [
    "# Feature Engineering"
   ]
  },
  {
   "cell_type": "markdown",
   "metadata": {},
   "source": [
    "#### Imports"
   ]
  },
  {
   "cell_type": "code",
   "execution_count": 1,
   "metadata": {
    "ExecuteTime": {
     "end_time": "2021-04-27T22:11:17.093935Z",
     "start_time": "2021-04-27T22:11:17.090874Z"
    }
   },
   "outputs": [],
   "source": [
    "import pandas as pd\n",
    "import numpy as np\n",
    "\n",
    "from sklearn.linear_model import LinearRegression\n",
    "from sklearn.model_selection import KFold, cross_val_score, train_test_split\n",
    "from sklearn.metrics import mean_squared_error, make_scorer\n",
    "from sklearn.preprocessing import PolynomialFeatures"
   ]
  },
  {
   "cell_type": "markdown",
   "metadata": {},
   "source": [
    "### Model Harness"
   ]
  },
  {
   "cell_type": "code",
   "execution_count": 20,
   "metadata": {
    "ExecuteTime": {
     "end_time": "2021-04-27T22:08:00.303535Z",
     "start_time": "2021-04-27T22:08:00.296142Z"
    }
   },
   "outputs": [],
   "source": [
    "class ModelHistory:\n",
    "    \n",
    "    def __init__(self, scorer, random_state=2021):\n",
    "        self.scorer = scorer\n",
    "        self.history = pd.DataFrame(columns=['Name', 'Error', 'Notes'])\n",
    "\n",
    "    def report(self, model, X, y, name, notes='', cv=5,):\n",
    "        kf = KFold(n_splits=cv, random_state=2021, shuffle=True)\n",
    "        scores = cross_val_score(model, X, y, \n",
    "                                 scoring=self.scorer, cv=kf)\n",
    "        self.log_report(name, scores.mean(), notes)\n",
    "        print('Average Score:', scores.mean())\n",
    "        return scores\n",
    "    \n",
    "    def log_report(self, name, av_score, notes):\n",
    "        frame = pd.DataFrame([[name, av_score, notes]], columns=['Name', 'Error', 'Notes'])\n",
    "        self.history = self.history.append(frame)\n",
    "        self.history = self.history.reset_index(drop=True)\n",
    "        self.history = self.history.sort_values('Error')\n",
    "\n",
    "    def print_error(self, name, error):\n",
    "        print('{} has an average error of ${:.2f}'.format(name, error))"
   ]
  },
  {
   "cell_type": "markdown",
   "metadata": {},
   "source": [
    "### Set up your modeling metric"
   ]
  },
  {
   "cell_type": "code",
   "execution_count": 21,
   "metadata": {
    "ExecuteTime": {
     "end_time": "2021-04-27T22:08:50.306843Z",
     "start_time": "2021-04-27T22:08:50.304105Z"
    }
   },
   "outputs": [],
   "source": [
    "def rmse_score(y_true, y_hat):\n",
    "    mse = mean_squared_error(y_true, y_hat)\n",
    "\n",
    "    return np.sqrt(mse)\n",
    "\n",
    "rmse = make_scorer(rmse_score)"
   ]
  },
  {
   "cell_type": "markdown",
   "metadata": {},
   "source": [
    "### Import data"
   ]
  },
  {
   "cell_type": "code",
   "execution_count": 22,
   "metadata": {
    "ExecuteTime": {
     "end_time": "2021-04-27T22:08:52.335779Z",
     "start_time": "2021-04-27T22:08:52.294481Z"
    }
   },
   "outputs": [],
   "source": [
    "raw = pd.read_csv('data/house_sale_data.csv')"
   ]
  },
  {
   "cell_type": "code",
   "execution_count": 23,
   "metadata": {
    "ExecuteTime": {
     "end_time": "2021-04-27T22:08:55.966511Z",
     "start_time": "2021-04-27T22:08:55.951848Z"
    }
   },
   "outputs": [
    {
     "data": {
      "text/html": [
       "<div>\n",
       "<style scoped>\n",
       "    .dataframe tbody tr th:only-of-type {\n",
       "        vertical-align: middle;\n",
       "    }\n",
       "\n",
       "    .dataframe tbody tr th {\n",
       "        vertical-align: top;\n",
       "    }\n",
       "\n",
       "    .dataframe thead th {\n",
       "        text-align: right;\n",
       "    }\n",
       "</style>\n",
       "<table border=\"1\" class=\"dataframe\">\n",
       "  <thead>\n",
       "    <tr style=\"text-align: right;\">\n",
       "      <th></th>\n",
       "      <th>sale_id</th>\n",
       "      <th>day</th>\n",
       "      <th>month</th>\n",
       "      <th>sale_price</th>\n",
       "      <th>n_bedrooms</th>\n",
       "      <th>n_bathrooms</th>\n",
       "      <th>finished_sqft</th>\n",
       "      <th>lot_size_sqft</th>\n",
       "      <th>n_floors</th>\n",
       "      <th>waterfront_indicator</th>\n",
       "      <th>view_index</th>\n",
       "      <th>condition_index</th>\n",
       "      <th>construction_grade_index</th>\n",
       "      <th>finished_above_ground_sqft</th>\n",
       "      <th>finished_below_ground_sqft</th>\n",
       "      <th>year_built</th>\n",
       "      <th>year_renovated</th>\n",
       "      <th>zipcode</th>\n",
       "      <th>latitude</th>\n",
       "      <th>longitude</th>\n",
       "    </tr>\n",
       "  </thead>\n",
       "  <tbody>\n",
       "    <tr>\n",
       "      <th>0</th>\n",
       "      <td>7129300520</td>\n",
       "      <td>13</td>\n",
       "      <td>10</td>\n",
       "      <td>221900</td>\n",
       "      <td>3</td>\n",
       "      <td>1.00</td>\n",
       "      <td>1180</td>\n",
       "      <td>5650</td>\n",
       "      <td>1.0</td>\n",
       "      <td>0</td>\n",
       "      <td>0</td>\n",
       "      <td>3</td>\n",
       "      <td>7</td>\n",
       "      <td>1180</td>\n",
       "      <td>0</td>\n",
       "      <td>1955</td>\n",
       "      <td>0</td>\n",
       "      <td>54968</td>\n",
       "      <td>47.5112</td>\n",
       "      <td>-92.873</td>\n",
       "    </tr>\n",
       "    <tr>\n",
       "      <th>1</th>\n",
       "      <td>6414100192</td>\n",
       "      <td>9</td>\n",
       "      <td>12</td>\n",
       "      <td>538000</td>\n",
       "      <td>3</td>\n",
       "      <td>2.25</td>\n",
       "      <td>2570</td>\n",
       "      <td>7242</td>\n",
       "      <td>2.0</td>\n",
       "      <td>0</td>\n",
       "      <td>0</td>\n",
       "      <td>3</td>\n",
       "      <td>7</td>\n",
       "      <td>2170</td>\n",
       "      <td>400</td>\n",
       "      <td>1951</td>\n",
       "      <td>1991</td>\n",
       "      <td>54915</td>\n",
       "      <td>47.7210</td>\n",
       "      <td>-92.935</td>\n",
       "    </tr>\n",
       "    <tr>\n",
       "      <th>2</th>\n",
       "      <td>5631500400</td>\n",
       "      <td>25</td>\n",
       "      <td>2</td>\n",
       "      <td>180000</td>\n",
       "      <td>2</td>\n",
       "      <td>1.00</td>\n",
       "      <td>770</td>\n",
       "      <td>10000</td>\n",
       "      <td>1.0</td>\n",
       "      <td>0</td>\n",
       "      <td>0</td>\n",
       "      <td>3</td>\n",
       "      <td>6</td>\n",
       "      <td>770</td>\n",
       "      <td>0</td>\n",
       "      <td>1933</td>\n",
       "      <td>0</td>\n",
       "      <td>54818</td>\n",
       "      <td>47.7379</td>\n",
       "      <td>-92.849</td>\n",
       "    </tr>\n",
       "    <tr>\n",
       "      <th>3</th>\n",
       "      <td>2487200875</td>\n",
       "      <td>9</td>\n",
       "      <td>12</td>\n",
       "      <td>604000</td>\n",
       "      <td>4</td>\n",
       "      <td>3.00</td>\n",
       "      <td>1960</td>\n",
       "      <td>5000</td>\n",
       "      <td>1.0</td>\n",
       "      <td>0</td>\n",
       "      <td>0</td>\n",
       "      <td>5</td>\n",
       "      <td>7</td>\n",
       "      <td>1050</td>\n",
       "      <td>910</td>\n",
       "      <td>1965</td>\n",
       "      <td>0</td>\n",
       "      <td>54926</td>\n",
       "      <td>47.5208</td>\n",
       "      <td>-93.009</td>\n",
       "    </tr>\n",
       "    <tr>\n",
       "      <th>4</th>\n",
       "      <td>1954400510</td>\n",
       "      <td>18</td>\n",
       "      <td>2</td>\n",
       "      <td>510000</td>\n",
       "      <td>3</td>\n",
       "      <td>2.00</td>\n",
       "      <td>1680</td>\n",
       "      <td>8080</td>\n",
       "      <td>1.0</td>\n",
       "      <td>0</td>\n",
       "      <td>0</td>\n",
       "      <td>3</td>\n",
       "      <td>8</td>\n",
       "      <td>1680</td>\n",
       "      <td>0</td>\n",
       "      <td>1987</td>\n",
       "      <td>0</td>\n",
       "      <td>54864</td>\n",
       "      <td>47.6168</td>\n",
       "      <td>-92.661</td>\n",
       "    </tr>\n",
       "  </tbody>\n",
       "</table>\n",
       "</div>"
      ],
      "text/plain": [
       "      sale_id  day  month  sale_price  n_bedrooms  n_bathrooms  finished_sqft  \\\n",
       "0  7129300520   13     10      221900           3         1.00           1180   \n",
       "1  6414100192    9     12      538000           3         2.25           2570   \n",
       "2  5631500400   25      2      180000           2         1.00            770   \n",
       "3  2487200875    9     12      604000           4         3.00           1960   \n",
       "4  1954400510   18      2      510000           3         2.00           1680   \n",
       "\n",
       "   lot_size_sqft  n_floors  waterfront_indicator  view_index  condition_index  \\\n",
       "0           5650       1.0                     0           0                3   \n",
       "1           7242       2.0                     0           0                3   \n",
       "2          10000       1.0                     0           0                3   \n",
       "3           5000       1.0                     0           0                5   \n",
       "4           8080       1.0                     0           0                3   \n",
       "\n",
       "   construction_grade_index finished_above_ground_sqft  \\\n",
       "0                         7                       1180   \n",
       "1                         7                       2170   \n",
       "2                         6                        770   \n",
       "3                         7                       1050   \n",
       "4                         8                       1680   \n",
       "\n",
       "   finished_below_ground_sqft  year_built  year_renovated  zipcode  latitude  \\\n",
       "0                           0        1955               0    54968   47.5112   \n",
       "1                         400        1951            1991    54915   47.7210   \n",
       "2                           0        1933               0    54818   47.7379   \n",
       "3                         910        1965               0    54926   47.5208   \n",
       "4                           0        1987               0    54864   47.6168   \n",
       "\n",
       "   longitude  \n",
       "0    -92.873  \n",
       "1    -92.935  \n",
       "2    -92.849  \n",
       "3    -93.009  \n",
       "4    -92.661  "
      ]
     },
     "execution_count": 23,
     "metadata": {},
     "output_type": "execute_result"
    }
   ],
   "source": [
    "raw.head()"
   ]
  },
  {
   "cell_type": "markdown",
   "metadata": {},
   "source": [
    "### Clean data"
   ]
  },
  {
   "cell_type": "code",
   "execution_count": 24,
   "metadata": {
    "ExecuteTime": {
     "end_time": "2021-04-27T22:09:49.055826Z",
     "start_time": "2021-04-27T22:09:49.041115Z"
    }
   },
   "outputs": [],
   "source": [
    "drop = ['sale_id', 'zipcode']\n",
    "df = raw.drop(drop, axis = 1)\n",
    "\n",
    "df.finished_above_ground_sqft = pd.to_numeric(df.finished_above_ground_sqft, errors='coerce')"
   ]
  },
  {
   "cell_type": "markdown",
   "metadata": {},
   "source": [
    "### Train Test Split"
   ]
  },
  {
   "cell_type": "code",
   "execution_count": 25,
   "metadata": {
    "ExecuteTime": {
     "end_time": "2021-04-27T22:09:52.172086Z",
     "start_time": "2021-04-27T22:09:52.160260Z"
    }
   },
   "outputs": [],
   "source": [
    "X = df.drop('sale_price', axis=1)\n",
    "y = df.sale_price\n",
    "\n",
    "X_train, X_test, y_train, y_test = train_test_split(X, y, random_state=2021)"
   ]
  },
  {
   "cell_type": "markdown",
   "metadata": {},
   "source": [
    "# Experiments"
   ]
  },
  {
   "cell_type": "code",
   "execution_count": 26,
   "metadata": {
    "ExecuteTime": {
     "end_time": "2021-04-27T22:10:03.265875Z",
     "start_time": "2021-04-27T22:10:03.260932Z"
    }
   },
   "outputs": [],
   "source": [
    "history = ModelHistory(rmse)"
   ]
  },
  {
   "cell_type": "markdown",
   "metadata": {},
   "source": [
    "### Baseline"
   ]
  },
  {
   "cell_type": "code",
   "execution_count": 27,
   "metadata": {
    "ExecuteTime": {
     "end_time": "2021-04-27T22:10:33.315317Z",
     "start_time": "2021-04-27T22:10:33.255203Z"
    }
   },
   "outputs": [
    {
     "name": "stdout",
     "output_type": "stream",
     "text": [
      "Average Score: 203667.06564269523\n"
     ]
    },
    {
     "data": {
      "text/plain": [
       "array([204278.21712003, 205532.48511261, 194535.45106361, 210175.20070111,\n",
       "       203813.97421612])"
      ]
     },
     "execution_count": 27,
     "metadata": {},
     "output_type": "execute_result"
    }
   ],
   "source": [
    "linear_regression = LinearRegression()\n",
    "history.report(linear_regression,X_train, y_train, 'Linear Regression - Defaults')"
   ]
  },
  {
   "cell_type": "markdown",
   "metadata": {},
   "source": [
    "### Polynomials"
   ]
  },
  {
   "cell_type": "code",
   "execution_count": 29,
   "metadata": {
    "ExecuteTime": {
     "end_time": "2021-04-27T22:12:46.705824Z",
     "start_time": "2021-04-27T22:12:46.461205Z"
    }
   },
   "outputs": [
    {
     "name": "stdout",
     "output_type": "stream",
     "text": [
      "Average Score: 174428.1402286037\n"
     ]
    },
    {
     "data": {
      "text/plain": [
       "array([181549.90473385, 165574.42572078, 171075.70598882, 172255.93215438,\n",
       "       181684.73254519])"
      ]
     },
     "execution_count": 29,
     "metadata": {},
     "output_type": "execute_result"
    }
   ],
   "source": [
    "interactor = PolynomialFeatures(interaction_only=True)\n",
    "X_train_interactions = interactor.fit_transform(X_train)\n",
    "\n",
    "history.report(linear_regression, X_train_interactions, y_train,\n",
    "               'Linear Regression', 'Added interaction terms')"
   ]
  },
  {
   "cell_type": "markdown",
   "metadata": {},
   "source": [
    "## Bathrooms"
   ]
  },
  {
   "cell_type": "code",
   "execution_count": 33,
   "metadata": {
    "ExecuteTime": {
     "end_time": "2021-04-27T22:13:32.402037Z",
     "start_time": "2021-04-27T22:13:32.229846Z"
    }
   },
   "outputs": [
    {
     "data": {
      "text/plain": [
       "<matplotlib.axes._subplots.AxesSubplot at 0x7f8ca97e9650>"
      ]
     },
     "execution_count": 33,
     "metadata": {},
     "output_type": "execute_result"
    },
    {
     "data": {
      "image/png": "[encoded data removed]",
      "text/plain": [
       "<Figure size 432x288 with 1 Axes>"
      ]
     },
     "metadata": {
      "needs_background": "light"
     },
     "output_type": "display_data"
    }
   ],
   "source": [
    "X.n_bedrooms.hist()"
   ]
  },
  {
   "cell_type": "markdown",
   "metadata": {},
   "source": [
    "#### Greater than 5 indicator"
   ]
  },
  {
   "cell_type": "code",
   "execution_count": 37,
   "metadata": {
    "ExecuteTime": {
     "end_time": "2021-04-27T22:15:30.603184Z",
     "start_time": "2021-04-27T22:15:30.599789Z"
    }
   },
   "outputs": [],
   "source": [
    "bedrooms = X_train.copy()"
   ]
  },
  {
   "cell_type": "code",
   "execution_count": 39,
   "metadata": {
    "ExecuteTime": {
     "end_time": "2021-04-27T22:15:53.884585Z",
     "start_time": "2021-04-27T22:15:53.876495Z"
    }
   },
   "outputs": [],
   "source": [
    "def bin_bedrooms_greater_than_five(x):\n",
    "    if x > 5:\n",
    "        return 1\n",
    "    else:\n",
    "        return 0\n",
    "    \n",
    "bedrooms['greater_than_5_bedrooms'] = bedrooms.n_bedrooms.apply(bin_bedrooms_greater_than_five)"
   ]
  },
  {
   "cell_type": "code",
   "execution_count": 40,
   "metadata": {
    "ExecuteTime": {
     "end_time": "2021-04-27T22:17:12.243637Z",
     "start_time": "2021-04-27T22:17:12.174960Z"
    }
   },
   "outputs": [
    {
     "name": "stdout",
     "output_type": "stream",
     "text": [
      "Average Score: 203720.2591765356\n"
     ]
    },
    {
     "data": {
      "text/plain": [
       "array([204289.21467182, 205568.11705689, 194685.73744918, 210146.109721  ,\n",
       "       203912.11698379])"
      ]
     },
     "execution_count": 40,
     "metadata": {},
     "output_type": "execute_result"
    }
   ],
   "source": [
    "history.report(linear_regression, bedrooms, y_train,\n",
    "               'Linear Regression', '''Added greater than 5 bedrooms indicator\n",
    "                                       did not drop n_bedrooms.''') "
   ]
  },
  {
   "cell_type": "code",
   "execution_count": 41,
   "metadata": {
    "ExecuteTime": {
     "end_time": "2021-04-27T22:17:25.043508Z",
     "start_time": "2021-04-27T22:17:25.037218Z"
    }
   },
   "outputs": [
    {
     "data": {
      "text/html": [
       "<div>\n",
       "<style scoped>\n",
       "    .dataframe tbody tr th:only-of-type {\n",
       "        vertical-align: middle;\n",
       "    }\n",
       "\n",
       "    .dataframe tbody tr th {\n",
       "        vertical-align: top;\n",
       "    }\n",
       "\n",
       "    .dataframe thead th {\n",
       "        text-align: right;\n",
       "    }\n",
       "</style>\n",
       "<table border=\"1\" class=\"dataframe\">\n",
       "  <thead>\n",
       "    <tr style=\"text-align: right;\">\n",
       "      <th></th>\n",
       "      <th>Name</th>\n",
       "      <th>Error</th>\n",
       "      <th>Notes</th>\n",
       "    </tr>\n",
       "  </thead>\n",
       "  <tbody>\n",
       "    <tr>\n",
       "      <th>0</th>\n",
       "      <td>Linear Regression</td>\n",
       "      <td>174428.140229</td>\n",
       "      <td>Added interaction terms</td>\n",
       "    </tr>\n",
       "    <tr>\n",
       "      <th>1</th>\n",
       "      <td>Linear Regression - Defaults</td>\n",
       "      <td>203667.065643</td>\n",
       "      <td></td>\n",
       "    </tr>\n",
       "    <tr>\n",
       "      <th>2</th>\n",
       "      <td>Linear Regression</td>\n",
       "      <td>203720.259177</td>\n",
       "      <td>Added greater than 5 bedrooms indicator\\n     ...</td>\n",
       "    </tr>\n",
       "  </tbody>\n",
       "</table>\n",
       "</div>"
      ],
      "text/plain": [
       "                           Name          Error  \\\n",
       "0             Linear Regression  174428.140229   \n",
       "1  Linear Regression - Defaults  203667.065643   \n",
       "2             Linear Regression  203720.259177   \n",
       "\n",
       "                                               Notes  \n",
       "0                            Added interaction terms  \n",
       "1                                                     \n",
       "2  Added greater than 5 bedrooms indicator\\n     ...  "
      ]
     },
     "execution_count": 41,
     "metadata": {},
     "output_type": "execute_result"
    }
   ],
   "source": [
    "history.history"
   ]
  },
  {
   "cell_type": "code",
   "execution_count": 42,
   "metadata": {
    "ExecuteTime": {
     "end_time": "2021-04-27T22:24:33.746246Z",
     "start_time": "2021-04-27T22:24:33.725057Z"
    }
   },
   "outputs": [
    {
     "data": {
      "text/html": [
       "<div>\n",
       "<style scoped>\n",
       "    .dataframe tbody tr th:only-of-type {\n",
       "        vertical-align: middle;\n",
       "    }\n",
       "\n",
       "    .dataframe tbody tr th {\n",
       "        vertical-align: top;\n",
       "    }\n",
       "\n",
       "    .dataframe thead th {\n",
       "        text-align: right;\n",
       "    }\n",
       "</style>\n",
       "<table border=\"1\" class=\"dataframe\">\n",
       "  <thead>\n",
       "    <tr style=\"text-align: right;\">\n",
       "      <th></th>\n",
       "      <th>sale_id</th>\n",
       "      <th>day</th>\n",
       "      <th>month</th>\n",
       "      <th>sale_price</th>\n",
       "      <th>n_bedrooms</th>\n",
       "      <th>n_bathrooms</th>\n",
       "      <th>finished_sqft</th>\n",
       "      <th>lot_size_sqft</th>\n",
       "      <th>n_floors</th>\n",
       "      <th>waterfront_indicator</th>\n",
       "      <th>view_index</th>\n",
       "      <th>condition_index</th>\n",
       "      <th>construction_grade_index</th>\n",
       "      <th>finished_above_ground_sqft</th>\n",
       "      <th>finished_below_ground_sqft</th>\n",
       "      <th>year_built</th>\n",
       "      <th>year_renovated</th>\n",
       "      <th>zipcode</th>\n",
       "      <th>latitude</th>\n",
       "      <th>longitude</th>\n",
       "    </tr>\n",
       "  </thead>\n",
       "  <tbody>\n",
       "    <tr>\n",
       "      <th>0</th>\n",
       "      <td>7129300520</td>\n",
       "      <td>13</td>\n",
       "      <td>10</td>\n",
       "      <td>221900</td>\n",
       "      <td>3</td>\n",
       "      <td>1.00</td>\n",
       "      <td>1180</td>\n",
       "      <td>5650</td>\n",
       "      <td>1.0</td>\n",
       "      <td>0</td>\n",
       "      <td>0</td>\n",
       "      <td>3</td>\n",
       "      <td>7</td>\n",
       "      <td>1180</td>\n",
       "      <td>0</td>\n",
       "      <td>1955</td>\n",
       "      <td>0</td>\n",
       "      <td>54968</td>\n",
       "      <td>47.5112</td>\n",
       "      <td>-92.873</td>\n",
       "    </tr>\n",
       "    <tr>\n",
       "      <th>1</th>\n",
       "      <td>6414100192</td>\n",
       "      <td>9</td>\n",
       "      <td>12</td>\n",
       "      <td>538000</td>\n",
       "      <td>3</td>\n",
       "      <td>2.25</td>\n",
       "      <td>2570</td>\n",
       "      <td>7242</td>\n",
       "      <td>2.0</td>\n",
       "      <td>0</td>\n",
       "      <td>0</td>\n",
       "      <td>3</td>\n",
       "      <td>7</td>\n",
       "      <td>2170</td>\n",
       "      <td>400</td>\n",
       "      <td>1951</td>\n",
       "      <td>1991</td>\n",
       "      <td>54915</td>\n",
       "      <td>47.7210</td>\n",
       "      <td>-92.935</td>\n",
       "    </tr>\n",
       "    <tr>\n",
       "      <th>2</th>\n",
       "      <td>5631500400</td>\n",
       "      <td>25</td>\n",
       "      <td>2</td>\n",
       "      <td>180000</td>\n",
       "      <td>2</td>\n",
       "      <td>1.00</td>\n",
       "      <td>770</td>\n",
       "      <td>10000</td>\n",
       "      <td>1.0</td>\n",
       "      <td>0</td>\n",
       "      <td>0</td>\n",
       "      <td>3</td>\n",
       "      <td>6</td>\n",
       "      <td>770</td>\n",
       "      <td>0</td>\n",
       "      <td>1933</td>\n",
       "      <td>0</td>\n",
       "      <td>54818</td>\n",
       "      <td>47.7379</td>\n",
       "      <td>-92.849</td>\n",
       "    </tr>\n",
       "    <tr>\n",
       "      <th>3</th>\n",
       "      <td>2487200875</td>\n",
       "      <td>9</td>\n",
       "      <td>12</td>\n",
       "      <td>604000</td>\n",
       "      <td>4</td>\n",
       "      <td>3.00</td>\n",
       "      <td>1960</td>\n",
       "      <td>5000</td>\n",
       "      <td>1.0</td>\n",
       "      <td>0</td>\n",
       "      <td>0</td>\n",
       "      <td>5</td>\n",
       "      <td>7</td>\n",
       "      <td>1050</td>\n",
       "      <td>910</td>\n",
       "      <td>1965</td>\n",
       "      <td>0</td>\n",
       "      <td>54926</td>\n",
       "      <td>47.5208</td>\n",
       "      <td>-93.009</td>\n",
       "    </tr>\n",
       "    <tr>\n",
       "      <th>4</th>\n",
       "      <td>1954400510</td>\n",
       "      <td>18</td>\n",
       "      <td>2</td>\n",
       "      <td>510000</td>\n",
       "      <td>3</td>\n",
       "      <td>2.00</td>\n",
       "      <td>1680</td>\n",
       "      <td>8080</td>\n",
       "      <td>1.0</td>\n",
       "      <td>0</td>\n",
       "      <td>0</td>\n",
       "      <td>3</td>\n",
       "      <td>8</td>\n",
       "      <td>1680</td>\n",
       "      <td>0</td>\n",
       "      <td>1987</td>\n",
       "      <td>0</td>\n",
       "      <td>54864</td>\n",
       "      <td>47.6168</td>\n",
       "      <td>-92.661</td>\n",
       "    </tr>\n",
       "    <tr>\n",
       "      <th>...</th>\n",
       "      <td>...</td>\n",
       "      <td>...</td>\n",
       "      <td>...</td>\n",
       "      <td>...</td>\n",
       "      <td>...</td>\n",
       "      <td>...</td>\n",
       "      <td>...</td>\n",
       "      <td>...</td>\n",
       "      <td>...</td>\n",
       "      <td>...</td>\n",
       "      <td>...</td>\n",
       "      <td>...</td>\n",
       "      <td>...</td>\n",
       "      <td>...</td>\n",
       "      <td>...</td>\n",
       "      <td>...</td>\n",
       "      <td>...</td>\n",
       "      <td>...</td>\n",
       "      <td>...</td>\n",
       "      <td>...</td>\n",
       "    </tr>\n",
       "    <tr>\n",
       "      <th>21608</th>\n",
       "      <td>263000018</td>\n",
       "      <td>21</td>\n",
       "      <td>5</td>\n",
       "      <td>360000</td>\n",
       "      <td>3</td>\n",
       "      <td>2.50</td>\n",
       "      <td>1530</td>\n",
       "      <td>1131</td>\n",
       "      <td>3.0</td>\n",
       "      <td>0</td>\n",
       "      <td>0</td>\n",
       "      <td>3</td>\n",
       "      <td>8</td>\n",
       "      <td>1530</td>\n",
       "      <td>0</td>\n",
       "      <td>2009</td>\n",
       "      <td>0</td>\n",
       "      <td>54893</td>\n",
       "      <td>47.6993</td>\n",
       "      <td>-92.962</td>\n",
       "    </tr>\n",
       "    <tr>\n",
       "      <th>21609</th>\n",
       "      <td>6600060120</td>\n",
       "      <td>23</td>\n",
       "      <td>2</td>\n",
       "      <td>400000</td>\n",
       "      <td>4</td>\n",
       "      <td>2.50</td>\n",
       "      <td>2310</td>\n",
       "      <td>5813</td>\n",
       "      <td>2.0</td>\n",
       "      <td>0</td>\n",
       "      <td>0</td>\n",
       "      <td>3</td>\n",
       "      <td>8</td>\n",
       "      <td>2310</td>\n",
       "      <td>0</td>\n",
       "      <td>2014</td>\n",
       "      <td>0</td>\n",
       "      <td>54936</td>\n",
       "      <td>47.5107</td>\n",
       "      <td>-92.978</td>\n",
       "    </tr>\n",
       "    <tr>\n",
       "      <th>21610</th>\n",
       "      <td>1523300141</td>\n",
       "      <td>23</td>\n",
       "      <td>6</td>\n",
       "      <td>402101</td>\n",
       "      <td>2</td>\n",
       "      <td>0.75</td>\n",
       "      <td>1020</td>\n",
       "      <td>1350</td>\n",
       "      <td>2.0</td>\n",
       "      <td>0</td>\n",
       "      <td>0</td>\n",
       "      <td>3</td>\n",
       "      <td>7</td>\n",
       "      <td>1020</td>\n",
       "      <td>0</td>\n",
       "      <td>2009</td>\n",
       "      <td>0</td>\n",
       "      <td>54934</td>\n",
       "      <td>47.5944</td>\n",
       "      <td>-92.915</td>\n",
       "    </tr>\n",
       "    <tr>\n",
       "      <th>21611</th>\n",
       "      <td>291310100</td>\n",
       "      <td>16</td>\n",
       "      <td>1</td>\n",
       "      <td>400000</td>\n",
       "      <td>3</td>\n",
       "      <td>2.50</td>\n",
       "      <td>1600</td>\n",
       "      <td>2388</td>\n",
       "      <td>2.0</td>\n",
       "      <td>0</td>\n",
       "      <td>0</td>\n",
       "      <td>3</td>\n",
       "      <td>8</td>\n",
       "      <td>1600</td>\n",
       "      <td>0</td>\n",
       "      <td>2004</td>\n",
       "      <td>0</td>\n",
       "      <td>54817</td>\n",
       "      <td>47.5345</td>\n",
       "      <td>-92.685</td>\n",
       "    </tr>\n",
       "    <tr>\n",
       "      <th>21612</th>\n",
       "      <td>1523300157</td>\n",
       "      <td>15</td>\n",
       "      <td>10</td>\n",
       "      <td>325000</td>\n",
       "      <td>2</td>\n",
       "      <td>0.75</td>\n",
       "      <td>1020</td>\n",
       "      <td>1076</td>\n",
       "      <td>2.0</td>\n",
       "      <td>0</td>\n",
       "      <td>0</td>\n",
       "      <td>3</td>\n",
       "      <td>7</td>\n",
       "      <td>1020</td>\n",
       "      <td>0</td>\n",
       "      <td>2008</td>\n",
       "      <td>0</td>\n",
       "      <td>54934</td>\n",
       "      <td>47.5941</td>\n",
       "      <td>-92.915</td>\n",
       "    </tr>\n",
       "  </tbody>\n",
       "</table>\n",
       "<p>21613 rows × 20 columns</p>\n",
       "</div>"
      ],
      "text/plain": [
       "          sale_id  day  month  sale_price  n_bedrooms  n_bathrooms  \\\n",
       "0      7129300520   13     10      221900           3         1.00   \n",
       "1      6414100192    9     12      538000           3         2.25   \n",
       "2      5631500400   25      2      180000           2         1.00   \n",
       "3      2487200875    9     12      604000           4         3.00   \n",
       "4      1954400510   18      2      510000           3         2.00   \n",
       "...           ...  ...    ...         ...         ...          ...   \n",
       "21608   263000018   21      5      360000           3         2.50   \n",
       "21609  6600060120   23      2      400000           4         2.50   \n",
       "21610  1523300141   23      6      402101           2         0.75   \n",
       "21611   291310100   16      1      400000           3         2.50   \n",
       "21612  1523300157   15     10      325000           2         0.75   \n",
       "\n",
       "       finished_sqft  lot_size_sqft  n_floors  waterfront_indicator  \\\n",
       "0               1180           5650       1.0                     0   \n",
       "1               2570           7242       2.0                     0   \n",
       "2                770          10000       1.0                     0   \n",
       "3               1960           5000       1.0                     0   \n",
       "4               1680           8080       1.0                     0   \n",
       "...              ...            ...       ...                   ...   \n",
       "21608           1530           1131       3.0                     0   \n",
       "21609           2310           5813       2.0                     0   \n",
       "21610           1020           1350       2.0                     0   \n",
       "21611           1600           2388       2.0                     0   \n",
       "21612           1020           1076       2.0                     0   \n",
       "\n",
       "       view_index  condition_index  construction_grade_index  \\\n",
       "0               0                3                         7   \n",
       "1               0                3                         7   \n",
       "2               0                3                         6   \n",
       "3               0                5                         7   \n",
       "4               0                3                         8   \n",
       "...           ...              ...                       ...   \n",
       "21608           0                3                         8   \n",
       "21609           0                3                         8   \n",
       "21610           0                3                         7   \n",
       "21611           0                3                         8   \n",
       "21612           0                3                         7   \n",
       "\n",
       "      finished_above_ground_sqft  finished_below_ground_sqft  year_built  \\\n",
       "0                           1180                           0        1955   \n",
       "1                           2170                         400        1951   \n",
       "2                            770                           0        1933   \n",
       "3                           1050                         910        1965   \n",
       "4                           1680                           0        1987   \n",
       "...                          ...                         ...         ...   \n",
       "21608                       1530                           0        2009   \n",
       "21609                       2310                           0        2014   \n",
       "21610                       1020                           0        2009   \n",
       "21611                       1600                           0        2004   \n",
       "21612                       1020                           0        2008   \n",
       "\n",
       "       year_renovated  zipcode  latitude  longitude  \n",
       "0                   0    54968   47.5112    -92.873  \n",
       "1                1991    54915   47.7210    -92.935  \n",
       "2                   0    54818   47.7379    -92.849  \n",
       "3                   0    54926   47.5208    -93.009  \n",
       "4                   0    54864   47.6168    -92.661  \n",
       "...               ...      ...       ...        ...  \n",
       "21608               0    54893   47.6993    -92.962  \n",
       "21609               0    54936   47.5107    -92.978  \n",
       "21610               0    54934   47.5944    -92.915  \n",
       "21611               0    54817   47.5345    -92.685  \n",
       "21612               0    54934   47.5941    -92.915  \n",
       "\n",
       "[21613 rows x 20 columns]"
      ]
     },
     "execution_count": 42,
     "metadata": {},
     "output_type": "execute_result"
    }
   ],
   "source": [
    "raw"
   ]
  },
  {
   "cell_type": "code",
   "execution_count": null,
   "metadata": {},
   "outputs": [],
   "source": []
  },
  {
   "cell_type": "code",
   "execution_count": null,
   "metadata": {},
   "outputs": [],
   "source": []
  },
  {
   "cell_type": "code",
   "execution_count": null,
   "metadata": {},
   "outputs": [],
   "source": []
  },
  {
   "cell_type": "code",
   "execution_count": null,
   "metadata": {},
   "outputs": [],
   "source": []
  },
  {
   "cell_type": "code",
   "execution_count": null,
   "metadata": {},
   "outputs": [],
   "source": []
  },
  {
   "cell_type": "code",
   "execution_count": null,
   "metadata": {},
   "outputs": [],
   "source": []
  },
  {
   "cell_type": "code",
   "execution_count": null,
   "metadata": {},
   "outputs": [],
   "source": []
  },
  {
   "cell_type": "code",
   "execution_count": null,
   "metadata": {},
   "outputs": [],
   "source": []
  },
  {
   "cell_type": "code",
   "execution_count": null,
   "metadata": {},
   "outputs": [],
   "source": []
  },
  {
   "cell_type": "code",
   "execution_count": null,
   "metadata": {},
   "outputs": [],
   "source": [
    "exponents = range(2,100)\n",
    "\n",
    "corr = 0\n",
    "best_e = 1\n",
    "for e in exponents:\n",
    "    \n",
    "    trans = X_train.construction_grade_index ** e\n",
    "\n",
    "    new_corr = pd.DataFrame(np.array([trans.values, y_train.values]).T, \n",
    "                 columns = ['construction_grade**5', 'sale_price']).corr().sale_price[0]\n",
    "    new_corr = round(new_corr, 3)\n",
    "    if new_corr > corr:\n",
    "        corr = new_corr\n",
    "        best_e = e\n",
    "\n",
    "        \n",
    "        \n",
    "print('Best exponent:', best_e)\n",
    "print('Correlation:', corr)\n",
    "sns.regplot(x=X_train.construction_grade_index ** best_e, y=y_train)\n",
    "plt.title(f'Construction Grade**{best_e} vs. Sale Price');"
   ]
  }
 ],
 "metadata": {
  "kernelspec": {
   "display_name": "Python 3",
   "language": "python",
   "name": "python3"
  },
  "language_info": {
   "codemirror_mode": {
    "name": "ipython",
    "version": 3
   },
   "file_extension": ".py",
   "mimetype": "text/x-python",
   "name": "python",
   "nbconvert_exporter": "python",
   "pygments_lexer": "ipython3",
   "version": "3.8.5"
  },
  "toc": {
   "base_numbering": 1,
   "nav_menu": {},
   "number_sections": false,
   "sideBar": true,
   "skip_h1_title": false,
   "title_cell": "Table of Contents",
   "title_sidebar": "Contents",
   "toc_cell": false,
   "toc_position": {
    "height": "calc(100% - 180px)",
    "left": "10px",
    "top": "150px",
    "width": "243.4px"
   },
   "toc_section_display": true,
   "toc_window_display": true
  }
 },
 "nbformat": 4,
 "nbformat_minor": 2
}
