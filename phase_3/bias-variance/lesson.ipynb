{
 "cells": [
  {
   "cell_type": "markdown",
   "metadata": {},
   "source": [
    "# Bias-Variance Tradeoff\n"
   ]
  },
  {
   "cell_type": "markdown",
   "metadata": {},
   "source": [
    "## Agenda\n",
    "\n",
    "1. Revisit the goal of model building, and relate it to expected value, bias and variance\n",
    "2. Defining Error: prediction error and irreducible error\n",
    "3. Define prediction error as a combination of bias and variance\n",
    "4. Explore the bias-variance tradeoff\n",
    "5. Code a basic train-test split\n",
    "6. Code K-Folds\n",
    "\n"
   ]
  },
  {
   "cell_type": "markdown",
   "metadata": {},
   "source": [
    "# 1. Revisit the goal of model building, and relate it to expected value, bias and variance"
   ]
  },
  {
   "cell_type": "markdown",
   "metadata": {},
   "source": [
    "![which model is better](img/which_model_is_better.png)\n"
   ]
  },
  {
   "cell_type": "markdown",
   "metadata": {},
   "source": [
    "# What makes a model good?\n",
    "\n",
    "- We don’t ultimately care about how well your model fits your data.\n",
    "\n",
    "- What we really care about is how well your model describes the process that generated your data.\n",
    "\n",
    "- Why? Because the data set you have is but one sample from a universe of possible data sets, and you want a model that would work for any data set from that universe"
   ]
  },
  {
   "cell_type": "markdown",
   "metadata": {},
   "source": [
    "# What is a “Model”?\n",
    "\n",
    " - A “model” is a general specification of relationships among variables. \n",
    "     - E.G. Linear Regression: or $ Price = \\beta_1*Y_{t-1} +  \\beta_0 + \\epsilon$\n",
    "\n",
    "\n",
    " "
   ]
  },
  {
   "cell_type": "markdown",
   "metadata": {},
   "source": [
    " - A “trained model” is a particular model with parameters estimated using some training data."
   ]
  },
  {
   "cell_type": "markdown",
   "metadata": {},
   "source": [
    "# Remember Expected Value? How is it connected to bias and variance?\n",
    "- The expected value of a quantity is the weighted average of that quantity across all possible samples\n",
    "\n",
    "![6 sided die](https://media.giphy.com/media/sRJdpUSr7W0AiQ3RcM/giphy.gif)\n",
    "\n",
    "- for a 6 sided die, another way to think about the expected value is the arithmetic mean of the rolls of a very large number of independent samples.  "
   ]
  },
  {
   "cell_type": "markdown",
   "metadata": {},
   "source": [
    "### The expected value of a 6-sided die is:"
   ]
  },
  {
   "cell_type": "code",
   "execution_count": 1,
   "metadata": {},
   "outputs": [
    {
     "data": {
      "text/plain": [
       "3.5"
      ]
     },
     "execution_count": 1,
     "metadata": {},
     "output_type": "execute_result"
    }
   ],
   "source": [
    "probs = 1/6\n",
    "rolls = range(1,7)\n",
    "\n",
    "expected_value = sum([probs * roll for roll in rolls])\n",
    "expected_value"
   ]
  },
  {
   "cell_type": "markdown",
   "metadata": {},
   "source": [
    "Now lets imagine we create a model that always predicts a roll of 3.\n",
    "\n",
    "   \n",
    "  - The bias is the difference between the average prediction of our model and the average roll of the die as we roll more and more times.\n",
    "        - What is the bias of a model that alway predicts 3?         \n",
    " - Bias = 3.5 - 3 = 0.5\n",
    "   "
   ]
  },
  {
   "cell_type": "markdown",
   "metadata": {},
   "source": [
    "   - The variance is the average difference between each individual prediction and the average prediction of our model as we roll more and more times.\n",
    "        - What is the variance of that model?\n",
    " - Variance = 3 - 3 = 0"
   ]
  },
  {
   "cell_type": "markdown",
   "metadata": {},
   "source": [
    "# 2. Defining Error: prediction error and irreducible error\n",
    "\n",
    "\n",
    "\n",
    "### Regression fit statistics are often called “error”\n",
    " - Sum of Squared Errors (SSE)\n",
    " $ {\\displaystyle \\operatorname {SSE} =\\sum _{i=1}^{n}(Y_{i}-{\\hat {Y_{i}}})^{2}.} $\n",
    " - Mean Squared Error (MSE) \n",
    " \n",
    " $ {\\displaystyle \\operatorname {MSE} ={\\frac {1}{n}}\\sum _{i=1}^{n}(Y_{i}-{\\hat {Y_{i}}})^{2}.} $\n",
    " \n",
    " - Root Mean Squared Error (RMSE)  \n",
    " $ {\\displaystyle \\operatorname \n",
    "  {RMSE} =\\sqrt{MSE}} $\n",
    "\n",
    " All are calculated using residuals    \n",
    "\n",
    "![residuals](img/residuals.png)\n"
   ]
  },
  {
   "cell_type": "markdown",
   "metadata": {},
   "source": [
    "## This error can be broken up into parts:\n",
    "\n",
    "![defining error](img/defining_error.png)"
   ]
  },
  {
   "cell_type": "markdown",
   "metadata": {},
   "source": [
    "There will always be some random, irreducible error inherent in the data.  Real data always has noise.\n",
    "\n",
    "The goal of modeling is to reduce the prediction error, which is the difference between our model and the realworld processes from which our data is generated."
   ]
  },
  {
   "cell_type": "markdown",
   "metadata": {},
   "source": [
    "# 3. Define prediction error as a combination of bias and variance\n",
    "\n",
    "$\\Large Total\\ Error\\ = Prediction\\ Error+ Irreducible\\ Error$\n",
    "\n",
    "Our prediction error can be further broken down into error due to bias and error due to variance.\n",
    "\n",
    "$\\Large Total\\ Error = Model\\ Bias^2 + Model\\ Variance + Irreducible\\ Error$\n",
    "\n"
   ]
  },
  {
   "cell_type": "markdown",
   "metadata": {},
   "source": [
    "**Model Bias** is the expected prediction error of the expected trained model\n",
    "\n",
    "> In other words, if you were to train multiple models on different samples, what would be the average difference between the prediction and the real value.\n",
    "\n",
    "**Model Variance** is the expected variation in predictions, relative to your expected trained model\n",
    "\n",
    "> In other words, what would be the average difference between any one model's prediction and the average of all the predictions .\n",
    "\n"
   ]
  },
  {
   "cell_type": "markdown",
   "metadata": {},
   "source": [
    "# Thought Experiment\n",
    "\n",
    "1. Imagine you've collected 23 different training sets for the same problem.\n",
    "2. Now imagine training one model on each of your 23 training sets.\n",
    "3. Bias vs. variance refers to the accuracy vs. consistency of the models trained by your algorithm.\n",
    "\n",
    "![target_bias_variance](img/target.png)\n",
    "\n",
    "http://scott.fortmann-roe.com/docs/BiasVariance.html\n",
    "\n"
   ]
  },
  {
   "cell_type": "markdown",
   "metadata": {},
   "source": [
    "### Let's take a look at our familiar King County housing data. "
   ]
  },
  {
   "cell_type": "markdown",
   "metadata": {},
   "source": [
    "After some EDA, we have decided to choose 11 independent features predicting 1 target variable, price."
   ]
  },
  {
   "cell_type": "code",
   "execution_count": 1,
   "metadata": {},
   "outputs": [
    {
     "data": {
      "text/html": [
       "<div>\n",
       "<style scoped>\n",
       "    .dataframe tbody tr th:only-of-type {\n",
       "        vertical-align: middle;\n",
       "    }\n",
       "\n",
       "    .dataframe tbody tr th {\n",
       "        vertical-align: top;\n",
       "    }\n",
       "\n",
       "    .dataframe thead th {\n",
       "        text-align: right;\n",
       "    }\n",
       "</style>\n",
       "<table border=\"1\" class=\"dataframe\">\n",
       "  <thead>\n",
       "    <tr style=\"text-align: right;\">\n",
       "      <th></th>\n",
       "      <th>price</th>\n",
       "      <th>bedrooms</th>\n",
       "      <th>bathrooms</th>\n",
       "      <th>sqft_living</th>\n",
       "      <th>sqft_lot</th>\n",
       "      <th>floors</th>\n",
       "      <th>waterfront</th>\n",
       "      <th>view</th>\n",
       "      <th>condition</th>\n",
       "      <th>grade</th>\n",
       "      <th>sqft_above</th>\n",
       "      <th>sqft_basement</th>\n",
       "    </tr>\n",
       "    <tr>\n",
       "      <th>id</th>\n",
       "      <th></th>\n",
       "      <th></th>\n",
       "      <th></th>\n",
       "      <th></th>\n",
       "      <th></th>\n",
       "      <th></th>\n",
       "      <th></th>\n",
       "      <th></th>\n",
       "      <th></th>\n",
       "      <th></th>\n",
       "      <th></th>\n",
       "      <th></th>\n",
       "    </tr>\n",
       "  </thead>\n",
       "  <tbody>\n",
       "    <tr>\n",
       "      <th>7129300520</th>\n",
       "      <td>221900.0</td>\n",
       "      <td>3</td>\n",
       "      <td>1.00</td>\n",
       "      <td>1180</td>\n",
       "      <td>5650</td>\n",
       "      <td>1.0</td>\n",
       "      <td>0</td>\n",
       "      <td>0</td>\n",
       "      <td>3</td>\n",
       "      <td>7</td>\n",
       "      <td>1180</td>\n",
       "      <td>0</td>\n",
       "    </tr>\n",
       "    <tr>\n",
       "      <th>6414100192</th>\n",
       "      <td>538000.0</td>\n",
       "      <td>3</td>\n",
       "      <td>2.25</td>\n",
       "      <td>2570</td>\n",
       "      <td>7242</td>\n",
       "      <td>2.0</td>\n",
       "      <td>0</td>\n",
       "      <td>0</td>\n",
       "      <td>3</td>\n",
       "      <td>7</td>\n",
       "      <td>2170</td>\n",
       "      <td>400</td>\n",
       "    </tr>\n",
       "    <tr>\n",
       "      <th>5631500400</th>\n",
       "      <td>180000.0</td>\n",
       "      <td>2</td>\n",
       "      <td>1.00</td>\n",
       "      <td>770</td>\n",
       "      <td>10000</td>\n",
       "      <td>1.0</td>\n",
       "      <td>0</td>\n",
       "      <td>0</td>\n",
       "      <td>3</td>\n",
       "      <td>6</td>\n",
       "      <td>770</td>\n",
       "      <td>0</td>\n",
       "    </tr>\n",
       "    <tr>\n",
       "      <th>2487200875</th>\n",
       "      <td>604000.0</td>\n",
       "      <td>4</td>\n",
       "      <td>3.00</td>\n",
       "      <td>1960</td>\n",
       "      <td>5000</td>\n",
       "      <td>1.0</td>\n",
       "      <td>0</td>\n",
       "      <td>0</td>\n",
       "      <td>5</td>\n",
       "      <td>7</td>\n",
       "      <td>1050</td>\n",
       "      <td>910</td>\n",
       "    </tr>\n",
       "    <tr>\n",
       "      <th>1954400510</th>\n",
       "      <td>510000.0</td>\n",
       "      <td>3</td>\n",
       "      <td>2.00</td>\n",
       "      <td>1680</td>\n",
       "      <td>8080</td>\n",
       "      <td>1.0</td>\n",
       "      <td>0</td>\n",
       "      <td>0</td>\n",
       "      <td>3</td>\n",
       "      <td>8</td>\n",
       "      <td>1680</td>\n",
       "      <td>0</td>\n",
       "    </tr>\n",
       "  </tbody>\n",
       "</table>\n",
       "</div>"
      ],
      "text/plain": [
       "               price  bedrooms  bathrooms  sqft_living  sqft_lot  floors  \\\n",
       "id                                                                         \n",
       "7129300520  221900.0         3       1.00         1180      5650     1.0   \n",
       "6414100192  538000.0         3       2.25         2570      7242     2.0   \n",
       "5631500400  180000.0         2       1.00          770     10000     1.0   \n",
       "2487200875  604000.0         4       3.00         1960      5000     1.0   \n",
       "1954400510  510000.0         3       2.00         1680      8080     1.0   \n",
       "\n",
       "            waterfront  view  condition  grade  sqft_above  sqft_basement  \n",
       "id                                                                         \n",
       "7129300520           0     0          3      7        1180              0  \n",
       "6414100192           0     0          3      7        2170            400  \n",
       "5631500400           0     0          3      6         770              0  \n",
       "2487200875           0     0          5      7        1050            910  \n",
       "1954400510           0     0          3      8        1680              0  "
      ]
     },
     "execution_count": 1,
     "metadata": {},
     "output_type": "execute_result"
    }
   ],
   "source": [
    "import pandas as pd\n",
    "import numpy as np\n",
    "df = pd.read_csv('data/king_county.csv', index_col='id')\n",
    "df = df.iloc[:,:12]\n",
    "df.head()"
   ]
  },
  {
   "cell_type": "markdown",
   "metadata": {},
   "source": [
    "Let's create a set of 100 trained models by randomly selecting 1000 records, and look at the difference in predictions w.r.t. 1 point."
   ]
  },
  {
   "cell_type": "code",
   "execution_count": 2,
   "metadata": {},
   "outputs": [],
   "source": [
    "np.random.seed(11)\n",
    "\n",
    "# Reserve a random sample point for demonstration of bias/variance \n",
    "sample_point = df.sample(1)\n",
    "true_sample_price = sample_point.price"
   ]
  },
  {
   "cell_type": "code",
   "execution_count": 3,
   "metadata": {},
   "outputs": [
    {
     "name": "stdout",
     "output_type": "stream",
     "text": [
      "          bedrooms  bathrooms  sqft_living  sqft_lot  floors  waterfront  \\\n",
      "id                                                                         \n",
      "34000005         2        1.0         1100      4200     1.0           0   \n",
      "\n",
      "          view  condition  grade  sqft_above  sqft_basement  \n",
      "id                                                           \n",
      "34000005     0          3      7        1100              0  \n"
     ]
    }
   ],
   "source": [
    "sample_point.drop('price', axis=1, inplace=True)\n",
    "\n",
    "print(sample_point.head())"
   ]
  },
  {
   "cell_type": "code",
   "execution_count": 4,
   "metadata": {},
   "outputs": [
    {
     "name": "stdout",
     "output_type": "stream",
     "text": [
      "Sample home price 343566.0\n"
     ]
    }
   ],
   "source": [
    "print(f'Sample home price {true_sample_price.values[0]}')"
   ]
  },
  {
   "cell_type": "code",
   "execution_count": 5,
   "metadata": {},
   "outputs": [
    {
     "name": "stdout",
     "output_type": "stream",
     "text": [
      "(21612, 12)\n"
     ]
    }
   ],
   "source": [
    "# Remove sample from data set we will train our model on\n",
    "df.drop(true_sample_price.index[0], axis=0, inplace=True)\n",
    "print(df.shape)"
   ]
  },
  {
   "cell_type": "code",
   "execution_count": 6,
   "metadata": {},
   "outputs": [],
   "source": [
    "### from sklearn.linear_model import LinearRegression\n",
    "from sklearn.metrics import mean_squared_error\n",
    "from sklearn.linear_model import LinearRegression\n",
    "np.random.seed(11)\n",
    "\n",
    "# Let's generate random subsets of our data\n",
    "\n",
    "point_preds_simp = []\n",
    "simple_rmse = []\n",
    "\n",
    "for i in range(100):\n",
    "    \n",
    "    # Sample 1000 random homes\n",
    "    df_sample = df.sample(1000, replace=True)\n",
    "    y = df_sample.price\n",
    "    X = df_sample.drop('price', axis=1)\n",
    "    \n",
    "    # Create a trained model for each subset\n",
    "    lr = LinearRegression()\n",
    "    lr.fit(X, y)\n",
    "    \n",
    "    y_hat = lr.predict(X)\n",
    "    \n",
    "    # Calculate RMSE for each trained model\n",
    "    simple_rmse.append(np.sqrt(mean_squared_error(y, y_hat)))\n",
    "    \n",
    "    # Predict a value for the sample point\n",
    "    y_hat_point = lr.predict(sample_point)[0]\n",
    "    point_preds_simp.append(y_hat_point)\n",
    "    \n"
   ]
  },
  {
   "cell_type": "markdown",
   "metadata": {},
   "source": [
    "Now let's use sklearn's polynomial transformation to create a relatively complex version of our model.  \n",
    "[Poly_transform blog](https://machinelearningmastery.com/polynomial-features-transforms-for-machine-learning/)\n"
   ]
  },
  {
   "cell_type": "code",
   "execution_count": 7,
   "metadata": {},
   "outputs": [
    {
     "data": {
      "text/html": [
       "<div>\n",
       "<style scoped>\n",
       "    .dataframe tbody tr th:only-of-type {\n",
       "        vertical-align: middle;\n",
       "    }\n",
       "\n",
       "    .dataframe tbody tr th {\n",
       "        vertical-align: top;\n",
       "    }\n",
       "\n",
       "    .dataframe thead th {\n",
       "        text-align: right;\n",
       "    }\n",
       "</style>\n",
       "<table border=\"1\" class=\"dataframe\">\n",
       "  <thead>\n",
       "    <tr style=\"text-align: right;\">\n",
       "      <th></th>\n",
       "      <th>price</th>\n",
       "      <th>0</th>\n",
       "      <th>1</th>\n",
       "      <th>2</th>\n",
       "      <th>3</th>\n",
       "      <th>4</th>\n",
       "      <th>5</th>\n",
       "      <th>6</th>\n",
       "      <th>7</th>\n",
       "      <th>8</th>\n",
       "      <th>...</th>\n",
       "      <th>67</th>\n",
       "      <th>68</th>\n",
       "      <th>69</th>\n",
       "      <th>70</th>\n",
       "      <th>71</th>\n",
       "      <th>72</th>\n",
       "      <th>73</th>\n",
       "      <th>74</th>\n",
       "      <th>75</th>\n",
       "      <th>76</th>\n",
       "    </tr>\n",
       "    <tr>\n",
       "      <th>id</th>\n",
       "      <th></th>\n",
       "      <th></th>\n",
       "      <th></th>\n",
       "      <th></th>\n",
       "      <th></th>\n",
       "      <th></th>\n",
       "      <th></th>\n",
       "      <th></th>\n",
       "      <th></th>\n",
       "      <th></th>\n",
       "      <th></th>\n",
       "      <th></th>\n",
       "      <th></th>\n",
       "      <th></th>\n",
       "      <th></th>\n",
       "      <th></th>\n",
       "      <th></th>\n",
       "      <th></th>\n",
       "      <th></th>\n",
       "      <th></th>\n",
       "      <th></th>\n",
       "    </tr>\n",
       "  </thead>\n",
       "  <tbody>\n",
       "    <tr>\n",
       "      <th>7129300520</th>\n",
       "      <td>221900.0</td>\n",
       "      <td>3.0</td>\n",
       "      <td>1.00</td>\n",
       "      <td>1180.0</td>\n",
       "      <td>5650.0</td>\n",
       "      <td>1.0</td>\n",
       "      <td>0.0</td>\n",
       "      <td>0.0</td>\n",
       "      <td>3.0</td>\n",
       "      <td>7.0</td>\n",
       "      <td>...</td>\n",
       "      <td>9.0</td>\n",
       "      <td>21.0</td>\n",
       "      <td>3540.0</td>\n",
       "      <td>0.0</td>\n",
       "      <td>49.0</td>\n",
       "      <td>8260.0</td>\n",
       "      <td>0.0</td>\n",
       "      <td>1392400.0</td>\n",
       "      <td>0.0</td>\n",
       "      <td>0.0</td>\n",
       "    </tr>\n",
       "    <tr>\n",
       "      <th>6414100192</th>\n",
       "      <td>538000.0</td>\n",
       "      <td>3.0</td>\n",
       "      <td>2.25</td>\n",
       "      <td>2570.0</td>\n",
       "      <td>7242.0</td>\n",
       "      <td>2.0</td>\n",
       "      <td>0.0</td>\n",
       "      <td>0.0</td>\n",
       "      <td>3.0</td>\n",
       "      <td>7.0</td>\n",
       "      <td>...</td>\n",
       "      <td>9.0</td>\n",
       "      <td>21.0</td>\n",
       "      <td>6510.0</td>\n",
       "      <td>1200.0</td>\n",
       "      <td>49.0</td>\n",
       "      <td>15190.0</td>\n",
       "      <td>2800.0</td>\n",
       "      <td>4708900.0</td>\n",
       "      <td>868000.0</td>\n",
       "      <td>160000.0</td>\n",
       "    </tr>\n",
       "    <tr>\n",
       "      <th>5631500400</th>\n",
       "      <td>180000.0</td>\n",
       "      <td>2.0</td>\n",
       "      <td>1.00</td>\n",
       "      <td>770.0</td>\n",
       "      <td>10000.0</td>\n",
       "      <td>1.0</td>\n",
       "      <td>0.0</td>\n",
       "      <td>0.0</td>\n",
       "      <td>3.0</td>\n",
       "      <td>6.0</td>\n",
       "      <td>...</td>\n",
       "      <td>9.0</td>\n",
       "      <td>18.0</td>\n",
       "      <td>2310.0</td>\n",
       "      <td>0.0</td>\n",
       "      <td>36.0</td>\n",
       "      <td>4620.0</td>\n",
       "      <td>0.0</td>\n",
       "      <td>592900.0</td>\n",
       "      <td>0.0</td>\n",
       "      <td>0.0</td>\n",
       "    </tr>\n",
       "    <tr>\n",
       "      <th>2487200875</th>\n",
       "      <td>604000.0</td>\n",
       "      <td>4.0</td>\n",
       "      <td>3.00</td>\n",
       "      <td>1960.0</td>\n",
       "      <td>5000.0</td>\n",
       "      <td>1.0</td>\n",
       "      <td>0.0</td>\n",
       "      <td>0.0</td>\n",
       "      <td>5.0</td>\n",
       "      <td>7.0</td>\n",
       "      <td>...</td>\n",
       "      <td>25.0</td>\n",
       "      <td>35.0</td>\n",
       "      <td>5250.0</td>\n",
       "      <td>4550.0</td>\n",
       "      <td>49.0</td>\n",
       "      <td>7350.0</td>\n",
       "      <td>6370.0</td>\n",
       "      <td>1102500.0</td>\n",
       "      <td>955500.0</td>\n",
       "      <td>828100.0</td>\n",
       "    </tr>\n",
       "    <tr>\n",
       "      <th>1954400510</th>\n",
       "      <td>510000.0</td>\n",
       "      <td>3.0</td>\n",
       "      <td>2.00</td>\n",
       "      <td>1680.0</td>\n",
       "      <td>8080.0</td>\n",
       "      <td>1.0</td>\n",
       "      <td>0.0</td>\n",
       "      <td>0.0</td>\n",
       "      <td>3.0</td>\n",
       "      <td>8.0</td>\n",
       "      <td>...</td>\n",
       "      <td>9.0</td>\n",
       "      <td>24.0</td>\n",
       "      <td>5040.0</td>\n",
       "      <td>0.0</td>\n",
       "      <td>64.0</td>\n",
       "      <td>13440.0</td>\n",
       "      <td>0.0</td>\n",
       "      <td>2822400.0</td>\n",
       "      <td>0.0</td>\n",
       "      <td>0.0</td>\n",
       "    </tr>\n",
       "    <tr>\n",
       "      <th>7237550310</th>\n",
       "      <td>1225000.0</td>\n",
       "      <td>4.0</td>\n",
       "      <td>4.50</td>\n",
       "      <td>5420.0</td>\n",
       "      <td>101930.0</td>\n",
       "      <td>1.0</td>\n",
       "      <td>0.0</td>\n",
       "      <td>0.0</td>\n",
       "      <td>3.0</td>\n",
       "      <td>11.0</td>\n",
       "      <td>...</td>\n",
       "      <td>9.0</td>\n",
       "      <td>33.0</td>\n",
       "      <td>11670.0</td>\n",
       "      <td>4590.0</td>\n",
       "      <td>121.0</td>\n",
       "      <td>42790.0</td>\n",
       "      <td>16830.0</td>\n",
       "      <td>15132100.0</td>\n",
       "      <td>5951700.0</td>\n",
       "      <td>2340900.0</td>\n",
       "    </tr>\n",
       "    <tr>\n",
       "      <th>1321400060</th>\n",
       "      <td>257500.0</td>\n",
       "      <td>3.0</td>\n",
       "      <td>2.25</td>\n",
       "      <td>1715.0</td>\n",
       "      <td>6819.0</td>\n",
       "      <td>2.0</td>\n",
       "      <td>0.0</td>\n",
       "      <td>0.0</td>\n",
       "      <td>3.0</td>\n",
       "      <td>7.0</td>\n",
       "      <td>...</td>\n",
       "      <td>9.0</td>\n",
       "      <td>21.0</td>\n",
       "      <td>5145.0</td>\n",
       "      <td>0.0</td>\n",
       "      <td>49.0</td>\n",
       "      <td>12005.0</td>\n",
       "      <td>0.0</td>\n",
       "      <td>2941225.0</td>\n",
       "      <td>0.0</td>\n",
       "      <td>0.0</td>\n",
       "    </tr>\n",
       "    <tr>\n",
       "      <th>2008000270</th>\n",
       "      <td>291850.0</td>\n",
       "      <td>3.0</td>\n",
       "      <td>1.50</td>\n",
       "      <td>1060.0</td>\n",
       "      <td>9711.0</td>\n",
       "      <td>1.0</td>\n",
       "      <td>0.0</td>\n",
       "      <td>0.0</td>\n",
       "      <td>3.0</td>\n",
       "      <td>7.0</td>\n",
       "      <td>...</td>\n",
       "      <td>9.0</td>\n",
       "      <td>21.0</td>\n",
       "      <td>3180.0</td>\n",
       "      <td>0.0</td>\n",
       "      <td>49.0</td>\n",
       "      <td>7420.0</td>\n",
       "      <td>0.0</td>\n",
       "      <td>1123600.0</td>\n",
       "      <td>0.0</td>\n",
       "      <td>0.0</td>\n",
       "    </tr>\n",
       "    <tr>\n",
       "      <th>2414600126</th>\n",
       "      <td>229500.0</td>\n",
       "      <td>3.0</td>\n",
       "      <td>1.00</td>\n",
       "      <td>1780.0</td>\n",
       "      <td>7470.0</td>\n",
       "      <td>1.0</td>\n",
       "      <td>0.0</td>\n",
       "      <td>0.0</td>\n",
       "      <td>3.0</td>\n",
       "      <td>7.0</td>\n",
       "      <td>...</td>\n",
       "      <td>9.0</td>\n",
       "      <td>21.0</td>\n",
       "      <td>3150.0</td>\n",
       "      <td>2190.0</td>\n",
       "      <td>49.0</td>\n",
       "      <td>7350.0</td>\n",
       "      <td>5110.0</td>\n",
       "      <td>1102500.0</td>\n",
       "      <td>766500.0</td>\n",
       "      <td>532900.0</td>\n",
       "    </tr>\n",
       "    <tr>\n",
       "      <th>3793500160</th>\n",
       "      <td>323000.0</td>\n",
       "      <td>3.0</td>\n",
       "      <td>2.50</td>\n",
       "      <td>1890.0</td>\n",
       "      <td>6560.0</td>\n",
       "      <td>2.0</td>\n",
       "      <td>0.0</td>\n",
       "      <td>0.0</td>\n",
       "      <td>3.0</td>\n",
       "      <td>7.0</td>\n",
       "      <td>...</td>\n",
       "      <td>9.0</td>\n",
       "      <td>21.0</td>\n",
       "      <td>5670.0</td>\n",
       "      <td>0.0</td>\n",
       "      <td>49.0</td>\n",
       "      <td>13230.0</td>\n",
       "      <td>0.0</td>\n",
       "      <td>3572100.0</td>\n",
       "      <td>0.0</td>\n",
       "      <td>0.0</td>\n",
       "    </tr>\n",
       "  </tbody>\n",
       "</table>\n",
       "<p>10 rows × 78 columns</p>\n",
       "</div>"
      ],
      "text/plain": [
       "                price    0     1       2         3    4    5    6    7     8  \\\n",
       "id                                                                             \n",
       "7129300520   221900.0  3.0  1.00  1180.0    5650.0  1.0  0.0  0.0  3.0   7.0   \n",
       "6414100192   538000.0  3.0  2.25  2570.0    7242.0  2.0  0.0  0.0  3.0   7.0   \n",
       "5631500400   180000.0  2.0  1.00   770.0   10000.0  1.0  0.0  0.0  3.0   6.0   \n",
       "2487200875   604000.0  4.0  3.00  1960.0    5000.0  1.0  0.0  0.0  5.0   7.0   \n",
       "1954400510   510000.0  3.0  2.00  1680.0    8080.0  1.0  0.0  0.0  3.0   8.0   \n",
       "7237550310  1225000.0  4.0  4.50  5420.0  101930.0  1.0  0.0  0.0  3.0  11.0   \n",
       "1321400060   257500.0  3.0  2.25  1715.0    6819.0  2.0  0.0  0.0  3.0   7.0   \n",
       "2008000270   291850.0  3.0  1.50  1060.0    9711.0  1.0  0.0  0.0  3.0   7.0   \n",
       "2414600126   229500.0  3.0  1.00  1780.0    7470.0  1.0  0.0  0.0  3.0   7.0   \n",
       "3793500160   323000.0  3.0  2.50  1890.0    6560.0  2.0  0.0  0.0  3.0   7.0   \n",
       "\n",
       "            ...    67    68       69      70     71       72       73  \\\n",
       "id          ...                                                         \n",
       "7129300520  ...   9.0  21.0   3540.0     0.0   49.0   8260.0      0.0   \n",
       "6414100192  ...   9.0  21.0   6510.0  1200.0   49.0  15190.0   2800.0   \n",
       "5631500400  ...   9.0  18.0   2310.0     0.0   36.0   4620.0      0.0   \n",
       "2487200875  ...  25.0  35.0   5250.0  4550.0   49.0   7350.0   6370.0   \n",
       "1954400510  ...   9.0  24.0   5040.0     0.0   64.0  13440.0      0.0   \n",
       "7237550310  ...   9.0  33.0  11670.0  4590.0  121.0  42790.0  16830.0   \n",
       "1321400060  ...   9.0  21.0   5145.0     0.0   49.0  12005.0      0.0   \n",
       "2008000270  ...   9.0  21.0   3180.0     0.0   49.0   7420.0      0.0   \n",
       "2414600126  ...   9.0  21.0   3150.0  2190.0   49.0   7350.0   5110.0   \n",
       "3793500160  ...   9.0  21.0   5670.0     0.0   49.0  13230.0      0.0   \n",
       "\n",
       "                    74         75         76  \n",
       "id                                            \n",
       "7129300520   1392400.0        0.0        0.0  \n",
       "6414100192   4708900.0   868000.0   160000.0  \n",
       "5631500400    592900.0        0.0        0.0  \n",
       "2487200875   1102500.0   955500.0   828100.0  \n",
       "1954400510   2822400.0        0.0        0.0  \n",
       "7237550310  15132100.0  5951700.0  2340900.0  \n",
       "1321400060   2941225.0        0.0        0.0  \n",
       "2008000270   1123600.0        0.0        0.0  \n",
       "2414600126   1102500.0   766500.0   532900.0  \n",
       "3793500160   3572100.0        0.0        0.0  \n",
       "\n",
       "[10 rows x 78 columns]"
      ]
     },
     "execution_count": 7,
     "metadata": {},
     "output_type": "execute_result"
    }
   ],
   "source": [
    "from sklearn.preprocessing import PolynomialFeatures\n",
    "\n",
    "# This will create a feature set of each feature squared, as well as interaction features between each independent variable.\n",
    "pf = PolynomialFeatures(2, include_bias=False)\n",
    "\n",
    "df_poly = pd.DataFrame(pf.fit_transform(df.drop('price', axis=1)))\n",
    "df_poly.index = df.index\n",
    "df_poly['price'] = df['price']\n",
    "\n",
    "cols = list(df_poly)\n",
    "# move the column to head of list using index, pop and insert\n",
    "cols.insert(0, cols.pop(cols.index('price')))\n",
    "\n",
    "df_poly = df_poly.loc[:,cols]\n",
    "\n",
    "df_poly.head(10)"
   ]
  },
  {
   "cell_type": "code",
   "execution_count": 8,
   "metadata": {},
   "outputs": [
    {
     "data": {
      "text/plain": [
       "array([[2.000e+00, 1.000e+00, 1.100e+03, 4.200e+03, 1.000e+00, 0.000e+00,\n",
       "        0.000e+00, 3.000e+00, 7.000e+00, 1.100e+03, 0.000e+00, 4.000e+00,\n",
       "        2.000e+00, 2.200e+03, 8.400e+03, 2.000e+00, 0.000e+00, 0.000e+00,\n",
       "        6.000e+00, 1.400e+01, 2.200e+03, 0.000e+00, 1.000e+00, 1.100e+03,\n",
       "        4.200e+03, 1.000e+00, 0.000e+00, 0.000e+00, 3.000e+00, 7.000e+00,\n",
       "        1.100e+03, 0.000e+00, 1.210e+06, 4.620e+06, 1.100e+03, 0.000e+00,\n",
       "        0.000e+00, 3.300e+03, 7.700e+03, 1.210e+06, 0.000e+00, 1.764e+07,\n",
       "        4.200e+03, 0.000e+00, 0.000e+00, 1.260e+04, 2.940e+04, 4.620e+06,\n",
       "        0.000e+00, 1.000e+00, 0.000e+00, 0.000e+00, 3.000e+00, 7.000e+00,\n",
       "        1.100e+03, 0.000e+00, 0.000e+00, 0.000e+00, 0.000e+00, 0.000e+00,\n",
       "        0.000e+00, 0.000e+00, 0.000e+00, 0.000e+00, 0.000e+00, 0.000e+00,\n",
       "        0.000e+00, 9.000e+00, 2.100e+01, 3.300e+03, 0.000e+00, 4.900e+01,\n",
       "        7.700e+03, 0.000e+00, 1.210e+06, 0.000e+00, 0.000e+00]])"
      ]
     },
     "execution_count": 8,
     "metadata": {},
     "output_type": "execute_result"
    }
   ],
   "source": [
    "# Isolate the poly-transformed version of our sample point\n",
    "sample_point = pf.transform(sample_point)\n",
    "sample_point"
   ]
  },
  {
   "cell_type": "markdown",
   "metadata": {},
   "source": [
    "Then train 100 models using our complex features set on samples of size 5000."
   ]
  },
  {
   "cell_type": "code",
   "execution_count": 9,
   "metadata": {},
   "outputs": [],
   "source": [
    "np.random.seed(11)\n",
    "\n",
    "point_preds_comp = []\n",
    "complex_rmse = []\n",
    "for i in range(100):\n",
    "    \n",
    "    df_sample = df_poly.sample(1000, replace=True)\n",
    "    y = df_sample.price\n",
    "    X = df_sample.drop('price', axis=1)\n",
    "    \n",
    "    lr = LinearRegression()\n",
    "    lr.fit(X, y)\n",
    "    y_hat = lr.predict(X)\n",
    "    complex_rmse.append(np.sqrt(mean_squared_error(y, y_hat)))\n",
    "    \n",
    "    y_hat_point = lr.predict(sample_point)[0]\n",
    "    \n",
    "    point_preds_comp.append(y_hat_point)\n",
    "    "
   ]
  },
  {
   "cell_type": "code",
   "execution_count": 10,
   "metadata": {},
   "outputs": [
    {
     "name": "stdout",
     "output_type": "stream",
     "text": [
      "#################### BIAS ###########################\n",
      "mean simple prediction      310571.8686803037\n",
      "mean complex prediction     351046.7474423822\n",
      "true value                  id\n",
      "34000005    343566.0\n",
      "Name: price, dtype: float64\n",
      "################## VARIANCE #########################\n",
      "simp variance 375803221.95772856\n",
      "comp variance 514573245.6915817\n"
     ]
    }
   ],
   "source": [
    "print(\"#################### BIAS ###########################\")\n",
    "print(f'mean simple prediction      {np.mean(point_preds_simp)}')\n",
    "print(f'mean complex prediction     {np.mean(point_preds_comp)}')\n",
    "print(f'true value                  {true_sample_price}')\n",
    "print(\"################## VARIANCE #########################\")\n",
    "print(f'simp variance {np.var(point_preds_simp)}')\n",
    "print(f'comp variance {np.var(point_preds_comp)}')"
   ]
  },
  {
   "cell_type": "code",
   "execution_count": 11,
   "metadata": {},
   "outputs": [
    {
     "name": "stderr",
     "output_type": "stream",
     "text": [
      "/opt/anaconda3/envs/learn-env/lib/python3.8/site-packages/seaborn/_decorators.py:36: FutureWarning: Pass the following variable as a keyword arg: x. From version 0.12, the only valid positional argument will be `data`, and passing other arguments without an explicit keyword will result in an error or misinterpretation.\n",
      "  warnings.warn(\n",
      "/opt/anaconda3/envs/learn-env/lib/python3.8/site-packages/seaborn/_decorators.py:36: FutureWarning: Pass the following variable as a keyword arg: x. From version 0.12, the only valid positional argument will be `data`, and passing other arguments without an explicit keyword will result in an error or misinterpretation.\n",
      "  warnings.warn(\n"
     ]
    },
    {
     "data": {
      "image/png": "[encoded data removed]",
      "text/plain": [
       "<Figure size 864x720 with 2 Axes>"
      ]
     },
     "metadata": {
      "needs_background": "light"
     },
     "output_type": "display_data"
    }
   ],
   "source": [
    "import matplotlib.pyplot as plt\n",
    "import seaborn as sns\n",
    "fig, (ax1, ax2) = plt.subplots(2,1, sharex=True, figsize=(12,10))\n",
    "\n",
    "sns.violinplot(point_preds_simp, ax=ax1, color='orange')\n",
    "ax1.set_title(\"Simple Model\")\n",
    "ax1.axvline(true_sample_price.values[0])\n",
    "sns.violinplot(point_preds_comp, ax=ax2, color='yellow')\n",
    "ax2.axvline(true_sample_price.values[0])\n",
    "ax2.set_title(\"Complex Model\");"
   ]
  },
  {
   "cell_type": "markdown",
   "metadata": {},
   "source": [
    "If you are curious after class, try fitting a 3rd order polynomial and plot the predictions w.r.t. the sample point. The mean of your predictions should align more tightly around the true value, but the variance should be much larger.\n"
   ]
  },
  {
   "cell_type": "markdown",
   "metadata": {},
   "source": [
    "# 4.  Explore Bias Variance Tradeoff"
   ]
  },
  {
   "cell_type": "markdown",
   "metadata": {},
   "source": [
    "**High bias** algorithms tend to be less complex, with simple or rigid underlying structure.\n",
    "\n",
    "+ They train models that are consistent, but inaccurate on average.\n",
    "+ These include linear or parametric algorithms such as regression and naive Bayes.\n",
    "+ For linear, perhaps some assumptions about our feature set could lead to high bias. \n",
    "      - We did not include the correct predictors\n",
    "      - We did not take interactions into account\n",
    "      - In linear, we missed a non-linear relationship (polynomial). \n",
    "      \n",
    "High bias models are **underfit**\n",
    "\n",
    "On the other hand, **high variance** algorithms tend to be more complex, with flexible underlying structure.\n",
    "\n",
    "+ They train models that are accurate on average, but inconsistent.\n",
    "+ These include non-linear or non-parametric algorithms such as decision trees and nearest neighbors.\n",
    "+ For linear, perhaps we included an unreasonably large amount of predictors. \n",
    "      - We created new features by squaring and cubing each feature\n",
    "+ High variance models are modeling the noise in our data\n",
    "\n",
    "High variance models are **overfit**\n",
    "\n"
   ]
  },
  {
   "cell_type": "markdown",
   "metadata": {},
   "source": [
    "While we build our models, we have to keep this relationship in mind.  If we build complex models, we risk overfitting our models.  Their predictions will vary greatly when introduced to new data.  If our models are too simple, the predictions as a whole will be inaccurate.   \n",
    "\n",
    "The goal is to build a model with enough complexity to be accurate, but not too much complexity to be erratic."
   ]
  },
  {
   "cell_type": "markdown",
   "metadata": {},
   "source": [
    "![optimal](img/optimal_bias_variance.png)\n",
    "http://scott.fortmann-roe.com/docs/BiasVariance.html\n",
    "\n"
   ]
  },
  {
   "cell_type": "markdown",
   "metadata": {},
   "source": [
    "![which_model](img/which_model_is_better_2.png)"
   ]
  },
  {
   "cell_type": "markdown",
   "metadata": {},
   "source": [
    "# 5. Train Test Split"
   ]
  },
  {
   "cell_type": "code",
   "execution_count": 12,
   "metadata": {},
   "outputs": [],
   "source": [
    "from sklearn.model_selection import train_test_split"
   ]
  },
  {
   "cell_type": "markdown",
   "metadata": {},
   "source": [
    "It is hard to know if your model is too simple or complex by just using it on training data.\n",
    "\n",
    "We can hold out part of our training sample, and use it as a test sample and use it to monitor our prediction error.\n",
    "\n",
    "This allows us to evaluate whether our model has the right balance of bias/variance. "
   ]
  },
  {
   "cell_type": "markdown",
   "metadata": {},
   "source": [
    "<img src='img/testtrainsplit.png' width =550 />"
   ]
  },
  {
   "cell_type": "markdown",
   "metadata": {},
   "source": [
    "* **training set** —a subset to train a model.\n",
    "* **test set**—a subset to test the trained model.\n"
   ]
  },
  {
   "cell_type": "code",
   "execution_count": 13,
   "metadata": {},
   "outputs": [
    {
     "name": "stdout",
     "output_type": "stream",
     "text": [
      "(16209, 2)\n",
      "(5404, 2)\n",
      "True\n",
      "True\n"
     ]
    }
   ],
   "source": [
    "import pandas as pd\n",
    "df = pd.read_csv('data/king_county.csv', index_col='id')\n",
    "\n",
    "y = df.price\n",
    "X = df[['bedrooms', 'sqft_living']]\n",
    "\n",
    "# For test size, we generally choose a number between .2 and .3.  \n",
    "X_train, X_test, y_train, y_test = train_test_split(X, y, random_state=42, test_size = .25)\n",
    "\n",
    "print(X_train.shape)\n",
    "print(X_test.shape)\n",
    "\n",
    "print(X_train.shape[0] == y_train.shape[0])\n",
    "print(X_test.shape[0] == y_test.shape[0])"
   ]
  },
  {
   "cell_type": "markdown",
   "metadata": {},
   "source": [
    "**How do we know if our model is overfitting or underfitting?**\n"
   ]
  },
  {
   "cell_type": "markdown",
   "metadata": {},
   "source": [
    "If our model is not performing well on the training  data, we are probably underfitting it.  \n",
    "\n",
    "\n",
    "To know if our  model is overfitting the data, we need  to test our model on unseen data. \n",
    "We then measure our performance on the unseen data. \n",
    "\n",
    "If the model performs way worse on the  unseen data, it is probably  overfitting the data."
   ]
  },
  {
   "cell_type": "markdown",
   "metadata": {},
   "source": [
    "<img src='https://developers.google.com/machine-learning/crash-course/images/WorkflowWithTestSet.svg' width=500/>"
   ]
  },
  {
   "cell_type": "markdown",
   "metadata": {},
   "source": [
    "# QUIZ TIME\n",
    "\n",
    "![](https://media.giphy.com/media/jNYUeDwoUoloEswJm8/giphy.gif)"
   ]
  },
  {
   "cell_type": "markdown",
   "metadata": {},
   "source": [
    "### Should you ever fit on your test set?  \n",
    "\n",
    "\n",
    "![no](https://media.giphy.com/media/d10dMmzqCYqQ0/giphy.gif)\n",
    "\n",
    "\n",
    "**Never fit on test data.** If you are seeing surprisingly good results on your evaluation metrics, it might be a sign that you are accidentally training on the test set. \n",
    "\n"
   ]
  },
  {
   "cell_type": "markdown",
   "metadata": {},
   "source": [
    "Let's go back to our KC housing data without the polynomial transformation."
   ]
  },
  {
   "cell_type": "code",
   "execution_count": 14,
   "metadata": {},
   "outputs": [
    {
     "data": {
      "text/html": [
       "<div>\n",
       "<style scoped>\n",
       "    .dataframe tbody tr th:only-of-type {\n",
       "        vertical-align: middle;\n",
       "    }\n",
       "\n",
       "    .dataframe tbody tr th {\n",
       "        vertical-align: top;\n",
       "    }\n",
       "\n",
       "    .dataframe thead th {\n",
       "        text-align: right;\n",
       "    }\n",
       "</style>\n",
       "<table border=\"1\" class=\"dataframe\">\n",
       "  <thead>\n",
       "    <tr style=\"text-align: right;\">\n",
       "      <th></th>\n",
       "      <th>price</th>\n",
       "      <th>bedrooms</th>\n",
       "      <th>bathrooms</th>\n",
       "      <th>sqft_living</th>\n",
       "      <th>sqft_lot</th>\n",
       "      <th>floors</th>\n",
       "      <th>waterfront</th>\n",
       "      <th>view</th>\n",
       "      <th>condition</th>\n",
       "      <th>grade</th>\n",
       "      <th>sqft_above</th>\n",
       "      <th>sqft_basement</th>\n",
       "    </tr>\n",
       "    <tr>\n",
       "      <th>id</th>\n",
       "      <th></th>\n",
       "      <th></th>\n",
       "      <th></th>\n",
       "      <th></th>\n",
       "      <th></th>\n",
       "      <th></th>\n",
       "      <th></th>\n",
       "      <th></th>\n",
       "      <th></th>\n",
       "      <th></th>\n",
       "      <th></th>\n",
       "      <th></th>\n",
       "    </tr>\n",
       "  </thead>\n",
       "  <tbody>\n",
       "    <tr>\n",
       "      <th>7129300520</th>\n",
       "      <td>221900.0</td>\n",
       "      <td>3</td>\n",
       "      <td>1.00</td>\n",
       "      <td>1180</td>\n",
       "      <td>5650</td>\n",
       "      <td>1.0</td>\n",
       "      <td>0</td>\n",
       "      <td>0</td>\n",
       "      <td>3</td>\n",
       "      <td>7</td>\n",
       "      <td>1180</td>\n",
       "      <td>0</td>\n",
       "    </tr>\n",
       "    <tr>\n",
       "      <th>6414100192</th>\n",
       "      <td>538000.0</td>\n",
       "      <td>3</td>\n",
       "      <td>2.25</td>\n",
       "      <td>2570</td>\n",
       "      <td>7242</td>\n",
       "      <td>2.0</td>\n",
       "      <td>0</td>\n",
       "      <td>0</td>\n",
       "      <td>3</td>\n",
       "      <td>7</td>\n",
       "      <td>2170</td>\n",
       "      <td>400</td>\n",
       "    </tr>\n",
       "    <tr>\n",
       "      <th>5631500400</th>\n",
       "      <td>180000.0</td>\n",
       "      <td>2</td>\n",
       "      <td>1.00</td>\n",
       "      <td>770</td>\n",
       "      <td>10000</td>\n",
       "      <td>1.0</td>\n",
       "      <td>0</td>\n",
       "      <td>0</td>\n",
       "      <td>3</td>\n",
       "      <td>6</td>\n",
       "      <td>770</td>\n",
       "      <td>0</td>\n",
       "    </tr>\n",
       "    <tr>\n",
       "      <th>2487200875</th>\n",
       "      <td>604000.0</td>\n",
       "      <td>4</td>\n",
       "      <td>3.00</td>\n",
       "      <td>1960</td>\n",
       "      <td>5000</td>\n",
       "      <td>1.0</td>\n",
       "      <td>0</td>\n",
       "      <td>0</td>\n",
       "      <td>5</td>\n",
       "      <td>7</td>\n",
       "      <td>1050</td>\n",
       "      <td>910</td>\n",
       "    </tr>\n",
       "    <tr>\n",
       "      <th>1954400510</th>\n",
       "      <td>510000.0</td>\n",
       "      <td>3</td>\n",
       "      <td>2.00</td>\n",
       "      <td>1680</td>\n",
       "      <td>8080</td>\n",
       "      <td>1.0</td>\n",
       "      <td>0</td>\n",
       "      <td>0</td>\n",
       "      <td>3</td>\n",
       "      <td>8</td>\n",
       "      <td>1680</td>\n",
       "      <td>0</td>\n",
       "    </tr>\n",
       "  </tbody>\n",
       "</table>\n",
       "</div>"
      ],
      "text/plain": [
       "               price  bedrooms  bathrooms  sqft_living  sqft_lot  floors  \\\n",
       "id                                                                         \n",
       "7129300520  221900.0         3       1.00         1180      5650     1.0   \n",
       "6414100192  538000.0         3       2.25         2570      7242     2.0   \n",
       "5631500400  180000.0         2       1.00          770     10000     1.0   \n",
       "2487200875  604000.0         4       3.00         1960      5000     1.0   \n",
       "1954400510  510000.0         3       2.00         1680      8080     1.0   \n",
       "\n",
       "            waterfront  view  condition  grade  sqft_above  sqft_basement  \n",
       "id                                                                         \n",
       "7129300520           0     0          3      7        1180              0  \n",
       "6414100192           0     0          3      7        2170            400  \n",
       "5631500400           0     0          3      6         770              0  \n",
       "2487200875           0     0          5      7        1050            910  \n",
       "1954400510           0     0          3      8        1680              0  "
      ]
     },
     "execution_count": 14,
     "metadata": {},
     "output_type": "execute_result"
    }
   ],
   "source": [
    "df = pd.read_csv('data/king_county.csv', index_col='id')\n",
    "\n",
    "df.head()"
   ]
  },
  {
   "cell_type": "markdown",
   "metadata": {},
   "source": [
    "Now, we create a train-test split via the sklearn model selection package."
   ]
  },
  {
   "cell_type": "code",
   "execution_count": 15,
   "metadata": {},
   "outputs": [],
   "source": [
    "from sklearn.model_selection import train_test_split\n",
    "np.random.seed(42)\n",
    "\n",
    "y = df.price\n",
    "X = df.drop('price', axis=1)\n",
    "\n",
    "# Here is the convention for a traditional train-test split\n",
    "X_train, X_test, y_train, y_test = train_test_split(X, y, random_state=43, test_size=.25)"
   ]
  },
  {
   "cell_type": "code",
   "execution_count": 16,
   "metadata": {},
   "outputs": [],
   "source": [
    "# Instanstiate your linear regression object\n",
    "lr = LinearRegression()"
   ]
  },
  {
   "cell_type": "code",
   "execution_count": 17,
   "metadata": {},
   "outputs": [
    {
     "data": {
      "text/plain": [
       "LinearRegression()"
      ]
     },
     "execution_count": 17,
     "metadata": {},
     "output_type": "execute_result"
    }
   ],
   "source": [
    "# fit the model on the training set\n",
    "lr.fit(X_train, y_train)"
   ]
  },
  {
   "cell_type": "code",
   "execution_count": 18,
   "metadata": {},
   "outputs": [
    {
     "data": {
      "text/plain": [
       "0.6076094372802432"
      ]
     },
     "execution_count": 18,
     "metadata": {},
     "output_type": "execute_result"
    }
   ],
   "source": [
    "# Check the R^2 of the training data\n",
    "lr.score(X_train, y_train)"
   ]
  },
  {
   "cell_type": "markdown",
   "metadata": {},
   "source": [
    "Next, we test how well the model performs on the unseen test data. Remember, we do not fit the model again. The model has calculated the optimal parameters learning from the training set.  \n"
   ]
  },
  {
   "cell_type": "code",
   "execution_count": 19,
   "metadata": {},
   "outputs": [
    {
     "data": {
      "text/plain": [
       "0.598543548637533"
      ]
     },
     "execution_count": 19,
     "metadata": {},
     "output_type": "execute_result"
    }
   ],
   "source": [
    "lr.score(X_test, y_test)"
   ]
  },
  {
   "cell_type": "markdown",
   "metadata": {},
   "source": [
    "The difference between the train and test scores are low.\n",
    "\n",
    "What does that indicate about variance?"
   ]
  },
  {
   "cell_type": "markdown",
   "metadata": {},
   "source": [
    "# Now, let's try the same thing with our complex, polynomial model."
   ]
  },
  {
   "cell_type": "code",
   "execution_count": 20,
   "metadata": {},
   "outputs": [
    {
     "data": {
      "text/html": [
       "<div>\n",
       "<style scoped>\n",
       "    .dataframe tbody tr th:only-of-type {\n",
       "        vertical-align: middle;\n",
       "    }\n",
       "\n",
       "    .dataframe tbody tr th {\n",
       "        vertical-align: top;\n",
       "    }\n",
       "\n",
       "    .dataframe thead th {\n",
       "        text-align: right;\n",
       "    }\n",
       "</style>\n",
       "<table border=\"1\" class=\"dataframe\">\n",
       "  <thead>\n",
       "    <tr style=\"text-align: right;\">\n",
       "      <th></th>\n",
       "      <th>price</th>\n",
       "      <th>bedrooms</th>\n",
       "      <th>bathrooms</th>\n",
       "      <th>sqft_living</th>\n",
       "      <th>sqft_lot</th>\n",
       "      <th>floors</th>\n",
       "      <th>waterfront</th>\n",
       "      <th>view</th>\n",
       "      <th>condition</th>\n",
       "      <th>grade</th>\n",
       "      <th>sqft_above</th>\n",
       "      <th>sqft_basement</th>\n",
       "    </tr>\n",
       "    <tr>\n",
       "      <th>id</th>\n",
       "      <th></th>\n",
       "      <th></th>\n",
       "      <th></th>\n",
       "      <th></th>\n",
       "      <th></th>\n",
       "      <th></th>\n",
       "      <th></th>\n",
       "      <th></th>\n",
       "      <th></th>\n",
       "      <th></th>\n",
       "      <th></th>\n",
       "      <th></th>\n",
       "    </tr>\n",
       "  </thead>\n",
       "  <tbody>\n",
       "    <tr>\n",
       "      <th>7129300520</th>\n",
       "      <td>221900.0</td>\n",
       "      <td>3</td>\n",
       "      <td>1.00</td>\n",
       "      <td>1180</td>\n",
       "      <td>5650</td>\n",
       "      <td>1.0</td>\n",
       "      <td>0</td>\n",
       "      <td>0</td>\n",
       "      <td>3</td>\n",
       "      <td>7</td>\n",
       "      <td>1180</td>\n",
       "      <td>0</td>\n",
       "    </tr>\n",
       "    <tr>\n",
       "      <th>6414100192</th>\n",
       "      <td>538000.0</td>\n",
       "      <td>3</td>\n",
       "      <td>2.25</td>\n",
       "      <td>2570</td>\n",
       "      <td>7242</td>\n",
       "      <td>2.0</td>\n",
       "      <td>0</td>\n",
       "      <td>0</td>\n",
       "      <td>3</td>\n",
       "      <td>7</td>\n",
       "      <td>2170</td>\n",
       "      <td>400</td>\n",
       "    </tr>\n",
       "    <tr>\n",
       "      <th>5631500400</th>\n",
       "      <td>180000.0</td>\n",
       "      <td>2</td>\n",
       "      <td>1.00</td>\n",
       "      <td>770</td>\n",
       "      <td>10000</td>\n",
       "      <td>1.0</td>\n",
       "      <td>0</td>\n",
       "      <td>0</td>\n",
       "      <td>3</td>\n",
       "      <td>6</td>\n",
       "      <td>770</td>\n",
       "      <td>0</td>\n",
       "    </tr>\n",
       "    <tr>\n",
       "      <th>2487200875</th>\n",
       "      <td>604000.0</td>\n",
       "      <td>4</td>\n",
       "      <td>3.00</td>\n",
       "      <td>1960</td>\n",
       "      <td>5000</td>\n",
       "      <td>1.0</td>\n",
       "      <td>0</td>\n",
       "      <td>0</td>\n",
       "      <td>5</td>\n",
       "      <td>7</td>\n",
       "      <td>1050</td>\n",
       "      <td>910</td>\n",
       "    </tr>\n",
       "    <tr>\n",
       "      <th>1954400510</th>\n",
       "      <td>510000.0</td>\n",
       "      <td>3</td>\n",
       "      <td>2.00</td>\n",
       "      <td>1680</td>\n",
       "      <td>8080</td>\n",
       "      <td>1.0</td>\n",
       "      <td>0</td>\n",
       "      <td>0</td>\n",
       "      <td>3</td>\n",
       "      <td>8</td>\n",
       "      <td>1680</td>\n",
       "      <td>0</td>\n",
       "    </tr>\n",
       "  </tbody>\n",
       "</table>\n",
       "</div>"
      ],
      "text/plain": [
       "               price  bedrooms  bathrooms  sqft_living  sqft_lot  floors  \\\n",
       "id                                                                         \n",
       "7129300520  221900.0         3       1.00         1180      5650     1.0   \n",
       "6414100192  538000.0         3       2.25         2570      7242     2.0   \n",
       "5631500400  180000.0         2       1.00          770     10000     1.0   \n",
       "2487200875  604000.0         4       3.00         1960      5000     1.0   \n",
       "1954400510  510000.0         3       2.00         1680      8080     1.0   \n",
       "\n",
       "            waterfront  view  condition  grade  sqft_above  sqft_basement  \n",
       "id                                                                         \n",
       "7129300520           0     0          3      7        1180              0  \n",
       "6414100192           0     0          3      7        2170            400  \n",
       "5631500400           0     0          3      6         770              0  \n",
       "2487200875           0     0          5      7        1050            910  \n",
       "1954400510           0     0          3      8        1680              0  "
      ]
     },
     "execution_count": 20,
     "metadata": {},
     "output_type": "execute_result"
    }
   ],
   "source": [
    "df = pd.read_csv('data/king_county.csv', index_col='id')\n",
    "df.head()"
   ]
  },
  {
   "cell_type": "code",
   "execution_count": 21,
   "metadata": {},
   "outputs": [
    {
     "data": {
      "text/html": [
       "<div>\n",
       "<style scoped>\n",
       "    .dataframe tbody tr th:only-of-type {\n",
       "        vertical-align: middle;\n",
       "    }\n",
       "\n",
       "    .dataframe tbody tr th {\n",
       "        vertical-align: top;\n",
       "    }\n",
       "\n",
       "    .dataframe thead th {\n",
       "        text-align: right;\n",
       "    }\n",
       "</style>\n",
       "<table border=\"1\" class=\"dataframe\">\n",
       "  <thead>\n",
       "    <tr style=\"text-align: right;\">\n",
       "      <th></th>\n",
       "      <th>0</th>\n",
       "      <th>1</th>\n",
       "      <th>2</th>\n",
       "      <th>3</th>\n",
       "      <th>4</th>\n",
       "      <th>5</th>\n",
       "      <th>6</th>\n",
       "      <th>7</th>\n",
       "      <th>8</th>\n",
       "      <th>9</th>\n",
       "      <th>...</th>\n",
       "      <th>353</th>\n",
       "      <th>354</th>\n",
       "      <th>355</th>\n",
       "      <th>356</th>\n",
       "      <th>357</th>\n",
       "      <th>358</th>\n",
       "      <th>359</th>\n",
       "      <th>360</th>\n",
       "      <th>361</th>\n",
       "      <th>362</th>\n",
       "    </tr>\n",
       "  </thead>\n",
       "  <tbody>\n",
       "    <tr>\n",
       "      <th>0</th>\n",
       "      <td>3.0</td>\n",
       "      <td>1.00</td>\n",
       "      <td>1180.0</td>\n",
       "      <td>5650.0</td>\n",
       "      <td>1.0</td>\n",
       "      <td>0.0</td>\n",
       "      <td>0.0</td>\n",
       "      <td>3.0</td>\n",
       "      <td>7.0</td>\n",
       "      <td>1180.0</td>\n",
       "      <td>...</td>\n",
       "      <td>343.0</td>\n",
       "      <td>57820.0</td>\n",
       "      <td>0.0</td>\n",
       "      <td>9746800.0</td>\n",
       "      <td>0.0</td>\n",
       "      <td>0.0</td>\n",
       "      <td>1.643032e+09</td>\n",
       "      <td>0.000000e+00</td>\n",
       "      <td>0.0</td>\n",
       "      <td>0.0</td>\n",
       "    </tr>\n",
       "    <tr>\n",
       "      <th>1</th>\n",
       "      <td>3.0</td>\n",
       "      <td>2.25</td>\n",
       "      <td>2570.0</td>\n",
       "      <td>7242.0</td>\n",
       "      <td>2.0</td>\n",
       "      <td>0.0</td>\n",
       "      <td>0.0</td>\n",
       "      <td>3.0</td>\n",
       "      <td>7.0</td>\n",
       "      <td>2170.0</td>\n",
       "      <td>...</td>\n",
       "      <td>343.0</td>\n",
       "      <td>106330.0</td>\n",
       "      <td>19600.0</td>\n",
       "      <td>32962300.0</td>\n",
       "      <td>6076000.0</td>\n",
       "      <td>1120000.0</td>\n",
       "      <td>1.021831e+10</td>\n",
       "      <td>1.883560e+09</td>\n",
       "      <td>347200000.0</td>\n",
       "      <td>64000000.0</td>\n",
       "    </tr>\n",
       "    <tr>\n",
       "      <th>2</th>\n",
       "      <td>2.0</td>\n",
       "      <td>1.00</td>\n",
       "      <td>770.0</td>\n",
       "      <td>10000.0</td>\n",
       "      <td>1.0</td>\n",
       "      <td>0.0</td>\n",
       "      <td>0.0</td>\n",
       "      <td>3.0</td>\n",
       "      <td>6.0</td>\n",
       "      <td>770.0</td>\n",
       "      <td>...</td>\n",
       "      <td>216.0</td>\n",
       "      <td>27720.0</td>\n",
       "      <td>0.0</td>\n",
       "      <td>3557400.0</td>\n",
       "      <td>0.0</td>\n",
       "      <td>0.0</td>\n",
       "      <td>4.565330e+08</td>\n",
       "      <td>0.000000e+00</td>\n",
       "      <td>0.0</td>\n",
       "      <td>0.0</td>\n",
       "    </tr>\n",
       "    <tr>\n",
       "      <th>3</th>\n",
       "      <td>4.0</td>\n",
       "      <td>3.00</td>\n",
       "      <td>1960.0</td>\n",
       "      <td>5000.0</td>\n",
       "      <td>1.0</td>\n",
       "      <td>0.0</td>\n",
       "      <td>0.0</td>\n",
       "      <td>5.0</td>\n",
       "      <td>7.0</td>\n",
       "      <td>1050.0</td>\n",
       "      <td>...</td>\n",
       "      <td>343.0</td>\n",
       "      <td>51450.0</td>\n",
       "      <td>44590.0</td>\n",
       "      <td>7717500.0</td>\n",
       "      <td>6688500.0</td>\n",
       "      <td>5796700.0</td>\n",
       "      <td>1.157625e+09</td>\n",
       "      <td>1.003275e+09</td>\n",
       "      <td>869505000.0</td>\n",
       "      <td>753571000.0</td>\n",
       "    </tr>\n",
       "    <tr>\n",
       "      <th>4</th>\n",
       "      <td>3.0</td>\n",
       "      <td>2.00</td>\n",
       "      <td>1680.0</td>\n",
       "      <td>8080.0</td>\n",
       "      <td>1.0</td>\n",
       "      <td>0.0</td>\n",
       "      <td>0.0</td>\n",
       "      <td>3.0</td>\n",
       "      <td>8.0</td>\n",
       "      <td>1680.0</td>\n",
       "      <td>...</td>\n",
       "      <td>512.0</td>\n",
       "      <td>107520.0</td>\n",
       "      <td>0.0</td>\n",
       "      <td>22579200.0</td>\n",
       "      <td>0.0</td>\n",
       "      <td>0.0</td>\n",
       "      <td>4.741632e+09</td>\n",
       "      <td>0.000000e+00</td>\n",
       "      <td>0.0</td>\n",
       "      <td>0.0</td>\n",
       "    </tr>\n",
       "  </tbody>\n",
       "</table>\n",
       "<p>5 rows × 363 columns</p>\n",
       "</div>"
      ],
      "text/plain": [
       "   0     1       2        3    4    5    6    7    8       9    ...    353  \\\n",
       "0  3.0  1.00  1180.0   5650.0  1.0  0.0  0.0  3.0  7.0  1180.0  ...  343.0   \n",
       "1  3.0  2.25  2570.0   7242.0  2.0  0.0  0.0  3.0  7.0  2170.0  ...  343.0   \n",
       "2  2.0  1.00   770.0  10000.0  1.0  0.0  0.0  3.0  6.0   770.0  ...  216.0   \n",
       "3  4.0  3.00  1960.0   5000.0  1.0  0.0  0.0  5.0  7.0  1050.0  ...  343.0   \n",
       "4  3.0  2.00  1680.0   8080.0  1.0  0.0  0.0  3.0  8.0  1680.0  ...  512.0   \n",
       "\n",
       "        354      355         356        357        358           359  \\\n",
       "0   57820.0      0.0   9746800.0        0.0        0.0  1.643032e+09   \n",
       "1  106330.0  19600.0  32962300.0  6076000.0  1120000.0  1.021831e+10   \n",
       "2   27720.0      0.0   3557400.0        0.0        0.0  4.565330e+08   \n",
       "3   51450.0  44590.0   7717500.0  6688500.0  5796700.0  1.157625e+09   \n",
       "4  107520.0      0.0  22579200.0        0.0        0.0  4.741632e+09   \n",
       "\n",
       "            360          361          362  \n",
       "0  0.000000e+00          0.0          0.0  \n",
       "1  1.883560e+09  347200000.0   64000000.0  \n",
       "2  0.000000e+00          0.0          0.0  \n",
       "3  1.003275e+09  869505000.0  753571000.0  \n",
       "4  0.000000e+00          0.0          0.0  \n",
       "\n",
       "[5 rows x 363 columns]"
      ]
     },
     "execution_count": 21,
     "metadata": {},
     "output_type": "execute_result"
    }
   ],
   "source": [
    "poly_2 = PolynomialFeatures(3, include_bias=False)\n",
    "\n",
    "X_poly = pd.DataFrame(\n",
    "            poly_2.fit_transform(df.drop('price', axis=1))\n",
    "                      )\n",
    "\n",
    "y = df.price\n",
    "X_poly.head()"
   ]
  },
  {
   "cell_type": "code",
   "execution_count": 22,
   "metadata": {},
   "outputs": [
    {
     "data": {
      "text/plain": [
       "0.7110231494908303"
      ]
     },
     "execution_count": 22,
     "metadata": {},
     "output_type": "execute_result"
    }
   ],
   "source": [
    "X_train, X_test, y_train, y_test = train_test_split(X_poly, y, random_state=20, test_size=.25)\n",
    "lr_poly = LinearRegression()\n",
    "\n",
    "# Always fit on the training set\n",
    "lr_poly.fit(X_train, y_train)\n",
    "\n",
    "lr_poly.score(X_train, y_train)"
   ]
  },
  {
   "cell_type": "code",
   "execution_count": 23,
   "metadata": {},
   "outputs": [
    {
     "data": {
      "text/plain": [
       "0.5785203545199571"
      ]
     },
     "execution_count": 23,
     "metadata": {},
     "output_type": "execute_result"
    }
   ],
   "source": [
    "lr_poly.score(X_test, y_test)"
   ]
  },
  {
   "cell_type": "markdown",
   "metadata": {},
   "source": [
    "How do we interpret these results?"
   ]
  },
  {
   "cell_type": "markdown",
   "metadata": {},
   "source": [
    "# Pair Exercise"
   ]
  },
  {
   "cell_type": "markdown",
   "metadata": {},
   "source": [
    "##### [Thread](https://datascience.stackexchange.com/questions/38395/standardscaler-before-and-after-splitting-data) about data leakage and scalars"
   ]
  },
  {
   "cell_type": "markdown",
   "metadata": {},
   "source": [
    "The link above explains that if you are going to scale your data, you should only train your scaler on the training data to prevent data leakage.  \n",
    "\n",
    "Perform the same train test split as shown above for the simple model, but now scale your data appropriately.  \n",
    "\n",
    "The R2 for both train and test should be the same.\n"
   ]
  },
  {
   "cell_type": "code",
   "execution_count": 29,
   "metadata": {},
   "outputs": [
    {
     "data": {
      "text/plain": [
       "0.6075957706900192"
      ]
     },
     "execution_count": 29,
     "metadata": {},
     "output_type": "execute_result"
    }
   ],
   "source": [
    "from sklearn.preprocessing import StandardScaler\n",
    "np.random.seed(42)\n",
    "\n",
    "y = df.price\n",
    "X = df.drop('price', axis=1)\n",
    "\n",
    "# Train test split with random_state=43 and test_size=.25\n",
    "X_train, X_test, y_train, y_test = train_test_split(X, y, random_state=43, test_size=0.25)\n",
    "# Instantiate an instance of Standard Scaler, and fit/transform on the training data\n",
    "ss = StandardScaler()\n",
    "X_train_scaled = ss.fit_transform(X_train)\n",
    "# Transform the test data with the fit scalar\n",
    "X_test_scaled = ss.transform(X_test)\n",
    "# fit and score the model \n",
    "model = LinearRegression()\n",
    "model.fit(X_train_scaled, y_train)\n",
    "model.score(X_train_scaled, y_train)"
   ]
  },
  {
   "cell_type": "code",
   "execution_count": 30,
   "metadata": {},
   "outputs": [
    {
     "data": {
      "text/plain": [
       "0.5985805052032427"
      ]
     },
     "execution_count": 30,
     "metadata": {},
     "output_type": "execute_result"
    }
   ],
   "source": [
    "model.score(X_test_scaled, y_test)"
   ]
  },
  {
   "cell_type": "markdown",
   "metadata": {},
   "source": [
    "# Kfolds: Even More Rigorous Validation  "
   ]
  },
  {
   "cell_type": "markdown",
   "metadata": {},
   "source": [
    "For a more rigorous cross-validation, we turn to K-folds"
   ]
  },
  {
   "cell_type": "markdown",
   "metadata": {},
   "source": [
    "![kfolds](img/k_folds.png)\n",
    "\n",
    "[image via sklearn](https://scikit-learn.org/stable/modules/cross_validation.html)"
   ]
  },
  {
   "cell_type": "markdown",
   "metadata": {},
   "source": [
    "In this process, we split the dataset into train and test as usual, then we perform a shuffling train test split on the train set.  \n",
    "\n",
    "KFolds holds out one fraction of the dataset, trains on the larger fraction, then calculates a test score on the held out set.  It repeats this process until each group has served as the test set.\n",
    "\n",
    "We tune our parameters on the training set using kfolds, then validate on the test data.  This allows us to build our model and check to see if it is overfit without touching the test data set.  This protects our model from bias."
   ]
  },
  {
   "cell_type": "markdown",
   "metadata": {},
   "source": [
    "# Fill in the Blank"
   ]
  },
  {
   "cell_type": "code",
   "execution_count": 28,
   "metadata": {},
   "outputs": [],
   "source": [
    "X = df.drop('price', axis=1)\n",
    "y = df.price\n",
    "\n",
    "X_train, X_test, y_train, y_test = train_test_split(X, y, random_state=43, test_size=.25)"
   ]
  },
  {
   "cell_type": "code",
   "execution_count": 31,
   "metadata": {},
   "outputs": [
    {
     "data": {
      "text/plain": [
       "array([0.61498886, 0.60746653, 0.61014067, 0.61703869, 0.58153935])"
      ]
     },
     "execution_count": 31,
     "metadata": {},
     "output_type": "execute_result"
    }
   ],
   "source": [
    "# A way to obtain cross validation scores with kfolds, \n",
    "# BUT this does not take into account if the training data was scaled\n",
    "# i.e., the test data in the folds will have been scaled so you will have data leakage\n",
    "from sklearn.model_selection import cross_val_score\n",
    "cross_val_score(model, X_train, y_train, cv=5)"
   ]
  },
  {
   "cell_type": "code",
   "execution_count": null,
   "metadata": {},
   "outputs": [],
   "source": [
    "from sklearn.model_selection import KFold\n",
    "\n",
    "# Instantiate the KFold object\n",
    "kf = KFold(n_splits=5)\n",
    "\n",
    "train_r2 = []\n",
    "test_r2 = []\n",
    "\n",
    "# kf.split() splits the data via index\n",
    "for train_ind, test_ind in kf.split(X_train,y_train):\n",
    "    \n",
    "    X_train_fold, y_train_fold = fill_in, fill_in\n",
    "    X_validation, y_validation = fill_in, fill_in\n",
    "    \n",
    "    # fill in fit\n",
    "    \n",
    "    \n",
    "    train_r2.append(lr.score(X_train_fold, y_train_fold))\n",
    "    val_r2.append(lr.score(X_validation, y_validation))"
   ]
  },
  {
   "cell_type": "code",
   "execution_count": null,
   "metadata": {},
   "outputs": [],
   "source": [
    "# Mean train r_2\n",
    "np.mean(train_r2)"
   ]
  },
  {
   "cell_type": "code",
   "execution_count": null,
   "metadata": {},
   "outputs": [],
   "source": [
    "# Mean test r_2\n",
    "np.mean(val_r2)"
   ]
  },
  {
   "cell_type": "markdown",
   "metadata": {},
   "source": [
    "### How do we use scalers with multiple fold cross validation\n",
    "\n",
    "Keeping in mind that we only ever want to fit our transformers on the data we fit our predictive model on, let's replicate the code above to include a scaler into the cross validation process. "
   ]
  },
  {
   "cell_type": "code",
   "execution_count": null,
   "metadata": {},
   "outputs": [],
   "source": [
    "scaler = StandardScaler()\n",
    "\n",
    "X = df.drop('price', axis=1)\n",
    "y = df.price\n",
    "\n",
    "X_train, X_test, y_train, y_test = train_test_split(X, y, random_state=43, test_size=.25)\n",
    "\n",
    "kf = KFold(n_splits=5)\n",
    "\n",
    "train_r2 = []\n",
    "val_r2 = []\n",
    "# Your code here\n"
   ]
  },
  {
   "cell_type": "code",
   "execution_count": null,
   "metadata": {},
   "outputs": [],
   "source": [
    "# Mean train r_2\n",
    "np.mean(train_r2)"
   ]
  },
  {
   "cell_type": "code",
   "execution_count": null,
   "metadata": {},
   "outputs": [],
   "source": [
    "# Mean test r_2\n",
    "np.mean(val_r2)"
   ]
  },
  {
   "cell_type": "markdown",
   "metadata": {},
   "source": [
    "By using this split, we can use the training set as a test ground to build a model with both low bias and low variance.\n",
    "We can test out new independent variables, try transformations, implement regularization, up/down sampling, without introducing bias into our model.\n",
    "\n",
    "Once we have an acceptable model, we train our model on the entire training set, and score on the test to validate.\n",
    "\n"
   ]
  },
  {
   "cell_type": "code",
   "execution_count": null,
   "metadata": {},
   "outputs": [],
   "source": [
    "lr_final = LinearRegression()\n",
    "scaler.fit(X_train)\n",
    "X_train_scaled = scaler.transform(X_train)\n",
    "X_test_scaled = scaler.transform(X_test)\n",
    "lr_final.fit(X_train_scaled, y_train)\n",
    "\n",
    "lr_final.score(X_test_scaled, y_test)"
   ]
  }
 ],
 "metadata": {
  "kernelspec": {
   "display_name": "Python 3",
   "language": "python",
   "name": "python3"
  },
  "language_info": {
   "codemirror_mode": {
    "name": "ipython",
    "version": 3
   },
   "file_extension": ".py",
   "mimetype": "text/x-python",
   "name": "python",
   "nbconvert_exporter": "python",
   "pygments_lexer": "ipython3",
   "version": "3.8.5"
  },
  "toc": {
   "base_numbering": 1,
   "nav_menu": {},
   "number_sections": true,
   "sideBar": true,
   "skip_h1_title": false,
   "title_cell": "Table of Contents",
   "title_sidebar": "Contents",
   "toc_cell": false,
   "toc_position": {},
   "toc_section_display": true,
   "toc_window_display": false
  }
 },
 "nbformat": 4,
 "nbformat_minor": 4
}
