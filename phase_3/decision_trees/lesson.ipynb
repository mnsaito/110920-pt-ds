{
 "cells": [
  {
   "cell_type": "code",
   "execution_count": 1,
   "metadata": {
    "ExecuteTime": {
     "end_time": "2021-04-15T21:39:21.302269Z",
     "start_time": "2021-04-15T21:39:20.769569Z"
    }
   },
   "outputs": [],
   "source": [
    "import pandas as pd\n",
    "import numpy as np"
   ]
  },
  {
   "cell_type": "markdown",
   "metadata": {},
   "source": [
    "# Decision Trees\n",
    "\n",
    "**Decision Tree** is a popular supervised learning algorithm known for its high interpretability. Decision Tree models are considered to have low computational cost in comparison to many other algorithms, but Decision Trees are [non parametric](https://sebastianraschka.com/faq/docs/parametric_vs_nonparametric.html) which means their [computational cost](https://www.thekerneltrip.com/machine/learning/computational-complexity-learning-algorithms/) (can) grow as the size of the dataset increases."
   ]
  },
  {
   "cell_type": "markdown",
   "metadata": {},
   "source": [
    "## Pros & Cons"
   ]
  },
  {
   "cell_type": "markdown",
   "metadata": {},
   "source": [
    "### Pros"
   ]
  },
  {
   "cell_type": "markdown",
   "metadata": {},
   "source": [
    "- Easy to explain and visualize\n",
    "- Irrelevant features will not be used by the model (built in feature selection)\n",
    "    - Decision Trees can be used to identify the predictive power of features with non-linear relationships! More [here](https://towardsdatascience.com/rip-correlation-introducing-the-predictive-power-score-3d90808b9598)\n",
    "- Preprocessing needs are minimal\n",
    "    - Scaling doesn't have a high impact on results.\n",
    "    - Multicollinearity doesn't impact results.\n",
    "    - Outliers have a low impact on results.\n",
    "- Very fast prediction speed"
   ]
  },
  {
   "cell_type": "markdown",
   "metadata": {},
   "source": [
    "### Cons"
   ]
  },
  {
   "cell_type": "markdown",
   "metadata": {
    "ExecuteTime": {
     "end_time": "2021-03-01T17:51:28.078778Z",
     "start_time": "2021-03-01T17:51:28.075539Z"
    }
   },
   "source": [
    "- High variability (Easily overfits to data)"
   ]
  },
  {
   "cell_type": "markdown",
   "metadata": {},
   "source": [
    "### Pro + Con"
   ]
  },
  {
   "cell_type": "markdown",
   "metadata": {},
   "source": [
    "- Decision Trees have a lot of tuning options (hyper parameters)\n",
    "    - Pro\n",
    "        - Models can be highly customizable and optimized!\n",
    "    - Con\n",
    "        - There is a learning curve to using these tuning options. "
   ]
  },
  {
   "cell_type": "markdown",
   "metadata": {},
   "source": [
    "## What is a decision tree?"
   ]
  },
  {
   "cell_type": "markdown",
   "metadata": {},
   "source": [
    "A decision tree filters the data according to a series of `if` and `else` statements. \n",
    "\n",
    "<img src=\"simple_example.png\" style=\"height:300px;\">\n",
    "\n",
    "Above is an extremely simple example of a decision tree, let's look at an example that is a little more complicated. \n",
    "\n",
    "**Say we have an unorganized drawer of pens and pencils. The pens and pencils are made with the following materials:**\n",
    "\n",
    "<img src=\"writing_utensils.png\" style=\"width:600px;\">\n",
    "\n",
    "In the cell below, we import data for this drawer:\n",
    "> For the type column, 0 = pencil and 1 = pen"
   ]
  },
  {
   "cell_type": "code",
   "execution_count": 2,
   "metadata": {
    "ExecuteTime": {
     "end_time": "2021-04-15T21:39:24.404937Z",
     "start_time": "2021-04-15T21:39:24.387626Z"
    }
   },
   "outputs": [
    {
     "data": {
      "text/html": [
       "<div>\n",
       "<style scoped>\n",
       "    .dataframe tbody tr th:only-of-type {\n",
       "        vertical-align: middle;\n",
       "    }\n",
       "\n",
       "    .dataframe tbody tr th {\n",
       "        vertical-align: top;\n",
       "    }\n",
       "\n",
       "    .dataframe thead th {\n",
       "        text-align: right;\n",
       "    }\n",
       "</style>\n",
       "<table border=\"1\" class=\"dataframe\">\n",
       "  <thead>\n",
       "    <tr style=\"text-align: right;\">\n",
       "      <th></th>\n",
       "      <th>wood</th>\n",
       "      <th>metal</th>\n",
       "      <th>plastic</th>\n",
       "      <th>has_cap</th>\n",
       "      <th>type</th>\n",
       "    </tr>\n",
       "  </thead>\n",
       "  <tbody>\n",
       "    <tr>\n",
       "      <th>0</th>\n",
       "      <td>0</td>\n",
       "      <td>1</td>\n",
       "      <td>0</td>\n",
       "      <td>0</td>\n",
       "      <td>1</td>\n",
       "    </tr>\n",
       "    <tr>\n",
       "      <th>1</th>\n",
       "      <td>0</td>\n",
       "      <td>1</td>\n",
       "      <td>0</td>\n",
       "      <td>0</td>\n",
       "      <td>1</td>\n",
       "    </tr>\n",
       "    <tr>\n",
       "      <th>2</th>\n",
       "      <td>1</td>\n",
       "      <td>0</td>\n",
       "      <td>0</td>\n",
       "      <td>0</td>\n",
       "      <td>0</td>\n",
       "    </tr>\n",
       "    <tr>\n",
       "      <th>3</th>\n",
       "      <td>0</td>\n",
       "      <td>1</td>\n",
       "      <td>0</td>\n",
       "      <td>0</td>\n",
       "      <td>1</td>\n",
       "    </tr>\n",
       "    <tr>\n",
       "      <th>4</th>\n",
       "      <td>0</td>\n",
       "      <td>0</td>\n",
       "      <td>1</td>\n",
       "      <td>1</td>\n",
       "      <td>1</td>\n",
       "    </tr>\n",
       "  </tbody>\n",
       "</table>\n",
       "</div>"
      ],
      "text/plain": [
       "   wood  metal  plastic  has_cap  type\n",
       "0     0      1        0        0     1\n",
       "1     0      1        0        0     1\n",
       "2     1      0        0        0     0\n",
       "3     0      1        0        0     1\n",
       "4     0      0        1        1     1"
      ]
     },
     "execution_count": 2,
     "metadata": {},
     "output_type": "execute_result"
    }
   ],
   "source": [
    "utensils = pd.read_csv('writing_utensils.csv')\n",
    "utensils.head()"
   ]
  },
  {
   "cell_type": "markdown",
   "metadata": {},
   "source": [
    "Whenever we are doing a classification problem, one of the first things we should check is the distribution of the classification column. We can do this by running `.value_counts()` on this column."
   ]
  },
  {
   "cell_type": "code",
   "execution_count": 3,
   "metadata": {
    "ExecuteTime": {
     "end_time": "2021-04-15T21:39:25.439427Z",
     "start_time": "2021-04-15T21:39:25.421309Z"
    }
   },
   "outputs": [
    {
     "data": {
      "text/plain": [
       "0    0.52\n",
       "1    0.48\n",
       "Name: type, dtype: float64"
      ]
     },
     "execution_count": 3,
     "metadata": {},
     "output_type": "execute_result"
    }
   ],
   "source": [
    "utensils.type.value_counts(normalize=True)"
   ]
  },
  {
   "cell_type": "markdown",
   "metadata": {},
   "source": [
    "The data is very close to evenly split. That's a good thing!"
   ]
  },
  {
   "cell_type": "markdown",
   "metadata": {},
   "source": [
    "If we group by `type` we can look at the joint probabilities for pens and pencils:"
   ]
  },
  {
   "cell_type": "code",
   "execution_count": 4,
   "metadata": {
    "ExecuteTime": {
     "end_time": "2021-04-15T21:39:26.803376Z",
     "start_time": "2021-04-15T21:39:26.790160Z"
    }
   },
   "outputs": [
    {
     "data": {
      "text/html": [
       "<div>\n",
       "<style scoped>\n",
       "    .dataframe tbody tr th:only-of-type {\n",
       "        vertical-align: middle;\n",
       "    }\n",
       "\n",
       "    .dataframe tbody tr th {\n",
       "        vertical-align: top;\n",
       "    }\n",
       "\n",
       "    .dataframe thead th {\n",
       "        text-align: right;\n",
       "    }\n",
       "</style>\n",
       "<table border=\"1\" class=\"dataframe\">\n",
       "  <thead>\n",
       "    <tr style=\"text-align: right;\">\n",
       "      <th></th>\n",
       "      <th>wood</th>\n",
       "      <th>metal</th>\n",
       "      <th>plastic</th>\n",
       "      <th>has_cap</th>\n",
       "    </tr>\n",
       "    <tr>\n",
       "      <th>type</th>\n",
       "      <th></th>\n",
       "      <th></th>\n",
       "      <th></th>\n",
       "      <th></th>\n",
       "    </tr>\n",
       "  </thead>\n",
       "  <tbody>\n",
       "    <tr>\n",
       "      <th>0</th>\n",
       "      <td>15</td>\n",
       "      <td>4</td>\n",
       "      <td>7</td>\n",
       "      <td>0</td>\n",
       "    </tr>\n",
       "    <tr>\n",
       "      <th>1</th>\n",
       "      <td>0</td>\n",
       "      <td>15</td>\n",
       "      <td>9</td>\n",
       "      <td>9</td>\n",
       "    </tr>\n",
       "  </tbody>\n",
       "</table>\n",
       "</div>"
      ],
      "text/plain": [
       "      wood  metal  plastic  has_cap\n",
       "type                               \n",
       "0       15      4        7        0\n",
       "1        0     15        9        9"
      ]
     },
     "execution_count": 4,
     "metadata": {},
     "output_type": "execute_result"
    }
   ],
   "source": [
    "utensils.groupby('type').sum()"
   ]
  },
  {
   "cell_type": "code",
   "execution_count": 5,
   "metadata": {
    "ExecuteTime": {
     "end_time": "2021-04-15T21:39:27.515008Z",
     "start_time": "2021-04-15T21:39:27.511695Z"
    }
   },
   "outputs": [
    {
     "data": {
      "text/plain": [
       "50"
      ]
     },
     "execution_count": 5,
     "metadata": {},
     "output_type": "execute_result"
    }
   ],
   "source": [
    "utensils.shape[0]"
   ]
  },
  {
   "cell_type": "markdown",
   "metadata": {},
   "source": [
    "**Using the table above, what observations can we make about the pens and pencils in our drawer?**"
   ]
  },
  {
   "cell_type": "markdown",
   "metadata": {
    "ExecuteTime": {
     "end_time": "2021-03-01T17:05:56.425693Z",
     "start_time": "2021-03-01T17:05:56.422563Z"
    }
   },
   "source": [
    "1.   \n",
    "2.   \n",
    "3.  "
   ]
  },
  {
   "cell_type": "code",
   "execution_count": 6,
   "metadata": {
    "ExecuteTime": {
     "end_time": "2021-04-15T21:39:28.463006Z",
     "start_time": "2021-04-15T21:39:28.454907Z"
    },
    "jupyter": {
     "source_hidden": true
    },
    "scrolled": false
   },
   "outputs": [
    {
     "name": "stderr",
     "output_type": "stream",
     "text": [
      "/opt/anaconda3/envs/learn-env/lib/python3.8/site-packages/IPython/core/display.py:717: UserWarning: Consider using IPython.display.IFrame instead\n",
      "  warnings.warn(\"Consider using IPython.display.IFrame instead\")\n"
     ]
    },
    {
     "data": {
      "text/html": [
       "<iframe src=\"https://docs.google.com/presentation/d/e/2PACX-1vRjpSr7iFUUJLV8RrrLtBF3czpuhV4iKnAylzbhDLlrvYirUO6hmNxyEerJjC8uTyIbA8WpDN1ZvnHR/embed?start=false&loop=false&delayms=3000\" frameborder=\"0\" width=\"960\" height=\"400\" allowfullscreen=\"true\" mozallowfullscreen=\"true\" webkitallowfullscreen=\"true\"></iframe>"
      ],
      "text/plain": [
       "<IPython.core.display.HTML object>"
      ]
     },
     "execution_count": 6,
     "metadata": {},
     "output_type": "execute_result"
    }
   ],
   "source": [
    "from IPython.display import HTML\n",
    "HTML('<iframe src=\"https://docs.google.com/presentation/d/e/2PACX-1vRjpSr7iFUUJLV8RrrLtBF3czpuhV4iKnAylzbhDLlrvYirUO6hmNxyEerJjC8uTyIbA8WpDN1ZvnHR/embed?start=false&loop=false&delayms=3000\" frameborder=\"0\" width=\"960\" height=\"400\" allowfullscreen=\"true\" mozallowfullscreen=\"true\" webkitallowfullscreen=\"true\"></iframe>')"
   ]
  },
  {
   "cell_type": "markdown",
   "metadata": {},
   "source": [
    "### Let's code out our decision tree!"
   ]
  },
  {
   "cell_type": "code",
   "execution_count": 8,
   "metadata": {
    "ExecuteTime": {
     "end_time": "2021-04-15T21:39:29.472901Z",
     "start_time": "2021-04-15T21:39:29.471107Z"
    }
   },
   "outputs": [
    {
     "data": {
      "text/plain": [
       "0.92"
      ]
     },
     "execution_count": 8,
     "metadata": {},
     "output_type": "execute_result"
    }
   ],
   "source": [
    "# Your code here\n",
    "from sklearn.metrics import accuracy_score\n",
    "\n",
    "preds = []\n",
    "for idx, row in utensils.iterrows():\n",
    "    if row.wood:\n",
    "        preds.append(0)\n",
    "    elif row.has_cap:\n",
    "        preds.append(1)\n",
    "    elif row.metal:\n",
    "        preds.append(1)\n",
    "    else:\n",
    "        preds.append(0)\n",
    "\n",
    "accuracy_score(utensils.type, preds)"
   ]
  },
  {
   "cell_type": "markdown",
   "metadata": {},
   "source": [
    "**What observations did we classify incorrectly?**"
   ]
  },
  {
   "cell_type": "code",
   "execution_count": 9,
   "metadata": {
    "ExecuteTime": {
     "end_time": "2021-04-15T21:39:30.672217Z",
     "start_time": "2021-04-15T21:39:30.670048Z"
    }
   },
   "outputs": [
    {
     "data": {
      "text/html": [
       "<div>\n",
       "<style scoped>\n",
       "    .dataframe tbody tr th:only-of-type {\n",
       "        vertical-align: middle;\n",
       "    }\n",
       "\n",
       "    .dataframe tbody tr th {\n",
       "        vertical-align: top;\n",
       "    }\n",
       "\n",
       "    .dataframe thead th {\n",
       "        text-align: right;\n",
       "    }\n",
       "</style>\n",
       "<table border=\"1\" class=\"dataframe\">\n",
       "  <thead>\n",
       "    <tr style=\"text-align: right;\">\n",
       "      <th></th>\n",
       "      <th>wood</th>\n",
       "      <th>metal</th>\n",
       "      <th>plastic</th>\n",
       "      <th>has_cap</th>\n",
       "      <th>type</th>\n",
       "    </tr>\n",
       "  </thead>\n",
       "  <tbody>\n",
       "    <tr>\n",
       "      <th>35</th>\n",
       "      <td>0</td>\n",
       "      <td>1</td>\n",
       "      <td>0</td>\n",
       "      <td>0</td>\n",
       "      <td>0</td>\n",
       "    </tr>\n",
       "    <tr>\n",
       "      <th>41</th>\n",
       "      <td>0</td>\n",
       "      <td>1</td>\n",
       "      <td>0</td>\n",
       "      <td>0</td>\n",
       "      <td>0</td>\n",
       "    </tr>\n",
       "    <tr>\n",
       "      <th>42</th>\n",
       "      <td>0</td>\n",
       "      <td>1</td>\n",
       "      <td>0</td>\n",
       "      <td>0</td>\n",
       "      <td>0</td>\n",
       "    </tr>\n",
       "    <tr>\n",
       "      <th>44</th>\n",
       "      <td>0</td>\n",
       "      <td>1</td>\n",
       "      <td>0</td>\n",
       "      <td>0</td>\n",
       "      <td>0</td>\n",
       "    </tr>\n",
       "  </tbody>\n",
       "</table>\n",
       "</div>"
      ],
      "text/plain": [
       "    wood  metal  plastic  has_cap  type\n",
       "35     0      1        0        0     0\n",
       "41     0      1        0        0     0\n",
       "42     0      1        0        0     0\n",
       "44     0      1        0        0     0"
      ]
     },
     "execution_count": 9,
     "metadata": {},
     "output_type": "execute_result"
    }
   ],
   "source": [
    "# Your code here\n",
    "utensils[utensils.type != preds]"
   ]
  },
  {
   "cell_type": "markdown",
   "metadata": {},
   "source": [
    "**How can we do this with sklearn?**"
   ]
  },
  {
   "cell_type": "code",
   "execution_count": 3,
   "metadata": {
    "ExecuteTime": {
     "end_time": "2021-04-15T21:39:33.039222Z",
     "start_time": "2021-04-15T21:39:32.883432Z"
    }
   },
   "outputs": [
    {
     "data": {
      "text/plain": [
       "0.92"
      ]
     },
     "execution_count": 3,
     "metadata": {},
     "output_type": "execute_result"
    }
   ],
   "source": [
    "from sklearn.tree import DecisionTreeClassifier\n",
    "\n",
    "X = utensils.drop('type', axis=1)\n",
    "y = utensils.type\n",
    "dt = DecisionTreeClassifier()\n",
    "dt.fit(X,y)\n",
    "dt.score(X,y)"
   ]
  },
  {
   "cell_type": "markdown",
   "metadata": {
    "ExecuteTime": {
     "end_time": "2021-03-01T17:57:02.211374Z",
     "start_time": "2021-03-01T17:57:02.206732Z"
    }
   },
   "source": [
    "**Plotting an sklearn decision tree!**"
   ]
  },
  {
   "cell_type": "code",
   "execution_count": 4,
   "metadata": {
    "ExecuteTime": {
     "end_time": "2021-04-15T21:39:34.913409Z",
     "start_time": "2021-04-15T21:39:34.558761Z"
    }
   },
   "outputs": [
    {
     "data": {
      "image/png": "[encoded data removed]",
      "text/plain": [
       "<Figure size 432x288 with 1 Axes>"
      ]
     },
     "metadata": {
      "needs_background": "light"
     },
     "output_type": "display_data"
    }
   ],
   "source": [
    "from sklearn.tree import plot_tree\n",
    "plot_tree(dt, feature_names=X.columns, filled=True);"
   ]
  },
  {
   "cell_type": "markdown",
   "metadata": {},
   "source": [
    "## How does a decision tree make decisions?"
   ]
  },
  {
   "cell_type": "markdown",
   "metadata": {},
   "source": [
    "There are two available cost functions that a decision tree can use:\n",
    "1. The Gini Index\n",
    "2. Entropy"
   ]
  },
  {
   "cell_type": "markdown",
   "metadata": {},
   "source": [
    "### Gini Index"
   ]
  },
  {
   "cell_type": "markdown",
   "metadata": {},
   "source": [
    "$Gini Index = 1 – \\sum_{j}p_{j}^{2}$\n",
    "\n",
    "j = A class label\n",
    "\n",
    "p = The proportion of observations in the split for the j class label"
   ]
  },
  {
   "cell_type": "markdown",
   "metadata": {},
   "source": [
    "Let's turn this into a function!\n",
    "\n",
    "In the cell below we create a `gini_index` function that:\n",
    "1. receives a pandas series\n",
    "2. calculates the proportions for each class in the series\n",
    "3. Calculates and returns the gini index"
   ]
  },
  {
   "cell_type": "code",
   "execution_count": 13,
   "metadata": {
    "ExecuteTime": {
     "end_time": "2021-03-01T22:26:15.222122Z",
     "start_time": "2021-03-01T22:26:15.220365Z"
    }
   },
   "outputs": [],
   "source": [
    "# Your code here\n",
    "def gini_index(series):\n",
    "    proportions = series.value_counts(normalize = True)\n",
    "    proportions = proportions ** 2\n",
    "    gini = 1 - proportions.sum()\n",
    "    return gini"
   ]
  },
  {
   "cell_type": "markdown",
   "metadata": {},
   "source": [
    "**Let's use our gini index function to calculate the gini score for each split of our decision tree!**"
   ]
  },
  {
   "cell_type": "markdown",
   "metadata": {},
   "source": [
    "First we calculate the gini score for whether or not the utensil is made of wood. "
   ]
  },
  {
   "cell_type": "code",
   "execution_count": 14,
   "metadata": {
    "ExecuteTime": {
     "end_time": "2021-03-01T22:31:02.481569Z",
     "start_time": "2021-03-01T22:31:02.472447Z"
    }
   },
   "outputs": [
    {
     "name": "stdout",
     "output_type": "stream",
     "text": [
      "Wood Gini: 0.0\n",
      "Not Wood Gini: 0.43102040816326526\n"
     ]
    }
   ],
   "source": [
    "# Collect the index for observations \n",
    "# that are made of wood\n",
    "wood_index = X[X.wood > 0.5].index\n",
    "\n",
    "# Collect the index for observations \n",
    "# that are not made of wood\n",
    "not_wood_index = X[X.wood <= 0.5].index\n",
    "\n",
    "# Collect the labels for both groups\n",
    "wood_labels = y.loc[wood_index]\n",
    "not_wood_labels = y.loc[not_wood_index]\n",
    "\n",
    "# Calculate the gini score for each!\n",
    "wood_gini = gini_index(wood_labels)\n",
    "not_wood_gini = gini_index(not_wood_labels)\n",
    "\n",
    "print(f'Wood Gini: {wood_gini}')\n",
    "print(f'Not Wood Gini: {not_wood_gini}')"
   ]
  },
  {
   "cell_type": "code",
   "execution_count": 19,
   "metadata": {},
   "outputs": [
    {
     "data": {
      "text/plain": [
       "0    1.0\n",
       "Name: type, dtype: float64"
      ]
     },
     "execution_count": 19,
     "metadata": {},
     "output_type": "execute_result"
    }
   ],
   "source": [
    "wood_labels.value_counts(normalize = True)"
   ]
  },
  {
   "cell_type": "markdown",
   "metadata": {},
   "source": [
    "Next, we take the observations that are not made of wood, and split them according to whether or not they have a cap. "
   ]
  },
  {
   "cell_type": "code",
   "execution_count": 21,
   "metadata": {
    "ExecuteTime": {
     "end_time": "2021-03-01T22:26:15.257231Z",
     "start_time": "2021-03-01T22:26:15.247660Z"
    }
   },
   "outputs": [
    {
     "name": "stdout",
     "output_type": "stream",
     "text": [
      "No Wood With Cap Gini: 0.0\n",
      "No Wood No Cap Gini: 0.48816568047337283\n"
     ]
    }
   ],
   "source": [
    "# Collect the index for observations \n",
    "# that are not made of wood and have a cap\n",
    "mask = (X.loc[not_wood_index].has_cap > 0.5)\n",
    "no_wood_with_cap_index = (X.loc[not_wood_index][mask]).index\n",
    "\n",
    "# Collect the index for observations \n",
    "# that are not made of wood and do not have a cap\n",
    "mask = (X.loc[not_wood_index].has_cap <= 0.5)\n",
    "no_wood_no_cap_index = (X.loc[not_wood_index][mask]).index\n",
    "\n",
    "# Collect class labels for both groups\n",
    "no_wood_with_cap_labels = y.loc[no_wood_with_cap_index]\n",
    "no_wood_no_cap_labels = y.loc[no_wood_no_cap_index]\n",
    "\n",
    "# Calculate the gini score for each!\n",
    "no_wood_with_cap_gini = gini_index(no_wood_with_cap_labels)\n",
    "no_wood_no_cap_gini = gini_index(no_wood_no_cap_labels)\n",
    "\n",
    "print(f'No Wood With Cap Gini: {no_wood_with_cap_gini}')\n",
    "print(f'No Wood No Cap Gini: {no_wood_no_cap_gini}')"
   ]
  },
  {
   "cell_type": "markdown",
   "metadata": {},
   "source": [
    "Now, we take the observations that are not made of wood and do not have have a cap, and we split them according to whether or not they are made of metal. "
   ]
  },
  {
   "cell_type": "code",
   "execution_count": 27,
   "metadata": {
    "ExecuteTime": {
     "end_time": "2021-03-01T22:26:15.287754Z",
     "start_time": "2021-03-01T22:26:15.270542Z"
    }
   },
   "outputs": [
    {
     "name": "stdout",
     "output_type": "stream",
     "text": [
      "No Wood No Cap Metal Gini: 0.3324099722991689\n",
      "No Wood No Cap No Metal Gini: 0.0\n"
     ]
    }
   ],
   "source": [
    "# Collect the index for observations \n",
    "# that are not made of wood and have a cap\n",
    "\n",
    "\n",
    "# Collect the index for observations \n",
    "# that are not made of wood and do not have a cap\n",
    "\n",
    "\n",
    "# Collect class labels for both groups\n",
    "\n",
    "\n",
    "# Calculate the gini score for each!\n",
    "\n",
    "\n",
    "print(f'No Wood No Cap Metal Gini: {}')\n",
    "print(f'No Wood No Cap No Metal Gini: {}')"
   ]
  },
  {
   "cell_type": "markdown",
   "metadata": {},
   "source": [
    "### How does Decision Tree decide on splits?"
   ]
  },
  {
   "cell_type": "markdown",
   "metadata": {},
   "source": [
    "For every split, the decision tree:\n",
    "1. Loops over every column\n",
    "2. Splits the data according to every unique value in the column\n",
    "3. Calculates the gini score for every split\n",
    "4. Returns the split that resulted in the best gini score."
   ]
  },
  {
   "cell_type": "code",
   "execution_count": 27,
   "metadata": {
    "ExecuteTime": {
     "end_time": "2021-04-15T21:54:16.053874Z",
     "start_time": "2021-04-15T21:54:16.017642Z"
    }
   },
   "outputs": [
    {
     "name": "stdout",
     "output_type": "stream",
     "text": [
      "Best Score: 0.4992\n",
      "Best Split: ('wood', 1)\n"
     ]
    }
   ],
   "source": [
    "def find_split(X, target, cost_function, best_score=.5):\n",
    "    \"\"\"\n",
    "    Finds the split of the data that results in the best purity.\n",
    "    \n",
    "    X =             Pandas DataFrame\n",
    "    \n",
    "    target =        String. The name of the target column\n",
    "    \n",
    "    cost_function = Function that calculates the purity \n",
    "                    a Pandas Series of discrete data points\n",
    "    \n",
    "    best_score =    The score all other splits will be compared to.\n",
    "                    If a score is found that is lower than best_score\n",
    "                    The best score is set to the new metric.\n",
    "                    Gini and Entropy both need to be minimized.\n",
    "                    Gini's maximum = .5\n",
    "                    Entropy maximum = 1\n",
    "                    \n",
    "    Returns: The best score and a tuple containing the column name\n",
    "             And the value used for splitting. \n",
    "    \"\"\"\n",
    "    \n",
    "    # Create a `best_split` variable and set it to None\n",
    "    best_split = None\n",
    "\n",
    "\n",
    "    # Create a variable `columns` that is a list containing\n",
    "    # All of the column names in the dataframe\n",
    "    columns = list(X.columns)\n",
    "\n",
    "    # Remove the target from the list of column names\n",
    "    columns.remove(target)\n",
    "    \n",
    "    # Loop over the list of columns\n",
    "    for column in columns:\n",
    "        \n",
    "        # Find all the unique values in the column\n",
    "        unique = X[column].unique()\n",
    "\n",
    "        # Loop over every unique value\n",
    "        for val in unique:\n",
    "\n",
    "            # Create two dataframes. \n",
    "            # 1) `split_1` Split the dataframe so it contains\n",
    "                        #. all observations where the column value\n",
    "                        #. is less than or equal to the unique value\n",
    "            # 2) `split_2` Split the dataframe so it contains\n",
    "                          # all observations where the column value\n",
    "                          # is greater than or equal to the unique value\n",
    "            split_1 = X[X[column] <= val]\n",
    "            split_2 = X[X[column] >= val]\n",
    "\n",
    "            # Calculate the gini score for each split\n",
    "            split_1_score = cost_function(split_1[target])\n",
    "            split_2_score = cost_function(split_2[target])\n",
    "\n",
    "            # Add the gini scores together\n",
    "            score = split_1_score + split_2_score\n",
    "\n",
    "            # If the score if less than the best score\n",
    "            # set the best score to the score we have \n",
    "            # calculated and set the best split\n",
    "            # to the name of the column and the value\n",
    "            # we split on\n",
    "            if score < best_score:\n",
    "                best_score = score\n",
    "                best_split = (column, val)\n",
    "\n",
    "    # Return the best_score and best_split        \n",
    "    return best_score, best_split\n",
    "    \n",
    "best_score, best_split = find_split(utensils, 'type', gini_index)\n",
    "print(f'Best Score: {best_score}')\n",
    "print(f'Best Split: {best_split}')"
   ]
  },
  {
   "cell_type": "markdown",
   "metadata": {
    "ExecuteTime": {
     "end_time": "2021-03-01T21:20:36.798388Z",
     "start_time": "2021-03-01T21:20:36.795963Z"
    }
   },
   "source": [
    "### Entropy"
   ]
  },
  {
   "cell_type": "markdown",
   "metadata": {},
   "source": [
    "$Entropy = – \\sum_{j}p_{j} \\cdot log_{2} \\cdot p_{j}$"
   ]
  },
  {
   "cell_type": "code",
   "execution_count": 28,
   "metadata": {
    "ExecuteTime": {
     "end_time": "2021-04-15T21:40:41.369743Z",
     "start_time": "2021-04-15T21:40:41.366704Z"
    }
   },
   "outputs": [],
   "source": [
    "def entropy(series):\n",
    "    proportions = series.value_counts(normalize=True)\n",
    "    proportions = proportions * np.log2(proportions)\n",
    "    proportions = proportions.sum()\n",
    "    return -proportions"
   ]
  },
  {
   "cell_type": "markdown",
   "metadata": {},
   "source": [
    "Let's run the code above, and replace `gini_index` with our `entropy` function"
   ]
  },
  {
   "cell_type": "code",
   "execution_count": 29,
   "metadata": {
    "ExecuteTime": {
     "end_time": "2021-04-15T21:59:10.604460Z",
     "start_time": "2021-04-15T21:59:10.569825Z"
    }
   },
   "outputs": [
    {
     "name": "stdout",
     "output_type": "stream",
     "text": [
      "Best Score: 0.9988455359952018\n",
      "Best Split: ('wood', 1)\n"
     ]
    }
   ],
   "source": [
    "best_score, best_split = find_split(utensils, 'type', entropy, best_score=1)            \n",
    "print(f'Best Score: {best_score}')\n",
    "print(f'Best Split: {best_split}')"
   ]
  },
  {
   "cell_type": "code",
   "execution_count": 30,
   "metadata": {
    "ExecuteTime": {
     "end_time": "2021-03-01T22:26:15.697312Z",
     "start_time": "2021-03-01T22:26:15.475671Z"
    }
   },
   "outputs": [
    {
     "data": {
      "image/png": "[encoded data removed]",
      "text/plain": [
       "<Figure size 432x288 with 1 Axes>"
      ]
     },
     "metadata": {
      "needs_background": "light"
     },
     "output_type": "display_data"
    }
   ],
   "source": [
    "dt = DecisionTreeClassifier(criterion='entropy')\n",
    "dt.fit(X,y)\n",
    "plot_tree(dt, feature_names=X.columns, filled=True);"
   ]
  },
  {
   "cell_type": "markdown",
   "metadata": {},
   "source": [
    "What is the difference between gini and entropy? \n",
    "\n",
    "Due to time, this question is slightly out of scope for this lesson. For a good explanation, see [this article](https://quantdare.com/decision-trees-gini-vs-entropy/)\n",
    "\n",
    "The TL;DR is that entropy is more computationally expensive (the model takes longer to fit to data) than gini, but entropy tends to perform slightly better in terms of accuracy than gini. "
   ]
  },
  {
   "cell_type": "markdown",
   "metadata": {},
   "source": [
    "## Using Sklearn"
   ]
  },
  {
   "cell_type": "code",
   "execution_count": 31,
   "metadata": {
    "ExecuteTime": {
     "end_time": "2021-03-01T22:26:16.236648Z",
     "start_time": "2021-03-01T22:26:15.905018Z"
    },
    "scrolled": true
   },
   "outputs": [],
   "source": [
    "df = pd.read_csv('https://gist.githubusercontent.com/michhar/2dfd2de0d4f8727f873422c5d959fff5/raw/fa71405126017e6a37bea592440b4bee94bf7b9e/titanic.csv')"
   ]
  },
  {
   "cell_type": "code",
   "execution_count": 32,
   "metadata": {
    "ExecuteTime": {
     "end_time": "2021-03-01T22:26:16.250769Z",
     "start_time": "2021-03-01T22:26:16.237957Z"
    }
   },
   "outputs": [
    {
     "data": {
      "text/html": [
       "<div>\n",
       "<style scoped>\n",
       "    .dataframe tbody tr th:only-of-type {\n",
       "        vertical-align: middle;\n",
       "    }\n",
       "\n",
       "    .dataframe tbody tr th {\n",
       "        vertical-align: top;\n",
       "    }\n",
       "\n",
       "    .dataframe thead th {\n",
       "        text-align: right;\n",
       "    }\n",
       "</style>\n",
       "<table border=\"1\" class=\"dataframe\">\n",
       "  <thead>\n",
       "    <tr style=\"text-align: right;\">\n",
       "      <th></th>\n",
       "      <th>PassengerId</th>\n",
       "      <th>Survived</th>\n",
       "      <th>Pclass</th>\n",
       "      <th>Name</th>\n",
       "      <th>Sex</th>\n",
       "      <th>Age</th>\n",
       "      <th>SibSp</th>\n",
       "      <th>Parch</th>\n",
       "      <th>Ticket</th>\n",
       "      <th>Fare</th>\n",
       "      <th>Cabin</th>\n",
       "      <th>Embarked</th>\n",
       "    </tr>\n",
       "  </thead>\n",
       "  <tbody>\n",
       "    <tr>\n",
       "      <th>0</th>\n",
       "      <td>1</td>\n",
       "      <td>0</td>\n",
       "      <td>3</td>\n",
       "      <td>Braund, Mr. Owen Harris</td>\n",
       "      <td>male</td>\n",
       "      <td>22.0</td>\n",
       "      <td>1</td>\n",
       "      <td>0</td>\n",
       "      <td>A/5 21171</td>\n",
       "      <td>7.2500</td>\n",
       "      <td>NaN</td>\n",
       "      <td>S</td>\n",
       "    </tr>\n",
       "    <tr>\n",
       "      <th>1</th>\n",
       "      <td>2</td>\n",
       "      <td>1</td>\n",
       "      <td>1</td>\n",
       "      <td>Cumings, Mrs. John Bradley (Florence Briggs Th...</td>\n",
       "      <td>female</td>\n",
       "      <td>38.0</td>\n",
       "      <td>1</td>\n",
       "      <td>0</td>\n",
       "      <td>PC 17599</td>\n",
       "      <td>71.2833</td>\n",
       "      <td>C85</td>\n",
       "      <td>C</td>\n",
       "    </tr>\n",
       "    <tr>\n",
       "      <th>2</th>\n",
       "      <td>3</td>\n",
       "      <td>1</td>\n",
       "      <td>3</td>\n",
       "      <td>Heikkinen, Miss. Laina</td>\n",
       "      <td>female</td>\n",
       "      <td>26.0</td>\n",
       "      <td>0</td>\n",
       "      <td>0</td>\n",
       "      <td>STON/O2. 3101282</td>\n",
       "      <td>7.9250</td>\n",
       "      <td>NaN</td>\n",
       "      <td>S</td>\n",
       "    </tr>\n",
       "    <tr>\n",
       "      <th>3</th>\n",
       "      <td>4</td>\n",
       "      <td>1</td>\n",
       "      <td>1</td>\n",
       "      <td>Futrelle, Mrs. Jacques Heath (Lily May Peel)</td>\n",
       "      <td>female</td>\n",
       "      <td>35.0</td>\n",
       "      <td>1</td>\n",
       "      <td>0</td>\n",
       "      <td>113803</td>\n",
       "      <td>53.1000</td>\n",
       "      <td>C123</td>\n",
       "      <td>S</td>\n",
       "    </tr>\n",
       "    <tr>\n",
       "      <th>4</th>\n",
       "      <td>5</td>\n",
       "      <td>0</td>\n",
       "      <td>3</td>\n",
       "      <td>Allen, Mr. William Henry</td>\n",
       "      <td>male</td>\n",
       "      <td>35.0</td>\n",
       "      <td>0</td>\n",
       "      <td>0</td>\n",
       "      <td>373450</td>\n",
       "      <td>8.0500</td>\n",
       "      <td>NaN</td>\n",
       "      <td>S</td>\n",
       "    </tr>\n",
       "  </tbody>\n",
       "</table>\n",
       "</div>"
      ],
      "text/plain": [
       "   PassengerId  Survived  Pclass  \\\n",
       "0            1         0       3   \n",
       "1            2         1       1   \n",
       "2            3         1       3   \n",
       "3            4         1       1   \n",
       "4            5         0       3   \n",
       "\n",
       "                                                Name     Sex   Age  SibSp  \\\n",
       "0                            Braund, Mr. Owen Harris    male  22.0      1   \n",
       "1  Cumings, Mrs. John Bradley (Florence Briggs Th...  female  38.0      1   \n",
       "2                             Heikkinen, Miss. Laina  female  26.0      0   \n",
       "3       Futrelle, Mrs. Jacques Heath (Lily May Peel)  female  35.0      1   \n",
       "4                           Allen, Mr. William Henry    male  35.0      0   \n",
       "\n",
       "   Parch            Ticket     Fare Cabin Embarked  \n",
       "0      0         A/5 21171   7.2500   NaN        S  \n",
       "1      0          PC 17599  71.2833   C85        C  \n",
       "2      0  STON/O2. 3101282   7.9250   NaN        S  \n",
       "3      0            113803  53.1000  C123        S  \n",
       "4      0            373450   8.0500   NaN        S  "
      ]
     },
     "execution_count": 32,
     "metadata": {},
     "output_type": "execute_result"
    }
   ],
   "source": [
    "df.head()"
   ]
  },
  {
   "cell_type": "code",
   "execution_count": 37,
   "metadata": {
    "ExecuteTime": {
     "end_time": "2021-03-01T22:26:16.254179Z",
     "start_time": "2021-03-01T22:26:16.252227Z"
    }
   },
   "outputs": [],
   "source": [
    "# Import decision tree classifier\n",
    "from sklearn.tree import DecisionTreeClassifier\n",
    "# Other imports:\n",
    "from sklearn.model_selection import train_test_split\n",
    "from sklearn.preprocessing import LabelEncoder"
   ]
  },
  {
   "cell_type": "code",
   "execution_count": 34,
   "metadata": {},
   "outputs": [
    {
     "name": "stdout",
     "output_type": "stream",
     "text": [
      "<class 'pandas.core.frame.DataFrame'>\n",
      "RangeIndex: 891 entries, 0 to 890\n",
      "Data columns (total 12 columns):\n",
      " #   Column       Non-Null Count  Dtype  \n",
      "---  ------       --------------  -----  \n",
      " 0   PassengerId  891 non-null    int64  \n",
      " 1   Survived     891 non-null    int64  \n",
      " 2   Pclass       891 non-null    int64  \n",
      " 3   Name         891 non-null    object \n",
      " 4   Sex          891 non-null    object \n",
      " 5   Age          714 non-null    float64\n",
      " 6   SibSp        891 non-null    int64  \n",
      " 7   Parch        891 non-null    int64  \n",
      " 8   Ticket       891 non-null    object \n",
      " 9   Fare         891 non-null    float64\n",
      " 10  Cabin        204 non-null    object \n",
      " 11  Embarked     889 non-null    object \n",
      "dtypes: float64(2), int64(5), object(5)\n",
      "memory usage: 83.7+ KB\n"
     ]
    }
   ],
   "source": [
    "df.info()"
   ]
  },
  {
   "cell_type": "code",
   "execution_count": 39,
   "metadata": {
    "ExecuteTime": {
     "end_time": "2021-03-01T22:26:16.261542Z",
     "start_time": "2021-03-01T22:26:16.259450Z"
    }
   },
   "outputs": [
    {
     "data": {
      "text/plain": [
       "DecisionTreeClassifier()"
      ]
     },
     "execution_count": 39,
     "metadata": {},
     "output_type": "execute_result"
    }
   ],
   "source": [
    "# Select the features I'd like to use\n",
    "features = ['Age', 'Sex', 'Pclass', 'Fare']\n",
    "# Drop null values for according to selected features\n",
    "X = df.dropna(subset = features)\n",
    "# Isolate the target\n",
    "y = X.Survived\n",
    "# Isolate the predictors\n",
    "X = X[features]\n",
    "# Instantiate a label encoder\n",
    "encoder = LabelEncoder()\n",
    "# Fit the label encoder to the categorical data\n",
    "encoder.fit(X['Sex'])\n",
    "# Transform the categorical data\n",
    "X['Sex'] = encoder.transform(X['Sex'])\n",
    "\n",
    "# Create a train test split\n",
    "X_train, X_test, y_train, y_test = train_test_split(X, y, random_state = 2021)\n",
    "\n",
    "# Fit the decision tree\n",
    "dt = DecisionTreeClassifier()\n",
    "dt.fit(X_train, y_train)"
   ]
  },
  {
   "cell_type": "markdown",
   "metadata": {},
   "source": [
    "Let's score the decision tree model on the training data"
   ]
  },
  {
   "cell_type": "code",
   "execution_count": 40,
   "metadata": {
    "ExecuteTime": {
     "end_time": "2021-03-01T22:26:16.290839Z",
     "start_time": "2021-03-01T22:26:16.284986Z"
    }
   },
   "outputs": [
    {
     "data": {
      "text/plain": [
       "0.9887850467289719"
      ]
     },
     "execution_count": 40,
     "metadata": {},
     "output_type": "execute_result"
    }
   ],
   "source": [
    "dt.score(X_train,y_train)"
   ]
  },
  {
   "cell_type": "markdown",
   "metadata": {},
   "source": [
    "Let's score the decision tree model on testing data"
   ]
  },
  {
   "cell_type": "code",
   "execution_count": 41,
   "metadata": {
    "ExecuteTime": {
     "end_time": "2021-03-01T22:26:16.297611Z",
     "start_time": "2021-03-01T22:26:16.292499Z"
    }
   },
   "outputs": [
    {
     "data": {
      "text/plain": [
       "0.7262569832402235"
      ]
     },
     "execution_count": 41,
     "metadata": {},
     "output_type": "execute_result"
    }
   ],
   "source": [
    "dt.score(X_test,y_test)"
   ]
  },
  {
   "cell_type": "markdown",
   "metadata": {},
   "source": [
    "Plot the decision tree"
   ]
  },
  {
   "cell_type": "code",
   "execution_count": 42,
   "metadata": {
    "ExecuteTime": {
     "end_time": "2021-03-01T22:26:21.512235Z",
     "start_time": "2021-03-01T22:26:16.299169Z"
    }
   },
   "outputs": [
    {
     "data": {
      "image/png": "[encoded data removed]",
      "text/plain": [
       "<Figure size 432x288 with 1 Axes>"
      ]
     },
     "metadata": {
      "needs_background": "light"
     },
     "output_type": "display_data"
    }
   ],
   "source": [
    "plot_tree(dt, feature_names=X.columns, filled=True);"
   ]
  },
  {
   "cell_type": "markdown",
   "metadata": {},
   "source": [
    "### Tune the model!"
   ]
  },
  {
   "cell_type": "code",
   "execution_count": 43,
   "metadata": {
    "ExecuteTime": {
     "end_time": "2021-03-01T22:26:21.516814Z",
     "start_time": "2021-03-01T22:26:21.514044Z"
    }
   },
   "outputs": [],
   "source": [
    "second_model = DecisionTreeClassifier(max_depth=5, \n",
    "                                      min_samples_split = 10, \n",
    "                                      max_leaf_nodes=100)"
   ]
  },
  {
   "cell_type": "code",
   "execution_count": 44,
   "metadata": {
    "ExecuteTime": {
     "end_time": "2021-03-01T22:26:21.524981Z",
     "start_time": "2021-03-01T22:26:21.518548Z"
    }
   },
   "outputs": [
    {
     "data": {
      "text/plain": [
       "0.8373831775700935"
      ]
     },
     "execution_count": 44,
     "metadata": {},
     "output_type": "execute_result"
    }
   ],
   "source": [
    "second_model.fit(X_train, y_train)\n",
    "second_model.score(X_train,y_train)"
   ]
  },
  {
   "cell_type": "code",
   "execution_count": 45,
   "metadata": {
    "ExecuteTime": {
     "end_time": "2021-03-01T22:26:21.531826Z",
     "start_time": "2021-03-01T22:26:21.526354Z"
    }
   },
   "outputs": [
    {
     "data": {
      "text/plain": [
       "0.7541899441340782"
      ]
     },
     "execution_count": 45,
     "metadata": {},
     "output_type": "execute_result"
    }
   ],
   "source": [
    "second_model.score(X_test, y_test)"
   ]
  },
  {
   "cell_type": "code",
   "execution_count": 46,
   "metadata": {
    "ExecuteTime": {
     "end_time": "2021-03-01T22:26:22.371830Z",
     "start_time": "2021-03-01T22:26:21.533389Z"
    }
   },
   "outputs": [
    {
     "data": {
      "image/png": "[encoded data removed]",
      "text/plain": [
       "<Figure size 432x288 with 1 Axes>"
      ]
     },
     "metadata": {
      "needs_background": "light"
     },
     "output_type": "display_data"
    }
   ],
   "source": [
    "plot_tree(second_model, feature_names=X.columns, filled=True);"
   ]
  },
  {
   "cell_type": "markdown",
   "metadata": {},
   "source": [
    "### Grid Search"
   ]
  },
  {
   "cell_type": "code",
   "execution_count": 47,
   "metadata": {
    "ExecuteTime": {
     "end_time": "2021-03-01T22:26:22.375452Z",
     "start_time": "2021-03-01T22:26:22.372953Z"
    }
   },
   "outputs": [],
   "source": [
    "from sklearn.model_selection import GridSearchCV"
   ]
  },
  {
   "cell_type": "code",
   "execution_count": 48,
   "metadata": {
    "ExecuteTime": {
     "end_time": "2021-03-01T22:26:22.598118Z",
     "start_time": "2021-03-01T22:26:22.377352Z"
    }
   },
   "outputs": [
    {
     "data": {
      "text/plain": [
       "GridSearchCV(cv=3, estimator=DecisionTreeClassifier(),\n",
       "             param_grid={'max_depth': [2, 4, 5],\n",
       "                         'max_leaf_nodes': [40, 80, 100],\n",
       "                         'min_samples_split': [6, 10, 14]},\n",
       "             scoring='accuracy')"
      ]
     },
     "execution_count": 48,
     "metadata": {},
     "output_type": "execute_result"
    }
   ],
   "source": [
    "grid_params = {'min_samples_split' : [6,10,14],\n",
    "               'max_depth': [2,4, 5],\n",
    "               'max_leaf_nodes': [40,80,100]}\n",
    "\n",
    "grid_search = GridSearchCV(dt, grid_params, cv=3, scoring='accuracy')\n",
    "grid_search.fit(X_train, y_train)"
   ]
  },
  {
   "cell_type": "code",
   "execution_count": 49,
   "metadata": {
    "ExecuteTime": {
     "end_time": "2021-03-01T22:26:22.603678Z",
     "start_time": "2021-03-01T22:26:22.599244Z"
    }
   },
   "outputs": [
    {
     "data": {
      "text/plain": [
       "0.8149532710280374"
      ]
     },
     "execution_count": 49,
     "metadata": {},
     "output_type": "execute_result"
    }
   ],
   "source": [
    "grid_search.score(X_train, y_train)"
   ]
  },
  {
   "cell_type": "code",
   "execution_count": 50,
   "metadata": {
    "ExecuteTime": {
     "end_time": "2021-03-01T22:26:22.609644Z",
     "start_time": "2021-03-01T22:26:22.604694Z"
    }
   },
   "outputs": [
    {
     "data": {
      "text/plain": [
       "0.7653631284916201"
      ]
     },
     "execution_count": 50,
     "metadata": {},
     "output_type": "execute_result"
    }
   ],
   "source": [
    "grid_search.score(X_test, y_test)"
   ]
  },
  {
   "cell_type": "code",
   "execution_count": 51,
   "metadata": {
    "ExecuteTime": {
     "end_time": "2021-03-01T22:26:22.614026Z",
     "start_time": "2021-03-01T22:26:22.610956Z"
    }
   },
   "outputs": [
    {
     "data": {
      "text/plain": [
       "{'max_depth': 2, 'max_leaf_nodes': 40, 'min_samples_split': 6}"
      ]
     },
     "execution_count": 51,
     "metadata": {},
     "output_type": "execute_result"
    }
   ],
   "source": [
    "grid_search.best_params_"
   ]
  },
  {
   "cell_type": "code",
   "execution_count": null,
   "metadata": {},
   "outputs": [],
   "source": []
  }
 ],
 "metadata": {
  "kernelspec": {
   "display_name": "Python 3",
   "language": "python",
   "name": "python3"
  },
  "language_info": {
   "codemirror_mode": {
    "name": "ipython",
    "version": 3
   },
   "file_extension": ".py",
   "mimetype": "text/x-python",
   "name": "python",
   "nbconvert_exporter": "python",
   "pygments_lexer": "ipython3",
   "version": "3.8.5"
  },
  "toc": {
   "base_numbering": 1,
   "nav_menu": {},
   "number_sections": false,
   "sideBar": true,
   "skip_h1_title": false,
   "title_cell": "Table of Contents",
   "title_sidebar": "Contents",
   "toc_cell": false,
   "toc_position": {},
   "toc_section_display": true,
   "toc_window_display": false
  }
 },
 "nbformat": 4,
 "nbformat_minor": 4
}
