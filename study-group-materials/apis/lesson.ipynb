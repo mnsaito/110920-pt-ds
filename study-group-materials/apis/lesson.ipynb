{
 "cells": [
  {
   "cell_type": "code",
   "execution_count": 1,
   "metadata": {
    "ExecuteTime": {
     "end_time": "2020-12-15T20:41:56.011593Z",
     "start_time": "2020-12-15T20:41:56.008091Z"
    }
   },
   "outputs": [],
   "source": [
    "# Setting grandparent directory\n",
    "# as an import path.\n",
    "import os\n",
    "import sys\n",
    "grandparent_directory = os.path.join(os.pardir, os.pardir)\n",
    "sys.path.append(grandparent_directory)"
   ]
  },
  {
   "cell_type": "markdown",
   "metadata": {},
   "source": [
    "# Application Programming Interface (API)"
   ]
  },
  {
   "cell_type": "markdown",
   "metadata": {},
   "source": [
    "APIs are used to transport data across the internet. In the world of web development, APIs are commonly used as a backend for websites, returning data to a javascript program which then renders the data with html.\n",
    "\n",
    "In the world of public data and analytics, APIs serve as a powerful tool for data collection and data transparency. \n",
    "\n",
    "[Goverment agencies](https://github.com/public-apis/public-apis#government) commonly have APIs that provide open access to their mountains of public data.\n",
    "\n",
    "Social Media companies like [Twitter](https://developer.twitter.com/en/docs) and [Reddit](https://www.reddit.com/dev/api/) provide APIs that are frequently used by researchers and marketing firms who are studying public internet behavior.\n",
    "\n",
    "[Google Maps](https://developers.google.com/maps/documentation/?_ga=2.115432070.1817774719.1607955846-1869916520.1607955812&_gac=1.158970888.1607956052.COHo1IfXze0CFdmUxQIdVrAPYQ) provides an api for creating interactive maps and manipulating geodata. \n",
    "\n",
    "[NBA Stats](https://any-api.com/nba_com/nba_com/docs/_playercareerstats) provides open access to league, player, and team data.\n",
    "\n",
    "The list goes on and on. There is a world of data that is ripe for exploring, and I highly recommend that you search for APIs with data that may pique your interest. You can use website like [Any-API.com](https://any-api.com/) or [public-apis.io](https://public-apis.io/) which host a running list of public APIs. \n",
    ">**Tip:** Keep an eye out for \"Data\" links when navigating websites. Some companies have open APIs but do not promote them. Those links are now apart of your work as data scientists. Paying attention to what data can be sourced and from where is a quick way to dramatically increase the power of your analytics. "
   ]
  },
  {
   "cell_type": "markdown",
   "metadata": {},
   "source": [
    "### How do we use APIs?\n",
    "APIs use https requests. We use these all the time! We oftentimes refer to them as URLs.\n",
    "\n",
    "**Let's look at an example:**\n",
    "\n",
    "If we follow the url [https://www.date.nager.at](https://date.nager.at)\n",
    "\n",
    "We are taken to the homepage for a worldwide holidays website. Normally if we wanted to use this product, we would input information to the webpage manually and sift through the results. But what if we need to run thousands of searches?\n",
    "\n",
    "Below we import 5 years of S&P Stock Data."
   ]
  },
  {
   "cell_type": "code",
   "execution_count": 2,
   "metadata": {
    "ExecuteTime": {
     "end_time": "2020-12-15T20:41:58.241153Z",
     "start_time": "2020-12-15T20:41:57.624476Z"
    }
   },
   "outputs": [
    {
     "name": "stdout",
     "output_type": "stream",
     "text": [
      "The dataframe has 619040 observations\n"
     ]
    }
   ],
   "source": [
    "import pandas as pd\n",
    "data_path = os.path.join(os.pardir, os.pardir, 'data')\n",
    "datafile_path = os.path.join(data_path, 'all_stocks_5yr.csv')\n",
    "df = pd.read_csv(datafile_path)\n",
    "print(f'The dataframe has {df.shape[0]} observations')"
   ]
  },
  {
   "cell_type": "markdown",
   "metadata": {},
   "source": [
    "This dataset contains the date, name of company, volume, open, high, low, and closing prices for S&P 500 stocks from 2013-2018."
   ]
  },
  {
   "cell_type": "code",
   "execution_count": 3,
   "metadata": {
    "ExecuteTime": {
     "end_time": "2020-12-15T20:41:58.507401Z",
     "start_time": "2020-12-15T20:41:58.490805Z"
    }
   },
   "outputs": [
    {
     "data": {
      "text/html": [
       "<div>\n",
       "<style scoped>\n",
       "    .dataframe tbody tr th:only-of-type {\n",
       "        vertical-align: middle;\n",
       "    }\n",
       "\n",
       "    .dataframe tbody tr th {\n",
       "        vertical-align: top;\n",
       "    }\n",
       "\n",
       "    .dataframe thead th {\n",
       "        text-align: right;\n",
       "    }\n",
       "</style>\n",
       "<table border=\"1\" class=\"dataframe\">\n",
       "  <thead>\n",
       "    <tr style=\"text-align: right;\">\n",
       "      <th></th>\n",
       "      <th>date</th>\n",
       "      <th>open</th>\n",
       "      <th>high</th>\n",
       "      <th>low</th>\n",
       "      <th>close</th>\n",
       "      <th>volume</th>\n",
       "      <th>Name</th>\n",
       "    </tr>\n",
       "  </thead>\n",
       "  <tbody>\n",
       "    <tr>\n",
       "      <th>0</th>\n",
       "      <td>2013-02-08</td>\n",
       "      <td>15.07</td>\n",
       "      <td>15.12</td>\n",
       "      <td>14.63</td>\n",
       "      <td>14.75</td>\n",
       "      <td>8407500</td>\n",
       "      <td>AAL</td>\n",
       "    </tr>\n",
       "    <tr>\n",
       "      <th>1</th>\n",
       "      <td>2013-02-11</td>\n",
       "      <td>14.89</td>\n",
       "      <td>15.01</td>\n",
       "      <td>14.26</td>\n",
       "      <td>14.46</td>\n",
       "      <td>8882000</td>\n",
       "      <td>AAL</td>\n",
       "    </tr>\n",
       "    <tr>\n",
       "      <th>2</th>\n",
       "      <td>2013-02-12</td>\n",
       "      <td>14.45</td>\n",
       "      <td>14.51</td>\n",
       "      <td>14.10</td>\n",
       "      <td>14.27</td>\n",
       "      <td>8126000</td>\n",
       "      <td>AAL</td>\n",
       "    </tr>\n",
       "  </tbody>\n",
       "</table>\n",
       "</div>"
      ],
      "text/plain": [
       "         date   open   high    low  close   volume Name\n",
       "0  2013-02-08  15.07  15.12  14.63  14.75  8407500  AAL\n",
       "1  2013-02-11  14.89  15.01  14.26  14.46  8882000  AAL\n",
       "2  2013-02-12  14.45  14.51  14.10  14.27  8126000  AAL"
      ]
     },
     "execution_count": 3,
     "metadata": {},
     "output_type": "execute_result"
    }
   ],
   "source": [
    "df.head(3)"
   ]
  },
  {
   "cell_type": "markdown",
   "metadata": {},
   "source": [
    "What if we wanted to create a column called `is_holiday` that marks a 1 if the day is a public holiday and a 0 if the date is not a public holiday?\n",
    "\n",
    "We would have to do ***a lot*** of clicking. \n",
    "![](https://media.giphy.com/media/3ohjVa8iomT5u3NMU8/giphy.gif)\n"
   ]
  },
  {
   "cell_type": "markdown",
   "metadata": {},
   "source": [
    "## Fortunately, there is a way that we can automate this process."
   ]
  },
  {
   "cell_type": "markdown",
   "metadata": {},
   "source": [
    "### New Packages\n",
    "\n",
    "For this lesson we will be using two new libraries. \n",
    "\n",
    "1. [requests](https://requests.readthedocs.io/en/master/)\n",
    "2. [json](https://docs.python.org/3/library/json.html)"
   ]
  },
  {
   "cell_type": "code",
   "execution_count": 4,
   "metadata": {
    "ExecuteTime": {
     "end_time": "2020-12-15T20:42:00.675433Z",
     "start_time": "2020-12-15T20:42:00.558990Z"
    }
   },
   "outputs": [],
   "source": [
    "# Lesson packages\n",
    "from requests import get\n",
    "import json"
   ]
  },
  {
   "cell_type": "markdown",
   "metadata": {},
   "source": [
    "Below is an example of an API request!"
   ]
  },
  {
   "cell_type": "code",
   "execution_count": 5,
   "metadata": {
    "ExecuteTime": {
     "end_time": "2020-12-15T20:42:25.928144Z",
     "start_time": "2020-12-15T20:42:25.343749Z"
    }
   },
   "outputs": [
    {
     "data": {
      "text/plain": [
       "<Response [200]>"
      ]
     },
     "execution_count": 5,
     "metadata": {},
     "output_type": "execute_result"
    }
   ],
   "source": [
    "url = 'https://date.nager.at/Api/v2/PublicHolidays/2013/us'\n",
    "get(url)"
   ]
  },
  {
   "cell_type": "markdown",
   "metadata": {},
   "source": [
    "✅ A Response 200 means our request was sucessful! ✅\n",
    "\n",
    "❌ Let's take a quick look at an unsuccessful response.❌"
   ]
  },
  {
   "cell_type": "code",
   "execution_count": 8,
   "metadata": {
    "ExecuteTime": {
     "end_time": "2020-12-15T20:42:52.202119Z",
     "start_time": "2020-12-15T20:42:51.655172Z"
    }
   },
   "outputs": [
    {
     "data": {
      "text/plain": [
       "<Response [404]>"
      ]
     },
     "execution_count": 8,
     "metadata": {},
     "output_type": "execute_result"
    }
   ],
   "source": [
    "url = 'https://date.nager.at/Api/v2/PublicHolidays/2013/fake-country'\n",
    "get(url)"
   ]
  },
  {
   "cell_type": "markdown",
   "metadata": {},
   "source": [
    "**A Response 404 means that the url you are using in your request is not valid.**\n",
    "![](../../static/404-error.gif)"
   ]
  },
  {
   "cell_type": "markdown",
   "metadata": {},
   "source": [
    "**How do we access the data from a successful request?**\n",
    "\n",
    "When working with APIs, the standard object that is sent back is `json` which stands for <u>Javascript Object Notation</u>. Json is a lightweight data structure and is used frequently on the backend of websites. It is also a common filetype when saving complex data to disk. \n",
    "\n",
    "To access the json data from an API response, we can call the `.json()` method. "
   ]
  },
  {
   "cell_type": "code",
   "execution_count": 4,
   "metadata": {
    "ExecuteTime": {
     "end_time": "2020-12-15T20:41:50.893118Z",
     "start_time": "2020-12-15T20:41:50.325175Z"
    }
   },
   "outputs": [
    {
     "data": {
      "text/plain": [
       "[{'date': '2013-01-01',\n",
       "  'localName': \"New Year's Day\",\n",
       "  'name': \"New Year's Day\",\n",
       "  'countryCode': 'US',\n",
       "  'fixed': False,\n",
       "  'global': True,\n",
       "  'counties': None,\n",
       "  'launchYear': None,\n",
       "  'type': 'Public'},\n",
       " {'date': '2013-01-20',\n",
       "  'localName': 'Inauguration Day',\n",
       "  'name': 'Inauguration Day',\n",
       "  'countryCode': 'US',\n",
       "  'fixed': True,\n",
       "  'global': False,\n",
       "  'counties': ['US-DC', 'US-LA', 'US-MD', 'US-VA'],\n",
       "  'launchYear': None,\n",
       "  'type': 'Public'}]"
      ]
     },
     "execution_count": 4,
     "metadata": {},
     "output_type": "execute_result"
    }
   ],
   "source": [
    "url = 'https://date.nager.at/Api/v2/PublicHolidays/2013/us'\n",
    "get(url).json()[:2]"
   ]
  },
  {
   "cell_type": "markdown",
   "metadata": {},
   "source": [
    "**How would we describe the structure of this data?**"
   ]
  },
  {
   "cell_type": "markdown",
   "metadata": {},
   "source": [
    "Your answer here"
   ]
  },
  {
   "cell_type": "markdown",
   "metadata": {},
   "source": [
    "### Let's break down the https request\n",
    "\n",
    "![annotated request](../../static/request_1.png)"
   ]
  },
  {
   "cell_type": "markdown",
   "metadata": {},
   "source": [
    "**An important note.**\n",
    "\n",
    "It is very common with APIs that we need to pass in some sort of unique `ID` or variable name. We usually will not know what this variable name is ahead of time, and we will first have to do some preliminary meta API querying to determine the ID so we can use the ID in our final API query. \n",
    "\n",
    "In the above example, the \"us\" portion of the request url can be considered a unique id. For this API, the unique ids are just the two letter abbreviations countries. But let's pretend for a moment that we do not know this. Let's pretend that we just discovered this API on the internet and would like to use it. \n",
    "\n",
    "We can see in the documentation an example request:\n",
    "\n",
    "![](../../static/request_2.png)\n",
    "\n",
    "When we see something like \"countrycode\" as part of the request, the next question we should ask is \"what is a country code\".\n",
    "\n",
    "Usually, APIs will provide an endpoint for investigating this sort of meta-data. For this API, they provide an endpoint for checking the available countries:\n",
    "\n",
    "![](../../static/request_3.png)"
   ]
  },
  {
   "cell_type": "code",
   "execution_count": 10,
   "metadata": {
    "ExecuteTime": {
     "end_time": "2020-12-15T20:43:54.584563Z",
     "start_time": "2020-12-15T20:43:53.997245Z"
    }
   },
   "outputs": [
    {
     "data": {
      "text/plain": [
       "[{'key': 'AD', 'value': 'Andorra'},\n",
       " {'key': 'AL', 'value': 'Albania'},\n",
       " {'key': 'AR', 'value': 'Argentina'},\n",
       " {'key': 'AT', 'value': 'Austria'},\n",
       " {'key': 'AU', 'value': 'Australia'}]"
      ]
     },
     "execution_count": 10,
     "metadata": {},
     "output_type": "execute_result"
    }
   ],
   "source": [
    "url = 'https://date.nager.at/Api/v2/AvailableCountries'\n",
    "get(url).json()[:5]"
   ]
  },
  {
   "cell_type": "markdown",
   "metadata": {},
   "source": [
    "When figuring out how to use an API, sometimes there needs to be a little bit of logic puzzle solving. In this case, the result of the `Available Countries` endpoint was a list of dictionaries. Each dictionary contains 'key' and 'value' keys. It would probably be more clear if 'key' was changed to 'countrycode' to make clear that the data saved to this key is the countrycode, but whoever built this API decided that it was intuitive. \n",
    "\n",
    "Ultimately, we could pass in 'AD' as the country code, and receive all the public holidays for Andorra!"
   ]
  },
  {
   "cell_type": "code",
   "execution_count": 11,
   "metadata": {
    "ExecuteTime": {
     "end_time": "2020-12-15T20:47:52.519483Z",
     "start_time": "2020-12-15T20:47:51.925701Z"
    }
   },
   "outputs": [
    {
     "data": {
      "text/plain": [
       "[{'date': '2013-01-01',\n",
       "  'localName': 'Any nou',\n",
       "  'name': \"New Year's Day\",\n",
       "  'countryCode': 'AD',\n",
       "  'fixed': True,\n",
       "  'global': True,\n",
       "  'counties': None,\n",
       "  'launchYear': None,\n",
       "  'type': 'Public'},\n",
       " {'date': '2013-03-14',\n",
       "  'localName': 'Dia de la Constitució',\n",
       "  'name': 'Constitution Day',\n",
       "  'countryCode': 'AD',\n",
       "  'fixed': True,\n",
       "  'global': True,\n",
       "  'counties': None,\n",
       "  'launchYear': None,\n",
       "  'type': 'Public'}]"
      ]
     },
     "execution_count": 11,
     "metadata": {},
     "output_type": "execute_result"
    }
   ],
   "source": [
    "url = 'https://date.nager.at/Api/v2/PublicHolidays/2013/ad'\n",
    "get(url).json()[:2]"
   ]
  },
  {
   "cell_type": "markdown",
   "metadata": {},
   "source": [
    "### Quick dog photos intermission using the [dog.ceo api](https://dog.ceo/dog-api/)"
   ]
  },
  {
   "cell_type": "code",
   "execution_count": 12,
   "metadata": {
    "ExecuteTime": {
     "end_time": "2020-12-15T20:48:08.192249Z",
     "start_time": "2020-12-15T20:48:08.185069Z"
    }
   },
   "outputs": [],
   "source": [
    "from src.apis import random_dog"
   ]
  },
  {
   "cell_type": "code",
   "execution_count": 13,
   "metadata": {
    "ExecuteTime": {
     "end_time": "2020-12-15T20:48:09.103691Z",
     "start_time": "2020-12-15T20:48:08.585900Z"
    }
   },
   "outputs": [
    {
     "data": {
      "text/html": [
       "\n",
       "    <center><h1> A Random Dog</h1></center><br><center><img src=https://images.dog.ceo/breeds/otterhound/n02091635_542.jpg style=\"width:300px;\"></center>"
      ],
      "text/plain": [
       "<IPython.core.display.HTML object>"
      ]
     },
     "metadata": {},
     "output_type": "display_data"
    }
   ],
   "source": [
    "random_dog()"
   ]
  },
  {
   "cell_type": "markdown",
   "metadata": {},
   "source": [
    "### End of intermission and into breakout rooms.\n",
    "\n",
    "**Let's return to our problem of determining if a day in our dataset is a public holiday.**\n",
    "\n",
    "For this problem, we will only focus on public holidays in the United States.\n",
    "\n",
    "To collect public holiday data from the API, we need the year and countrycode. \n",
    "\n",
    "In the cell below, \n",
    "- Define a function called `get_year` that returns the year for each observation in the `date` column. "
   ]
  },
  {
   "cell_type": "code",
   "execution_count": 15,
   "metadata": {},
   "outputs": [
    {
     "data": {
      "text/html": [
       "<div>\n",
       "<style scoped>\n",
       "    .dataframe tbody tr th:only-of-type {\n",
       "        vertical-align: middle;\n",
       "    }\n",
       "\n",
       "    .dataframe tbody tr th {\n",
       "        vertical-align: top;\n",
       "    }\n",
       "\n",
       "    .dataframe thead th {\n",
       "        text-align: right;\n",
       "    }\n",
       "</style>\n",
       "<table border=\"1\" class=\"dataframe\">\n",
       "  <thead>\n",
       "    <tr style=\"text-align: right;\">\n",
       "      <th></th>\n",
       "      <th>date</th>\n",
       "      <th>open</th>\n",
       "      <th>high</th>\n",
       "      <th>low</th>\n",
       "      <th>close</th>\n",
       "      <th>volume</th>\n",
       "      <th>Name</th>\n",
       "    </tr>\n",
       "  </thead>\n",
       "  <tbody>\n",
       "    <tr>\n",
       "      <th>0</th>\n",
       "      <td>2013-02-08</td>\n",
       "      <td>15.07</td>\n",
       "      <td>15.12</td>\n",
       "      <td>14.63</td>\n",
       "      <td>14.75</td>\n",
       "      <td>8407500</td>\n",
       "      <td>AAL</td>\n",
       "    </tr>\n",
       "    <tr>\n",
       "      <th>1</th>\n",
       "      <td>2013-02-11</td>\n",
       "      <td>14.89</td>\n",
       "      <td>15.01</td>\n",
       "      <td>14.26</td>\n",
       "      <td>14.46</td>\n",
       "      <td>8882000</td>\n",
       "      <td>AAL</td>\n",
       "    </tr>\n",
       "    <tr>\n",
       "      <th>2</th>\n",
       "      <td>2013-02-12</td>\n",
       "      <td>14.45</td>\n",
       "      <td>14.51</td>\n",
       "      <td>14.10</td>\n",
       "      <td>14.27</td>\n",
       "      <td>8126000</td>\n",
       "      <td>AAL</td>\n",
       "    </tr>\n",
       "    <tr>\n",
       "      <th>3</th>\n",
       "      <td>2013-02-13</td>\n",
       "      <td>14.30</td>\n",
       "      <td>14.94</td>\n",
       "      <td>14.25</td>\n",
       "      <td>14.66</td>\n",
       "      <td>10259500</td>\n",
       "      <td>AAL</td>\n",
       "    </tr>\n",
       "    <tr>\n",
       "      <th>4</th>\n",
       "      <td>2013-02-14</td>\n",
       "      <td>14.94</td>\n",
       "      <td>14.96</td>\n",
       "      <td>13.16</td>\n",
       "      <td>13.99</td>\n",
       "      <td>31879900</td>\n",
       "      <td>AAL</td>\n",
       "    </tr>\n",
       "    <tr>\n",
       "      <th>...</th>\n",
       "      <td>...</td>\n",
       "      <td>...</td>\n",
       "      <td>...</td>\n",
       "      <td>...</td>\n",
       "      <td>...</td>\n",
       "      <td>...</td>\n",
       "      <td>...</td>\n",
       "    </tr>\n",
       "    <tr>\n",
       "      <th>619035</th>\n",
       "      <td>2018-02-01</td>\n",
       "      <td>76.84</td>\n",
       "      <td>78.27</td>\n",
       "      <td>76.69</td>\n",
       "      <td>77.82</td>\n",
       "      <td>2982259</td>\n",
       "      <td>ZTS</td>\n",
       "    </tr>\n",
       "    <tr>\n",
       "      <th>619036</th>\n",
       "      <td>2018-02-02</td>\n",
       "      <td>77.53</td>\n",
       "      <td>78.12</td>\n",
       "      <td>76.73</td>\n",
       "      <td>76.78</td>\n",
       "      <td>2595187</td>\n",
       "      <td>ZTS</td>\n",
       "    </tr>\n",
       "    <tr>\n",
       "      <th>619037</th>\n",
       "      <td>2018-02-05</td>\n",
       "      <td>76.64</td>\n",
       "      <td>76.92</td>\n",
       "      <td>73.18</td>\n",
       "      <td>73.83</td>\n",
       "      <td>2962031</td>\n",
       "      <td>ZTS</td>\n",
       "    </tr>\n",
       "    <tr>\n",
       "      <th>619038</th>\n",
       "      <td>2018-02-06</td>\n",
       "      <td>72.74</td>\n",
       "      <td>74.56</td>\n",
       "      <td>72.13</td>\n",
       "      <td>73.27</td>\n",
       "      <td>4924323</td>\n",
       "      <td>ZTS</td>\n",
       "    </tr>\n",
       "    <tr>\n",
       "      <th>619039</th>\n",
       "      <td>2018-02-07</td>\n",
       "      <td>72.70</td>\n",
       "      <td>75.00</td>\n",
       "      <td>72.69</td>\n",
       "      <td>73.86</td>\n",
       "      <td>4534912</td>\n",
       "      <td>ZTS</td>\n",
       "    </tr>\n",
       "  </tbody>\n",
       "</table>\n",
       "<p>619040 rows × 7 columns</p>\n",
       "</div>"
      ],
      "text/plain": [
       "              date   open   high    low  close    volume Name\n",
       "0       2013-02-08  15.07  15.12  14.63  14.75   8407500  AAL\n",
       "1       2013-02-11  14.89  15.01  14.26  14.46   8882000  AAL\n",
       "2       2013-02-12  14.45  14.51  14.10  14.27   8126000  AAL\n",
       "3       2013-02-13  14.30  14.94  14.25  14.66  10259500  AAL\n",
       "4       2013-02-14  14.94  14.96  13.16  13.99  31879900  AAL\n",
       "...            ...    ...    ...    ...    ...       ...  ...\n",
       "619035  2018-02-01  76.84  78.27  76.69  77.82   2982259  ZTS\n",
       "619036  2018-02-02  77.53  78.12  76.73  76.78   2595187  ZTS\n",
       "619037  2018-02-05  76.64  76.92  73.18  73.83   2962031  ZTS\n",
       "619038  2018-02-06  72.74  74.56  72.13  73.27   4924323  ZTS\n",
       "619039  2018-02-07  72.70  75.00  72.69  73.86   4534912  ZTS\n",
       "\n",
       "[619040 rows x 7 columns]"
      ]
     },
     "execution_count": 15,
     "metadata": {},
     "output_type": "execute_result"
    }
   ],
   "source": [
    "df"
   ]
  },
  {
   "cell_type": "code",
   "execution_count": 13,
   "metadata": {
    "ExecuteTime": {
     "end_time": "2020-12-15T20:52:09.673699Z",
     "start_time": "2020-12-15T20:52:09.671348Z"
    }
   },
   "outputs": [],
   "source": [
    "# Your code here\n",
    "def get_year(date):\n",
    "    return date[0:4]\n"
   ]
  },
  {
   "cell_type": "code",
   "execution_count": 14,
   "metadata": {},
   "outputs": [
    {
     "ename": "KeyError",
     "evalue": "'year'",
     "output_type": "error",
     "traceback": [
      "\u001b[0;31m---------------------------------------------------------------------------\u001b[0m",
      "\u001b[0;31mKeyError\u001b[0m                                  Traceback (most recent call last)",
      "\u001b[0;32m/opt/anaconda3/envs/learn-env/lib/python3.8/site-packages/pandas/core/indexes/base.py\u001b[0m in \u001b[0;36mget_loc\u001b[0;34m(self, key, method, tolerance)\u001b[0m\n\u001b[1;32m   2894\u001b[0m             \u001b[0;32mtry\u001b[0m\u001b[0;34m:\u001b[0m\u001b[0;34m\u001b[0m\u001b[0;34m\u001b[0m\u001b[0m\n\u001b[0;32m-> 2895\u001b[0;31m                 \u001b[0;32mreturn\u001b[0m \u001b[0mself\u001b[0m\u001b[0;34m.\u001b[0m\u001b[0m_engine\u001b[0m\u001b[0;34m.\u001b[0m\u001b[0mget_loc\u001b[0m\u001b[0;34m(\u001b[0m\u001b[0mcasted_key\u001b[0m\u001b[0;34m)\u001b[0m\u001b[0;34m\u001b[0m\u001b[0;34m\u001b[0m\u001b[0m\n\u001b[0m\u001b[1;32m   2896\u001b[0m             \u001b[0;32mexcept\u001b[0m \u001b[0mKeyError\u001b[0m \u001b[0;32mas\u001b[0m \u001b[0merr\u001b[0m\u001b[0;34m:\u001b[0m\u001b[0;34m\u001b[0m\u001b[0;34m\u001b[0m\u001b[0m\n",
      "\u001b[0;32mpandas/_libs/index.pyx\u001b[0m in \u001b[0;36mpandas._libs.index.IndexEngine.get_loc\u001b[0;34m()\u001b[0m\n",
      "\u001b[0;32mpandas/_libs/index.pyx\u001b[0m in \u001b[0;36mpandas._libs.index.IndexEngine.get_loc\u001b[0;34m()\u001b[0m\n",
      "\u001b[0;32mpandas/_libs/hashtable_class_helper.pxi\u001b[0m in \u001b[0;36mpandas._libs.hashtable.PyObjectHashTable.get_item\u001b[0;34m()\u001b[0m\n",
      "\u001b[0;32mpandas/_libs/hashtable_class_helper.pxi\u001b[0m in \u001b[0;36mpandas._libs.hashtable.PyObjectHashTable.get_item\u001b[0;34m()\u001b[0m\n",
      "\u001b[0;31mKeyError\u001b[0m: 'year'",
      "\nThe above exception was the direct cause of the following exception:\n",
      "\u001b[0;31mKeyError\u001b[0m                                  Traceback (most recent call last)",
      "\u001b[0;32m<ipython-input-14-8bcc53bd9646>\u001b[0m in \u001b[0;36m<module>\u001b[0;34m\u001b[0m\n\u001b[0;32m----> 1\u001b[0;31m \u001b[0mget_year\u001b[0m\u001b[0;34m(\u001b[0m\u001b[0mdf\u001b[0m\u001b[0;34m)\u001b[0m\u001b[0;34m\u001b[0m\u001b[0;34m\u001b[0m\u001b[0m\n\u001b[0m",
      "\u001b[0;32m<ipython-input-13-ce98923873d8>\u001b[0m in \u001b[0;36mget_year\u001b[0;34m(df2)\u001b[0m\n\u001b[1;32m      2\u001b[0m \u001b[0;32mdef\u001b[0m \u001b[0mget_year\u001b[0m\u001b[0;34m(\u001b[0m\u001b[0mdf2\u001b[0m\u001b[0;34m)\u001b[0m\u001b[0;34m:\u001b[0m\u001b[0;34m\u001b[0m\u001b[0;34m\u001b[0m\u001b[0m\n\u001b[1;32m      3\u001b[0m     \u001b[0;32mfor\u001b[0m \u001b[0mi\u001b[0m \u001b[0;32min\u001b[0m \u001b[0;34m(\u001b[0m\u001b[0mrange\u001b[0m\u001b[0;34m(\u001b[0m\u001b[0;36m0\u001b[0m\u001b[0;34m,\u001b[0m\u001b[0mlen\u001b[0m\u001b[0;34m(\u001b[0m\u001b[0mdf2\u001b[0m\u001b[0;34m.\u001b[0m\u001b[0mdate\u001b[0m\u001b[0;34m)\u001b[0m\u001b[0;34m)\u001b[0m\u001b[0;34m)\u001b[0m\u001b[0;34m:\u001b[0m\u001b[0;34m\u001b[0m\u001b[0;34m\u001b[0m\u001b[0m\n\u001b[0;32m----> 4\u001b[0;31m         \u001b[0mdf2\u001b[0m\u001b[0;34m[\u001b[0m\u001b[0;34m'year'\u001b[0m\u001b[0;34m]\u001b[0m\u001b[0;34m[\u001b[0m\u001b[0mi\u001b[0m\u001b[0;34m]\u001b[0m \u001b[0;34m=\u001b[0m \u001b[0mdf2\u001b[0m\u001b[0;34m.\u001b[0m\u001b[0mdate\u001b[0m\u001b[0;34m[\u001b[0m\u001b[0mi\u001b[0m\u001b[0;34m]\u001b[0m\u001b[0;34m[\u001b[0m\u001b[0;36m0\u001b[0m\u001b[0;34m:\u001b[0m\u001b[0;36m4\u001b[0m\u001b[0;34m]\u001b[0m\u001b[0;34m\u001b[0m\u001b[0;34m\u001b[0m\u001b[0m\n\u001b[0m",
      "\u001b[0;32m/opt/anaconda3/envs/learn-env/lib/python3.8/site-packages/pandas/core/frame.py\u001b[0m in \u001b[0;36m__getitem__\u001b[0;34m(self, key)\u001b[0m\n\u001b[1;32m   2900\u001b[0m             \u001b[0;32mif\u001b[0m \u001b[0mself\u001b[0m\u001b[0;34m.\u001b[0m\u001b[0mcolumns\u001b[0m\u001b[0;34m.\u001b[0m\u001b[0mnlevels\u001b[0m \u001b[0;34m>\u001b[0m \u001b[0;36m1\u001b[0m\u001b[0;34m:\u001b[0m\u001b[0;34m\u001b[0m\u001b[0;34m\u001b[0m\u001b[0m\n\u001b[1;32m   2901\u001b[0m                 \u001b[0;32mreturn\u001b[0m \u001b[0mself\u001b[0m\u001b[0;34m.\u001b[0m\u001b[0m_getitem_multilevel\u001b[0m\u001b[0;34m(\u001b[0m\u001b[0mkey\u001b[0m\u001b[0;34m)\u001b[0m\u001b[0;34m\u001b[0m\u001b[0;34m\u001b[0m\u001b[0m\n\u001b[0;32m-> 2902\u001b[0;31m             \u001b[0mindexer\u001b[0m \u001b[0;34m=\u001b[0m \u001b[0mself\u001b[0m\u001b[0;34m.\u001b[0m\u001b[0mcolumns\u001b[0m\u001b[0;34m.\u001b[0m\u001b[0mget_loc\u001b[0m\u001b[0;34m(\u001b[0m\u001b[0mkey\u001b[0m\u001b[0;34m)\u001b[0m\u001b[0;34m\u001b[0m\u001b[0;34m\u001b[0m\u001b[0m\n\u001b[0m\u001b[1;32m   2903\u001b[0m             \u001b[0;32mif\u001b[0m \u001b[0mis_integer\u001b[0m\u001b[0;34m(\u001b[0m\u001b[0mindexer\u001b[0m\u001b[0;34m)\u001b[0m\u001b[0;34m:\u001b[0m\u001b[0;34m\u001b[0m\u001b[0;34m\u001b[0m\u001b[0m\n\u001b[1;32m   2904\u001b[0m                 \u001b[0mindexer\u001b[0m \u001b[0;34m=\u001b[0m \u001b[0;34m[\u001b[0m\u001b[0mindexer\u001b[0m\u001b[0;34m]\u001b[0m\u001b[0;34m\u001b[0m\u001b[0;34m\u001b[0m\u001b[0m\n",
      "\u001b[0;32m/opt/anaconda3/envs/learn-env/lib/python3.8/site-packages/pandas/core/indexes/base.py\u001b[0m in \u001b[0;36mget_loc\u001b[0;34m(self, key, method, tolerance)\u001b[0m\n\u001b[1;32m   2895\u001b[0m                 \u001b[0;32mreturn\u001b[0m \u001b[0mself\u001b[0m\u001b[0;34m.\u001b[0m\u001b[0m_engine\u001b[0m\u001b[0;34m.\u001b[0m\u001b[0mget_loc\u001b[0m\u001b[0;34m(\u001b[0m\u001b[0mcasted_key\u001b[0m\u001b[0;34m)\u001b[0m\u001b[0;34m\u001b[0m\u001b[0;34m\u001b[0m\u001b[0m\n\u001b[1;32m   2896\u001b[0m             \u001b[0;32mexcept\u001b[0m \u001b[0mKeyError\u001b[0m \u001b[0;32mas\u001b[0m \u001b[0merr\u001b[0m\u001b[0;34m:\u001b[0m\u001b[0;34m\u001b[0m\u001b[0;34m\u001b[0m\u001b[0m\n\u001b[0;32m-> 2897\u001b[0;31m                 \u001b[0;32mraise\u001b[0m \u001b[0mKeyError\u001b[0m\u001b[0;34m(\u001b[0m\u001b[0mkey\u001b[0m\u001b[0;34m)\u001b[0m \u001b[0;32mfrom\u001b[0m \u001b[0merr\u001b[0m\u001b[0;34m\u001b[0m\u001b[0;34m\u001b[0m\u001b[0m\n\u001b[0m\u001b[1;32m   2898\u001b[0m \u001b[0;34m\u001b[0m\u001b[0m\n\u001b[1;32m   2899\u001b[0m         \u001b[0;32mif\u001b[0m \u001b[0mtolerance\u001b[0m \u001b[0;32mis\u001b[0m \u001b[0;32mnot\u001b[0m \u001b[0;32mNone\u001b[0m\u001b[0;34m:\u001b[0m\u001b[0;34m\u001b[0m\u001b[0;34m\u001b[0m\u001b[0m\n",
      "\u001b[0;31mKeyError\u001b[0m: 'year'"
     ]
    }
   ],
   "source": [
    "get_year(df)"
   ]
  },
  {
   "cell_type": "markdown",
   "metadata": {},
   "source": [
    "**Cool**\n",
    "\n",
    "In the cell below\n",
    "- Define a function called `get_public_holidays` that receives a year and returns the public holidays for that year."
   ]
  },
  {
   "cell_type": "code",
   "execution_count": 24,
   "metadata": {},
   "outputs": [],
   "source": [
    "# Your code here\n",
    "def get_public_holidays(year) :\n",
    "    url= 'https://date.nager.at/Api/v1/Get/US/{}'.format(year)\n",
    "    return get(url).json()[:2]"
   ]
  },
  {
   "cell_type": "code",
   "execution_count": 25,
   "metadata": {},
   "outputs": [
    {
     "data": {
      "text/plain": [
       "[{'date': '2015-01-01',\n",
       "  'localName': \"New Year's Day\",\n",
       "  'name': \"New Year's Day\",\n",
       "  'countryCode': 'US',\n",
       "  'fixed': False,\n",
       "  'global': True,\n",
       "  'counties': None,\n",
       "  'launchYear': None,\n",
       "  'type': 'Public'},\n",
       " {'date': '2015-01-19',\n",
       "  'localName': 'Martin Luther King, Jr. Day',\n",
       "  'name': 'Martin Luther King, Jr. Day',\n",
       "  'countryCode': 'US',\n",
       "  'fixed': False,\n",
       "  'global': True,\n",
       "  'counties': None,\n",
       "  'launchYear': None,\n",
       "  'type': 'Public'}]"
      ]
     },
     "execution_count": 25,
     "metadata": {},
     "output_type": "execute_result"
    }
   ],
   "source": [
    "get_public_holidays(2015)"
   ]
  },
  {
   "cell_type": "markdown",
   "metadata": {
    "ExecuteTime": {
     "end_time": "2020-12-15T20:56:01.054346Z",
     "start_time": "2020-12-15T20:55:59.601517Z"
    }
   },
   "source": [
    "## A quick aside\n",
    "\n",
    "Let's talk about rate limits. For this API, no rate limit is mentioned, but it is common for APIs to limit the number of requests you can make in a given amount of time. \n",
    "\n",
    "Let's say for example that we are limited to 3 queries per second. We would want to make sure we include in our code some logic to make sure that we never surpass that limit. Otherwise we risk having our IP address blocked by the API!"
   ]
  },
  {
   "cell_type": "code",
   "execution_count": 26,
   "metadata": {
    "ExecuteTime": {
     "end_time": "2020-12-15T21:15:36.153165Z",
     "start_time": "2020-12-15T21:15:32.358104Z"
    }
   },
   "outputs": [
    {
     "name": "stdout",
     "output_type": "stream",
     "text": [
      "Starting timer...\n",
      "Making Request...\n",
      "Starting timer...\n",
      "Making Request...\n",
      "Starting timer...\n",
      "Making Request...\n",
      "Rate limit reached.\n",
      "Pausing for 1 second...\n",
      "Resuming...\n",
      "Starting timer...\n",
      "Making Request...\n",
      "Starting timer...\n",
      "Making Request...\n"
     ]
    }
   ],
   "source": [
    "from time import sleep\n",
    "from datetime import datetime\n",
    "\n",
    "data = []\n",
    "count = 0\n",
    "for year in range(2013, 2018):\n",
    "    print('Starting timer...')\n",
    "    begin = datetime.now()\n",
    "    print('Making Request...')\n",
    "    response = get_public_holidays(year)\n",
    "    count += 1\n",
    "    end = datetime.now()\n",
    "    if (end-begin).seconds <=1:\n",
    "        if count >=3:\n",
    "            print('Rate limit reached.')\n",
    "            print('Pausing for 1 second...')\n",
    "            sleep(1)\n",
    "            print('Resuming...')\n",
    "            count = 0\n",
    "    data.append(response)"
   ]
  },
  {
   "cell_type": "markdown",
   "metadata": {
    "ExecuteTime": {
     "end_time": "2020-12-15T21:03:35.278725Z",
     "start_time": "2020-12-15T21:03:35.265645Z"
    }
   },
   "source": [
    "For this api, it probably makes more sense to collect all of the relevant public holiday data once and then use Python to check if each row in the data is a public holiday by referencing the json data. \n",
    "\n",
    "In the cell below\n",
    "- collect the public holiday data for all years in our dataset. "
   ]
  },
  {
   "cell_type": "code",
   "execution_count": 27,
   "metadata": {},
   "outputs": [
    {
     "data": {
      "text/plain": [
       "619040"
      ]
     },
     "execution_count": 27,
     "metadata": {},
     "output_type": "execute_result"
    }
   ],
   "source": [
    "len(df.date)"
   ]
  },
  {
   "cell_type": "code",
   "execution_count": 39,
   "metadata": {
    "ExecuteTime": {
     "end_time": "2020-12-15T21:17:47.023570Z",
     "start_time": "2020-12-15T21:17:47.021169Z"
    }
   },
   "outputs": [],
   "source": [
    "# Your code here\n",
    "years = []\n",
    "for i in list(range(0, len(df.date))) :\n",
    "    years.append(get)\n",
    "    "
   ]
  },
  {
   "cell_type": "markdown",
   "metadata": {
    "ExecuteTime": {
     "end_time": "2020-12-15T21:19:02.313549Z",
     "start_time": "2020-12-15T21:19:02.298056Z"
    }
   },
   "source": [
    "**Now, create a function called `is_holiday` that receives a date and checks the public holidays data to see if the data is present.**\n",
    "\n",
    "In the cell below:\n",
    "- Define the `is_holiday` function that returns a 1 if the date is a holiday and a 0 if the date is not a holiday. \n",
    "- Add an `'is_holiday'` column to our dataset."
   ]
  },
  {
   "cell_type": "code",
   "execution_count": null,
   "metadata": {},
   "outputs": [],
   "source": [
    "# Your code here"
   ]
  },
  {
   "cell_type": "code",
   "execution_count": 49,
   "metadata": {
    "ExecuteTime": {
     "end_time": "2020-12-15T21:28:08.690430Z",
     "start_time": "2020-12-15T21:28:06.670109Z"
    }
   },
   "outputs": [],
   "source": [
    "df['is_holiday'] = df.date.apply(is_holiday)"
   ]
  },
  {
   "cell_type": "markdown",
   "metadata": {
    "ExecuteTime": {
     "end_time": "2020-12-15T21:28:17.259549Z",
     "start_time": "2020-12-15T21:28:17.230084Z"
    }
   },
   "source": [
    "Now let's use the data we just collected.\n",
    "\n",
    "In the cell below, \n",
    "\n",
    "- Create a visualization that plots both the closing price distribution of holiday and non-holiday days. "
   ]
  },
  {
   "cell_type": "code",
   "execution_count": null,
   "metadata": {},
   "outputs": [],
   "source": [
    "# Your code here"
   ]
  },
  {
   "cell_type": "markdown",
   "metadata": {
    "ExecuteTime": {
     "end_time": "2020-12-15T22:02:22.243197Z",
     "start_time": "2020-12-15T22:02:22.226423Z"
    }
   },
   "source": [
    "What can we say about this visualization?"
   ]
  },
  {
   "cell_type": "markdown",
   "metadata": {},
   "source": [
    "Your answer here"
   ]
  },
  {
   "cell_type": "markdown",
   "metadata": {},
   "source": [
    "## A quick note about authentification\n",
    "\n",
    "Not all APIs verify users the same way. You'll notice that the API we used in this lesson doesn't require authentification. Let's look at standard example of how we pass a user token as a header using the [NOAA API](https://www.ncdc.noaa.gov/cdo-web/webservices/v2#gettingStarted)"
   ]
  },
  {
   "cell_type": "code",
   "execution_count": 67,
   "metadata": {
    "ExecuteTime": {
     "end_time": "2020-12-15T22:23:57.742261Z",
     "start_time": "2020-12-15T22:23:57.263714Z"
    }
   },
   "outputs": [
    {
     "data": {
      "text/plain": [
       "<Response [200]>"
      ]
     },
     "execution_count": 67,
     "metadata": {},
     "output_type": "execute_result"
    }
   ],
   "source": [
    "token = None\n",
    "\n",
    "headers = {'token': token}\n",
    "url = 'https://www.ncdc.noaa.gov/cdo-web/api/v2/datasets'\n",
    "get(url, headers=headers)"
   ]
  },
  {
   "cell_type": "markdown",
   "metadata": {},
   "source": [
    "## A quick note about API queryies that can receive variable arguments\n",
    "\n",
    "If we look at the [Datasets Tab](https://www.ncdc.noaa.gov/cdo-web/webservices/v2#datasets) of the NOAA documentation, we can see a request in the examples at the bottom that looks like this...\n",
    "\n",
    "```https://www.ncdc.noaa.gov/cdo-web/api/v2/datasets?stationid=COOP:310090&stationid=COOP:310184&stationid=COOP:310212```\n",
    "\n",
    "The notation that is different in this request compared to previous requests is that it uses a `?` followed by a bunch of `variable_name=data` queries. This is a common request technique for complex APIs, especially for government APIs. Ultimately, this sort of notation makes APIs more flexible and allows you to quickly retreive the data that you need. "
   ]
  },
  {
   "cell_type": "markdown",
   "metadata": {},
   "source": [
    "## Some API tasks\n",
    "\n",
    "1. Use the [evilinsult api](https://evilinsult.com/api/#generate-insult-get) to collect a list of 5 evil insults.\n",
    "2. Dig into the documentation for the [cat-facts](https://alexwohlbruck.github.io/cat-facts/) API to return 10 random cat facts.\n",
    "3. Use the [official joke api](https://github.com/15Dkatz/official_joke_api) to collect 5 random jokes and post your favorite in slack. *Please do not post anything innappropriate.*\n",
    "4. Check out the [Tweepy](https://www.tweepy.org/) Python package. It is very cool. "
   ]
  }
 ],
 "metadata": {
  "kernelspec": {
   "display_name": "Python 3",
   "language": "python",
   "name": "python3"
  },
  "language_info": {
   "codemirror_mode": {
    "name": "ipython",
    "version": 3
   },
   "file_extension": ".py",
   "mimetype": "text/x-python",
   "name": "python",
   "nbconvert_exporter": "python",
   "pygments_lexer": "ipython3",
   "version": "3.8.5"
  },
  "toc": {
   "base_numbering": 1,
   "nav_menu": {},
   "number_sections": false,
   "sideBar": true,
   "skip_h1_title": false,
   "title_cell": "Table of Contents",
   "title_sidebar": "Contents",
   "toc_cell": false,
   "toc_position": {},
   "toc_section_display": true,
   "toc_window_display": true
  }
 },
 "nbformat": 4,
 "nbformat_minor": 2
}
