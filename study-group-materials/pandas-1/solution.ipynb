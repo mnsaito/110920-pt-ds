{
 "cells": [
  {
   "cell_type": "markdown",
   "metadata": {},
   "source": [
    "# Pandas Practice - Pt 1"
   ]
  },
  {
   "cell_type": "code",
   "execution_count": 1,
   "metadata": {
    "ExecuteTime": {
     "end_time": "2020-11-24T21:53:28.588485Z",
     "start_time": "2020-11-24T21:53:28.102677Z"
    }
   },
   "outputs": [],
   "source": [
    "\n",
    "import pandas as pd\n",
    "import os\n",
    "import sys\n",
    "import matplotlib.pyplot as plt\n",
    "sys.path.append(os.path.join(os.pardir, os.pardir))\n",
    "\n",
    "#used for tests\n",
    "#testing\n",
    "from src.test_class import Test\n",
    "import numpy as np\n",
    "\n",
    "testing = Test()"
   ]
  },
  {
   "cell_type": "markdown",
   "metadata": {},
   "source": [
    "## Importing data with relative paths."
   ]
  },
  {
   "cell_type": "markdown",
   "metadata": {},
   "source": [
    "The file structure of this repository looks like this:\n",
    "\n",
    "\n",
    "- `data`\n",
    "\n",
    "    - gambling-data.csv\n",
    "\n",
    "- `src`\n",
    "    - test_class.py\n",
    "\n",
    "- `study-group-materials`\n",
    "    - `functions`\n",
    "        - `data`\n",
    "            - example-dataset-3.csv\n",
    "    - `pandas-1`\n",
    "        - **Our current location**\n",
    "        - example-dataset.csv\n",
    "    - example-dataset-2.csv\n",
    "\n",
    "- `README.md`\n",
    "\n",
    "> `code block indicates a folder`."
   ]
  },
  {
   "cell_type": "markdown",
   "metadata": {},
   "source": [
    "### Task 1\n",
    "- Please create a variable `example_path_1` that points to the `example-dataset-1.csv` file.\n",
    "- Import the `example-dataset-1.csv` file using pandas and save the dataframe to the variable `example_1`."
   ]
  },
  {
   "cell_type": "code",
   "execution_count": 2,
   "metadata": {
    "ExecuteTime": {
     "end_time": "2020-11-24T21:53:30.618741Z",
     "start_time": "2020-11-24T21:53:30.611359Z"
    }
   },
   "outputs": [],
   "source": [
    "example_path_1 = 'example-dataset-1.csv'\n",
    "example_1 = pd.read_csv(example_path_1)"
   ]
  },
  {
   "cell_type": "markdown",
   "metadata": {},
   "source": [
    "### Task 2\n",
    "- Please create a variable `example_path_2` that points to the `example-dataset-2.csv` file.\n",
    "- Import the `example-dataset-2.csv` file using pandas and save the dataframe to the variable `example_2`."
   ]
  },
  {
   "cell_type": "code",
   "execution_count": 3,
   "metadata": {
    "ExecuteTime": {
     "end_time": "2020-11-24T21:53:32.442072Z",
     "start_time": "2020-11-24T21:53:32.435797Z"
    }
   },
   "outputs": [],
   "source": [
    "example_path_2 = '../example-dataset-2.csv'\n",
    "example_path_2_with_os = os.path.join(os.pardir, 'example-dataset-2.csv')\n",
    "example_2 = pd.read_csv(example_path_2)"
   ]
  },
  {
   "cell_type": "markdown",
   "metadata": {},
   "source": [
    "### Task 3\n",
    "- Create a variable `example_path_3` that points to the `example-dataset-3.xls` file.\n",
    "- Import the `example-dataset-3.xls` file using pandas and save the dataframe to the variable `example_3`."
   ]
  },
  {
   "cell_type": "code",
   "execution_count": 4,
   "metadata": {
    "ExecuteTime": {
     "end_time": "2020-11-24T21:53:34.355035Z",
     "start_time": "2020-11-24T21:53:34.322106Z"
    }
   },
   "outputs": [],
   "source": [
    "example_path_3 = '../functions/data/example-dataset-3.xls'\n",
    "example_path_3_with_os = os.path.join(os.pardir, 'functions', 'data', 'example-dataset-3.xls')\n",
    "example_3 = pd.read_excel(example_path_3)"
   ]
  },
  {
   "cell_type": "markdown",
   "metadata": {},
   "source": [
    ">**Note:** Different operating systems use different seperators for file paths. To ensure code works on different operating systems, a standard solution is to generate file paths using the `os` library. [Documentation here](https://docs.python.org/3.4/library/os.html?highlight=os)\n",
    "\n",
    "**Let's create the `example_path_3` using `os`**"
   ]
  },
  {
   "cell_type": "code",
   "execution_count": 5,
   "metadata": {
    "ExecuteTime": {
     "end_time": "2020-11-24T21:53:37.645256Z",
     "start_time": "2020-11-24T21:53:37.640211Z"
    }
   },
   "outputs": [
    {
     "data": {
      "text/plain": [
       "'../functions/data/example-dataset-3.xls'"
      ]
     },
     "execution_count": 5,
     "metadata": {},
     "output_type": "execute_result"
    }
   ],
   "source": [
    "os.path.join(os.pardir, 'functions', 'data', 'example-dataset-3.xls')"
   ]
  },
  {
   "cell_type": "markdown",
   "metadata": {},
   "source": [
    "# Video Gambling Data and Pandas 🧐\n",
    "<img src=\"https://media.tegna-media.com/assets/WQAD/images/01c4abef-ca79-4b9b-b3f7-2ad2e856b34b/01c4abef-ca79-4b9b-b3f7-2ad2e856b34b_750x422.jpg\" width=\"460\"/>\n",
    "\n",
    "### *Video gambling, in Illinois, was legalized in 2012.*\n",
    "\n",
    ">Since then, it has become a boon for local bars, restaurants, and communities with declining tax revenue, but comes with public health concerns of gambling addition.\n",
    "Because of this Video Gambling is a frequent issue voted on by municipal governments in Illinois. \n",
    "\n",
    ">Video Gambling is closely monitored by the [Illinois Gaming Board](https://www.igb.illinois.gov/) and has been the subject of much reporting by local news agencies.\n",
    "\n",
    "**Let's use our skills with Pandas to investigate this topic.**"
   ]
  },
  {
   "cell_type": "markdown",
   "metadata": {},
   "source": [
    "### Task 4\n",
    "\n",
    "**Our data is located** within the top level ```data``` folder of this repo.\n",
    "\n",
    "It is titled ```2019-il-vgambling.csv```\n",
    "\n",
    "<u>In the cell below:</u> \n",
    "1. Set the ```path``` variable to the path ```2019-il-vgambling.csv```. \n",
    "2. Import the video gambling data and save the dataframe to the variable `df`."
   ]
  },
  {
   "cell_type": "code",
   "execution_count": 6,
   "metadata": {
    "ExecuteTime": {
     "end_time": "2020-11-24T21:53:41.655932Z",
     "start_time": "2020-11-24T21:53:41.636643Z"
    }
   },
   "outputs": [
    {
     "data": {
      "text/html": [
       "<div>\n",
       "<style scoped>\n",
       "    .dataframe tbody tr th:only-of-type {\n",
       "        vertical-align: middle;\n",
       "    }\n",
       "\n",
       "    .dataframe tbody tr th {\n",
       "        vertical-align: top;\n",
       "    }\n",
       "\n",
       "    .dataframe thead th {\n",
       "        text-align: right;\n",
       "    }\n",
       "</style>\n",
       "<table border=\"1\" class=\"dataframe\">\n",
       "  <thead>\n",
       "    <tr style=\"text-align: right;\">\n",
       "      <th></th>\n",
       "      <th>Municipality</th>\n",
       "      <th>Establishment Count</th>\n",
       "      <th>Terminal Count</th>\n",
       "      <th>Amount Played</th>\n",
       "      <th>Amount Won</th>\n",
       "      <th>Nti Tax</th>\n",
       "      <th>State Share</th>\n",
       "      <th>Municipality Share</th>\n",
       "      <th>Population</th>\n",
       "    </tr>\n",
       "  </thead>\n",
       "  <tbody>\n",
       "    <tr>\n",
       "      <th>0</th>\n",
       "      <td>Oregon</td>\n",
       "      <td>13</td>\n",
       "      <td>58</td>\n",
       "      <td>30182428.57</td>\n",
       "      <td>27583763.32</td>\n",
       "      <td>818444.23</td>\n",
       "      <td>688505.69</td>\n",
       "      <td>129938.54</td>\n",
       "      <td>3,683</td>\n",
       "    </tr>\n",
       "    <tr>\n",
       "      <th>1</th>\n",
       "      <td>Oakwood Hills</td>\n",
       "      <td>1</td>\n",
       "      <td>4</td>\n",
       "      <td>216669.74</td>\n",
       "      <td>199790.23</td>\n",
       "      <td>5281.38</td>\n",
       "      <td>4433.69</td>\n",
       "      <td>847.69</td>\n",
       "      <td>2,245</td>\n",
       "    </tr>\n",
       "    <tr>\n",
       "      <th>2</th>\n",
       "      <td>Merrionette Park</td>\n",
       "      <td>4</td>\n",
       "      <td>17</td>\n",
       "      <td>26567816.26</td>\n",
       "      <td>24324921.75</td>\n",
       "      <td>706616.85</td>\n",
       "      <td>594470.85</td>\n",
       "      <td>112146.00</td>\n",
       "      <td>2,163</td>\n",
       "    </tr>\n",
       "    <tr>\n",
       "      <th>3</th>\n",
       "      <td>Ashkum</td>\n",
       "      <td>2</td>\n",
       "      <td>8</td>\n",
       "      <td>2289711.66</td>\n",
       "      <td>2113123.06</td>\n",
       "      <td>55674.55</td>\n",
       "      <td>46845.11</td>\n",
       "      <td>8829.44</td>\n",
       "      <td>800</td>\n",
       "    </tr>\n",
       "    <tr>\n",
       "      <th>4</th>\n",
       "      <td>Grandview</td>\n",
       "      <td>5</td>\n",
       "      <td>25</td>\n",
       "      <td>13713301.51</td>\n",
       "      <td>12475853.83</td>\n",
       "      <td>390048.01</td>\n",
       "      <td>328175.50</td>\n",
       "      <td>61872.51</td>\n",
       "      <td>1,453</td>\n",
       "    </tr>\n",
       "  </tbody>\n",
       "</table>\n",
       "</div>"
      ],
      "text/plain": [
       "       Municipality  Establishment Count  Terminal Count  Amount Played  \\\n",
       "0            Oregon                   13              58    30182428.57   \n",
       "1     Oakwood Hills                    1               4      216669.74   \n",
       "2  Merrionette Park                    4              17    26567816.26   \n",
       "3            Ashkum                    2               8     2289711.66   \n",
       "4         Grandview                    5              25    13713301.51   \n",
       "\n",
       "    Amount Won    Nti Tax  State Share  Municipality Share Population  \n",
       "0  27583763.32  818444.23    688505.69           129938.54      3,683  \n",
       "1    199790.23    5281.38      4433.69              847.69      2,245  \n",
       "2  24324921.75  706616.85    594470.85           112146.00      2,163  \n",
       "3   2113123.06   55674.55     46845.11             8829.44        800  \n",
       "4  12475853.83  390048.01    328175.50            61872.51      1,453  "
      ]
     },
     "execution_count": 6,
     "metadata": {},
     "output_type": "execute_result"
    }
   ],
   "source": [
    "path = os.path.join(os.pardir, os.pardir, 'data', '2019-il-vgambling.csv')\n",
    "df = pd.read_csv(path)\n",
    "\n",
    "df.head()"
   ]
  },
  {
   "cell_type": "markdown",
   "metadata": {},
   "source": [
    "**Ok,** let's print out the first 5 rows."
   ]
  },
  {
   "cell_type": "code",
   "execution_count": 7,
   "metadata": {
    "ExecuteTime": {
     "end_time": "2020-11-24T21:53:43.731928Z",
     "start_time": "2020-11-24T21:53:43.718861Z"
    }
   },
   "outputs": [
    {
     "data": {
      "text/html": [
       "<div>\n",
       "<style scoped>\n",
       "    .dataframe tbody tr th:only-of-type {\n",
       "        vertical-align: middle;\n",
       "    }\n",
       "\n",
       "    .dataframe tbody tr th {\n",
       "        vertical-align: top;\n",
       "    }\n",
       "\n",
       "    .dataframe thead th {\n",
       "        text-align: right;\n",
       "    }\n",
       "</style>\n",
       "<table border=\"1\" class=\"dataframe\">\n",
       "  <thead>\n",
       "    <tr style=\"text-align: right;\">\n",
       "      <th></th>\n",
       "      <th>Municipality</th>\n",
       "      <th>Establishment Count</th>\n",
       "      <th>Terminal Count</th>\n",
       "      <th>Amount Played</th>\n",
       "      <th>Amount Won</th>\n",
       "      <th>Nti Tax</th>\n",
       "      <th>State Share</th>\n",
       "      <th>Municipality Share</th>\n",
       "      <th>Population</th>\n",
       "    </tr>\n",
       "  </thead>\n",
       "  <tbody>\n",
       "    <tr>\n",
       "      <th>0</th>\n",
       "      <td>Oregon</td>\n",
       "      <td>13</td>\n",
       "      <td>58</td>\n",
       "      <td>30182428.57</td>\n",
       "      <td>27583763.32</td>\n",
       "      <td>818444.23</td>\n",
       "      <td>688505.69</td>\n",
       "      <td>129938.54</td>\n",
       "      <td>3,683</td>\n",
       "    </tr>\n",
       "    <tr>\n",
       "      <th>1</th>\n",
       "      <td>Oakwood Hills</td>\n",
       "      <td>1</td>\n",
       "      <td>4</td>\n",
       "      <td>216669.74</td>\n",
       "      <td>199790.23</td>\n",
       "      <td>5281.38</td>\n",
       "      <td>4433.69</td>\n",
       "      <td>847.69</td>\n",
       "      <td>2,245</td>\n",
       "    </tr>\n",
       "    <tr>\n",
       "      <th>2</th>\n",
       "      <td>Merrionette Park</td>\n",
       "      <td>4</td>\n",
       "      <td>17</td>\n",
       "      <td>26567816.26</td>\n",
       "      <td>24324921.75</td>\n",
       "      <td>706616.85</td>\n",
       "      <td>594470.85</td>\n",
       "      <td>112146.00</td>\n",
       "      <td>2,163</td>\n",
       "    </tr>\n",
       "    <tr>\n",
       "      <th>3</th>\n",
       "      <td>Ashkum</td>\n",
       "      <td>2</td>\n",
       "      <td>8</td>\n",
       "      <td>2289711.66</td>\n",
       "      <td>2113123.06</td>\n",
       "      <td>55674.55</td>\n",
       "      <td>46845.11</td>\n",
       "      <td>8829.44</td>\n",
       "      <td>800</td>\n",
       "    </tr>\n",
       "    <tr>\n",
       "      <th>4</th>\n",
       "      <td>Grandview</td>\n",
       "      <td>5</td>\n",
       "      <td>25</td>\n",
       "      <td>13713301.51</td>\n",
       "      <td>12475853.83</td>\n",
       "      <td>390048.01</td>\n",
       "      <td>328175.50</td>\n",
       "      <td>61872.51</td>\n",
       "      <td>1,453</td>\n",
       "    </tr>\n",
       "  </tbody>\n",
       "</table>\n",
       "</div>"
      ],
      "text/plain": [
       "       Municipality  Establishment Count  Terminal Count  Amount Played  \\\n",
       "0            Oregon                   13              58    30182428.57   \n",
       "1     Oakwood Hills                    1               4      216669.74   \n",
       "2  Merrionette Park                    4              17    26567816.26   \n",
       "3            Ashkum                    2               8     2289711.66   \n",
       "4         Grandview                    5              25    13713301.51   \n",
       "\n",
       "    Amount Won    Nti Tax  State Share  Municipality Share Population  \n",
       "0  27583763.32  818444.23    688505.69           129938.54      3,683  \n",
       "1    199790.23    5281.38      4433.69              847.69      2,245  \n",
       "2  24324921.75  706616.85    594470.85           112146.00      2,163  \n",
       "3   2113123.06   55674.55     46845.11             8829.44        800  \n",
       "4  12475853.83  390048.01    328175.50            61872.51      1,453  "
      ]
     },
     "execution_count": 7,
     "metadata": {},
     "output_type": "execute_result"
    }
   ],
   "source": [
    "df.head()"
   ]
  },
  {
   "cell_type": "markdown",
   "metadata": {},
   "source": [
    "<center><u><h3>Column Descriptions</h3><u></center>\n",
    "\n",
    "\n",
    "| Column Name         \t| Description                                                                                                                                                               \t|\n",
    "|:---------------------\t|:---------------------------------------------------------------------------------------------------------------------------------------------------------------------------\t|\n",
    "| Municipality        \t| The community's name                                                                                                                                                      \t|\n",
    "| Establishment Count \t| Number of businesses with video gambling licenses                                                                                                                         \t|\n",
    "| Terminal Count      \t| Number of video gambling machines in the community.                                                                                                                       \t|\n",
    "| Amount Played       \t| Total amount spent on video gambling by players.                                                                                                                          \t|\n",
    "| Amount Won          \t| Total amount won by players                                                                                                                                               \t|\n",
    "| Nti Tax             \t| The Net Terminal Income Tax Rate <br>is 30% of the Net Terminal Income. <br>The funds are divided between<br>the State of Illinois and local <br>governmental organizations. \t|\n",
    "| State Share         \t| Total revenue received by the State Government                                                                                                                            \t|\n",
    "| Municipality Share  \t| Total revenue received by the Municipality                   |\n",
    "| Population            | 2019 Municipal Population                                    |"
   ]
  },
  {
   "cell_type": "markdown",
   "metadata": {},
   "source": [
    "### Task 5"
   ]
  },
  {
   "cell_type": "markdown",
   "metadata": {
    "ExecuteTime": {
     "end_time": "2020-05-17T00:17:37.266328Z",
     "start_time": "2020-05-17T00:17:37.255213Z"
    }
   },
   "source": [
    "In the cell below, set the Municipality column as the index using the ```.set_index()``` method."
   ]
  },
  {
   "cell_type": "code",
   "execution_count": 8,
   "metadata": {
    "ExecuteTime": {
     "end_time": "2020-11-24T21:53:45.854324Z",
     "start_time": "2020-11-24T21:53:45.840338Z"
    }
   },
   "outputs": [
    {
     "data": {
      "text/html": [
       "<div>\n",
       "<style scoped>\n",
       "    .dataframe tbody tr th:only-of-type {\n",
       "        vertical-align: middle;\n",
       "    }\n",
       "\n",
       "    .dataframe tbody tr th {\n",
       "        vertical-align: top;\n",
       "    }\n",
       "\n",
       "    .dataframe thead th {\n",
       "        text-align: right;\n",
       "    }\n",
       "</style>\n",
       "<table border=\"1\" class=\"dataframe\">\n",
       "  <thead>\n",
       "    <tr style=\"text-align: right;\">\n",
       "      <th></th>\n",
       "      <th>Establishment Count</th>\n",
       "      <th>Terminal Count</th>\n",
       "      <th>Amount Played</th>\n",
       "      <th>Amount Won</th>\n",
       "      <th>Nti Tax</th>\n",
       "      <th>State Share</th>\n",
       "      <th>Municipality Share</th>\n",
       "      <th>Population</th>\n",
       "    </tr>\n",
       "    <tr>\n",
       "      <th>Municipality</th>\n",
       "      <th></th>\n",
       "      <th></th>\n",
       "      <th></th>\n",
       "      <th></th>\n",
       "      <th></th>\n",
       "      <th></th>\n",
       "      <th></th>\n",
       "      <th></th>\n",
       "    </tr>\n",
       "  </thead>\n",
       "  <tbody>\n",
       "    <tr>\n",
       "      <th>Oregon</th>\n",
       "      <td>13</td>\n",
       "      <td>58</td>\n",
       "      <td>30182428.57</td>\n",
       "      <td>27583763.32</td>\n",
       "      <td>818444.23</td>\n",
       "      <td>688505.69</td>\n",
       "      <td>129938.54</td>\n",
       "      <td>3,683</td>\n",
       "    </tr>\n",
       "    <tr>\n",
       "      <th>Oakwood Hills</th>\n",
       "      <td>1</td>\n",
       "      <td>4</td>\n",
       "      <td>216669.74</td>\n",
       "      <td>199790.23</td>\n",
       "      <td>5281.38</td>\n",
       "      <td>4433.69</td>\n",
       "      <td>847.69</td>\n",
       "      <td>2,245</td>\n",
       "    </tr>\n",
       "    <tr>\n",
       "      <th>Merrionette Park</th>\n",
       "      <td>4</td>\n",
       "      <td>17</td>\n",
       "      <td>26567816.26</td>\n",
       "      <td>24324921.75</td>\n",
       "      <td>706616.85</td>\n",
       "      <td>594470.85</td>\n",
       "      <td>112146.00</td>\n",
       "      <td>2,163</td>\n",
       "    </tr>\n",
       "    <tr>\n",
       "      <th>Ashkum</th>\n",
       "      <td>2</td>\n",
       "      <td>8</td>\n",
       "      <td>2289711.66</td>\n",
       "      <td>2113123.06</td>\n",
       "      <td>55674.55</td>\n",
       "      <td>46845.11</td>\n",
       "      <td>8829.44</td>\n",
       "      <td>800</td>\n",
       "    </tr>\n",
       "    <tr>\n",
       "      <th>Grandview</th>\n",
       "      <td>5</td>\n",
       "      <td>25</td>\n",
       "      <td>13713301.51</td>\n",
       "      <td>12475853.83</td>\n",
       "      <td>390048.01</td>\n",
       "      <td>328175.50</td>\n",
       "      <td>61872.51</td>\n",
       "      <td>1,453</td>\n",
       "    </tr>\n",
       "  </tbody>\n",
       "</table>\n",
       "</div>"
      ],
      "text/plain": [
       "                  Establishment Count  Terminal Count  Amount Played  \\\n",
       "Municipality                                                           \n",
       "Oregon                             13              58    30182428.57   \n",
       "Oakwood Hills                       1               4      216669.74   \n",
       "Merrionette Park                    4              17    26567816.26   \n",
       "Ashkum                              2               8     2289711.66   \n",
       "Grandview                           5              25    13713301.51   \n",
       "\n",
       "                   Amount Won    Nti Tax  State Share  Municipality Share  \\\n",
       "Municipality                                                                \n",
       "Oregon            27583763.32  818444.23    688505.69           129938.54   \n",
       "Oakwood Hills       199790.23    5281.38      4433.69              847.69   \n",
       "Merrionette Park  24324921.75  706616.85    594470.85           112146.00   \n",
       "Ashkum             2113123.06   55674.55     46845.11             8829.44   \n",
       "Grandview         12475853.83  390048.01    328175.50            61872.51   \n",
       "\n",
       "                 Population  \n",
       "Municipality                 \n",
       "Oregon                3,683  \n",
       "Oakwood Hills         2,245  \n",
       "Merrionette Park      2,163  \n",
       "Ashkum                  800  \n",
       "Grandview             1,453  "
      ]
     },
     "execution_count": 8,
     "metadata": {},
     "output_type": "execute_result"
    }
   ],
   "source": [
    "df.set_index('Municipality', drop=True, inplace = True)\n",
    "df.head()"
   ]
  },
  {
   "cell_type": "markdown",
   "metadata": {},
   "source": [
    "### Task 6"
   ]
  },
  {
   "cell_type": "markdown",
   "metadata": {
    "ExecuteTime": {
     "end_time": "2020-05-17T00:19:20.848464Z",
     "start_time": "2020-05-17T00:19:20.811798Z"
    }
   },
   "source": [
    "Let's sort our index alphabetically using [this](https://pandas.pydata.org/pandas-docs/stable/reference/api/pandas.DataFrame.sort_index.html) method."
   ]
  },
  {
   "cell_type": "code",
   "execution_count": 9,
   "metadata": {
    "ExecuteTime": {
     "end_time": "2020-11-24T21:53:48.177852Z",
     "start_time": "2020-11-24T21:53:48.165210Z"
    }
   },
   "outputs": [
    {
     "data": {
      "text/html": [
       "<div>\n",
       "<style scoped>\n",
       "    .dataframe tbody tr th:only-of-type {\n",
       "        vertical-align: middle;\n",
       "    }\n",
       "\n",
       "    .dataframe tbody tr th {\n",
       "        vertical-align: top;\n",
       "    }\n",
       "\n",
       "    .dataframe thead th {\n",
       "        text-align: right;\n",
       "    }\n",
       "</style>\n",
       "<table border=\"1\" class=\"dataframe\">\n",
       "  <thead>\n",
       "    <tr style=\"text-align: right;\">\n",
       "      <th></th>\n",
       "      <th>Establishment Count</th>\n",
       "      <th>Terminal Count</th>\n",
       "      <th>Amount Played</th>\n",
       "      <th>Amount Won</th>\n",
       "      <th>Nti Tax</th>\n",
       "      <th>State Share</th>\n",
       "      <th>Municipality Share</th>\n",
       "      <th>Population</th>\n",
       "    </tr>\n",
       "    <tr>\n",
       "      <th>Municipality</th>\n",
       "      <th></th>\n",
       "      <th></th>\n",
       "      <th></th>\n",
       "      <th></th>\n",
       "      <th></th>\n",
       "      <th></th>\n",
       "      <th></th>\n",
       "      <th></th>\n",
       "    </tr>\n",
       "  </thead>\n",
       "  <tbody>\n",
       "    <tr>\n",
       "      <th>Abingdon</th>\n",
       "      <td>4</td>\n",
       "      <td>16</td>\n",
       "      <td>6492446.76</td>\n",
       "      <td>5968296.97</td>\n",
       "      <td>165040.02</td>\n",
       "      <td>138832.38</td>\n",
       "      <td>26207.64</td>\n",
       "      <td>3,452</td>\n",
       "    </tr>\n",
       "    <tr>\n",
       "      <th>Addieville</th>\n",
       "      <td>1</td>\n",
       "      <td>5</td>\n",
       "      <td>939917.34</td>\n",
       "      <td>860520.60</td>\n",
       "      <td>25020.09</td>\n",
       "      <td>21050.20</td>\n",
       "      <td>3969.89</td>\n",
       "      <td>344</td>\n",
       "    </tr>\n",
       "    <tr>\n",
       "      <th>Addison</th>\n",
       "      <td>23</td>\n",
       "      <td>111</td>\n",
       "      <td>88623932.26</td>\n",
       "      <td>80762581.15</td>\n",
       "      <td>2476573.63</td>\n",
       "      <td>2083474.53</td>\n",
       "      <td>393099.10</td>\n",
       "      <td>37,089</td>\n",
       "    </tr>\n",
       "    <tr>\n",
       "      <th>Albany</th>\n",
       "      <td>2</td>\n",
       "      <td>7</td>\n",
       "      <td>2030709.60</td>\n",
       "      <td>1855397.39</td>\n",
       "      <td>55473.53</td>\n",
       "      <td>46707.84</td>\n",
       "      <td>8765.69</td>\n",
       "      <td>979</td>\n",
       "    </tr>\n",
       "    <tr>\n",
       "      <th>Albers</th>\n",
       "      <td>1</td>\n",
       "      <td>4</td>\n",
       "      <td>1546280.29</td>\n",
       "      <td>1419896.70</td>\n",
       "      <td>39710.50</td>\n",
       "      <td>33391.29</td>\n",
       "      <td>6319.21</td>\n",
       "      <td>1,184</td>\n",
       "    </tr>\n",
       "  </tbody>\n",
       "</table>\n",
       "</div>"
      ],
      "text/plain": [
       "              Establishment Count  Terminal Count  Amount Played   Amount Won  \\\n",
       "Municipality                                                                    \n",
       "Abingdon                        4              16     6492446.76   5968296.97   \n",
       "Addieville                      1               5      939917.34    860520.60   \n",
       "Addison                        23             111    88623932.26  80762581.15   \n",
       "Albany                          2               7     2030709.60   1855397.39   \n",
       "Albers                          1               4     1546280.29   1419896.70   \n",
       "\n",
       "                 Nti Tax  State Share  Municipality Share Population  \n",
       "Municipality                                                          \n",
       "Abingdon       165040.02    138832.38            26207.64      3,452  \n",
       "Addieville      25020.09     21050.20             3969.89        344  \n",
       "Addison       2476573.63   2083474.53           393099.10     37,089  \n",
       "Albany          55473.53     46707.84             8765.69        979  \n",
       "Albers          39710.50     33391.29             6319.21      1,184  "
      ]
     },
     "execution_count": 9,
     "metadata": {},
     "output_type": "execute_result"
    }
   ],
   "source": [
    "df.sort_index(inplace = True)\n",
    "df.head()"
   ]
  },
  {
   "cell_type": "markdown",
   "metadata": {},
   "source": [
    "### Task 7"
   ]
  },
  {
   "cell_type": "markdown",
   "metadata": {
    "ExecuteTime": {
     "end_time": "2020-05-17T00:21:15.301914Z",
     "start_time": "2020-05-17T00:21:15.268592Z"
    }
   },
   "source": [
    "To make things easier on ourselves let's reformat our column names.\n",
    "\n",
    "<u>In the cell below:</u>\n",
    "1. Replace spaces with underscores for each column name\n",
    "2. Lower each column name\n",
    ">Bonus points if you do this via list comphrension 😃"
   ]
  },
  {
   "cell_type": "code",
   "execution_count": 10,
   "metadata": {
    "ExecuteTime": {
     "end_time": "2020-11-24T21:53:50.113270Z",
     "start_time": "2020-11-24T21:53:50.100751Z"
    }
   },
   "outputs": [
    {
     "data": {
      "text/html": [
       "<div>\n",
       "<style scoped>\n",
       "    .dataframe tbody tr th:only-of-type {\n",
       "        vertical-align: middle;\n",
       "    }\n",
       "\n",
       "    .dataframe tbody tr th {\n",
       "        vertical-align: top;\n",
       "    }\n",
       "\n",
       "    .dataframe thead th {\n",
       "        text-align: right;\n",
       "    }\n",
       "</style>\n",
       "<table border=\"1\" class=\"dataframe\">\n",
       "  <thead>\n",
       "    <tr style=\"text-align: right;\">\n",
       "      <th></th>\n",
       "      <th>establishment_count</th>\n",
       "      <th>terminal_count</th>\n",
       "      <th>amount_played</th>\n",
       "      <th>amount_won</th>\n",
       "      <th>nti_tax</th>\n",
       "      <th>state_share</th>\n",
       "      <th>municipality_share</th>\n",
       "      <th>population</th>\n",
       "    </tr>\n",
       "    <tr>\n",
       "      <th>Municipality</th>\n",
       "      <th></th>\n",
       "      <th></th>\n",
       "      <th></th>\n",
       "      <th></th>\n",
       "      <th></th>\n",
       "      <th></th>\n",
       "      <th></th>\n",
       "      <th></th>\n",
       "    </tr>\n",
       "  </thead>\n",
       "  <tbody>\n",
       "    <tr>\n",
       "      <th>Abingdon</th>\n",
       "      <td>4</td>\n",
       "      <td>16</td>\n",
       "      <td>6492446.76</td>\n",
       "      <td>5968296.97</td>\n",
       "      <td>165040.02</td>\n",
       "      <td>138832.38</td>\n",
       "      <td>26207.64</td>\n",
       "      <td>3,452</td>\n",
       "    </tr>\n",
       "    <tr>\n",
       "      <th>Addieville</th>\n",
       "      <td>1</td>\n",
       "      <td>5</td>\n",
       "      <td>939917.34</td>\n",
       "      <td>860520.60</td>\n",
       "      <td>25020.09</td>\n",
       "      <td>21050.20</td>\n",
       "      <td>3969.89</td>\n",
       "      <td>344</td>\n",
       "    </tr>\n",
       "    <tr>\n",
       "      <th>Addison</th>\n",
       "      <td>23</td>\n",
       "      <td>111</td>\n",
       "      <td>88623932.26</td>\n",
       "      <td>80762581.15</td>\n",
       "      <td>2476573.63</td>\n",
       "      <td>2083474.53</td>\n",
       "      <td>393099.10</td>\n",
       "      <td>37,089</td>\n",
       "    </tr>\n",
       "    <tr>\n",
       "      <th>Albany</th>\n",
       "      <td>2</td>\n",
       "      <td>7</td>\n",
       "      <td>2030709.60</td>\n",
       "      <td>1855397.39</td>\n",
       "      <td>55473.53</td>\n",
       "      <td>46707.84</td>\n",
       "      <td>8765.69</td>\n",
       "      <td>979</td>\n",
       "    </tr>\n",
       "    <tr>\n",
       "      <th>Albers</th>\n",
       "      <td>1</td>\n",
       "      <td>4</td>\n",
       "      <td>1546280.29</td>\n",
       "      <td>1419896.70</td>\n",
       "      <td>39710.50</td>\n",
       "      <td>33391.29</td>\n",
       "      <td>6319.21</td>\n",
       "      <td>1,184</td>\n",
       "    </tr>\n",
       "  </tbody>\n",
       "</table>\n",
       "</div>"
      ],
      "text/plain": [
       "              establishment_count  terminal_count  amount_played   amount_won  \\\n",
       "Municipality                                                                    \n",
       "Abingdon                        4              16     6492446.76   5968296.97   \n",
       "Addieville                      1               5      939917.34    860520.60   \n",
       "Addison                        23             111    88623932.26  80762581.15   \n",
       "Albany                          2               7     2030709.60   1855397.39   \n",
       "Albers                          1               4     1546280.29   1419896.70   \n",
       "\n",
       "                 nti_tax  state_share  municipality_share population  \n",
       "Municipality                                                          \n",
       "Abingdon       165040.02    138832.38            26207.64      3,452  \n",
       "Addieville      25020.09     21050.20             3969.89        344  \n",
       "Addison       2476573.63   2083474.53           393099.10     37,089  \n",
       "Albany          55473.53     46707.84             8765.69        979  \n",
       "Albers          39710.50     33391.29             6319.21      1,184  "
      ]
     },
     "execution_count": 10,
     "metadata": {},
     "output_type": "execute_result"
    }
   ],
   "source": [
    "df.columns = [x.lower().replace(' ', '_') for x in df.columns]\n",
    "df.head()"
   ]
  },
  {
   "cell_type": "markdown",
   "metadata": {
    "ExecuteTime": {
     "end_time": "2020-05-17T00:31:27.767106Z",
     "start_time": "2020-05-17T00:31:27.740575Z"
    }
   },
   "source": [
    "<center><i><h1>So much cleaning</h1></i></center>\n",
    "\n",
    "\n",
    "![](https://media.giphy.com/media/3o7WIE14z2d66BJWJa/giphy.gif)\n",
    "\n",
    "--------\n",
    "\n",
    "Ok Ok, we're almost done formatting our data.\n",
    "\n",
    "<u>In the cell below:</u> \n",
    "1. Print out the datatypes for each of our columns using the ```.info()``` method.\n"
   ]
  },
  {
   "cell_type": "code",
   "execution_count": 11,
   "metadata": {
    "ExecuteTime": {
     "end_time": "2020-11-24T21:53:52.225669Z",
     "start_time": "2020-11-24T21:53:52.217781Z"
    }
   },
   "outputs": [
    {
     "name": "stdout",
     "output_type": "stream",
     "text": [
      "<class 'pandas.core.frame.DataFrame'>\n",
      "Index: 835 entries, Abingdon to Zion\n",
      "Data columns (total 8 columns):\n",
      " #   Column               Non-Null Count  Dtype  \n",
      "---  ------               --------------  -----  \n",
      " 0   establishment_count  835 non-null    int64  \n",
      " 1   terminal_count       835 non-null    int64  \n",
      " 2   amount_played        835 non-null    float64\n",
      " 3   amount_won           835 non-null    float64\n",
      " 4   nti_tax              835 non-null    float64\n",
      " 5   state_share          835 non-null    float64\n",
      " 6   municipality_share   835 non-null    float64\n",
      " 7   population           835 non-null    object \n",
      "dtypes: float64(5), int64(2), object(1)\n",
      "memory usage: 58.7+ KB\n"
     ]
    }
   ],
   "source": [
    "df.info()"
   ]
  },
  {
   "cell_type": "markdown",
   "metadata": {},
   "source": [
    "### Task 8"
   ]
  },
  {
   "cell_type": "markdown",
   "metadata": {},
   "source": [
    "Our ```population``` column contains commas which is causing the computer to interpret the column as a string.\n",
    "\n",
    "<u>In the cell below:</u>\n",
    "1. Remove the commas from the `population` column using the ```.apply``` method\n",
    ">**If you're confused:** Find the answer relating to ```.apply()``` in this [Stack Overflow](https://stackoverflow.com/questions/56947333/how-to-remove-commas-from-all-the-column-in-pandas-at-once/56947424#56947424?newreg=3c19aff3bd5146a19f7787afedc243a2) thread.\n",
    "2. Convert the column datatype to integer\n",
    "\n",
    "    - Bonus points if you can do steps 1 & 2 with 1️⃣ line of code! 😻"
   ]
  },
  {
   "cell_type": "code",
   "execution_count": 12,
   "metadata": {
    "ExecuteTime": {
     "end_time": "2020-11-24T21:53:55.004761Z",
     "start_time": "2020-11-24T21:53:54.991717Z"
    }
   },
   "outputs": [
    {
     "data": {
      "text/html": [
       "<div>\n",
       "<style scoped>\n",
       "    .dataframe tbody tr th:only-of-type {\n",
       "        vertical-align: middle;\n",
       "    }\n",
       "\n",
       "    .dataframe tbody tr th {\n",
       "        vertical-align: top;\n",
       "    }\n",
       "\n",
       "    .dataframe thead th {\n",
       "        text-align: right;\n",
       "    }\n",
       "</style>\n",
       "<table border=\"1\" class=\"dataframe\">\n",
       "  <thead>\n",
       "    <tr style=\"text-align: right;\">\n",
       "      <th></th>\n",
       "      <th>establishment_count</th>\n",
       "      <th>terminal_count</th>\n",
       "      <th>amount_played</th>\n",
       "      <th>amount_won</th>\n",
       "      <th>nti_tax</th>\n",
       "      <th>state_share</th>\n",
       "      <th>municipality_share</th>\n",
       "      <th>population</th>\n",
       "    </tr>\n",
       "    <tr>\n",
       "      <th>Municipality</th>\n",
       "      <th></th>\n",
       "      <th></th>\n",
       "      <th></th>\n",
       "      <th></th>\n",
       "      <th></th>\n",
       "      <th></th>\n",
       "      <th></th>\n",
       "      <th></th>\n",
       "    </tr>\n",
       "  </thead>\n",
       "  <tbody>\n",
       "    <tr>\n",
       "      <th>Abingdon</th>\n",
       "      <td>4</td>\n",
       "      <td>16</td>\n",
       "      <td>6492446.76</td>\n",
       "      <td>5968296.97</td>\n",
       "      <td>165040.02</td>\n",
       "      <td>138832.38</td>\n",
       "      <td>26207.64</td>\n",
       "      <td>3452</td>\n",
       "    </tr>\n",
       "    <tr>\n",
       "      <th>Addieville</th>\n",
       "      <td>1</td>\n",
       "      <td>5</td>\n",
       "      <td>939917.34</td>\n",
       "      <td>860520.60</td>\n",
       "      <td>25020.09</td>\n",
       "      <td>21050.20</td>\n",
       "      <td>3969.89</td>\n",
       "      <td>344</td>\n",
       "    </tr>\n",
       "    <tr>\n",
       "      <th>Addison</th>\n",
       "      <td>23</td>\n",
       "      <td>111</td>\n",
       "      <td>88623932.26</td>\n",
       "      <td>80762581.15</td>\n",
       "      <td>2476573.63</td>\n",
       "      <td>2083474.53</td>\n",
       "      <td>393099.10</td>\n",
       "      <td>37089</td>\n",
       "    </tr>\n",
       "    <tr>\n",
       "      <th>Albany</th>\n",
       "      <td>2</td>\n",
       "      <td>7</td>\n",
       "      <td>2030709.60</td>\n",
       "      <td>1855397.39</td>\n",
       "      <td>55473.53</td>\n",
       "      <td>46707.84</td>\n",
       "      <td>8765.69</td>\n",
       "      <td>979</td>\n",
       "    </tr>\n",
       "    <tr>\n",
       "      <th>Albers</th>\n",
       "      <td>1</td>\n",
       "      <td>4</td>\n",
       "      <td>1546280.29</td>\n",
       "      <td>1419896.70</td>\n",
       "      <td>39710.50</td>\n",
       "      <td>33391.29</td>\n",
       "      <td>6319.21</td>\n",
       "      <td>1184</td>\n",
       "    </tr>\n",
       "  </tbody>\n",
       "</table>\n",
       "</div>"
      ],
      "text/plain": [
       "              establishment_count  terminal_count  amount_played   amount_won  \\\n",
       "Municipality                                                                    \n",
       "Abingdon                        4              16     6492446.76   5968296.97   \n",
       "Addieville                      1               5      939917.34    860520.60   \n",
       "Addison                        23             111    88623932.26  80762581.15   \n",
       "Albany                          2               7     2030709.60   1855397.39   \n",
       "Albers                          1               4     1546280.29   1419896.70   \n",
       "\n",
       "                 nti_tax  state_share  municipality_share  population  \n",
       "Municipality                                                           \n",
       "Abingdon       165040.02    138832.38            26207.64        3452  \n",
       "Addieville      25020.09     21050.20             3969.89         344  \n",
       "Addison       2476573.63   2083474.53           393099.10       37089  \n",
       "Albany          55473.53     46707.84             8765.69         979  \n",
       "Albers          39710.50     33391.29             6319.21        1184  "
      ]
     },
     "execution_count": 12,
     "metadata": {},
     "output_type": "execute_result"
    }
   ],
   "source": [
    "df.population = df.population.apply(lambda x: int(x.replace(',', '')))\n",
    "df.head()"
   ]
  },
  {
   "cell_type": "markdown",
   "metadata": {
    "ExecuteTime": {
     "end_time": "2020-05-17T00:51:29.636765Z",
     "start_time": "2020-05-17T00:51:29.423590Z"
    }
   },
   "source": [
    "# Cleaning Complete!\n",
    "\n",
    "<img src=\"https://media.giphy.com/media/hEZIaecxpR78I/giphy.gif\" width=400/>"
   ]
  },
  {
   "cell_type": "markdown",
   "metadata": {},
   "source": [
    "### Task 9\n",
    "\n",
    "**When examining data at the municipal level,** it is common to <i><u>scale</u></i> our data according to the municipality's population. \n",
    ">This is known as *per capita* scaling.\n",
    "\n",
    "Let's create a column that shows the number of gambling terminals per capita!\n",
    "\n",
    "<u>In the cell below:</u>\n",
    "1. Create a new column called ```terminals_percapita``` by dividing ```terminal_count``` by ```population```"
   ]
  },
  {
   "cell_type": "code",
   "execution_count": 13,
   "metadata": {
    "ExecuteTime": {
     "end_time": "2020-11-24T21:53:57.148276Z",
     "start_time": "2020-11-24T21:53:57.129115Z"
    }
   },
   "outputs": [
    {
     "data": {
      "text/html": [
       "<div>\n",
       "<style scoped>\n",
       "    .dataframe tbody tr th:only-of-type {\n",
       "        vertical-align: middle;\n",
       "    }\n",
       "\n",
       "    .dataframe tbody tr th {\n",
       "        vertical-align: top;\n",
       "    }\n",
       "\n",
       "    .dataframe thead th {\n",
       "        text-align: right;\n",
       "    }\n",
       "</style>\n",
       "<table border=\"1\" class=\"dataframe\">\n",
       "  <thead>\n",
       "    <tr style=\"text-align: right;\">\n",
       "      <th></th>\n",
       "      <th>establishment_count</th>\n",
       "      <th>terminal_count</th>\n",
       "      <th>amount_played</th>\n",
       "      <th>amount_won</th>\n",
       "      <th>nti_tax</th>\n",
       "      <th>state_share</th>\n",
       "      <th>municipality_share</th>\n",
       "      <th>population</th>\n",
       "      <th>terminals_percapita</th>\n",
       "    </tr>\n",
       "    <tr>\n",
       "      <th>Municipality</th>\n",
       "      <th></th>\n",
       "      <th></th>\n",
       "      <th></th>\n",
       "      <th></th>\n",
       "      <th></th>\n",
       "      <th></th>\n",
       "      <th></th>\n",
       "      <th></th>\n",
       "      <th></th>\n",
       "    </tr>\n",
       "  </thead>\n",
       "  <tbody>\n",
       "    <tr>\n",
       "      <th>Abingdon</th>\n",
       "      <td>4</td>\n",
       "      <td>16</td>\n",
       "      <td>6492446.76</td>\n",
       "      <td>5968296.97</td>\n",
       "      <td>165040.02</td>\n",
       "      <td>138832.38</td>\n",
       "      <td>26207.64</td>\n",
       "      <td>3452</td>\n",
       "      <td>0.004635</td>\n",
       "    </tr>\n",
       "    <tr>\n",
       "      <th>Addieville</th>\n",
       "      <td>1</td>\n",
       "      <td>5</td>\n",
       "      <td>939917.34</td>\n",
       "      <td>860520.60</td>\n",
       "      <td>25020.09</td>\n",
       "      <td>21050.20</td>\n",
       "      <td>3969.89</td>\n",
       "      <td>344</td>\n",
       "      <td>0.014535</td>\n",
       "    </tr>\n",
       "    <tr>\n",
       "      <th>Addison</th>\n",
       "      <td>23</td>\n",
       "      <td>111</td>\n",
       "      <td>88623932.26</td>\n",
       "      <td>80762581.15</td>\n",
       "      <td>2476573.63</td>\n",
       "      <td>2083474.53</td>\n",
       "      <td>393099.10</td>\n",
       "      <td>37089</td>\n",
       "      <td>0.002993</td>\n",
       "    </tr>\n",
       "    <tr>\n",
       "      <th>Albany</th>\n",
       "      <td>2</td>\n",
       "      <td>7</td>\n",
       "      <td>2030709.60</td>\n",
       "      <td>1855397.39</td>\n",
       "      <td>55473.53</td>\n",
       "      <td>46707.84</td>\n",
       "      <td>8765.69</td>\n",
       "      <td>979</td>\n",
       "      <td>0.007150</td>\n",
       "    </tr>\n",
       "    <tr>\n",
       "      <th>Albers</th>\n",
       "      <td>1</td>\n",
       "      <td>4</td>\n",
       "      <td>1546280.29</td>\n",
       "      <td>1419896.70</td>\n",
       "      <td>39710.50</td>\n",
       "      <td>33391.29</td>\n",
       "      <td>6319.21</td>\n",
       "      <td>1184</td>\n",
       "      <td>0.003378</td>\n",
       "    </tr>\n",
       "  </tbody>\n",
       "</table>\n",
       "</div>"
      ],
      "text/plain": [
       "              establishment_count  terminal_count  amount_played   amount_won  \\\n",
       "Municipality                                                                    \n",
       "Abingdon                        4              16     6492446.76   5968296.97   \n",
       "Addieville                      1               5      939917.34    860520.60   \n",
       "Addison                        23             111    88623932.26  80762581.15   \n",
       "Albany                          2               7     2030709.60   1855397.39   \n",
       "Albers                          1               4     1546280.29   1419896.70   \n",
       "\n",
       "                 nti_tax  state_share  municipality_share  population  \\\n",
       "Municipality                                                            \n",
       "Abingdon       165040.02    138832.38            26207.64        3452   \n",
       "Addieville      25020.09     21050.20             3969.89         344   \n",
       "Addison       2476573.63   2083474.53           393099.10       37089   \n",
       "Albany          55473.53     46707.84             8765.69         979   \n",
       "Albers          39710.50     33391.29             6319.21        1184   \n",
       "\n",
       "              terminals_percapita  \n",
       "Municipality                       \n",
       "Abingdon                 0.004635  \n",
       "Addieville               0.014535  \n",
       "Addison                  0.002993  \n",
       "Albany                   0.007150  \n",
       "Albers                   0.003378  "
      ]
     },
     "execution_count": 13,
     "metadata": {},
     "output_type": "execute_result"
    }
   ],
   "source": [
    "df['terminals_percapita'] = df.terminal_count/df.population\n",
    "df.head()"
   ]
  },
  {
   "cell_type": "markdown",
   "metadata": {},
   "source": [
    "### Task 10"
   ]
  },
  {
   "cell_type": "markdown",
   "metadata": {},
   "source": [
    "Now let's identify which communities have the highest number of gambling devices per capita. \n",
    "\n",
    "\n",
    "<u>In the cell(s) below:</u>\n",
    "1. [Sort](https://pandas.pydata.org/pandas-docs/stable/reference/api/pandas.DataFrame.sort_values.html) the dataframe according to the ```terminals_percapita``` column.\n",
    "2. Identify the 10 communities with the highest number of gambling machines per capita.\n",
    "3. Save those 10 community names in a list called ```highest_machines_percapita```"
   ]
  },
  {
   "cell_type": "code",
   "execution_count": 14,
   "metadata": {
    "ExecuteTime": {
     "end_time": "2020-11-24T21:53:59.098014Z",
     "start_time": "2020-11-24T21:53:59.092649Z"
    }
   },
   "outputs": [],
   "source": [
    "\n",
    "highest_machines_percapita = \\\n",
    "    df.sort_values \\\n",
    "    (by='terminals_percapita', \n",
    "     ascending=False)\\\n",
    "    .head(10)\\\n",
    "    .index\n",
    "\n",
    "highest_machines_percapita = list(highest_machines_percapita)\n",
    "highest_machines_percapita\n",
    "\n",
    "\n",
    "# Used for testing\n",
    "testing.save(highest_machines_percapita,'highest_machines_percapita')"
   ]
  },
  {
   "cell_type": "markdown",
   "metadata": {},
   "source": [
    "Run the cell below to see if you identified the correct Municipalities!"
   ]
  },
  {
   "cell_type": "code",
   "execution_count": 15,
   "metadata": {
    "ExecuteTime": {
     "end_time": "2020-11-24T21:54:04.594188Z",
     "start_time": "2020-11-24T21:54:04.590096Z"
    }
   },
   "outputs": [
    {
     "data": {
      "text/markdown": [
       "✅ **Hey, you did it.  Good job.**"
      ],
      "text/plain": [
       "<IPython.core.display.Markdown object>"
      ]
     },
     "metadata": {},
     "output_type": "display_data"
    }
   ],
   "source": [
    "\n",
    "testing.run_test(highest_machines_percapita, 'highest_machines_percapita')"
   ]
  },
  {
   "cell_type": "markdown",
   "metadata": {},
   "source": [
    "### Task 11"
   ]
  },
  {
   "cell_type": "markdown",
   "metadata": {},
   "source": [
    "**Next,** let's figure out how much money players lost for each municipality.\n",
    "\n",
    "<u>In the cell below:</u>\n",
    "1. Create a new column called ```amount_lost``` that is the difference between the ```amount_played``` and ```amount_won``` columns"
   ]
  },
  {
   "cell_type": "code",
   "execution_count": 16,
   "metadata": {
    "ExecuteTime": {
     "end_time": "2020-11-24T21:54:07.852178Z",
     "start_time": "2020-11-24T21:54:07.836923Z"
    }
   },
   "outputs": [
    {
     "data": {
      "text/html": [
       "<div>\n",
       "<style scoped>\n",
       "    .dataframe tbody tr th:only-of-type {\n",
       "        vertical-align: middle;\n",
       "    }\n",
       "\n",
       "    .dataframe tbody tr th {\n",
       "        vertical-align: top;\n",
       "    }\n",
       "\n",
       "    .dataframe thead th {\n",
       "        text-align: right;\n",
       "    }\n",
       "</style>\n",
       "<table border=\"1\" class=\"dataframe\">\n",
       "  <thead>\n",
       "    <tr style=\"text-align: right;\">\n",
       "      <th></th>\n",
       "      <th>establishment_count</th>\n",
       "      <th>terminal_count</th>\n",
       "      <th>amount_played</th>\n",
       "      <th>amount_won</th>\n",
       "      <th>nti_tax</th>\n",
       "      <th>state_share</th>\n",
       "      <th>municipality_share</th>\n",
       "      <th>population</th>\n",
       "      <th>terminals_percapita</th>\n",
       "      <th>amount_lost</th>\n",
       "    </tr>\n",
       "    <tr>\n",
       "      <th>Municipality</th>\n",
       "      <th></th>\n",
       "      <th></th>\n",
       "      <th></th>\n",
       "      <th></th>\n",
       "      <th></th>\n",
       "      <th></th>\n",
       "      <th></th>\n",
       "      <th></th>\n",
       "      <th></th>\n",
       "      <th></th>\n",
       "    </tr>\n",
       "  </thead>\n",
       "  <tbody>\n",
       "    <tr>\n",
       "      <th>Abingdon</th>\n",
       "      <td>4</td>\n",
       "      <td>16</td>\n",
       "      <td>6492446.76</td>\n",
       "      <td>5968296.97</td>\n",
       "      <td>165040.02</td>\n",
       "      <td>138832.38</td>\n",
       "      <td>26207.64</td>\n",
       "      <td>3452</td>\n",
       "      <td>0.004635</td>\n",
       "      <td>524149.79</td>\n",
       "    </tr>\n",
       "    <tr>\n",
       "      <th>Addieville</th>\n",
       "      <td>1</td>\n",
       "      <td>5</td>\n",
       "      <td>939917.34</td>\n",
       "      <td>860520.60</td>\n",
       "      <td>25020.09</td>\n",
       "      <td>21050.20</td>\n",
       "      <td>3969.89</td>\n",
       "      <td>344</td>\n",
       "      <td>0.014535</td>\n",
       "      <td>79396.74</td>\n",
       "    </tr>\n",
       "    <tr>\n",
       "      <th>Addison</th>\n",
       "      <td>23</td>\n",
       "      <td>111</td>\n",
       "      <td>88623932.26</td>\n",
       "      <td>80762581.15</td>\n",
       "      <td>2476573.63</td>\n",
       "      <td>2083474.53</td>\n",
       "      <td>393099.10</td>\n",
       "      <td>37089</td>\n",
       "      <td>0.002993</td>\n",
       "      <td>7861351.11</td>\n",
       "    </tr>\n",
       "    <tr>\n",
       "      <th>Albany</th>\n",
       "      <td>2</td>\n",
       "      <td>7</td>\n",
       "      <td>2030709.60</td>\n",
       "      <td>1855397.39</td>\n",
       "      <td>55473.53</td>\n",
       "      <td>46707.84</td>\n",
       "      <td>8765.69</td>\n",
       "      <td>979</td>\n",
       "      <td>0.007150</td>\n",
       "      <td>175312.21</td>\n",
       "    </tr>\n",
       "    <tr>\n",
       "      <th>Albers</th>\n",
       "      <td>1</td>\n",
       "      <td>4</td>\n",
       "      <td>1546280.29</td>\n",
       "      <td>1419896.70</td>\n",
       "      <td>39710.50</td>\n",
       "      <td>33391.29</td>\n",
       "      <td>6319.21</td>\n",
       "      <td>1184</td>\n",
       "      <td>0.003378</td>\n",
       "      <td>126383.59</td>\n",
       "    </tr>\n",
       "  </tbody>\n",
       "</table>\n",
       "</div>"
      ],
      "text/plain": [
       "              establishment_count  terminal_count  amount_played   amount_won  \\\n",
       "Municipality                                                                    \n",
       "Abingdon                        4              16     6492446.76   5968296.97   \n",
       "Addieville                      1               5      939917.34    860520.60   \n",
       "Addison                        23             111    88623932.26  80762581.15   \n",
       "Albany                          2               7     2030709.60   1855397.39   \n",
       "Albers                          1               4     1546280.29   1419896.70   \n",
       "\n",
       "                 nti_tax  state_share  municipality_share  population  \\\n",
       "Municipality                                                            \n",
       "Abingdon       165040.02    138832.38            26207.64        3452   \n",
       "Addieville      25020.09     21050.20             3969.89         344   \n",
       "Addison       2476573.63   2083474.53           393099.10       37089   \n",
       "Albany          55473.53     46707.84             8765.69         979   \n",
       "Albers          39710.50     33391.29             6319.21        1184   \n",
       "\n",
       "              terminals_percapita  amount_lost  \n",
       "Municipality                                    \n",
       "Abingdon                 0.004635    524149.79  \n",
       "Addieville               0.014535     79396.74  \n",
       "Addison                  0.002993   7861351.11  \n",
       "Albany                   0.007150    175312.21  \n",
       "Albers                   0.003378    126383.59  "
      ]
     },
     "execution_count": 16,
     "metadata": {},
     "output_type": "execute_result"
    }
   ],
   "source": [
    "df['amount_lost'] = df.amount_played - df.amount_won\n",
    "df.head()"
   ]
  },
  {
   "cell_type": "markdown",
   "metadata": {},
   "source": [
    "### Task 12"
   ]
  },
  {
   "cell_type": "markdown",
   "metadata": {},
   "source": [
    "<u>In the cell below:</u>\n",
    "1. Save the mean of the ```amount_loss``` column as the variable ```average_loss```.\n",
    "2. Using numpy, round the ```average_loss``` variable to 2 decimal points.\n",
    "    - Save the rounded number as the variable ```average_loss_rounded```"
   ]
  },
  {
   "cell_type": "code",
   "execution_count": 17,
   "metadata": {
    "ExecuteTime": {
     "end_time": "2020-11-24T21:54:09.907192Z",
     "start_time": "2020-11-24T21:54:09.903835Z"
    }
   },
   "outputs": [],
   "source": [
    "\n",
    "average_loss = df.amount_lost.mean()\n",
    "average_loss_rounded = np.round(average_loss, decimals=2)"
   ]
  },
  {
   "cell_type": "markdown",
   "metadata": {},
   "source": [
    "### Task 13"
   ]
  },
  {
   "cell_type": "markdown",
   "metadata": {},
   "source": [
    "Let's zoom in on this new loss data. \n",
    "\n",
    "<u>In the cell below:</u>\n",
    "1. Create a new column called ```loss_percapita``` that is the division of the ```amount_lost``` and ```population```"
   ]
  },
  {
   "cell_type": "code",
   "execution_count": 18,
   "metadata": {
    "ExecuteTime": {
     "end_time": "2020-11-24T21:54:12.000470Z",
     "start_time": "2020-11-24T21:54:11.985074Z"
    }
   },
   "outputs": [
    {
     "data": {
      "text/html": [
       "<div>\n",
       "<style scoped>\n",
       "    .dataframe tbody tr th:only-of-type {\n",
       "        vertical-align: middle;\n",
       "    }\n",
       "\n",
       "    .dataframe tbody tr th {\n",
       "        vertical-align: top;\n",
       "    }\n",
       "\n",
       "    .dataframe thead th {\n",
       "        text-align: right;\n",
       "    }\n",
       "</style>\n",
       "<table border=\"1\" class=\"dataframe\">\n",
       "  <thead>\n",
       "    <tr style=\"text-align: right;\">\n",
       "      <th></th>\n",
       "      <th>establishment_count</th>\n",
       "      <th>terminal_count</th>\n",
       "      <th>amount_played</th>\n",
       "      <th>amount_won</th>\n",
       "      <th>nti_tax</th>\n",
       "      <th>state_share</th>\n",
       "      <th>municipality_share</th>\n",
       "      <th>population</th>\n",
       "      <th>terminals_percapita</th>\n",
       "      <th>amount_lost</th>\n",
       "      <th>loss_percapita</th>\n",
       "    </tr>\n",
       "    <tr>\n",
       "      <th>Municipality</th>\n",
       "      <th></th>\n",
       "      <th></th>\n",
       "      <th></th>\n",
       "      <th></th>\n",
       "      <th></th>\n",
       "      <th></th>\n",
       "      <th></th>\n",
       "      <th></th>\n",
       "      <th></th>\n",
       "      <th></th>\n",
       "      <th></th>\n",
       "    </tr>\n",
       "  </thead>\n",
       "  <tbody>\n",
       "    <tr>\n",
       "      <th>Abingdon</th>\n",
       "      <td>4</td>\n",
       "      <td>16</td>\n",
       "      <td>6492446.76</td>\n",
       "      <td>5968296.97</td>\n",
       "      <td>165040.02</td>\n",
       "      <td>138832.38</td>\n",
       "      <td>26207.64</td>\n",
       "      <td>3452</td>\n",
       "      <td>0.004635</td>\n",
       "      <td>524149.79</td>\n",
       "      <td>151.839452</td>\n",
       "    </tr>\n",
       "    <tr>\n",
       "      <th>Addieville</th>\n",
       "      <td>1</td>\n",
       "      <td>5</td>\n",
       "      <td>939917.34</td>\n",
       "      <td>860520.60</td>\n",
       "      <td>25020.09</td>\n",
       "      <td>21050.20</td>\n",
       "      <td>3969.89</td>\n",
       "      <td>344</td>\n",
       "      <td>0.014535</td>\n",
       "      <td>79396.74</td>\n",
       "      <td>230.804477</td>\n",
       "    </tr>\n",
       "    <tr>\n",
       "      <th>Addison</th>\n",
       "      <td>23</td>\n",
       "      <td>111</td>\n",
       "      <td>88623932.26</td>\n",
       "      <td>80762581.15</td>\n",
       "      <td>2476573.63</td>\n",
       "      <td>2083474.53</td>\n",
       "      <td>393099.10</td>\n",
       "      <td>37089</td>\n",
       "      <td>0.002993</td>\n",
       "      <td>7861351.11</td>\n",
       "      <td>211.959101</td>\n",
       "    </tr>\n",
       "    <tr>\n",
       "      <th>Albany</th>\n",
       "      <td>2</td>\n",
       "      <td>7</td>\n",
       "      <td>2030709.60</td>\n",
       "      <td>1855397.39</td>\n",
       "      <td>55473.53</td>\n",
       "      <td>46707.84</td>\n",
       "      <td>8765.69</td>\n",
       "      <td>979</td>\n",
       "      <td>0.007150</td>\n",
       "      <td>175312.21</td>\n",
       "      <td>179.072737</td>\n",
       "    </tr>\n",
       "    <tr>\n",
       "      <th>Albers</th>\n",
       "      <td>1</td>\n",
       "      <td>4</td>\n",
       "      <td>1546280.29</td>\n",
       "      <td>1419896.70</td>\n",
       "      <td>39710.50</td>\n",
       "      <td>33391.29</td>\n",
       "      <td>6319.21</td>\n",
       "      <td>1184</td>\n",
       "      <td>0.003378</td>\n",
       "      <td>126383.59</td>\n",
       "      <td>106.742897</td>\n",
       "    </tr>\n",
       "  </tbody>\n",
       "</table>\n",
       "</div>"
      ],
      "text/plain": [
       "              establishment_count  terminal_count  amount_played   amount_won  \\\n",
       "Municipality                                                                    \n",
       "Abingdon                        4              16     6492446.76   5968296.97   \n",
       "Addieville                      1               5      939917.34    860520.60   \n",
       "Addison                        23             111    88623932.26  80762581.15   \n",
       "Albany                          2               7     2030709.60   1855397.39   \n",
       "Albers                          1               4     1546280.29   1419896.70   \n",
       "\n",
       "                 nti_tax  state_share  municipality_share  population  \\\n",
       "Municipality                                                            \n",
       "Abingdon       165040.02    138832.38            26207.64        3452   \n",
       "Addieville      25020.09     21050.20             3969.89         344   \n",
       "Addison       2476573.63   2083474.53           393099.10       37089   \n",
       "Albany          55473.53     46707.84             8765.69         979   \n",
       "Albers          39710.50     33391.29             6319.21        1184   \n",
       "\n",
       "              terminals_percapita  amount_lost  loss_percapita  \n",
       "Municipality                                                    \n",
       "Abingdon                 0.004635    524149.79      151.839452  \n",
       "Addieville               0.014535     79396.74      230.804477  \n",
       "Addison                  0.002993   7861351.11      211.959101  \n",
       "Albany                   0.007150    175312.21      179.072737  \n",
       "Albers                   0.003378    126383.59      106.742897  "
      ]
     },
     "execution_count": 18,
     "metadata": {},
     "output_type": "execute_result"
    }
   ],
   "source": [
    "df['loss_percapita'] = df.amount_lost / df.population\n",
    "df.head()"
   ]
  },
  {
   "cell_type": "markdown",
   "metadata": {},
   "source": [
    "### Task 14"
   ]
  },
  {
   "cell_type": "markdown",
   "metadata": {},
   "source": [
    "<u>In the cell below</u>\n",
    "1. Sort the dataframe by ```loss_percapita``` and save the 10 communities with the highest loss per capita to a list called ```highest_loss_percapita```"
   ]
  },
  {
   "cell_type": "code",
   "execution_count": 19,
   "metadata": {
    "ExecuteTime": {
     "end_time": "2020-11-24T21:54:13.923320Z",
     "start_time": "2020-11-24T21:54:13.917606Z"
    }
   },
   "outputs": [],
   "source": [
    "highest_loss_percapita = list(\n",
    "    df\n",
    "    .sort_values(\n",
    "        by='loss_percapita', \n",
    "        ascending = False\n",
    "    )\n",
    "    .head(10)\n",
    "    .index\n",
    ")\n",
    "\n",
    "highest_loss_percapita\n",
    "\n",
    "# Used for testing\n",
    "testing.save(\n",
    "    highest_loss_percapita,\n",
    "   'highest_loss_percapita')"
   ]
  },
  {
   "cell_type": "markdown",
   "metadata": {
    "ExecuteTime": {
     "end_time": "2020-05-17T01:55:55.877308Z",
     "start_time": "2020-05-17T01:55:55.873469Z"
    }
   },
   "source": [
    "Run the cell below to see if you idenitified the correct municipalities!"
   ]
  },
  {
   "cell_type": "code",
   "execution_count": 20,
   "metadata": {
    "ExecuteTime": {
     "end_time": "2020-11-24T21:54:15.930517Z",
     "start_time": "2020-11-24T21:54:15.926530Z"
    }
   },
   "outputs": [
    {
     "data": {
      "text/markdown": [
       "✅ **Hey, you did it.  Good job.**"
      ],
      "text/plain": [
       "<IPython.core.display.Markdown object>"
      ]
     },
     "metadata": {},
     "output_type": "display_data"
    }
   ],
   "source": [
    "testing.run_test(highest_loss_percapita, 'highest_loss_percapita')"
   ]
  },
  {
   "cell_type": "markdown",
   "metadata": {},
   "source": [
    "### Task 15\n",
    "\n",
    "Let's create a categorical variable that classifies a municipality according to the Census Urban-Rural Classification.\n",
    "\n",
    "\n",
    "> \"The Census Bureau identifies two types of urban areas. Urbanized Areas (UAs) of 50,000 or more people;\n",
    "Urban Clusters (UCs) of at least 2,500 and less than 50,000 people. 'Rural' encompasses all population, housing, and territory not included within an urban area.\" *–– [US Census Bureau](https://www.census.gov/programs-surveys/geography/guidance/geo-areas/urban-rural.html)*\n",
    "\n",
    "Let's create a visualization to check if this technique makes sense with our data.\n",
    "\n",
    "<u>In the cell below:</u>\n",
    "- Create a boxplot to visualize the distribution of the `population` column."
   ]
  },
  {
   "cell_type": "code",
   "execution_count": 21,
   "metadata": {
    "ExecuteTime": {
     "end_time": "2020-11-24T21:54:18.028163Z",
     "start_time": "2020-11-24T21:54:17.877586Z"
    }
   },
   "outputs": [
    {
     "data": {
      "image/png": "[encoded data removed]",
      "text/plain": [
       "<Figure size 432x288 with 1 Axes>"
      ]
     },
     "metadata": {
      "needs_background": "light"
     },
     "output_type": "display_data"
    }
   ],
   "source": [
    "plt.boxplot(df.population)\n",
    "plt.title('Illinois Municipalities with Video Gambling -- Population')\n",
    "plt.show()"
   ]
  },
  {
   "cell_type": "markdown",
   "metadata": {},
   "source": [
    "### Task 16"
   ]
  },
  {
   "cell_type": "markdown",
   "metadata": {},
   "source": [
    "This classification technique seems like it will work adequately for these data. \n",
    "\n",
    "<u>In the cell below:</u>\n",
    "\n",
    "Create a new column called `urban_rural` that bins the population column into the following groups:\n",
    "- 'rural'\n",
    "    - Any population that is less than 2,500.\n",
    "- 'urban-cluster'\n",
    "    - Any population that is 2,500-50,000.\n",
    "- 'urban'\n",
    "    - Any population that is greater than 50,000.\n",
    "    \n",
    "> There are multiple ways to create this column. I'll leave it to you to decide how you will complete this task."
   ]
  },
  {
   "cell_type": "code",
   "execution_count": 22,
   "metadata": {
    "ExecuteTime": {
     "end_time": "2020-11-24T21:54:22.601430Z",
     "start_time": "2020-11-24T21:54:22.596156Z"
    }
   },
   "outputs": [],
   "source": [
    "def bin_population(population):\n",
    "    if population > 50000:\n",
    "        classification = 'urban'\n",
    "    elif population >= 2500:\n",
    "        classification = 'urban-cluster'\n",
    "    else:\n",
    "        classification = 'rural'\n",
    "        \n",
    "    return classification\n",
    "\n",
    "df['urban_rural'] = df.population.apply(bin_population)"
   ]
  },
  {
   "cell_type": "markdown",
   "metadata": {},
   "source": [
    "### Task 17\n",
    "\n",
    "**Let's visualize our classified column**\n",
    "\n",
    "<u>In the cell below:</u>\n",
    "- Create a bar chart showing the number of municipalities for each urban-rural classification. "
   ]
  },
  {
   "cell_type": "code",
   "execution_count": 23,
   "metadata": {
    "ExecuteTime": {
     "end_time": "2020-11-24T21:54:24.670271Z",
     "start_time": "2020-11-24T21:54:24.528662Z"
    }
   },
   "outputs": [
    {
     "data": {
      "image/png": "[encoded data removed]",
      "text/plain": [
       "<Figure size 432x288 with 1 Axes>"
      ]
     },
     "metadata": {
      "needs_background": "light"
     },
     "output_type": "display_data"
    }
   ],
   "source": [
    "series = df.urban_rural.value_counts()\n",
    "plt.bar(series.index, series.values)\n",
    "plt.title('Illinois Municipalities with Video Gambling -- Urban-Rural')\n",
    "plt.show()"
   ]
  },
  {
   "cell_type": "markdown",
   "metadata": {},
   "source": [
    "### Task 18"
   ]
  },
  {
   "cell_type": "markdown",
   "metadata": {
    "ExecuteTime": {
     "end_time": "2020-05-17T02:18:33.975014Z",
     "start_time": "2020-05-17T02:18:33.849160Z"
    }
   },
   "source": [
    "<u>In the cell(s) below:</u>\n",
    "1. Filter our dataframe to contain municipalities with a ```loss_percapita``` of 406 or greater. \n",
    "    - Save this filtered dataframe as ```high_loss_percapita```\n",
    "2. Filter our dataframe to contain municipalities with a ```loss_percapita``` of 155 or less.\n",
    "    - Save this filtered dataframe as ```low_loss_percapita```\n",
    "3. Identify the mean population for the municipalities with a high per capita loss\n",
    "    - Using numpy, round this data point to 2 decimals\n",
    "    - Save this data point as the variable ```high_loss_average_population```\n",
    "\n",
    "4. Identify the mean population for the municipalities with a low per capita loss.\n",
    "    - Using numpy round this data point to 2 decimals\n",
    "    - Save this data point as the variable ```low_loss_average_population```  "
   ]
  },
  {
   "cell_type": "code",
   "execution_count": 24,
   "metadata": {
    "ExecuteTime": {
     "end_time": "2020-11-24T21:54:27.235268Z",
     "start_time": "2020-11-24T21:54:27.227130Z"
    }
   },
   "outputs": [],
   "source": [
    "high_loss_percapita = df[df.loss_percapita >= 406]\n",
    "low_loss_percapita = df[df.loss_percapita <= 155]\n",
    "high_loss_average_population = (\n",
    "    np.round(\n",
    "        high_loss_percapita\n",
    "        .population\n",
    "        .mean()\n",
    "        , 2\n",
    "    )\n",
    ")\n",
    "\n",
    "low_loss_average_population = (\n",
    "    np.round(\n",
    "        low_loss_percapita\n",
    "        .population\n",
    "        .mean()\n",
    "        , 2)\n",
    ")\n",
    "\n",
    "low_loss_average_population\n",
    "\n",
    "# Used for testing\n",
    "testing.save(\n",
    "    high_loss_average_population,\n",
    "   'high_loss_average_population')\n",
    "\n",
    "testing.save(low_loss_average_population,\n",
    "            'low_loss_average_population')"
   ]
  },
  {
   "cell_type": "markdown",
   "metadata": {
    "ExecuteTime": {
     "end_time": "2020-05-17T02:38:58.820615Z",
     "start_time": "2020-05-17T02:38:58.816687Z"
    }
   },
   "source": [
    "Run the cell below to see if you identified the correct averages!"
   ]
  },
  {
   "cell_type": "code",
   "execution_count": 25,
   "metadata": {
    "ExecuteTime": {
     "end_time": "2020-11-24T21:54:29.592975Z",
     "start_time": "2020-11-24T21:54:29.587344Z"
    }
   },
   "outputs": [
    {
     "data": {
      "text/markdown": [
       "✅ **Hey, you did it.  Good job.**"
      ],
      "text/plain": [
       "<IPython.core.display.Markdown object>"
      ]
     },
     "metadata": {},
     "output_type": "display_data"
    },
    {
     "data": {
      "text/markdown": [
       "✅ **Hey, you did it.  Good job.**"
      ],
      "text/plain": [
       "<IPython.core.display.Markdown object>"
      ]
     },
     "metadata": {},
     "output_type": "display_data"
    }
   ],
   "source": [
    "testing.run_test(high_loss_average_population, 'high_loss_average_population')\n",
    "testing.run_test(low_loss_average_population, 'low_loss_average_population')"
   ]
  },
  {
   "cell_type": "markdown",
   "metadata": {},
   "source": [
    "**Run this cell below to visualize the average population for high loss and low loss percapita communities**"
   ]
  },
  {
   "cell_type": "code",
   "execution_count": 26,
   "metadata": {
    "ExecuteTime": {
     "end_time": "2020-11-24T21:54:32.597546Z",
     "start_time": "2020-11-24T21:54:32.448160Z"
    }
   },
   "outputs": [
    {
     "data": {
      "image/png": "[encoded data removed]",
      "text/plain": [
       "<Figure size 432x288 with 1 Axes>"
      ]
     },
     "metadata": {
      "needs_background": "light"
     },
     "output_type": "display_data"
    }
   ],
   "source": [
    "x = ['Low Loss', 'High Loss']\n",
    "y = [low_loss_average_population, high_loss_average_population]\n",
    "\n",
    "plt.bar(x,y)\n",
    "plt.title('Average Population of Municipalities According To Gambling Loss Per Capita');"
   ]
  }
 ],
 "metadata": {
  "hide_input": false,
  "kernelspec": {
   "display_name": "Python 3",
   "language": "python",
   "name": "python3"
  },
  "language_info": {
   "codemirror_mode": {
    "name": "ipython",
    "version": 3
   },
   "file_extension": ".py",
   "mimetype": "text/x-python",
   "name": "python",
   "nbconvert_exporter": "python",
   "pygments_lexer": "ipython3",
   "version": "3.8.5"
  },
  "toc": {
   "base_numbering": 1,
   "nav_menu": {},
   "number_sections": false,
   "sideBar": true,
   "skip_h1_title": true,
   "title_cell": "Table of Contents",
   "title_sidebar": "Contents",
   "toc_cell": false,
   "toc_position": {},
   "toc_section_display": true,
   "toc_window_display": false
  },
  "varInspector": {
   "cols": {
    "lenName": 16,
    "lenType": 16,
    "lenVar": 40
   },
   "kernels_config": {
    "python": {
     "delete_cmd_postfix": "",
     "delete_cmd_prefix": "del ",
     "library": "var_list.py",
     "varRefreshCmd": "print(var_dic_list())"
    },
    "r": {
     "delete_cmd_postfix": ") ",
     "delete_cmd_prefix": "rm(",
     "library": "var_list.r",
     "varRefreshCmd": "cat(var_dic_list()) "
    }
   },
   "types_to_exclude": [
    "module",
    "function",
    "builtin_function_or_method",
    "instance",
    "_Feature"
   ],
   "window_display": false
  }
 },
 "nbformat": 4,
 "nbformat_minor": 4
}
