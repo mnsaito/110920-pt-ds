{
 "cells": [
  {
   "cell_type": "markdown",
   "metadata": {},
   "source": [
    "# ANOVA - Analysis of Variance\n",
    "Today, we will be learning ANOVA, a generalized form of comparing mean across multiple groups. \n",
    "Agenda today:\n",
    "1. Compare t-tests and ANOVA\n",
    "2. Differentiate between variance between groups and variance within groups\n",
    "3. Implement ANOVA in Python\n",
    "    - using scipy\n",
    "    - from scratch\n",
    "    - using statsmodels\n",
    "        - Discuss the relationship between ANOVA and Linear Regression.\n",
    "4. Demo of a post hoc test (Tukey Test)\n"
   ]
  },
  {
   "cell_type": "code",
   "execution_count": 1,
   "metadata": {},
   "outputs": [],
   "source": [
    "import numpy as np\n",
    "import pandas as pd\n",
    "import matplotlib.pyplot as plt\n",
    "import seaborn as sns\n",
    "\n",
    "from scipy import stats\n",
    "\n",
    "from statsmodels.formula.api import ols\n",
    "import statsmodels.api as sm\n",
    "from statsmodels.stats.multicomp import pairwise_tukeyhsd"
   ]
  },
  {
   "cell_type": "markdown",
   "metadata": {},
   "source": [
    "## T tests or ANOVA?\n",
    "**ANOVA** or *Analysis Of Variance*  provides a statistical test of whether two or more population means are equal, and therefore generalizes the t-test beyond two means.\n",
    "\n",
    "Suppose we want to compare whether multiple groups differ in some type of measures. For example, we have collected mood data grouped by four types of weather - sunny, raining, overcast, or cloudy, and we want to find out whether there is a difference in mood across different weather. What tests would you use?\n",
    "\n",
    "A natural reaction would be to conduct multiple t-tests. However, that comes with many drawbacks. First, you would need $\\frac{n(n-1)}{2}$ t tests, which come out to 6 tests. Having more tests meaning having higher chance of making type I error. In this case, our original probability of making type I error grew from 5% to 5% x 6 = 30%! By conducting 6 tests and comparing their mean to each other, we are running a huge risk of making false positives. This is known as the multiple comparison problem. \n",
    "\n",
    "Let's demonstrate this below:"
   ]
  },
  {
   "cell_type": "code",
   "execution_count": 2,
   "metadata": {
    "ExecuteTime": {
     "end_time": "2021-01-28T19:38:37.518528Z",
     "start_time": "2021-01-28T19:38:37.400839Z"
    },
    "code_folding": []
   },
   "outputs": [
    {
     "name": "stdout",
     "output_type": "stream",
     "text": [
      "Out of 100 tests, we had 5 false positives.\n"
     ]
    }
   ],
   "source": [
    "# Set random seed for reproducibility\n",
    "np.random.seed(2021)\n",
    "# Create a numpy array with 100 observations\n",
    "p_values = np.zeros(100)\n",
    "# Run a for loop with 100 iterations\n",
    "for iteration in range(100):\n",
    "    # Create a normal distribution\n",
    "    population = stats.norm(0,1)\n",
    "    # Draw two samples from the same distribution\n",
    "    first_sample = population.rvs(50)\n",
    "    second_sample = population.rvs(50)\n",
    "    # Run a ttest on the data to evaluate\n",
    "    # whether there is significant difference\n",
    "    # between samples\n",
    "    test = stats.ttest_ind(first_sample, second_sample)\n",
    "    # Collect the pvalue from the test\n",
    "    pvalue = test.pvalue\n",
    "    # Round the pvalue for comparison\n",
    "    pvalue = round(pvalue, 2)\n",
    "    # Add the pvalue to the numpy array\n",
    "    p_values[iteration] = pvalue\n",
    "\n",
    "# Count the number of times a pvalue is less than\n",
    "# or equal to .05\n",
    "false_positives = (p_values <= .05).sum()\n",
    "\n",
    "# Print the number of times we found\n",
    "# a significant difference between samples\n",
    "# drawn from the same population.\n",
    "print('Out of 100 tests, we had {} false positives.'.format(false_positives))"
   ]
  },
  {
   "cell_type": "markdown",
   "metadata": {},
   "source": [
    "How then, can we combat this? -- ANOVA!\n",
    "\n",
    "Instead of looking at each individual difference, ANOVA examines the ratio of variance between groups, and variance within groups, to find out whether the ratio is big enough to be statistically significant. "
   ]
  },
  {
   "cell_type": "markdown",
   "metadata": {},
   "source": [
    "#### T Test statistics \n",
    "##### One sample\n",
    "$t = \\frac{x\\bar - \\mu}{\\frac{s}{\\sqrt n}}$\n",
    "\n",
    "##### Two sample\n",
    "$$ t = \\frac{\\bar{x_1} - \\bar{x_2}}{\\sqrt{s^2 \\left( \\frac{1}{n_1} + \\frac{1}{n_2} \\right)}}$$\n",
    "\n",
    "where $s^2$ is the pooled sample variance,\n",
    "\n",
    "$$ s^2 = \\frac{\\sum_{i=1}^{n_1} \\left(x_i - \\bar{x_1}\\right)^2 + \\sum_{j=1}^{n_2} \\left(x_j - \\bar{x_2}\\right)^2 }{n_1 + n_2 - 2} $$\n",
    "\n",
    "We can also say that t test is a special case of ANOVA in that we are comparing the means of only two groups."
   ]
  },
  {
   "cell_type": "markdown",
   "metadata": {},
   "source": [
    "\n",
    "#### ANOVA - the F test\n",
    "$F = \\frac{MS_{bet}}{MS_{within}}$"
   ]
  },
  {
   "cell_type": "markdown",
   "metadata": {},
   "source": [
    "Just like t and z tests, we calculate a test statistic, then compare it to a critical value associated with a probability distribution.  In this case, that is the f-distribution.\n",
    "\n",
    "![fdistribution](img/f_distribution.png)"
   ]
  },
  {
   "cell_type": "markdown",
   "metadata": {},
   "source": [
    "Degrees of freedom of an F-test originate from:\n",
    "  - the degrees of freedom from the numerator of the f-stat (DF between)\n",
    "  - the degrees of freedom from the denominator of the f-stat (DF within) \n",
    "(more below)"
   ]
  },
  {
   "cell_type": "markdown",
   "metadata": {},
   "source": [
    "**When working with two samples, ANOVA is really just a \"special\" ttest.**\n",
    "\n",
    "Below, let's create two samples drawn from a normal distribution\n",
    "\n",
    "*Sample 1*\n",
    "- Mean: 0\n",
    "- Standard Deviation: 3\n",
    "- Size: 100\n",
    "\n",
    "*Sample 2*\n",
    "- Mean: 1\n",
    "- Standard Deviation: 3\n",
    "- Size: 100"
   ]
  },
  {
   "cell_type": "code",
   "execution_count": 4,
   "metadata": {},
   "outputs": [],
   "source": [
    "# CODE HERE\n",
    "one = np.random.normal(0, 3, 100)\n",
    "two = np.random.normal(1, 3, 100)"
   ]
  },
  {
   "cell_type": "markdown",
   "metadata": {},
   "source": [
    "Next, we will run an ANOVA test using the `f_oneway` function from the `scipy.stats` module."
   ]
  },
  {
   "cell_type": "code",
   "execution_count": 5,
   "metadata": {},
   "outputs": [
    {
     "data": {
      "text/plain": [
       "F_onewayResult(statistic=0.18561848964744815, pvalue=0.6670572514429656)"
      ]
     },
     "execution_count": 5,
     "metadata": {},
     "output_type": "execute_result"
    }
   ],
   "source": [
    "# CODE HERE\n",
    "stats.f_oneway(one, two)"
   ]
  },
  {
   "cell_type": "markdown",
   "metadata": {},
   "source": [
    "Now, let's run a ttest using the `ttest_ind` function from the `scipy.stats` module."
   ]
  },
  {
   "cell_type": "code",
   "execution_count": 6,
   "metadata": {},
   "outputs": [
    {
     "data": {
      "text/plain": [
       "Ttest_indResult(statistic=-0.4308346430446924, pvalue=0.6670572514429647)"
      ]
     },
     "execution_count": 6,
     "metadata": {},
     "output_type": "execute_result"
    }
   ],
   "source": [
    "# CODE HERE\n",
    "stats.ttest_ind(one, two)"
   ]
  },
  {
   "cell_type": "markdown",
   "metadata": {},
   "source": [
    "**What do we notice about these two test results?**"
   ]
  },
  {
   "cell_type": "markdown",
   "metadata": {},
   "source": [
    "Is the t-statistic related to the f-statistic?"
   ]
  },
  {
   "cell_type": "code",
   "execution_count": null,
   "metadata": {},
   "outputs": [],
   "source": [
    "# CODE HERE\n",
    "# t.statistic ** 2 = f.statistic with two samples"
   ]
  },
  {
   "cell_type": "markdown",
   "metadata": {},
   "source": [
    "# Discussion:\n",
    "\n",
    "## Which test would you run for each these scenarios:\n",
    "\n",
    "1. The average salary per month of an English Premier League player is $240,000€$. You would like to test whether players who don't have a dominant foot make more than the rest of the league.  There are only 25 players who are considered ambidextrous. \n",
    " - two groups: ambidextrous and not => Use t-test\n",
    " - determining if ambidextrous makes MORE THAN the rest of the group => one sided on right side\n",
    "\n",
    "2. You would like to test whether there is a difference in arrest rates across neighborhoods with different racial majorities.  You have point statistics of mean arrest rates associated with neighborhoods of majority white, black, hispanic, and asian populations.\n",
    " - Four groups, and want difference across groups: ANOVA\n",
    "\n",
    "3. You are interested in testing whether the superstition that black cats are bad luck affects adoption rate.  You would like to test whether black-fur shelter cats get adopted at a different rate than cats of other fur colors.\n",
    " - two groups: black cats and others\n",
    " - depending on sample size, could be z-test, but not knowing, probably a t-test\n",
    "\n",
    "4. You are interested in whether car-accident rates in cities where marijuana is legal differs from the general rate of car accidents.  Assume you know the standard deviation of car accident rates across all U.S. cities.\n",
    " - two groups: cities where marijuana is legal and not\n",
    " - know std => z-test\n",
    "\n"
   ]
  },
  {
   "cell_type": "markdown",
   "metadata": {},
   "source": [
    "## 2. Differentiate between variance between groups and variance within groups\n"
   ]
  },
  {
   "cell_type": "markdown",
   "metadata": {},
   "source": [
    "<img src=\"https://s3-ap-south-1.amazonaws.com/av-blog-media/wp-content/uploads/2017/12/image046.png\" width=\"500\">"
   ]
  },
  {
   "cell_type": "markdown",
   "metadata": {},
   "source": [
    "#### Between Group Variability\n",
    "\n",
    "Measures how much the means of each group vary from the mean of the overall population\n",
    "\n",
    "\n",
    "\n",
    "<img src=\"https://s3-ap-south-1.amazonaws.com/av-blog-media/wp-content/uploads/2017/12/image0171.png\" width=\"500\">\n",
    "    "
   ]
  },
  {
   "cell_type": "markdown",
   "metadata": {},
   "source": [
    "#### Within Group Variability\n",
    "\n",
    "Refers to variations caused by differences within individual groups.  "
   ]
  },
  {
   "cell_type": "markdown",
   "metadata": {},
   "source": [
    "Consider the given distributions of three samples below. As the spread (variability) of each sample is increased, their distributions overlap and they become part of a big population.\n",
    "<img src=\"https://s3-ap-south-1.amazonaws.com/av-blog-media/wp-content/uploads/2017/12/image031.png\" width=\"500\">"
   ]
  },
  {
   "cell_type": "markdown",
   "metadata": {},
   "source": [
    "Now consider another distribution of the same three samples but with less variability. Although the means of samples are similar to the samples in the above image, they seem to belong to different populations.\n",
    "\n",
    "<img src=\"https://s3-ap-south-1.amazonaws.com/av-blog-media/wp-content/uploads/2017/12/image033.png\" width=\"500\">\n"
   ]
  },
  {
   "cell_type": "markdown",
   "metadata": {},
   "source": [
    "### Which of these following trios would have high f-stats, and which would have low."
   ]
  },
  {
   "cell_type": "code",
   "execution_count": 7,
   "metadata": {
    "ExecuteTime": {
     "end_time": "2021-01-28T17:14:23.756930Z",
     "start_time": "2021-01-28T17:14:23.750471Z"
    }
   },
   "outputs": [],
   "source": [
    "# Create three sets of data without much difference in means\n",
    "np.random.seed(42)\n",
    "\n",
    "a = np.random.normal(20,20,20)\n",
    "b = np.random.normal(22,20,20)\n",
    "c = np.random.normal(19,20,20)\n",
    "\n",
    "one = np.random.normal(20,2,20)\n",
    "two = np.random.normal(22,2,20)\n",
    "three = np.random.normal(19,2,20)\n",
    "\n",
    "four = np.random.normal(20,10,20)\n",
    "five = np.random.normal(20,10,20)\n",
    "six = np.random.normal(23,10,20)"
   ]
  },
  {
   "cell_type": "code",
   "execution_count": 8,
   "metadata": {
    "ExecuteTime": {
     "end_time": "2021-01-28T17:21:49.433200Z",
     "start_time": "2021-01-28T17:21:48.948988Z"
    }
   },
   "outputs": [
    {
     "data": {
      "image/png": "[encoded data removed]",
      "text/plain": [
       "<Figure size 1080x216 with 3 Axes>"
      ]
     },
     "metadata": {
      "needs_background": "light"
     },
     "output_type": "display_data"
    }
   ],
   "source": [
    "groups = [[a,b,c], [one,two,three], [four,five,six]]\n",
    "fig, axes = plt.subplots(1,3, figsize=(15,3))\n",
    "\n",
    "for idx in range(len(groups)):\n",
    "    ax = idx%3\n",
    "    for group in groups[idx]:\n",
    "        sns.kdeplot(group, ax = axes[ax], shade=True)\n",
    "        axes[ax].set_title('Group {}'.format(idx + 1))"
   ]
  },
  {
   "cell_type": "markdown",
   "metadata": {},
   "source": [
    "Let's see how ANOVA identifies significant difference between these three examples."
   ]
  },
  {
   "cell_type": "code",
   "execution_count": 9,
   "metadata": {
    "ExecuteTime": {
     "end_time": "2021-01-28T04:20:00.059633Z",
     "start_time": "2021-01-28T04:20:00.055100Z"
    }
   },
   "outputs": [
    {
     "name": "stdout",
     "output_type": "stream",
     "text": [
      "F_onewayResult(statistic=0.06693195000987277, pvalue=0.9353322377145488)\n",
      "F_onewayResult(statistic=11.760064743099003, pvalue=5.2985391195830756e-05)\n",
      "F_onewayResult(statistic=3.194250788724835, pvalue=0.048432238619556506)\n"
     ]
    }
   ],
   "source": [
    "print(stats.f_oneway(a,b,c))\n",
    "print(stats.f_oneway(one,two,three))\n",
    "print(stats.f_oneway(four,five,six))"
   ]
  },
  {
   "cell_type": "markdown",
   "metadata": {},
   "source": [
    "## Calculating ANOVA\n",
    "\n",
    "In this section, we will learn how to calculate ANOVA ourselves."
   ]
  },
  {
   "cell_type": "code",
   "execution_count": 10,
   "metadata": {
    "ExecuteTime": {
     "end_time": "2021-01-28T20:14:06.242601Z",
     "start_time": "2021-01-28T20:14:06.221454Z"
    }
   },
   "outputs": [
    {
     "data": {
      "text/html": [
       "<div>\n",
       "<style scoped>\n",
       "    .dataframe tbody tr th:only-of-type {\n",
       "        vertical-align: middle;\n",
       "    }\n",
       "\n",
       "    .dataframe tbody tr th {\n",
       "        vertical-align: top;\n",
       "    }\n",
       "\n",
       "    .dataframe thead th {\n",
       "        text-align: right;\n",
       "    }\n",
       "</style>\n",
       "<table border=\"1\" class=\"dataframe\">\n",
       "  <thead>\n",
       "    <tr style=\"text-align: right;\">\n",
       "      <th></th>\n",
       "      <th>instant</th>\n",
       "      <th>dteday</th>\n",
       "      <th>season</th>\n",
       "      <th>yr</th>\n",
       "      <th>mnth</th>\n",
       "      <th>holiday</th>\n",
       "      <th>weekday</th>\n",
       "      <th>workingday</th>\n",
       "      <th>weathersit</th>\n",
       "      <th>temp</th>\n",
       "      <th>atemp</th>\n",
       "      <th>hum</th>\n",
       "      <th>windspeed</th>\n",
       "      <th>casual</th>\n",
       "      <th>registered</th>\n",
       "      <th>cnt</th>\n",
       "    </tr>\n",
       "  </thead>\n",
       "  <tbody>\n",
       "    <tr>\n",
       "      <th>0</th>\n",
       "      <td>1</td>\n",
       "      <td>2011-01-01</td>\n",
       "      <td>1</td>\n",
       "      <td>0</td>\n",
       "      <td>1</td>\n",
       "      <td>0</td>\n",
       "      <td>6</td>\n",
       "      <td>0</td>\n",
       "      <td>2</td>\n",
       "      <td>0.344167</td>\n",
       "      <td>0.363625</td>\n",
       "      <td>0.805833</td>\n",
       "      <td>0.160446</td>\n",
       "      <td>331</td>\n",
       "      <td>654</td>\n",
       "      <td>985</td>\n",
       "    </tr>\n",
       "    <tr>\n",
       "      <th>1</th>\n",
       "      <td>2</td>\n",
       "      <td>2011-01-02</td>\n",
       "      <td>1</td>\n",
       "      <td>0</td>\n",
       "      <td>1</td>\n",
       "      <td>0</td>\n",
       "      <td>0</td>\n",
       "      <td>0</td>\n",
       "      <td>2</td>\n",
       "      <td>0.363478</td>\n",
       "      <td>0.353739</td>\n",
       "      <td>0.696087</td>\n",
       "      <td>0.248539</td>\n",
       "      <td>131</td>\n",
       "      <td>670</td>\n",
       "      <td>801</td>\n",
       "    </tr>\n",
       "    <tr>\n",
       "      <th>2</th>\n",
       "      <td>3</td>\n",
       "      <td>2011-01-03</td>\n",
       "      <td>1</td>\n",
       "      <td>0</td>\n",
       "      <td>1</td>\n",
       "      <td>0</td>\n",
       "      <td>1</td>\n",
       "      <td>1</td>\n",
       "      <td>1</td>\n",
       "      <td>0.196364</td>\n",
       "      <td>0.189405</td>\n",
       "      <td>0.437273</td>\n",
       "      <td>0.248309</td>\n",
       "      <td>120</td>\n",
       "      <td>1229</td>\n",
       "      <td>1349</td>\n",
       "    </tr>\n",
       "    <tr>\n",
       "      <th>3</th>\n",
       "      <td>4</td>\n",
       "      <td>2011-01-04</td>\n",
       "      <td>1</td>\n",
       "      <td>0</td>\n",
       "      <td>1</td>\n",
       "      <td>0</td>\n",
       "      <td>2</td>\n",
       "      <td>1</td>\n",
       "      <td>1</td>\n",
       "      <td>0.200000</td>\n",
       "      <td>0.212122</td>\n",
       "      <td>0.590435</td>\n",
       "      <td>0.160296</td>\n",
       "      <td>108</td>\n",
       "      <td>1454</td>\n",
       "      <td>1562</td>\n",
       "    </tr>\n",
       "    <tr>\n",
       "      <th>4</th>\n",
       "      <td>5</td>\n",
       "      <td>2011-01-05</td>\n",
       "      <td>1</td>\n",
       "      <td>0</td>\n",
       "      <td>1</td>\n",
       "      <td>0</td>\n",
       "      <td>3</td>\n",
       "      <td>1</td>\n",
       "      <td>1</td>\n",
       "      <td>0.226957</td>\n",
       "      <td>0.229270</td>\n",
       "      <td>0.436957</td>\n",
       "      <td>0.186900</td>\n",
       "      <td>82</td>\n",
       "      <td>1518</td>\n",
       "      <td>1600</td>\n",
       "    </tr>\n",
       "  </tbody>\n",
       "</table>\n",
       "</div>"
      ],
      "text/plain": [
       "   instant      dteday  season  yr  mnth  holiday  weekday  workingday  \\\n",
       "0        1  2011-01-01       1   0     1        0        6           0   \n",
       "1        2  2011-01-02       1   0     1        0        0           0   \n",
       "2        3  2011-01-03       1   0     1        0        1           1   \n",
       "3        4  2011-01-04       1   0     1        0        2           1   \n",
       "4        5  2011-01-05       1   0     1        0        3           1   \n",
       "\n",
       "   weathersit      temp     atemp       hum  windspeed  casual  registered  \\\n",
       "0           2  0.344167  0.363625  0.805833   0.160446     331         654   \n",
       "1           2  0.363478  0.353739  0.696087   0.248539     131         670   \n",
       "2           1  0.196364  0.189405  0.437273   0.248309     120        1229   \n",
       "3           1  0.200000  0.212122  0.590435   0.160296     108        1454   \n",
       "4           1  0.226957  0.229270  0.436957   0.186900      82        1518   \n",
       "\n",
       "    cnt  \n",
       "0   985  \n",
       "1   801  \n",
       "2  1349  \n",
       "3  1562  \n",
       "4  1600  "
      ]
     },
     "execution_count": 10,
     "metadata": {},
     "output_type": "execute_result"
    }
   ],
   "source": [
    "df = pd.read_csv('bikeshare_day.csv')\n",
    "df.head()\n",
    "# cnt is the outcome we are trying to predict"
   ]
  },
  {
   "cell_type": "code",
   "execution_count": 11,
   "metadata": {
    "ExecuteTime": {
     "end_time": "2021-01-28T20:14:07.149088Z",
     "start_time": "2021-01-28T20:14:07.131655Z"
    }
   },
   "outputs": [
    {
     "data": {
      "text/html": [
       "<div>\n",
       "<style scoped>\n",
       "    .dataframe tbody tr th:only-of-type {\n",
       "        vertical-align: middle;\n",
       "    }\n",
       "\n",
       "    .dataframe tbody tr th {\n",
       "        vertical-align: top;\n",
       "    }\n",
       "\n",
       "    .dataframe thead th {\n",
       "        text-align: right;\n",
       "    }\n",
       "</style>\n",
       "<table border=\"1\" class=\"dataframe\">\n",
       "  <thead>\n",
       "    <tr style=\"text-align: right;\">\n",
       "      <th></th>\n",
       "      <th>instant</th>\n",
       "      <th>dteday</th>\n",
       "      <th>season</th>\n",
       "      <th>yr</th>\n",
       "      <th>mnth</th>\n",
       "      <th>holiday</th>\n",
       "      <th>weekday</th>\n",
       "      <th>workingday</th>\n",
       "      <th>weathersit</th>\n",
       "      <th>temp</th>\n",
       "      <th>atemp</th>\n",
       "      <th>hum</th>\n",
       "      <th>windspeed</th>\n",
       "      <th>casual</th>\n",
       "      <th>registered</th>\n",
       "      <th>cnt</th>\n",
       "      <th>season_cat</th>\n",
       "    </tr>\n",
       "  </thead>\n",
       "  <tbody>\n",
       "    <tr>\n",
       "      <th>0</th>\n",
       "      <td>1</td>\n",
       "      <td>2011-01-01</td>\n",
       "      <td>1</td>\n",
       "      <td>0</td>\n",
       "      <td>1</td>\n",
       "      <td>0</td>\n",
       "      <td>6</td>\n",
       "      <td>0</td>\n",
       "      <td>2</td>\n",
       "      <td>0.344167</td>\n",
       "      <td>0.363625</td>\n",
       "      <td>0.805833</td>\n",
       "      <td>0.160446</td>\n",
       "      <td>331</td>\n",
       "      <td>654</td>\n",
       "      <td>985</td>\n",
       "      <td>spring</td>\n",
       "    </tr>\n",
       "    <tr>\n",
       "      <th>1</th>\n",
       "      <td>2</td>\n",
       "      <td>2011-01-02</td>\n",
       "      <td>1</td>\n",
       "      <td>0</td>\n",
       "      <td>1</td>\n",
       "      <td>0</td>\n",
       "      <td>0</td>\n",
       "      <td>0</td>\n",
       "      <td>2</td>\n",
       "      <td>0.363478</td>\n",
       "      <td>0.353739</td>\n",
       "      <td>0.696087</td>\n",
       "      <td>0.248539</td>\n",
       "      <td>131</td>\n",
       "      <td>670</td>\n",
       "      <td>801</td>\n",
       "      <td>spring</td>\n",
       "    </tr>\n",
       "    <tr>\n",
       "      <th>2</th>\n",
       "      <td>3</td>\n",
       "      <td>2011-01-03</td>\n",
       "      <td>1</td>\n",
       "      <td>0</td>\n",
       "      <td>1</td>\n",
       "      <td>0</td>\n",
       "      <td>1</td>\n",
       "      <td>1</td>\n",
       "      <td>1</td>\n",
       "      <td>0.196364</td>\n",
       "      <td>0.189405</td>\n",
       "      <td>0.437273</td>\n",
       "      <td>0.248309</td>\n",
       "      <td>120</td>\n",
       "      <td>1229</td>\n",
       "      <td>1349</td>\n",
       "      <td>spring</td>\n",
       "    </tr>\n",
       "    <tr>\n",
       "      <th>3</th>\n",
       "      <td>4</td>\n",
       "      <td>2011-01-04</td>\n",
       "      <td>1</td>\n",
       "      <td>0</td>\n",
       "      <td>1</td>\n",
       "      <td>0</td>\n",
       "      <td>2</td>\n",
       "      <td>1</td>\n",
       "      <td>1</td>\n",
       "      <td>0.200000</td>\n",
       "      <td>0.212122</td>\n",
       "      <td>0.590435</td>\n",
       "      <td>0.160296</td>\n",
       "      <td>108</td>\n",
       "      <td>1454</td>\n",
       "      <td>1562</td>\n",
       "      <td>spring</td>\n",
       "    </tr>\n",
       "    <tr>\n",
       "      <th>4</th>\n",
       "      <td>5</td>\n",
       "      <td>2011-01-05</td>\n",
       "      <td>1</td>\n",
       "      <td>0</td>\n",
       "      <td>1</td>\n",
       "      <td>0</td>\n",
       "      <td>3</td>\n",
       "      <td>1</td>\n",
       "      <td>1</td>\n",
       "      <td>0.226957</td>\n",
       "      <td>0.229270</td>\n",
       "      <td>0.436957</td>\n",
       "      <td>0.186900</td>\n",
       "      <td>82</td>\n",
       "      <td>1518</td>\n",
       "      <td>1600</td>\n",
       "      <td>spring</td>\n",
       "    </tr>\n",
       "  </tbody>\n",
       "</table>\n",
       "</div>"
      ],
      "text/plain": [
       "   instant      dteday  season  yr  mnth  holiday  weekday  workingday  \\\n",
       "0        1  2011-01-01       1   0     1        0        6           0   \n",
       "1        2  2011-01-02       1   0     1        0        0           0   \n",
       "2        3  2011-01-03       1   0     1        0        1           1   \n",
       "3        4  2011-01-04       1   0     1        0        2           1   \n",
       "4        5  2011-01-05       1   0     1        0        3           1   \n",
       "\n",
       "   weathersit      temp     atemp       hum  windspeed  casual  registered  \\\n",
       "0           2  0.344167  0.363625  0.805833   0.160446     331         654   \n",
       "1           2  0.363478  0.353739  0.696087   0.248539     131         670   \n",
       "2           1  0.196364  0.189405  0.437273   0.248309     120        1229   \n",
       "3           1  0.200000  0.212122  0.590435   0.160296     108        1454   \n",
       "4           1  0.226957  0.229270  0.436957   0.186900      82        1518   \n",
       "\n",
       "    cnt season_cat  \n",
       "0   985     spring  \n",
       "1   801     spring  \n",
       "2  1349     spring  \n",
       "3  1562     spring  \n",
       "4  1600     spring  "
      ]
     },
     "execution_count": 11,
     "metadata": {},
     "output_type": "execute_result"
    }
   ],
   "source": [
    "# we need to conduct a little bit feature engineering to encode \n",
    "df['season_cat'] = df.season.apply(lambda x: 'spring' if x == 1 else \n",
    "                                           (\n",
    "                                            'summer' if x == 2 else (\n",
    "                                                'fall' if x == 3 else 'winter')\n",
    "                                           )\n",
    "                                      )\n",
    "df.head()"
   ]
  },
  {
   "cell_type": "code",
   "execution_count": 12,
   "metadata": {
    "ExecuteTime": {
     "end_time": "2021-01-28T20:14:08.295111Z",
     "start_time": "2021-01-28T20:14:08.031040Z"
    }
   },
   "outputs": [
    {
     "data": {
      "text/plain": [
       "<AxesSubplot:title={'center':'cnt'}, xlabel='season_cat'>"
      ]
     },
     "execution_count": 12,
     "metadata": {},
     "output_type": "execute_result"
    },
    {
     "data": {
      "image/png": "[encoded data removed]",
      "text/plain": [
       "<Figure size 432x432 with 1 Axes>"
      ]
     },
     "metadata": {
      "needs_background": "light"
     },
     "output_type": "display_data"
    }
   ],
   "source": [
    "#Create a boxplot\n",
    "# 1 is spring, 2 is summer, 3 is fall, and 4 is winter\n",
    "df.boxplot('cnt', by='season_cat', figsize=(6,6))"
   ]
  },
  {
   "cell_type": "code",
   "execution_count": 13,
   "metadata": {
    "ExecuteTime": {
     "end_time": "2021-01-28T20:14:09.195924Z",
     "start_time": "2021-01-28T20:14:09.182793Z"
    }
   },
   "outputs": [
    {
     "name": "stdout",
     "output_type": "stream",
     "text": [
      "Ttest_indResult(statistic=-20.40505135948835, pvalue=2.134072968524431e-62)\n",
      "Ttest_indResult(statistic=-14.65873026929708, pvalue=1.5284822271363832e-38)\n",
      "Ttest_indResult(statistic=-12.933694332032188, pvalue=1.2022067175230552e-31)\n",
      "Ttest_indResult(statistic=3.9765418611661243, pvalue=8.411509811510022e-05)\n",
      "Ttest_indResult(statistic=5.541003097872063, pvalue=5.7789091515026665e-08)\n",
      "Ttest_indResult(statistic=1.480020595990678, pvalue=0.13974231789501412)\n"
     ]
    }
   ],
   "source": [
    "# We could perform two sample t-tests for each sample.\n",
    "\n",
    "# subset the dataframe  by season and isolate the dependent variable\n",
    "spring = df[df.season_cat == 'spring'].cnt\n",
    "fall = df[df.season_cat == 'fall'].cnt\n",
    "summer = df[df.season_cat == 'summer'].cnt\n",
    "winter = df[df.season_cat == 'winter'].cnt\n",
    "\n",
    "# We could run independent t-tests for each combination\n",
    "# But that increases the chance of making a type I (False Positive) error\n",
    "# Also, as your groups increase, the number of tests may become infeasable\n",
    "print(stats.ttest_ind(spring, fall))\n",
    "print(stats.ttest_ind(spring, summer))\n",
    "print(stats.ttest_ind(spring, winter ))\n",
    "print(stats.ttest_ind(fall, summer))\n",
    "print(stats.ttest_ind(fall, winter))\n",
    "print(stats.ttest_ind(summer, winter))"
   ]
  },
  {
   "cell_type": "markdown",
   "metadata": {},
   "source": [
    "#### Breakdown of the calculation"
   ]
  },
  {
   "cell_type": "markdown",
   "metadata": {},
   "source": [
    "Total Sum of Squares is the square of every value minus the mean means, or in other words, the variance of the entire dataset without dividing through by degrees of freedom. \n",
    "- $SS_t$ = $\\sum (X_{ij} - \\bar X)^2$\n",
    "\n",
    "The total sum of squares can be broken down into the sum of squares between and the sum of squares within.\n",
    "- $SS_t =  SS_b+SS_w  $\n",
    "\n",
    "The sum of squares between accounts for variance in the dataset that comes from the difference between the mean of each sample, without dividing through by the degrees of freedom.   \n",
    "Or, in other words, the weighted deviation of each mean from the mean of means:\n",
    "- $SS_b$ = $\\sum(n_i(\\bar X - \\bar X_i)^2) $\n",
    "\n",
    "The sum of squares within accounts for variance that comes from within each sample.  That is, the sum of the variance of each group weighted by its degrees of freedom. This is really just the sum of the square of each data point's deviation from its sample mean:\n",
    "- $SS_w$ = $\\sum (n_i - 1) s_i ^ 2$  "
   ]
  },
  {
   "cell_type": "markdown",
   "metadata": {},
   "source": [
    "Degrees of Freedom for ANOVA:\n",
    "-  $DF_{between}$ = k - 1\n",
    "- $DF_{within}$ = N - k\n",
    "- $DF_{total}$ = N - 1"
   ]
  },
  {
   "cell_type": "markdown",
   "metadata": {},
   "source": [
    "Notations:\n",
    "- $\\bar{X} = $ Mean of Means = Mean of entire dataset\n",
    "- $X_{i}$ = An individual Sample\n",
    "- $X_{ij}$ = An observation in an individual sample\n",
    "- $\\bar{X_{i}}$ = The mean of an individual sample\n",
    "- k is the number of groups\n",
    "- N is the total number of observations\n",
    "- n is the number of observations in each group\n",
    "- $MS$ = Mean Sum of Squares\n",
    "- $DF$ = Degrees of Freedom\n",
    "- $F$ = F Statistic\n",
    "- $_b$ = between\n",
    "- $_w$ = within"
   ]
  },
  {
   "cell_type": "markdown",
   "metadata": {},
   "source": [
    "- $MS_b$ = $\\frac{SS_b}{DF_b}$\n",
    "- $MS_w$ = $\\frac{SS_w}{DF_w}$\n",
    "\n",
    "\n",
    "- $F$ = $\\frac{MS_b}{MS_w}$"
   ]
  },
  {
   "cell_type": "markdown",
   "metadata": {},
   "source": [
    "Like t-tests, we can also perform hypothesis testing with ANOVA. \n",
    "\n",
    "- $H_0$ : $\\mu{_1}$ = $\\mu_2$ = $\\mu_3$ = $\\mu_4$\n",
    "- $H_a$ : $H_0$ is not true\n",
    "\n",
    "Under the null hypothesis (and with certain assumptions), both quantities estimate the variance of the random error, and thus the ratio should be small. If the ratio is large, then we have evidence against the null, and hence, we would reject the null hypothesis."
   ]
  },
  {
   "cell_type": "markdown",
   "metadata": {},
   "source": [
    "**Quick intro to flexible arguments**"
   ]
  },
  {
   "cell_type": "markdown",
   "metadata": {},
   "source": [
    "In Python, the print function can take any number of arguments:"
   ]
  },
  {
   "cell_type": "code",
   "execution_count": null,
   "metadata": {
    "ExecuteTime": {
     "end_time": "2021-01-28T20:04:50.599600Z",
     "start_time": "2021-01-28T20:04:50.592313Z"
    }
   },
   "outputs": [],
   "source": [
    "print(1,2,3,4,5)\n",
    "print(1)\n",
    "print('First object', 2, 'third object')\n",
    "print(0,0,0,0,0,0,0,0,0,0,0,0,0,0,0,0,0,0,0,0,0,0)"
   ]
  },
  {
   "cell_type": "markdown",
   "metadata": {},
   "source": [
    "We can write functions that work this way too. \n",
    "\n",
    "To do so, we place a `*` in front of a placeholder variable when we define the function. "
   ]
  },
  {
   "cell_type": "code",
   "execution_count": null,
   "metadata": {
    "ExecuteTime": {
     "end_time": "2021-01-28T20:06:11.507057Z",
     "start_time": "2021-01-28T20:06:11.504626Z"
    }
   },
   "outputs": [],
   "source": [
    "def example(*stuff):\n",
    "    return stuff"
   ]
  },
  {
   "cell_type": "code",
   "execution_count": null,
   "metadata": {
    "ExecuteTime": {
     "end_time": "2021-01-28T20:06:16.542547Z",
     "start_time": "2021-01-28T20:06:16.538898Z"
    }
   },
   "outputs": [],
   "source": [
    "example(1,2,3,4,5)"
   ]
  },
  {
   "cell_type": "code",
   "execution_count": null,
   "metadata": {
    "ExecuteTime": {
     "end_time": "2021-01-28T20:06:56.516534Z",
     "start_time": "2021-01-28T20:06:56.513652Z"
    }
   },
   "outputs": [],
   "source": [
    "def example(*stuff):\n",
    "    count = 0\n",
    "    for item in stuff:\n",
    "        count += item\n",
    "    return count"
   ]
  },
  {
   "cell_type": "code",
   "execution_count": null,
   "metadata": {
    "ExecuteTime": {
     "end_time": "2021-01-28T20:07:02.261751Z",
     "start_time": "2021-01-28T20:07:02.258112Z"
    }
   },
   "outputs": [],
   "source": [
    "example(1,2,3,4,5)"
   ]
  },
  {
   "cell_type": "markdown",
   "metadata": {},
   "source": [
    "Because it makes out lives easier, we will apply the same principal to the our `anova` function."
   ]
  },
  {
   "cell_type": "markdown",
   "metadata": {},
   "source": [
    "**Let's write some *code***\n",
    "\n",
    "The goal of our function is to output a dataframe that replicates this table, which is produced by statsmodels ANOVA.\n",
    "\n",
    "|            | df    | sum_sq       | mean_sq      | F          | PR(>F)       |\n",
    "|------------|-------|--------------|--------------|------------|--------------|\n",
    "| season_cat | 3.0   | 9.505959e+08 | 3.168653e+08 | 128.769622 | 6.720391e-67 |\n",
    "| Residual   | 727.0 | 1.788940e+09 | 2.460715e+06 | NaN        | NaN          |"
   ]
  },
  {
   "cell_type": "code",
   "execution_count": 19,
   "metadata": {
    "ExecuteTime": {
     "end_time": "2021-01-28T17:52:21.378430Z",
     "start_time": "2021-01-28T17:52:21.367860Z"
    },
    "code_folding": [
     0
    ]
   },
   "outputs": [],
   "source": [
    "def anova(*samples, group_label='samples'):\n",
    "    # Merge all samples into a single array (assume all samples are pandas series)\n",
    "    all_samples = samples[0].append(samples[1:])\n",
    "\n",
    "    # Calculate the mean of all samples\n",
    "    overall_mean = all_samples.mean()\n",
    "    \n",
    "    # Calculate the sum of square difference\n",
    "    # between all observations and the overall_mean\n",
    "    ss_total = sum([(x-overall_mean)**2 for x in all_samples])\n",
    "    # Calculate the sum of squared differences \n",
    "    # within each sample\n",
    "    ss_within = 0\n",
    "    for sample in samples:\n",
    "        ss_within += ((sample - sample.mean())**2).sum()\n",
    "    # Calculate the sum of squared differences\n",
    "    # between the overall mean and each sample mean\n",
    "    # weighted by the size of each sample\n",
    "    ss_between = 0\n",
    "    for sample in samples:\n",
    "        ss_between += ((overall_mean - sample.mean())**2) * len(sample)\n",
    "#===================================================================\n",
    "          # If the weighting in the line above is confusing,\n",
    "          # you could optionally just loop over each individual\n",
    "          # data point in a sample and calculate the difference\n",
    "          # between the overall mean and the sample mean ^squared\n",
    "          # for every data point. The calculation is the same.\n",
    "            \n",
    "#         for observation in sample:\n",
    "#             ss_between += (overall_mean - sample.mean())**2\n",
    "#===================================================================    \n",
    "    # Calculate the numbers of groups\n",
    "    n_groups = len(samples)\n",
    "    # Calculation the total numbers of observations\n",
    "    n_obs = len(all_samples)\n",
    "    # Calculate the degrees of freedom within \n",
    "    df_within = n_obs - n_groups\n",
    "    # Calculate the mean squared difference within\n",
    "    ms_within = ss_within / df_within\n",
    "    # Calculate the degrees of freedom between\n",
    "    df_between = n_groups - 1\n",
    "    # Calculate the mean squared difference between\n",
    "    ms_between = ss_between / df_between\n",
    "    # Calculate the f statistic\n",
    "    f = ms_between / ms_within\n",
    "    # Calculate the p_value\n",
    "    p_value = stats.f.sf(f, df_between, df_within)\n",
    "    \n",
    "\n",
    "    column_names = ['df', 'sum_sq', 'mean_sq', 'F', 'PR(>F)']\n",
    "    data = [[df_between, ss_between, ms_between, round(f, 6), p_value],\n",
    "            [df_within,  ss_within,  ms_within, np.nan, np.nan]]\n",
    "\n",
    "    df = pd.DataFrame(data, columns=column_names, index=[group_label, 'Residual'])\n",
    "\n",
    "    return df"
   ]
  },
  {
   "cell_type": "code",
   "execution_count": 20,
   "metadata": {
    "ExecuteTime": {
     "end_time": "2021-01-28T17:53:08.516095Z",
     "start_time": "2021-01-28T17:53:08.503282Z"
    }
   },
   "outputs": [
    {
     "data": {
      "text/html": [
       "<div>\n",
       "<style scoped>\n",
       "    .dataframe tbody tr th:only-of-type {\n",
       "        vertical-align: middle;\n",
       "    }\n",
       "\n",
       "    .dataframe tbody tr th {\n",
       "        vertical-align: top;\n",
       "    }\n",
       "\n",
       "    .dataframe thead th {\n",
       "        text-align: right;\n",
       "    }\n",
       "</style>\n",
       "<table border=\"1\" class=\"dataframe\">\n",
       "  <thead>\n",
       "    <tr style=\"text-align: right;\">\n",
       "      <th></th>\n",
       "      <th>df</th>\n",
       "      <th>sum_sq</th>\n",
       "      <th>mean_sq</th>\n",
       "      <th>F</th>\n",
       "      <th>PR(&gt;F)</th>\n",
       "    </tr>\n",
       "  </thead>\n",
       "  <tbody>\n",
       "    <tr>\n",
       "      <th>Seasons</th>\n",
       "      <td>3</td>\n",
       "      <td>9.505959e+08</td>\n",
       "      <td>3.168653e+08</td>\n",
       "      <td>128.769622</td>\n",
       "      <td>6.720391e-67</td>\n",
       "    </tr>\n",
       "    <tr>\n",
       "      <th>Residual</th>\n",
       "      <td>727</td>\n",
       "      <td>1.788940e+09</td>\n",
       "      <td>2.460715e+06</td>\n",
       "      <td>NaN</td>\n",
       "      <td>NaN</td>\n",
       "    </tr>\n",
       "  </tbody>\n",
       "</table>\n",
       "</div>"
      ],
      "text/plain": [
       "           df        sum_sq       mean_sq           F        PR(>F)\n",
       "Seasons     3  9.505959e+08  3.168653e+08  128.769622  6.720391e-67\n",
       "Residual  727  1.788940e+09  2.460715e+06         NaN           NaN"
      ]
     },
     "execution_count": 20,
     "metadata": {},
     "output_type": "execute_result"
    }
   ],
   "source": [
    "anova(summer, fall, winter, spring, group_label = 'Seasons')"
   ]
  },
  {
   "cell_type": "markdown",
   "metadata": {},
   "source": [
    "## Perform an ANOVA with scipy"
   ]
  },
  {
   "cell_type": "code",
   "execution_count": 21,
   "metadata": {
    "ExecuteTime": {
     "end_time": "2021-01-28T05:19:35.693324Z",
     "start_time": "2021-01-28T05:19:35.680664Z"
    }
   },
   "outputs": [
    {
     "data": {
      "text/plain": [
       "128.76962156570784"
      ]
     },
     "execution_count": 21,
     "metadata": {},
     "output_type": "execute_result"
    }
   ],
   "source": [
    "anova = stats.f_oneway(df['cnt'][df['season_cat'] == 'summer'],\n",
    "                df['cnt'][df['season_cat'] == 'fall'], \n",
    "                df['cnt'][df['season_cat'] == 'winter'],\n",
    "                df['cnt'][df['season_cat'] == 'spring'])\n",
    "\n",
    "anova.statistic"
   ]
  },
  {
   "cell_type": "code",
   "execution_count": 24,
   "metadata": {},
   "outputs": [
    {
     "data": {
      "text/plain": [
       "128.76962156570784"
      ]
     },
     "execution_count": 24,
     "metadata": {},
     "output_type": "execute_result"
    }
   ],
   "source": [
    "# Could also do\n",
    "anova2 = stats.f_oneway(summer, fall, winter, spring)\n",
    "anova2.statistic"
   ]
  },
  {
   "cell_type": "markdown",
   "metadata": {},
   "source": [
    "## 4. Calculate ANOVA using statsmodel"
   ]
  },
  {
   "cell_type": "code",
   "execution_count": 22,
   "metadata": {},
   "outputs": [
    {
     "data": {
      "text/plain": [
       "<AxesSubplot:title={'center':'cnt'}, xlabel='season_cat'>"
      ]
     },
     "execution_count": 22,
     "metadata": {},
     "output_type": "execute_result"
    },
    {
     "data": {
      "image/png": "[encoded data removed]",
      "text/plain": [
       "<Figure size 432x288 with 1 Axes>"
      ]
     },
     "metadata": {
      "needs_background": "light"
     },
     "output_type": "display_data"
    }
   ],
   "source": [
    "df.boxplot('cnt', by = 'season_cat')"
   ]
  },
  {
   "cell_type": "code",
   "execution_count": 23,
   "metadata": {
    "ExecuteTime": {
     "end_time": "2021-01-28T22:05:02.770353Z",
     "start_time": "2021-01-28T22:05:02.755564Z"
    }
   },
   "outputs": [],
   "source": [
    "linear_regression_model = ols('cnt~season_cat',data=df).fit()"
   ]
  },
  {
   "cell_type": "code",
   "execution_count": null,
   "metadata": {
    "ExecuteTime": {
     "end_time": "2021-01-28T22:05:06.967497Z",
     "start_time": "2021-01-28T22:05:06.955140Z"
    }
   },
   "outputs": [],
   "source": [
    "# Run Anova with the linear regression model\n",
    "anova_table = sm.stats.anova_lm(linear_regression_model)\n",
    "print(anova_table)"
   ]
  },
  {
   "cell_type": "markdown",
   "metadata": {},
   "source": [
    "Why are we using linear regression for ANOVA?\n",
    "\n",
    "We haven't gotten to Linear Regression yet, but let's take a look at the table reporting the coefficients for linear regression. "
   ]
  },
  {
   "cell_type": "code",
   "execution_count": null,
   "metadata": {
    "ExecuteTime": {
     "end_time": "2021-01-28T22:05:19.104276Z",
     "start_time": "2021-01-28T22:05:19.087811Z"
    }
   },
   "outputs": [],
   "source": [
    "# Collect the summary tables from the linear regression model\n",
    "regression_table = linear_regression_model.summary()\n",
    "# Collect the second table which contains the coefficients\n",
    "regression_table = regression_table.tables[1]\n",
    "# Convert the data into a dataframe\n",
    "regression_table = pd.DataFrame(regression_table.data[1:],columns = regression_table.data[0])\n",
    "regression_table.head()"
   ]
  },
  {
   "cell_type": "markdown",
   "metadata": {},
   "source": [
    "If we look at first column, we see the following values:\n",
    "\n",
    "```Intercept, season_cat[T.spring], season_cat[T.summer], season_cat[T.winter]```\n",
    "\n",
    "These values represent each of the seasons. In this case, `fall` has been set as the intercept. \n",
    "\n",
    "Let's calculate the mean for each of the seasons in our dataset and append them to the results table. "
   ]
  },
  {
   "cell_type": "code",
   "execution_count": null,
   "metadata": {
    "ExecuteTime": {
     "end_time": "2021-01-28T20:30:36.631166Z",
     "start_time": "2021-01-28T20:30:36.626716Z"
    }
   },
   "outputs": [],
   "source": [
    "means = df.groupby('season_cat')['cnt'].mean()"
   ]
  },
  {
   "cell_type": "code",
   "execution_count": null,
   "metadata": {
    "ExecuteTime": {
     "end_time": "2021-01-28T20:30:38.764936Z",
     "start_time": "2021-01-28T20:30:38.761639Z"
    }
   },
   "outputs": [],
   "source": [
    "regression_table['means'] = means.values"
   ]
  },
  {
   "cell_type": "markdown",
   "metadata": {},
   "source": [
    "Now let's subtract the fall mean from all other mean values, and save the output as another column. "
   ]
  },
  {
   "cell_type": "code",
   "execution_count": null,
   "metadata": {
    "ExecuteTime": {
     "end_time": "2021-01-28T20:31:07.963109Z",
     "start_time": "2021-01-28T20:31:07.959639Z"
    }
   },
   "outputs": [],
   "source": [
    "regression_table['mean-fall-mean'] = regression_table.means - regression_table.means[0]"
   ]
  },
  {
   "cell_type": "code",
   "execution_count": null,
   "metadata": {
    "ExecuteTime": {
     "end_time": "2021-01-28T20:31:12.385489Z",
     "start_time": "2021-01-28T20:31:12.374225Z"
    }
   },
   "outputs": [],
   "source": [
    "regression_table"
   ]
  },
  {
   "cell_type": "markdown",
   "metadata": {},
   "source": [
    "We can see that the difference between fall and the other season mean is the same as their linear regression coefficient! "
   ]
  },
  {
   "cell_type": "markdown",
   "metadata": {},
   "source": [
    "## Next steps\n",
    "Just because we have rejected the null hypothesis, it doesn't mean we have conclusively showed which group is significantly different from which - remember, the alternative hypothesis is \"the null is not true\". \n",
    "\n",
    "We need to conduct post hoc tests for multiple comparison to find out which groups are different, the most prominent post hoc tests are:\n",
    "- LSD (Least significant difference)\n",
    "    - $t\\sqrt \\frac{MSE}{n^2}$\n",
    "- Tukey's HSD \n",
    "    - $q\\sqrt \\frac{MSE}{n}$\n",
    "    \n",
    "https://www.statisticshowto.com/studentized-range-distribution/#qtable\n",
    "    \n",
    "After calculating a value for LSD or HSD, we compare each pair wise mean difference with the LSD or HSD difference. If the pairwise mean difference exceeds the LSD/HSD, then they are significantly different."
   ]
  },
  {
   "cell_type": "code",
   "execution_count": null,
   "metadata": {
    "ExecuteTime": {
     "end_time": "2021-01-28T21:52:11.339148Z",
     "start_time": "2021-01-28T21:52:11.322964Z"
    }
   },
   "outputs": [],
   "source": [
    "results = pairwise_tukeyhsd(df.cnt, df.season_cat)"
   ]
  },
  {
   "cell_type": "code",
   "execution_count": null,
   "metadata": {
    "ExecuteTime": {
     "end_time": "2021-01-28T21:52:25.456281Z",
     "start_time": "2021-01-28T21:52:25.451105Z"
    }
   },
   "outputs": [],
   "source": [
    "results.summary()"
   ]
  },
  {
   "cell_type": "code",
   "execution_count": null,
   "metadata": {},
   "outputs": [],
   "source": []
  }
 ],
 "metadata": {
  "kernelspec": {
   "display_name": "Python 3",
   "language": "python",
   "name": "python3"
  },
  "language_info": {
   "codemirror_mode": {
    "name": "ipython",
    "version": 3
   },
   "file_extension": ".py",
   "mimetype": "text/x-python",
   "name": "python",
   "nbconvert_exporter": "python",
   "pygments_lexer": "ipython3",
   "version": "3.8.5"
  },
  "toc": {
   "base_numbering": 1,
   "nav_menu": {},
   "number_sections": false,
   "sideBar": true,
   "skip_h1_title": false,
   "title_cell": "Table of Contents",
   "title_sidebar": "Contents",
   "toc_cell": false,
   "toc_position": {},
   "toc_section_display": true,
   "toc_window_display": false
  }
 },
 "nbformat": 4,
 "nbformat_minor": 4
}
