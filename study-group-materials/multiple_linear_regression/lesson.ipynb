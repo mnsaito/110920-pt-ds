{
 "cells": [
  {
   "cell_type": "code",
   "execution_count": 1,
   "metadata": {
    "ExecuteTime": {
     "end_time": "2021-02-09T19:30:39.166720Z",
     "start_time": "2021-02-09T19:30:39.163977Z"
    }
   },
   "outputs": [],
   "source": [
    "import pandas as pd\n",
    "import numpy as np\n",
    "import matplotlib.pyplot as plt\n",
    "from random import gauss\n",
    "from scipy import stats\n",
    "import seaborn as sns"
   ]
  },
  {
   "cell_type": "markdown",
   "metadata": {},
   "source": [
    "## Multiple Linear Regression\n",
    "\n",
    "The main idea here is pretty simple. Whereas, in simple linear regression we took our dependent variable to be a function only of a single independent variable, here we'll be taking the dependent variable to be a function of multiple independent variables.\n",
    "\n",
    "Our regression equation, then, instead of looking like $\\hat{y} = mx + b$, will now look like:\n",
    "\n",
    "$\\hat{y} = \\hat{\\beta}_0 + \\hat{\\beta}_1x_1 + ... + \\hat{\\beta}_nx_n$.\n",
    "\n",
    "Remember that the hats ( $\\hat{}$ ) indicate parameters that are estimated.\n",
    "\n",
    "Is this still a best-fit *line*? Well, no. What does the graph of, say, z = x + y look like? [Here's](https://academo.org/demos/3d-surface-plotter/) a 3d-plotter. (Of course, once we get x's with subscripts beyond 2 it's going to be very hard to visualize. But in practice linear regressions can make use of dozens or even of hundreds of independent variables!)\n",
    "\n",
    "I want to focus here more on what coding a multiple regression looks like in Python. But you might be wondering: Is it possible to calculate the betas by hand?\n",
    "\n",
    "Yes! See [here](https://stattrek.com/multiple-regression/regression-coefficients.aspx) for a nice explanation and example.\n",
    "\n",
    "We'll focus more directly on matrix mathematics later in the course."
   ]
  },
  {
   "cell_type": "markdown",
   "metadata": {},
   "source": [
    "## Confounding Variables\n",
    "\n",
    "Suppose I have a simple linear regression that models the growth of corn plants as a function of the temperature of the ambient air. And suppose there is a noticeable positive correlation between temperature and plant height."
   ]
  },
  {
   "cell_type": "code",
   "execution_count": 2,
   "metadata": {
    "ExecuteTime": {
     "end_time": "2021-02-09T21:15:28.416667Z",
     "start_time": "2021-02-09T21:15:28.411629Z"
    }
   },
   "outputs": [],
   "source": [
    "corn = pd.read_csv('data/corn.csv')"
   ]
  },
  {
   "cell_type": "code",
   "execution_count": 3,
   "metadata": {
    "ExecuteTime": {
     "end_time": "2021-02-09T21:15:31.057037Z",
     "start_time": "2021-02-09T21:15:30.605323Z"
    }
   },
   "outputs": [
    {
     "data": {
      "image/png": "[encoded data removed]",
      "text/plain": [
       "<Figure size 360x360 with 1 Axes>"
      ]
     },
     "metadata": {
      "needs_background": "light"
     },
     "output_type": "display_data"
    }
   ],
   "source": [
    "sns.lmplot(data=corn, x='temp', y='height')\n",
    "plt.xlabel('Temperature ($\\degree$ F)')\n",
    "plt.ylabel('Height (cm)')\n",
    "plt.title('Corn plant height as a function of temperature');"
   ]
  },
  {
   "cell_type": "code",
   "execution_count": 4,
   "metadata": {},
   "outputs": [
    {
     "data": {
      "text/html": [
       "<div>\n",
       "<style scoped>\n",
       "    .dataframe tbody tr th:only-of-type {\n",
       "        vertical-align: middle;\n",
       "    }\n",
       "\n",
       "    .dataframe tbody tr th {\n",
       "        vertical-align: top;\n",
       "    }\n",
       "\n",
       "    .dataframe thead th {\n",
       "        text-align: right;\n",
       "    }\n",
       "</style>\n",
       "<table border=\"1\" class=\"dataframe\">\n",
       "  <thead>\n",
       "    <tr style=\"text-align: right;\">\n",
       "      <th></th>\n",
       "      <th>Unnamed: 0</th>\n",
       "      <th>temp</th>\n",
       "      <th>humid</th>\n",
       "      <th>height</th>\n",
       "    </tr>\n",
       "  </thead>\n",
       "  <tbody>\n",
       "    <tr>\n",
       "      <th>0</th>\n",
       "      <td>0</td>\n",
       "      <td>58.086965</td>\n",
       "      <td>49.848304</td>\n",
       "      <td>122.222368</td>\n",
       "    </tr>\n",
       "    <tr>\n",
       "      <th>1</th>\n",
       "      <td>1</td>\n",
       "      <td>70.582087</td>\n",
       "      <td>22.855446</td>\n",
       "      <td>110.079666</td>\n",
       "    </tr>\n",
       "    <tr>\n",
       "      <th>2</th>\n",
       "      <td>2</td>\n",
       "      <td>75.868571</td>\n",
       "      <td>72.856834</td>\n",
       "      <td>256.812528</td>\n",
       "    </tr>\n",
       "    <tr>\n",
       "      <th>3</th>\n",
       "      <td>3</td>\n",
       "      <td>74.732376</td>\n",
       "      <td>38.907566</td>\n",
       "      <td>167.889601</td>\n",
       "    </tr>\n",
       "    <tr>\n",
       "      <th>4</th>\n",
       "      <td>4</td>\n",
       "      <td>77.384666</td>\n",
       "      <td>42.570524</td>\n",
       "      <td>188.914312</td>\n",
       "    </tr>\n",
       "  </tbody>\n",
       "</table>\n",
       "</div>"
      ],
      "text/plain": [
       "   Unnamed: 0       temp      humid      height\n",
       "0           0  58.086965  49.848304  122.222368\n",
       "1           1  70.582087  22.855446  110.079666\n",
       "2           2  75.868571  72.856834  256.812528\n",
       "3           3  74.732376  38.907566  167.889601\n",
       "4           4  77.384666  42.570524  188.914312"
      ]
     },
     "execution_count": 4,
     "metadata": {},
     "output_type": "execute_result"
    }
   ],
   "source": [
    "corn.head()"
   ]
  },
  {
   "cell_type": "markdown",
   "metadata": {},
   "source": [
    "It seems that higher temperatures lead to taller corn plants. But it's hard to know for sure. One **confounding variable** might be *humidity*. If we haven't controlled for humidity, then it's difficult to draw conclusions.\n",
    "\n",
    "One solution is to use **both features** in a single model."
   ]
  },
  {
   "cell_type": "code",
   "execution_count": 5,
   "metadata": {
    "ExecuteTime": {
     "end_time": "2021-02-09T21:16:43.266816Z",
     "start_time": "2021-02-09T21:16:42.925776Z"
    }
   },
   "outputs": [
    {
     "data": {
      "image/png": "[encoded data removed]",
      "text/plain": [
       "<Figure size 360x360 with 1 Axes>"
      ]
     },
     "metadata": {
      "needs_background": "light"
     },
     "output_type": "display_data"
    }
   ],
   "source": [
    "sns.lmplot(data=corn, x='humid', y='height')\n",
    "plt.xlabel('Humidity (%)')\n",
    "plt.ylabel('Height (cm)')\n",
    "plt.title('Corn plant height as a function of humidity');"
   ]
  },
  {
   "cell_type": "markdown",
   "metadata": {},
   "source": [
    "# Assumptions of Multiple Linear Regression"
   ]
  },
  {
   "cell_type": "markdown",
   "metadata": {},
   "source": [
    "Multipe Linear Regession has the same assumptions as Simple Linear Regression **with one additional assumption.**\n",
    "<br>\n",
    "<br>\n",
    "<details><summary>Click here to review the assumptions of Simple Linear Regression</summary>\n",
    "    \n",
    "### 1. The relationship between target and predictor(s) is linear. (Of course!)**\n",
    "\n",
    "**How can I check for this?**\n",
    "- Build a scatterplot of y vs. various predictors.\n",
    "\n",
    "**What can I do if it looks like I'm violating this assumption?**\n",
    "- Consider log-scaling your data.\n",
    "- Consider a different type of model!\n",
    "\n",
    "### 2. The errors are mutually independent. (That is, there is no correlation between any two errors.)**\n",
    "\n",
    "**How can I check for this?**\n",
    "- Build an error plot, i.e. a plot of errors for a particular predictor (vs. the values of that predictor).\n",
    "\n",
    "**What can I do if it looks like I'm violating this assumption?**\n",
    "- Consider dropping extreme values.\n",
    "\n",
    "### 3. The errors are normally distributed. (That is, smaller errors are more probable than larger errors, according to the familiar bell curve.)**\n",
    "\n",
    "**How can I check for this?**\n",
    "- Check the Omnibus value (see below).\n",
    "- Check the Jarque-Bera value (see below).\n",
    "- Build a QQ-Plot.\n",
    "\n",
    "**What can I do if it looks like I'm violating this assumption?**\n",
    "- Consider log-scaling your data.\n",
    "\n",
    "### 4. The errors are homoskedastic. (That is, the errors have the same variance. The Greek word $\\sigma\\kappa\\epsilon\\delta\\acute{\\alpha}\\nu\\nu\\upsilon\\mu\\iota$ means \"to scatter\".)**\n",
    "\n",
    "**How can I check for this?**\n",
    "- Check the Durbin-Watson score (see below).\n",
    "- Conduct a Goldfeld-Quandt test.\n",
    "- Build an error plot, i.e. a plot of errors for a particular predictor (vs. the values of that predictor).\n",
    "\n",
    "**What can I do if it looks like I'm violating this assumption?**\n",
    "- Consider dropping extreme values.\n",
    "- Consider log-scaling your target.\n",
    "- Consider a different type of model!</details>"
   ]
  },
  {
   "cell_type": "markdown",
   "metadata": {},
   "source": [
    "## Multicollinearity\n",
    "\n",
    "Multicollinearity describes the correlation between distinct predictors. Why might high multicollinearity be a problem for interpreting a linear regression model?\n",
    "\n",
    "It's problematic for statistics in an inferential mode because, if $x_1$ and $x_2$ are highly correlated with $y$ but also *with each other*, then it will be very difficult to tease apart the effects of $x_1$ on $y$ and the effects of $x_2$ on $y$. If I really want to have a good sense of the effect of $x_1$ on $y$, then I'd like to vary $x_1$ while keeping the other features constant. But if $x_1$ is highly correlated with $x_2$ then this will be a practically impossible exercise!\n",
    "\n",
    "We will return to this topic again. For more, see [this post](https://towardsdatascience.com/https-towardsdatascience-com-multicollinearity-how-does-it-create-a-problem-72956a49058).\n",
    "\n",
    "### A further assumption for multiple linear regression is:\n",
    "\n",
    "**5. The predictors are independent.**\n",
    "\n",
    "**How can I check for this?**\n",
    "- Check the model Condition Number (see below).\n",
    "- Check the correlation values.\n",
    "- Compute Variance Inflation Factors ([VIFs](https://www.statsmodels.org/devel/generated/statsmodels.stats.outliers_influence.variance_inflation_factor.html)).\n",
    "\n",
    "**What can I do if it looks like I'm violating this assumption?**\n",
    "\n",
    "- Consider dropping offending predictors.\n",
    "- Feature engineering\n",
    "- Scaling the data"
   ]
  },
  {
   "cell_type": "code",
   "execution_count": 6,
   "metadata": {
    "ExecuteTime": {
     "end_time": "2021-02-09T21:25:38.558981Z",
     "start_time": "2021-02-09T21:25:38.364084Z"
    }
   },
   "outputs": [
    {
     "data": {
      "text/html": [
       "<div>\n",
       "<style scoped>\n",
       "    .dataframe tbody tr th:only-of-type {\n",
       "        vertical-align: middle;\n",
       "    }\n",
       "\n",
       "    .dataframe tbody tr th {\n",
       "        vertical-align: top;\n",
       "    }\n",
       "\n",
       "    .dataframe thead th {\n",
       "        text-align: right;\n",
       "    }\n",
       "</style>\n",
       "<table border=\"1\" class=\"dataframe\">\n",
       "  <thead>\n",
       "    <tr style=\"text-align: right;\">\n",
       "      <th></th>\n",
       "      <th>Unnamed: 0</th>\n",
       "      <th>temp</th>\n",
       "      <th>humid</th>\n",
       "      <th>height</th>\n",
       "    </tr>\n",
       "  </thead>\n",
       "  <tbody>\n",
       "    <tr>\n",
       "      <th>Unnamed: 0</th>\n",
       "      <td>1.000000</td>\n",
       "      <td>0.032962</td>\n",
       "      <td>0.025290</td>\n",
       "      <td>0.040260</td>\n",
       "    </tr>\n",
       "    <tr>\n",
       "      <th>temp</th>\n",
       "      <td>0.032962</td>\n",
       "      <td>1.000000</td>\n",
       "      <td>0.032322</td>\n",
       "      <td>0.723216</td>\n",
       "    </tr>\n",
       "    <tr>\n",
       "      <th>humid</th>\n",
       "      <td>0.025290</td>\n",
       "      <td>0.032322</td>\n",
       "      <td>1.000000</td>\n",
       "      <td>0.713619</td>\n",
       "    </tr>\n",
       "    <tr>\n",
       "      <th>height</th>\n",
       "      <td>0.040260</td>\n",
       "      <td>0.723216</td>\n",
       "      <td>0.713619</td>\n",
       "      <td>1.000000</td>\n",
       "    </tr>\n",
       "  </tbody>\n",
       "</table>\n",
       "</div>"
      ],
      "text/plain": [
       "            Unnamed: 0      temp     humid    height\n",
       "Unnamed: 0    1.000000  0.032962  0.025290  0.040260\n",
       "temp          0.032962  1.000000  0.032322  0.723216\n",
       "humid         0.025290  0.032322  1.000000  0.713619\n",
       "height        0.040260  0.723216  0.713619  1.000000"
      ]
     },
     "execution_count": 6,
     "metadata": {},
     "output_type": "execute_result"
    }
   ],
   "source": [
    "corn.corr()"
   ]
  },
  {
   "cell_type": "markdown",
   "metadata": {},
   "source": [
    "## Dealing with Categorical Variables\n",
    "\n",
    "One issue we'd like to resolve is what to do with categorical variables, i.e. variables that represent categories rather than continua. In a Pandas DataFrame, these columns may well have strings or objects for values, but they need not. A certain heart-disease dataset from Kaggle, for example, has a target variable that takes values 0-4, each representing a different stage of heart disease.\n",
    "\n",
    "### Dummying\n",
    "\n",
    "One very effective way of dealing with categorical variables is to dummy them out. What this involves is making a new column for _each categorical value in the column we're dummying out_.\n",
    "\n",
    "These new columns will be filled only with 0's and 1's, a 1 representing the presence of the relevant categorical value.\n",
    "\n",
    "Let's look at a simple example:"
   ]
  },
  {
   "cell_type": "code",
   "execution_count": 7,
   "metadata": {
    "ExecuteTime": {
     "end_time": "2021-02-09T21:27:33.118835Z",
     "start_time": "2021-02-09T21:27:33.109361Z"
    }
   },
   "outputs": [],
   "source": [
    "comma_use = pd.read_csv('data/comma-survey.csv')"
   ]
  },
  {
   "cell_type": "markdown",
   "metadata": {},
   "source": [
    "For more on this dataset see [here](https://fivethirtyeight.com/features/elitist-superfluous-or-popular-we-polled-americans-on-the-oxford-comma/)."
   ]
  },
  {
   "cell_type": "code",
   "execution_count": 8,
   "metadata": {
    "ExecuteTime": {
     "end_time": "2021-02-09T21:27:34.596787Z",
     "start_time": "2021-02-09T21:27:34.581024Z"
    }
   },
   "outputs": [
    {
     "data": {
      "text/html": [
       "<div>\n",
       "<style scoped>\n",
       "    .dataframe tbody tr th:only-of-type {\n",
       "        vertical-align: middle;\n",
       "    }\n",
       "\n",
       "    .dataframe tbody tr th {\n",
       "        vertical-align: top;\n",
       "    }\n",
       "\n",
       "    .dataframe thead th {\n",
       "        text-align: right;\n",
       "    }\n",
       "</style>\n",
       "<table border=\"1\" class=\"dataframe\">\n",
       "  <thead>\n",
       "    <tr style=\"text-align: right;\">\n",
       "      <th></th>\n",
       "      <th>RespondentID</th>\n",
       "      <th>In your opinion, which sentence is more gramatically correct?</th>\n",
       "      <th>Prior to reading about it above, had you heard of the serial (or Oxford) comma?</th>\n",
       "      <th>How much, if at all, do you care about the use (or lack thereof) of the serial (or Oxford) comma in grammar?</th>\n",
       "      <th>How would you write the following sentence?</th>\n",
       "      <th>When faced with using the word \"data\", have you ever spent time considering if the word was a singular or plural noun?</th>\n",
       "      <th>How much, if at all, do you care about the debate over the use of the word \"data\" as a singluar or plural noun?</th>\n",
       "      <th>In your opinion, how important or unimportant is proper use of grammar?</th>\n",
       "      <th>Gender</th>\n",
       "      <th>Age</th>\n",
       "      <th>Household Income</th>\n",
       "      <th>Education</th>\n",
       "      <th>Location (Census Region)</th>\n",
       "    </tr>\n",
       "  </thead>\n",
       "  <tbody>\n",
       "    <tr>\n",
       "      <th>0</th>\n",
       "      <td>3292953864</td>\n",
       "      <td>It's important for a person to be honest, kind...</td>\n",
       "      <td>Yes</td>\n",
       "      <td>Some</td>\n",
       "      <td>Some experts say it's important to drink milk,...</td>\n",
       "      <td>No</td>\n",
       "      <td>Not much</td>\n",
       "      <td>Somewhat important</td>\n",
       "      <td>Male</td>\n",
       "      <td>30-44</td>\n",
       "      <td>$50,000 - $99,999</td>\n",
       "      <td>Bachelor degree</td>\n",
       "      <td>South Atlantic</td>\n",
       "    </tr>\n",
       "    <tr>\n",
       "      <th>1</th>\n",
       "      <td>3292950324</td>\n",
       "      <td>It's important for a person to be honest, kind...</td>\n",
       "      <td>No</td>\n",
       "      <td>Not much</td>\n",
       "      <td>Some experts say it's important to drink milk,...</td>\n",
       "      <td>No</td>\n",
       "      <td>Not much</td>\n",
       "      <td>Somewhat unimportant</td>\n",
       "      <td>Male</td>\n",
       "      <td>30-44</td>\n",
       "      <td>$50,000 - $99,999</td>\n",
       "      <td>Graduate degree</td>\n",
       "      <td>Mountain</td>\n",
       "    </tr>\n",
       "    <tr>\n",
       "      <th>2</th>\n",
       "      <td>3292942669</td>\n",
       "      <td>It's important for a person to be honest, kind...</td>\n",
       "      <td>Yes</td>\n",
       "      <td>Some</td>\n",
       "      <td>Some experts say it's important to drink milk,...</td>\n",
       "      <td>Yes</td>\n",
       "      <td>Not at all</td>\n",
       "      <td>Very important</td>\n",
       "      <td>Male</td>\n",
       "      <td>30-44</td>\n",
       "      <td>NaN</td>\n",
       "      <td>NaN</td>\n",
       "      <td>East North Central</td>\n",
       "    </tr>\n",
       "    <tr>\n",
       "      <th>3</th>\n",
       "      <td>3292932796</td>\n",
       "      <td>It's important for a person to be honest, kind...</td>\n",
       "      <td>Yes</td>\n",
       "      <td>Some</td>\n",
       "      <td>Some experts say it's important to drink milk,...</td>\n",
       "      <td>No</td>\n",
       "      <td>Some</td>\n",
       "      <td>Somewhat important</td>\n",
       "      <td>Male</td>\n",
       "      <td>18-29</td>\n",
       "      <td>NaN</td>\n",
       "      <td>Less than high school degree</td>\n",
       "      <td>Middle Atlantic</td>\n",
       "    </tr>\n",
       "    <tr>\n",
       "      <th>4</th>\n",
       "      <td>3292932522</td>\n",
       "      <td>It's important for a person to be honest, kind...</td>\n",
       "      <td>No</td>\n",
       "      <td>Not much</td>\n",
       "      <td>Some experts say it's important to drink milk,...</td>\n",
       "      <td>No</td>\n",
       "      <td>Not much</td>\n",
       "      <td>NaN</td>\n",
       "      <td>NaN</td>\n",
       "      <td>NaN</td>\n",
       "      <td>NaN</td>\n",
       "      <td>NaN</td>\n",
       "      <td>NaN</td>\n",
       "    </tr>\n",
       "  </tbody>\n",
       "</table>\n",
       "</div>"
      ],
      "text/plain": [
       "   RespondentID In your opinion, which sentence is more gramatically correct?  \\\n",
       "0    3292953864  It's important for a person to be honest, kind...              \n",
       "1    3292950324  It's important for a person to be honest, kind...              \n",
       "2    3292942669  It's important for a person to be honest, kind...              \n",
       "3    3292932796  It's important for a person to be honest, kind...              \n",
       "4    3292932522  It's important for a person to be honest, kind...              \n",
       "\n",
       "  Prior to reading about it above, had you heard of the serial (or Oxford) comma?  \\\n",
       "0                                                Yes                                \n",
       "1                                                 No                                \n",
       "2                                                Yes                                \n",
       "3                                                Yes                                \n",
       "4                                                 No                                \n",
       "\n",
       "  How much, if at all, do you care about the use (or lack thereof) of the serial (or Oxford) comma in grammar?  \\\n",
       "0                                               Some                                                             \n",
       "1                                           Not much                                                             \n",
       "2                                               Some                                                             \n",
       "3                                               Some                                                             \n",
       "4                                           Not much                                                             \n",
       "\n",
       "         How would you write the following sentence?  \\\n",
       "0  Some experts say it's important to drink milk,...   \n",
       "1  Some experts say it's important to drink milk,...   \n",
       "2  Some experts say it's important to drink milk,...   \n",
       "3  Some experts say it's important to drink milk,...   \n",
       "4  Some experts say it's important to drink milk,...   \n",
       "\n",
       "  When faced with using the word \"data\", have you ever spent time considering if the word was a singular or plural noun?  \\\n",
       "0                                                 No                                                                       \n",
       "1                                                 No                                                                       \n",
       "2                                                Yes                                                                       \n",
       "3                                                 No                                                                       \n",
       "4                                                 No                                                                       \n",
       "\n",
       "  How much, if at all, do you care about the debate over the use of the word \"data\" as a singluar or plural noun?  \\\n",
       "0                                           Not much                                                                \n",
       "1                                           Not much                                                                \n",
       "2                                         Not at all                                                                \n",
       "3                                               Some                                                                \n",
       "4                                           Not much                                                                \n",
       "\n",
       "  In your opinion, how important or unimportant is proper use of grammar?  \\\n",
       "0                                 Somewhat important                        \n",
       "1                               Somewhat unimportant                        \n",
       "2                                     Very important                        \n",
       "3                                 Somewhat important                        \n",
       "4                                                NaN                        \n",
       "\n",
       "  Gender    Age   Household Income                     Education  \\\n",
       "0   Male  30-44  $50,000 - $99,999               Bachelor degree   \n",
       "1   Male  30-44  $50,000 - $99,999               Graduate degree   \n",
       "2   Male  30-44                NaN                           NaN   \n",
       "3   Male  18-29                NaN  Less than high school degree   \n",
       "4    NaN    NaN                NaN                           NaN   \n",
       "\n",
       "  Location (Census Region)  \n",
       "0           South Atlantic  \n",
       "1                 Mountain  \n",
       "2       East North Central  \n",
       "3          Middle Atlantic  \n",
       "4                      NaN  "
      ]
     },
     "execution_count": 8,
     "metadata": {},
     "output_type": "execute_result"
    }
   ],
   "source": [
    "comma_use.head()"
   ]
  },
  {
   "cell_type": "code",
   "execution_count": 9,
   "metadata": {
    "ExecuteTime": {
     "end_time": "2021-02-09T21:28:33.257367Z",
     "start_time": "2021-02-09T21:28:33.251785Z"
    }
   },
   "outputs": [
    {
     "data": {
      "text/plain": [
       "It's important for a person to be honest, kind, and loyal.    641\n",
       "It's important for a person to be honest, kind and loyal.     488\n",
       "Name: In your opinion, which sentence is more gramatically correct?, dtype: int64"
      ]
     },
     "execution_count": 9,
     "metadata": {},
     "output_type": "execute_result"
    }
   ],
   "source": [
    "comma_use['In your opinion, which sentence is more gramatically correct?'].value_counts()"
   ]
  },
  {
   "cell_type": "markdown",
   "metadata": {},
   "source": [
    "Above shows the two optsion in the column \"In your opinion, . . .\""
   ]
  },
  {
   "cell_type": "code",
   "execution_count": 10,
   "metadata": {
    "ExecuteTime": {
     "end_time": "2021-02-09T21:29:03.529084Z",
     "start_time": "2021-02-09T21:29:03.525244Z"
    }
   },
   "outputs": [
    {
     "data": {
      "text/plain": [
       "(1129, 13)"
      ]
     },
     "execution_count": 10,
     "metadata": {},
     "output_type": "execute_result"
    }
   ],
   "source": [
    "comma_use.shape"
   ]
  },
  {
   "cell_type": "code",
   "execution_count": 11,
   "metadata": {
    "ExecuteTime": {
     "end_time": "2021-02-09T21:29:07.290829Z",
     "start_time": "2021-02-09T21:29:07.285150Z"
    },
    "scrolled": false
   },
   "outputs": [],
   "source": [
    "comma_use.dropna(inplace=True)"
   ]
  },
  {
   "cell_type": "code",
   "execution_count": 12,
   "metadata": {
    "ExecuteTime": {
     "end_time": "2021-02-09T21:29:08.006071Z",
     "start_time": "2021-02-09T21:29:08.002436Z"
    }
   },
   "outputs": [
    {
     "data": {
      "text/plain": [
       "(825, 13)"
      ]
     },
     "execution_count": 12,
     "metadata": {},
     "output_type": "execute_result"
    }
   ],
   "source": [
    "comma_use.shape"
   ]
  },
  {
   "cell_type": "code",
   "execution_count": 13,
   "metadata": {
    "ExecuteTime": {
     "end_time": "2021-02-09T21:31:06.089555Z",
     "start_time": "2021-02-09T21:31:06.078151Z"
    }
   },
   "outputs": [],
   "source": [
    "# Let's try using sklearn's OneHotEncoder to create our dummy columns:\n",
    "from sklearn.preprocessing import OneHotEncoder\n",
    "\n",
    "ohe = OneHotEncoder(drop='first')\n",
    "ohe.fit(comma_use.drop('RespondentID', axis=1))\n",
    "comma_trans = ohe.transform(comma_use.drop('RespondentID', axis=1))"
   ]
  },
  {
   "cell_type": "code",
   "execution_count": 14,
   "metadata": {
    "ExecuteTime": {
     "end_time": "2021-02-09T21:31:13.641028Z",
     "start_time": "2021-02-09T21:31:13.637277Z"
    }
   },
   "outputs": [
    {
     "data": {
      "text/plain": [
       "(825, 34)"
      ]
     },
     "execution_count": 14,
     "metadata": {},
     "output_type": "execute_result"
    }
   ],
   "source": [
    "comma_trans.shape"
   ]
  },
  {
   "cell_type": "code",
   "execution_count": null,
   "metadata": {},
   "outputs": [],
   "source": [
    "#pd.get_dummies(comma_use)"
   ]
  },
  {
   "cell_type": "markdown",
   "metadata": {},
   "source": [
    "Could we have used ```pd.get_dummies()``` instead?\n",
    "\n",
    "Well, yes. And in fact ```get_dummies()``` is in some ways easier; for one thing, it's built right into Pandas. But there are drawbacks with it as well. See the *bottom* of [this link](https://stackoverflow.com/questions/36631163/pandas-get-dummies-vs-sklearns-onehotencoder-what-are-the-pros-and-cons) for a good explanation.\n",
    "\n",
    "So what did the encoder do?"
   ]
  },
  {
   "cell_type": "code",
   "execution_count": 15,
   "metadata": {
    "ExecuteTime": {
     "end_time": "2021-02-09T21:32:29.233193Z",
     "start_time": "2021-02-09T21:32:29.229201Z"
    }
   },
   "outputs": [
    {
     "data": {
      "text/plain": [
       "<825x34 sparse matrix of type '<class 'numpy.float64'>'\n",
       "\twith 7174 stored elements in Compressed Sparse Row format>"
      ]
     },
     "execution_count": 15,
     "metadata": {},
     "output_type": "execute_result"
    }
   ],
   "source": [
    "comma_trans"
   ]
  },
  {
   "cell_type": "code",
   "execution_count": 16,
   "metadata": {
    "ExecuteTime": {
     "end_time": "2021-02-09T21:32:55.145851Z",
     "start_time": "2021-02-09T21:32:55.141050Z"
    }
   },
   "outputs": [
    {
     "data": {
      "text/plain": [
       "matrix([[0., 1., 0., ..., 1., 0., 0.],\n",
       "        [1., 0., 0., ..., 0., 0., 0.],\n",
       "        [1., 0., 0., ..., 0., 0., 0.],\n",
       "        ...,\n",
       "        [1., 1., 0., ..., 0., 0., 0.],\n",
       "        [0., 1., 0., ..., 0., 0., 0.],\n",
       "        [0., 1., 0., ..., 0., 0., 0.]])"
      ]
     },
     "execution_count": 16,
     "metadata": {},
     "output_type": "execute_result"
    }
   ],
   "source": [
    "comma_trans.todense()"
   ]
  },
  {
   "cell_type": "code",
   "execution_count": 17,
   "metadata": {
    "ExecuteTime": {
     "end_time": "2021-02-09T21:33:22.699145Z",
     "start_time": "2021-02-09T21:33:22.695157Z"
    }
   },
   "outputs": [
    {
     "data": {
      "text/plain": [
       "array([\"x0_It's important for a person to be honest, kind, and loyal.\",\n",
       "       'x1_Yes', 'x2_Not at all', 'x2_Not much', 'x2_Some',\n",
       "       \"x3_Some experts say it's important to drink milk, but the data is inconclusive.\",\n",
       "       'x4_Yes', 'x5_Not at all', 'x5_Not much', 'x5_Some',\n",
       "       'x6_Somewhat important', 'x6_Somewhat unimportant',\n",
       "       'x6_Very important', 'x6_Very unimportant', 'x7_Male', 'x8_30-44',\n",
       "       'x8_45-60', 'x8_> 60', 'x9_$100,000 - $149,999', 'x9_$150,000+',\n",
       "       'x9_$25,000 - $49,999', 'x9_$50,000 - $99,999',\n",
       "       'x10_Graduate degree', 'x10_High school degree',\n",
       "       'x10_Less than high school degree',\n",
       "       'x10_Some college or Associate degree', 'x11_East South Central',\n",
       "       'x11_Middle Atlantic', 'x11_Mountain', 'x11_New England',\n",
       "       'x11_Pacific', 'x11_South Atlantic', 'x11_West North Central',\n",
       "       'x11_West South Central'], dtype=object)"
      ]
     },
     "execution_count": 17,
     "metadata": {},
     "output_type": "execute_result"
    }
   ],
   "source": [
    "ohe.get_feature_names()"
   ]
  },
  {
   "cell_type": "code",
   "execution_count": 18,
   "metadata": {
    "ExecuteTime": {
     "end_time": "2021-02-09T21:39:59.299285Z",
     "start_time": "2021-02-09T21:39:59.274142Z"
    }
   },
   "outputs": [
    {
     "data": {
      "text/html": [
       "<div>\n",
       "<style scoped>\n",
       "    .dataframe tbody tr th:only-of-type {\n",
       "        vertical-align: middle;\n",
       "    }\n",
       "\n",
       "    .dataframe tbody tr th {\n",
       "        vertical-align: top;\n",
       "    }\n",
       "\n",
       "    .dataframe thead th {\n",
       "        text-align: right;\n",
       "    }\n",
       "</style>\n",
       "<table border=\"1\" class=\"dataframe\">\n",
       "  <thead>\n",
       "    <tr style=\"text-align: right;\">\n",
       "      <th></th>\n",
       "      <th>x0_It's important for a person to be honest, kind, and loyal.</th>\n",
       "      <th>x1_Yes</th>\n",
       "      <th>x2_Not at all</th>\n",
       "      <th>x2_Not much</th>\n",
       "      <th>x2_Some</th>\n",
       "      <th>x3_Some experts say it's important to drink milk, but the data is inconclusive.</th>\n",
       "      <th>x4_Yes</th>\n",
       "      <th>x5_Not at all</th>\n",
       "      <th>x5_Not much</th>\n",
       "      <th>x5_Some</th>\n",
       "      <th>...</th>\n",
       "      <th>x10_Less than high school degree</th>\n",
       "      <th>x10_Some college or Associate degree</th>\n",
       "      <th>x11_East South Central</th>\n",
       "      <th>x11_Middle Atlantic</th>\n",
       "      <th>x11_Mountain</th>\n",
       "      <th>x11_New England</th>\n",
       "      <th>x11_Pacific</th>\n",
       "      <th>x11_South Atlantic</th>\n",
       "      <th>x11_West North Central</th>\n",
       "      <th>x11_West South Central</th>\n",
       "    </tr>\n",
       "  </thead>\n",
       "  <tbody>\n",
       "    <tr>\n",
       "      <th>0</th>\n",
       "      <td>0.0</td>\n",
       "      <td>1.0</td>\n",
       "      <td>0.0</td>\n",
       "      <td>0.0</td>\n",
       "      <td>1.0</td>\n",
       "      <td>1.0</td>\n",
       "      <td>0.0</td>\n",
       "      <td>0.0</td>\n",
       "      <td>1.0</td>\n",
       "      <td>0.0</td>\n",
       "      <td>...</td>\n",
       "      <td>0.0</td>\n",
       "      <td>0.0</td>\n",
       "      <td>0.0</td>\n",
       "      <td>0.0</td>\n",
       "      <td>0.0</td>\n",
       "      <td>0.0</td>\n",
       "      <td>0.0</td>\n",
       "      <td>1.0</td>\n",
       "      <td>0.0</td>\n",
       "      <td>0.0</td>\n",
       "    </tr>\n",
       "    <tr>\n",
       "      <th>1</th>\n",
       "      <td>1.0</td>\n",
       "      <td>0.0</td>\n",
       "      <td>0.0</td>\n",
       "      <td>1.0</td>\n",
       "      <td>0.0</td>\n",
       "      <td>1.0</td>\n",
       "      <td>0.0</td>\n",
       "      <td>0.0</td>\n",
       "      <td>1.0</td>\n",
       "      <td>0.0</td>\n",
       "      <td>...</td>\n",
       "      <td>0.0</td>\n",
       "      <td>0.0</td>\n",
       "      <td>0.0</td>\n",
       "      <td>0.0</td>\n",
       "      <td>1.0</td>\n",
       "      <td>0.0</td>\n",
       "      <td>0.0</td>\n",
       "      <td>0.0</td>\n",
       "      <td>0.0</td>\n",
       "      <td>0.0</td>\n",
       "    </tr>\n",
       "    <tr>\n",
       "      <th>2</th>\n",
       "      <td>1.0</td>\n",
       "      <td>0.0</td>\n",
       "      <td>0.0</td>\n",
       "      <td>0.0</td>\n",
       "      <td>0.0</td>\n",
       "      <td>0.0</td>\n",
       "      <td>1.0</td>\n",
       "      <td>0.0</td>\n",
       "      <td>0.0</td>\n",
       "      <td>1.0</td>\n",
       "      <td>...</td>\n",
       "      <td>0.0</td>\n",
       "      <td>1.0</td>\n",
       "      <td>0.0</td>\n",
       "      <td>0.0</td>\n",
       "      <td>0.0</td>\n",
       "      <td>1.0</td>\n",
       "      <td>0.0</td>\n",
       "      <td>0.0</td>\n",
       "      <td>0.0</td>\n",
       "      <td>0.0</td>\n",
       "    </tr>\n",
       "    <tr>\n",
       "      <th>3</th>\n",
       "      <td>1.0</td>\n",
       "      <td>1.0</td>\n",
       "      <td>0.0</td>\n",
       "      <td>0.0</td>\n",
       "      <td>0.0</td>\n",
       "      <td>1.0</td>\n",
       "      <td>1.0</td>\n",
       "      <td>0.0</td>\n",
       "      <td>0.0</td>\n",
       "      <td>1.0</td>\n",
       "      <td>...</td>\n",
       "      <td>0.0</td>\n",
       "      <td>1.0</td>\n",
       "      <td>0.0</td>\n",
       "      <td>0.0</td>\n",
       "      <td>0.0</td>\n",
       "      <td>0.0</td>\n",
       "      <td>1.0</td>\n",
       "      <td>0.0</td>\n",
       "      <td>0.0</td>\n",
       "      <td>0.0</td>\n",
       "    </tr>\n",
       "    <tr>\n",
       "      <th>4</th>\n",
       "      <td>1.0</td>\n",
       "      <td>1.0</td>\n",
       "      <td>0.0</td>\n",
       "      <td>0.0</td>\n",
       "      <td>0.0</td>\n",
       "      <td>0.0</td>\n",
       "      <td>0.0</td>\n",
       "      <td>0.0</td>\n",
       "      <td>0.0</td>\n",
       "      <td>0.0</td>\n",
       "      <td>...</td>\n",
       "      <td>0.0</td>\n",
       "      <td>1.0</td>\n",
       "      <td>0.0</td>\n",
       "      <td>0.0</td>\n",
       "      <td>0.0</td>\n",
       "      <td>0.0</td>\n",
       "      <td>0.0</td>\n",
       "      <td>0.0</td>\n",
       "      <td>0.0</td>\n",
       "      <td>0.0</td>\n",
       "    </tr>\n",
       "  </tbody>\n",
       "</table>\n",
       "<p>5 rows × 34 columns</p>\n",
       "</div>"
      ],
      "text/plain": [
       "   x0_It's important for a person to be honest, kind, and loyal.  x1_Yes  \\\n",
       "0                                                0.0                 1.0   \n",
       "1                                                1.0                 0.0   \n",
       "2                                                1.0                 0.0   \n",
       "3                                                1.0                 1.0   \n",
       "4                                                1.0                 1.0   \n",
       "\n",
       "   x2_Not at all  x2_Not much  x2_Some  \\\n",
       "0            0.0          0.0      1.0   \n",
       "1            0.0          1.0      0.0   \n",
       "2            0.0          0.0      0.0   \n",
       "3            0.0          0.0      0.0   \n",
       "4            0.0          0.0      0.0   \n",
       "\n",
       "   x3_Some experts say it's important to drink milk, but the data is inconclusive.  \\\n",
       "0                                                1.0                                 \n",
       "1                                                1.0                                 \n",
       "2                                                0.0                                 \n",
       "3                                                1.0                                 \n",
       "4                                                0.0                                 \n",
       "\n",
       "   x4_Yes  x5_Not at all  x5_Not much  x5_Some  ...  \\\n",
       "0     0.0            0.0          1.0      0.0  ...   \n",
       "1     0.0            0.0          1.0      0.0  ...   \n",
       "2     1.0            0.0          0.0      1.0  ...   \n",
       "3     1.0            0.0          0.0      1.0  ...   \n",
       "4     0.0            0.0          0.0      0.0  ...   \n",
       "\n",
       "   x10_Less than high school degree  x10_Some college or Associate degree  \\\n",
       "0                               0.0                                   0.0   \n",
       "1                               0.0                                   0.0   \n",
       "2                               0.0                                   1.0   \n",
       "3                               0.0                                   1.0   \n",
       "4                               0.0                                   1.0   \n",
       "\n",
       "   x11_East South Central  x11_Middle Atlantic  x11_Mountain  x11_New England  \\\n",
       "0                     0.0                  0.0           0.0              0.0   \n",
       "1                     0.0                  0.0           1.0              0.0   \n",
       "2                     0.0                  0.0           0.0              1.0   \n",
       "3                     0.0                  0.0           0.0              0.0   \n",
       "4                     0.0                  0.0           0.0              0.0   \n",
       "\n",
       "   x11_Pacific  x11_South Atlantic  x11_West North Central  \\\n",
       "0          0.0                 1.0                     0.0   \n",
       "1          0.0                 0.0                     0.0   \n",
       "2          0.0                 0.0                     0.0   \n",
       "3          1.0                 0.0                     0.0   \n",
       "4          0.0                 0.0                     0.0   \n",
       "\n",
       "   x11_West South Central  \n",
       "0                     0.0  \n",
       "1                     0.0  \n",
       "2                     0.0  \n",
       "3                     0.0  \n",
       "4                     0.0  \n",
       "\n",
       "[5 rows x 34 columns]"
      ]
     },
     "execution_count": 18,
     "metadata": {},
     "output_type": "execute_result"
    }
   ],
   "source": [
    "df = pd.DataFrame(comma_trans.todense(), columns=ohe.get_feature_names())\n",
    "df.head()"
   ]
  },
  {
   "cell_type": "markdown",
   "metadata": {},
   "source": [
    "## Multiple Regression in StatsModels\n",
    "\n",
    "Statsmodels offers a highly descriptive report of the fit of a regression model. Let's generate a simple regression and then analyze the report!"
   ]
  },
  {
   "cell_type": "code",
   "execution_count": 19,
   "metadata": {
    "ExecuteTime": {
     "end_time": "2021-02-09T21:40:12.986927Z",
     "start_time": "2021-02-09T21:40:12.984484Z"
    }
   },
   "outputs": [],
   "source": [
    "import statsmodels.api as sm"
   ]
  },
  {
   "cell_type": "markdown",
   "metadata": {},
   "source": [
    "First let's try data that fit a straight line perfectly:"
   ]
  },
  {
   "cell_type": "code",
   "execution_count": 20,
   "metadata": {
    "ExecuteTime": {
     "end_time": "2021-02-09T21:40:30.682366Z",
     "start_time": "2021-02-09T21:40:30.668117Z"
    }
   },
   "outputs": [
    {
     "data": {
      "text/html": [
       "<table class=\"simpletable\">\n",
       "<caption>OLS Regression Results</caption>\n",
       "<tr>\n",
       "  <th>Dep. Variable:</th>            <td>y</td>        <th>  R-squared:         </th> <td>   1.000</td> \n",
       "</tr>\n",
       "<tr>\n",
       "  <th>Model:</th>                   <td>OLS</td>       <th>  Adj. R-squared:    </th> <td>   1.000</td> \n",
       "</tr>\n",
       "<tr>\n",
       "  <th>Method:</th>             <td>Least Squares</td>  <th>  F-statistic:       </th> <td>4.034e+31</td>\n",
       "</tr>\n",
       "<tr>\n",
       "  <th>Date:</th>             <td>Sat, 20 Feb 2021</td> <th>  Prob (F-statistic):</th> <td>1.30e-274</td>\n",
       "</tr>\n",
       "<tr>\n",
       "  <th>Time:</th>                 <td>11:51:10</td>     <th>  Log-Likelihood:    </th> <td>  613.45</td> \n",
       "</tr>\n",
       "<tr>\n",
       "  <th>No. Observations:</th>      <td>    20</td>      <th>  AIC:               </th> <td>  -1223.</td> \n",
       "</tr>\n",
       "<tr>\n",
       "  <th>Df Residuals:</th>          <td>    18</td>      <th>  BIC:               </th> <td>  -1221.</td> \n",
       "</tr>\n",
       "<tr>\n",
       "  <th>Df Model:</th>              <td>     1</td>      <th>                     </th>     <td> </td>    \n",
       "</tr>\n",
       "<tr>\n",
       "  <th>Covariance Type:</th>      <td>nonrobust</td>    <th>                     </th>     <td> </td>    \n",
       "</tr>\n",
       "</table>\n",
       "<table class=\"simpletable\">\n",
       "<tr>\n",
       "    <td></td>       <th>coef</th>     <th>std err</th>      <th>t</th>      <th>P>|t|</th>  <th>[0.025</th>    <th>0.975]</th>  \n",
       "</tr>\n",
       "<tr>\n",
       "  <th>const</th> <td>    1.0000</td> <td> 5.25e-15</td> <td> 1.91e+14</td> <td> 0.000</td> <td>    1.000</td> <td>    1.000</td>\n",
       "</tr>\n",
       "<tr>\n",
       "  <th>x1</th>    <td>    3.0000</td> <td> 4.72e-16</td> <td> 6.35e+15</td> <td> 0.000</td> <td>    3.000</td> <td>    3.000</td>\n",
       "</tr>\n",
       "</table>\n",
       "<table class=\"simpletable\">\n",
       "<tr>\n",
       "  <th>Omnibus:</th>       <td> 9.072</td> <th>  Durbin-Watson:     </th> <td>   0.010</td>\n",
       "</tr>\n",
       "<tr>\n",
       "  <th>Prob(Omnibus):</th> <td> 0.011</td> <th>  Jarque-Bera (JB):  </th> <td>   2.278</td>\n",
       "</tr>\n",
       "<tr>\n",
       "  <th>Skew:</th>          <td>-0.332</td> <th>  Prob(JB):          </th> <td>   0.320</td>\n",
       "</tr>\n",
       "<tr>\n",
       "  <th>Kurtosis:</th>      <td> 1.486</td> <th>  Cond. No.          </th> <td>    21.5</td>\n",
       "</tr>\n",
       "</table><br/><br/>Notes:<br/>[1] Standard Errors assume that the covariance matrix of the errors is correctly specified."
      ],
      "text/plain": [
       "<class 'statsmodels.iolib.summary.Summary'>\n",
       "\"\"\"\n",
       "                            OLS Regression Results                            \n",
       "==============================================================================\n",
       "Dep. Variable:                      y   R-squared:                       1.000\n",
       "Model:                            OLS   Adj. R-squared:                  1.000\n",
       "Method:                 Least Squares   F-statistic:                 4.034e+31\n",
       "Date:                Sat, 20 Feb 2021   Prob (F-statistic):          1.30e-274\n",
       "Time:                        11:51:10   Log-Likelihood:                 613.45\n",
       "No. Observations:                  20   AIC:                            -1223.\n",
       "Df Residuals:                      18   BIC:                            -1221.\n",
       "Df Model:                           1                                         \n",
       "Covariance Type:            nonrobust                                         \n",
       "==============================================================================\n",
       "                 coef    std err          t      P>|t|      [0.025      0.975]\n",
       "------------------------------------------------------------------------------\n",
       "const          1.0000   5.25e-15   1.91e+14      0.000       1.000       1.000\n",
       "x1             3.0000   4.72e-16   6.35e+15      0.000       3.000       3.000\n",
       "==============================================================================\n",
       "Omnibus:                        9.072   Durbin-Watson:                   0.010\n",
       "Prob(Omnibus):                  0.011   Jarque-Bera (JB):                2.278\n",
       "Skew:                          -0.332   Prob(JB):                        0.320\n",
       "Kurtosis:                       1.486   Cond. No.                         21.5\n",
       "==============================================================================\n",
       "\n",
       "Notes:\n",
       "[1] Standard Errors assume that the covariance matrix of the errors is correctly specified.\n",
       "\"\"\""
      ]
     },
     "execution_count": 20,
     "metadata": {},
     "output_type": "execute_result"
    }
   ],
   "source": [
    "x = np.arange(20)\n",
    "y = 3*x + 1         # Note that we can do this only because x is a NumPy array!\n",
    "\n",
    "sm.OLS(y, sm.add_constant(x)).fit().summary()"
   ]
  },
  {
   "cell_type": "markdown",
   "metadata": {},
   "source": [
    "$\\rightarrow$Now let's add a little noise:"
   ]
  },
  {
   "cell_type": "code",
   "execution_count": 21,
   "metadata": {
    "ExecuteTime": {
     "end_time": "2021-02-09T21:43:28.883651Z",
     "start_time": "2021-02-09T21:43:28.880295Z"
    }
   },
   "outputs": [],
   "source": [
    "x = np.arange(20)\n",
    "y = np.array([3*pt + 1 + gauss(mu=0, sigma=5) for pt in x])"
   ]
  },
  {
   "cell_type": "code",
   "execution_count": 22,
   "metadata": {
    "ExecuteTime": {
     "end_time": "2021-02-09T21:43:34.508795Z",
     "start_time": "2021-02-09T21:43:34.500932Z"
    }
   },
   "outputs": [],
   "source": [
    "df2 = pd.DataFrame(columns=['x', 'y'])\n",
    "\n",
    "df2['x'] = x\n",
    "df2['y'] = y"
   ]
  },
  {
   "cell_type": "code",
   "execution_count": 23,
   "metadata": {},
   "outputs": [
    {
     "data": {
      "text/html": [
       "<div>\n",
       "<style scoped>\n",
       "    .dataframe tbody tr th:only-of-type {\n",
       "        vertical-align: middle;\n",
       "    }\n",
       "\n",
       "    .dataframe tbody tr th {\n",
       "        vertical-align: top;\n",
       "    }\n",
       "\n",
       "    .dataframe thead th {\n",
       "        text-align: right;\n",
       "    }\n",
       "</style>\n",
       "<table border=\"1\" class=\"dataframe\">\n",
       "  <thead>\n",
       "    <tr style=\"text-align: right;\">\n",
       "      <th></th>\n",
       "      <th>x</th>\n",
       "      <th>y</th>\n",
       "    </tr>\n",
       "  </thead>\n",
       "  <tbody>\n",
       "    <tr>\n",
       "      <th>0</th>\n",
       "      <td>0</td>\n",
       "      <td>5.262978</td>\n",
       "    </tr>\n",
       "    <tr>\n",
       "      <th>1</th>\n",
       "      <td>1</td>\n",
       "      <td>5.737625</td>\n",
       "    </tr>\n",
       "    <tr>\n",
       "      <th>2</th>\n",
       "      <td>2</td>\n",
       "      <td>12.915050</td>\n",
       "    </tr>\n",
       "    <tr>\n",
       "      <th>3</th>\n",
       "      <td>3</td>\n",
       "      <td>10.485963</td>\n",
       "    </tr>\n",
       "    <tr>\n",
       "      <th>4</th>\n",
       "      <td>4</td>\n",
       "      <td>13.317932</td>\n",
       "    </tr>\n",
       "  </tbody>\n",
       "</table>\n",
       "</div>"
      ],
      "text/plain": [
       "   x          y\n",
       "0  0   5.262978\n",
       "1  1   5.737625\n",
       "2  2  12.915050\n",
       "3  3  10.485963\n",
       "4  4  13.317932"
      ]
     },
     "execution_count": 23,
     "metadata": {},
     "output_type": "execute_result"
    }
   ],
   "source": [
    "df2.head()"
   ]
  },
  {
   "cell_type": "code",
   "execution_count": 24,
   "metadata": {
    "ExecuteTime": {
     "end_time": "2021-02-09T21:43:47.713204Z",
     "start_time": "2021-02-09T21:43:47.703045Z"
    }
   },
   "outputs": [],
   "source": [
    "model = sm.formula.ols(formula='y~x', data=df2).fit()"
   ]
  },
  {
   "cell_type": "code",
   "execution_count": 25,
   "metadata": {
    "ExecuteTime": {
     "end_time": "2021-02-09T21:43:48.603676Z",
     "start_time": "2021-02-09T21:43:48.590066Z"
    }
   },
   "outputs": [
    {
     "data": {
      "text/html": [
       "<table class=\"simpletable\">\n",
       "<caption>OLS Regression Results</caption>\n",
       "<tr>\n",
       "  <th>Dep. Variable:</th>            <td>y</td>        <th>  R-squared:         </th> <td>   0.894</td>\n",
       "</tr>\n",
       "<tr>\n",
       "  <th>Model:</th>                   <td>OLS</td>       <th>  Adj. R-squared:    </th> <td>   0.888</td>\n",
       "</tr>\n",
       "<tr>\n",
       "  <th>Method:</th>             <td>Least Squares</td>  <th>  F-statistic:       </th> <td>   151.4</td>\n",
       "</tr>\n",
       "<tr>\n",
       "  <th>Date:</th>             <td>Sat, 20 Feb 2021</td> <th>  Prob (F-statistic):</th> <td>3.37e-10</td>\n",
       "</tr>\n",
       "<tr>\n",
       "  <th>Time:</th>                 <td>11:58:39</td>     <th>  Log-Likelihood:    </th> <td> -63.310</td>\n",
       "</tr>\n",
       "<tr>\n",
       "  <th>No. Observations:</th>      <td>    20</td>      <th>  AIC:               </th> <td>   130.6</td>\n",
       "</tr>\n",
       "<tr>\n",
       "  <th>Df Residuals:</th>          <td>    18</td>      <th>  BIC:               </th> <td>   132.6</td>\n",
       "</tr>\n",
       "<tr>\n",
       "  <th>Df Model:</th>              <td>     1</td>      <th>                     </th>     <td> </td>   \n",
       "</tr>\n",
       "<tr>\n",
       "  <th>Covariance Type:</th>      <td>nonrobust</td>    <th>                     </th>     <td> </td>   \n",
       "</tr>\n",
       "</table>\n",
       "<table class=\"simpletable\">\n",
       "<tr>\n",
       "      <td></td>         <th>coef</th>     <th>std err</th>      <th>t</th>      <th>P>|t|</th>  <th>[0.025</th>    <th>0.975]</th>  \n",
       "</tr>\n",
       "<tr>\n",
       "  <th>Intercept</th> <td>    0.1430</td> <td>    2.605</td> <td>    0.055</td> <td> 0.957</td> <td>   -5.330</td> <td>    5.616</td>\n",
       "</tr>\n",
       "<tr>\n",
       "  <th>x</th>         <td>    2.8842</td> <td>    0.234</td> <td>   12.304</td> <td> 0.000</td> <td>    2.392</td> <td>    3.377</td>\n",
       "</tr>\n",
       "</table>\n",
       "<table class=\"simpletable\">\n",
       "<tr>\n",
       "  <th>Omnibus:</th>       <td> 1.419</td> <th>  Durbin-Watson:     </th> <td>   1.132</td>\n",
       "</tr>\n",
       "<tr>\n",
       "  <th>Prob(Omnibus):</th> <td> 0.492</td> <th>  Jarque-Bera (JB):  </th> <td>   0.893</td>\n",
       "</tr>\n",
       "<tr>\n",
       "  <th>Skew:</th>          <td> 0.083</td> <th>  Prob(JB):          </th> <td>   0.640</td>\n",
       "</tr>\n",
       "<tr>\n",
       "  <th>Kurtosis:</th>      <td> 1.978</td> <th>  Cond. No.          </th> <td>    21.5</td>\n",
       "</tr>\n",
       "</table><br/><br/>Notes:<br/>[1] Standard Errors assume that the covariance matrix of the errors is correctly specified."
      ],
      "text/plain": [
       "<class 'statsmodels.iolib.summary.Summary'>\n",
       "\"\"\"\n",
       "                            OLS Regression Results                            \n",
       "==============================================================================\n",
       "Dep. Variable:                      y   R-squared:                       0.894\n",
       "Model:                            OLS   Adj. R-squared:                  0.888\n",
       "Method:                 Least Squares   F-statistic:                     151.4\n",
       "Date:                Sat, 20 Feb 2021   Prob (F-statistic):           3.37e-10\n",
       "Time:                        11:58:39   Log-Likelihood:                -63.310\n",
       "No. Observations:                  20   AIC:                             130.6\n",
       "Df Residuals:                      18   BIC:                             132.6\n",
       "Df Model:                           1                                         \n",
       "Covariance Type:            nonrobust                                         \n",
       "==============================================================================\n",
       "                 coef    std err          t      P>|t|      [0.025      0.975]\n",
       "------------------------------------------------------------------------------\n",
       "Intercept      0.1430      2.605      0.055      0.957      -5.330       5.616\n",
       "x              2.8842      0.234     12.304      0.000       2.392       3.377\n",
       "==============================================================================\n",
       "Omnibus:                        1.419   Durbin-Watson:                   1.132\n",
       "Prob(Omnibus):                  0.492   Jarque-Bera (JB):                0.893\n",
       "Skew:                           0.083   Prob(JB):                        0.640\n",
       "Kurtosis:                       1.978   Cond. No.                         21.5\n",
       "==============================================================================\n",
       "\n",
       "Notes:\n",
       "[1] Standard Errors assume that the covariance matrix of the errors is correctly specified.\n",
       "\"\"\""
      ]
     },
     "execution_count": 25,
     "metadata": {},
     "output_type": "execute_result"
    }
   ],
   "source": [
    "model.summary()"
   ]
  },
  {
   "cell_type": "markdown",
   "metadata": {},
   "source": [
    "Please note the difference between `sm.OLS()` and `sm.formula.ols()`!"
   ]
  },
  {
   "cell_type": "code",
   "execution_count": 26,
   "metadata": {
    "ExecuteTime": {
     "end_time": "2021-02-09T21:44:58.413293Z",
     "start_time": "2021-02-09T21:44:57.594818Z"
    }
   },
   "outputs": [
    {
     "data": {
      "image/png": "[encoded data removed]",
      "text/plain": [
       "<Figure size 864x576 with 4 Axes>"
      ]
     },
     "metadata": {
      "needs_background": "light"
     },
     "output_type": "display_data"
    }
   ],
   "source": [
    "sm.graphics.plot_regress_exog(model, 'x', fig=plt.figure(figsize=(12, 8)));"
   ]
  },
  {
   "cell_type": "markdown",
   "metadata": {},
   "source": [
    "### Fitted Model Attributes and Methods\n",
    "\n",
    "The fitted model has [many](https://www.statsmodels.org/stable/generated/statsmodels.regression.linear_model.RegressionResults.html) attributes and methods. I'll look at a couple here."
   ]
  },
  {
   "cell_type": "code",
   "execution_count": 27,
   "metadata": {
    "ExecuteTime": {
     "end_time": "2021-02-09T21:50:33.464950Z",
     "start_time": "2021-02-09T21:50:33.460527Z"
    }
   },
   "outputs": [
    {
     "data": {
      "text/plain": [
       "Intercept     0.054902\n",
       "x            12.303885\n",
       "dtype: float64"
      ]
     },
     "execution_count": 27,
     "metadata": {},
     "output_type": "execute_result"
    }
   ],
   "source": [
    "model.tvalues"
   ]
  },
  {
   "cell_type": "code",
   "execution_count": 28,
   "metadata": {
    "ExecuteTime": {
     "end_time": "2021-02-09T21:50:34.687706Z",
     "start_time": "2021-02-09T21:50:34.682390Z"
    },
    "scrolled": true
   },
   "outputs": [
    {
     "data": {
      "text/plain": [
       "Intercept    9.568210e-01\n",
       "x            3.370444e-10\n",
       "dtype: float64"
      ]
     },
     "execution_count": 28,
     "metadata": {},
     "output_type": "execute_result"
    }
   ],
   "source": [
    "model.pvalues"
   ]
  },
  {
   "cell_type": "code",
   "execution_count": 29,
   "metadata": {
    "ExecuteTime": {
     "end_time": "2021-02-09T21:50:43.560983Z",
     "start_time": "2021-02-09T21:50:43.557593Z"
    }
   },
   "outputs": [
    {
     "data": {
      "text/plain": [
       "325.76879919808067"
      ]
     },
     "execution_count": 29,
     "metadata": {},
     "output_type": "execute_result"
    }
   ],
   "source": [
    "model.mse_total"
   ]
  },
  {
   "cell_type": "markdown",
   "metadata": {},
   "source": [
    "The `.summary()` method contains lots of helpful information about the model."
   ]
  },
  {
   "cell_type": "code",
   "execution_count": 30,
   "metadata": {
    "ExecuteTime": {
     "end_time": "2021-02-09T21:50:51.649263Z",
     "start_time": "2021-02-09T21:50:51.637034Z"
    },
    "scrolled": false
   },
   "outputs": [
    {
     "data": {
      "text/html": [
       "<table class=\"simpletable\">\n",
       "<caption>OLS Regression Results</caption>\n",
       "<tr>\n",
       "  <th>Dep. Variable:</th>            <td>y</td>        <th>  R-squared:         </th> <td>   0.894</td>\n",
       "</tr>\n",
       "<tr>\n",
       "  <th>Model:</th>                   <td>OLS</td>       <th>  Adj. R-squared:    </th> <td>   0.888</td>\n",
       "</tr>\n",
       "<tr>\n",
       "  <th>Method:</th>             <td>Least Squares</td>  <th>  F-statistic:       </th> <td>   151.4</td>\n",
       "</tr>\n",
       "<tr>\n",
       "  <th>Date:</th>             <td>Sat, 20 Feb 2021</td> <th>  Prob (F-statistic):</th> <td>3.37e-10</td>\n",
       "</tr>\n",
       "<tr>\n",
       "  <th>Time:</th>                 <td>12:07:41</td>     <th>  Log-Likelihood:    </th> <td> -63.310</td>\n",
       "</tr>\n",
       "<tr>\n",
       "  <th>No. Observations:</th>      <td>    20</td>      <th>  AIC:               </th> <td>   130.6</td>\n",
       "</tr>\n",
       "<tr>\n",
       "  <th>Df Residuals:</th>          <td>    18</td>      <th>  BIC:               </th> <td>   132.6</td>\n",
       "</tr>\n",
       "<tr>\n",
       "  <th>Df Model:</th>              <td>     1</td>      <th>                     </th>     <td> </td>   \n",
       "</tr>\n",
       "<tr>\n",
       "  <th>Covariance Type:</th>      <td>nonrobust</td>    <th>                     </th>     <td> </td>   \n",
       "</tr>\n",
       "</table>\n",
       "<table class=\"simpletable\">\n",
       "<tr>\n",
       "      <td></td>         <th>coef</th>     <th>std err</th>      <th>t</th>      <th>P>|t|</th>  <th>[0.025</th>    <th>0.975]</th>  \n",
       "</tr>\n",
       "<tr>\n",
       "  <th>Intercept</th> <td>    0.1430</td> <td>    2.605</td> <td>    0.055</td> <td> 0.957</td> <td>   -5.330</td> <td>    5.616</td>\n",
       "</tr>\n",
       "<tr>\n",
       "  <th>x</th>         <td>    2.8842</td> <td>    0.234</td> <td>   12.304</td> <td> 0.000</td> <td>    2.392</td> <td>    3.377</td>\n",
       "</tr>\n",
       "</table>\n",
       "<table class=\"simpletable\">\n",
       "<tr>\n",
       "  <th>Omnibus:</th>       <td> 1.419</td> <th>  Durbin-Watson:     </th> <td>   1.132</td>\n",
       "</tr>\n",
       "<tr>\n",
       "  <th>Prob(Omnibus):</th> <td> 0.492</td> <th>  Jarque-Bera (JB):  </th> <td>   0.893</td>\n",
       "</tr>\n",
       "<tr>\n",
       "  <th>Skew:</th>          <td> 0.083</td> <th>  Prob(JB):          </th> <td>   0.640</td>\n",
       "</tr>\n",
       "<tr>\n",
       "  <th>Kurtosis:</th>      <td> 1.978</td> <th>  Cond. No.          </th> <td>    21.5</td>\n",
       "</tr>\n",
       "</table><br/><br/>Notes:<br/>[1] Standard Errors assume that the covariance matrix of the errors is correctly specified."
      ],
      "text/plain": [
       "<class 'statsmodels.iolib.summary.Summary'>\n",
       "\"\"\"\n",
       "                            OLS Regression Results                            \n",
       "==============================================================================\n",
       "Dep. Variable:                      y   R-squared:                       0.894\n",
       "Model:                            OLS   Adj. R-squared:                  0.888\n",
       "Method:                 Least Squares   F-statistic:                     151.4\n",
       "Date:                Sat, 20 Feb 2021   Prob (F-statistic):           3.37e-10\n",
       "Time:                        12:07:41   Log-Likelihood:                -63.310\n",
       "No. Observations:                  20   AIC:                             130.6\n",
       "Df Residuals:                      18   BIC:                             132.6\n",
       "Df Model:                           1                                         \n",
       "Covariance Type:            nonrobust                                         \n",
       "==============================================================================\n",
       "                 coef    std err          t      P>|t|      [0.025      0.975]\n",
       "------------------------------------------------------------------------------\n",
       "Intercept      0.1430      2.605      0.055      0.957      -5.330       5.616\n",
       "x              2.8842      0.234     12.304      0.000       2.392       3.377\n",
       "==============================================================================\n",
       "Omnibus:                        1.419   Durbin-Watson:                   1.132\n",
       "Prob(Omnibus):                  0.492   Jarque-Bera (JB):                0.893\n",
       "Skew:                           0.083   Prob(JB):                        0.640\n",
       "Kurtosis:                       1.978   Cond. No.                         21.5\n",
       "==============================================================================\n",
       "\n",
       "Notes:\n",
       "[1] Standard Errors assume that the covariance matrix of the errors is correctly specified.\n",
       "\"\"\""
      ]
     },
     "execution_count": 30,
     "metadata": {},
     "output_type": "execute_result"
    }
   ],
   "source": [
    "model.summary()"
   ]
  },
  {
   "cell_type": "markdown",
   "metadata": {},
   "source": [
    "What are all these statistics!? Let's say a word about them."
   ]
  },
  {
   "cell_type": "markdown",
   "metadata": {},
   "source": [
    "## Coefficient of Determination\n",
    "\n",
    "Very often a data scientist will calculate $R^2$, the *coefficient of determination*, as a measure of how well the model fits the data.\n",
    "\n",
    "$R^2$ for a model is ultimately a _relational_ notion. It's a measure of goodness of fit _relative_ to a (bad) baseline model. This bad baseline model is simply the horizontal line $y = \\mu_Y$, for dependent variable $Y$.\n",
    "\n",
    "The actual calculation of $R^2$ is: <br/> $\\Large R^2\\equiv 1-\\frac{\\Sigma_i(y_i - \\hat{y}_i)^2}{\\Sigma_i(y_i - \\bar{y})^2}$.\n",
    "\n",
    "$R^2$ is a measure of how much variation in the dependent variable your model explains.\n",
    "\n",
    "### Adjusted $R^2$\n",
    "\n",
    "There are some theoretical [objections](https://data.library.virginia.edu/is-r-squared-useless/) to using $R^2$ as an evaluator of a regression model.\n",
    "\n",
    "One objection is that, if we add another predictor to our model, $R^2$ can only *increase*! (It could hardly be that with more features I'd be able to account for *less* of the variation in the dependent variable than I could with the smaller set of features.)\n",
    "\n",
    "One improvement is **adjusted $R^2$**: <br/> $\\Large R^2_{adj.}\\equiv 1 - \\frac{(1 - R^2)(n - 1)}{n - m - 1}$, where:\n",
    "\n",
    "- n is the number of data points; and\n",
    "- m is the number of predictors.\n",
    "\n",
    "This can be a better indicator of the quality of a regression model. For more, see [here](https://www.statisticshowto.datasciencecentral.com/adjusted-r2/)."
   ]
  },
  {
   "cell_type": "markdown",
   "metadata": {},
   "source": [
    "Note that $R^2$ *can* be negative!"
   ]
  },
  {
   "cell_type": "code",
   "execution_count": 31,
   "metadata": {
    "ExecuteTime": {
     "end_time": "2021-02-09T14:41:43.662899Z",
     "start_time": "2021-02-09T14:41:43.613487Z"
    }
   },
   "outputs": [],
   "source": [
    "from sklearn.datasets import make_regression\n",
    "from sklearn.metrics import r2_score"
   ]
  },
  {
   "cell_type": "code",
   "execution_count": 32,
   "metadata": {
    "ExecuteTime": {
     "end_time": "2021-02-09T14:41:44.176217Z",
     "start_time": "2021-02-09T14:41:44.169209Z"
    }
   },
   "outputs": [
    {
     "name": "stdout",
     "output_type": "stream",
     "text": [
      "0.0\n",
      "-0.22461297013177584\n"
     ]
    }
   ],
   "source": [
    "X, y = make_regression()\n",
    "\n",
    "bad_pred = np.mean(y) * np.ones(len(y))\n",
    "worse_pred = (np.mean(y) - 100) * np.ones(len(y))\n",
    "\n",
    "print(r2_score(y, bad_pred))\n",
    "print(r2_score(y, worse_pred))"
   ]
  },
  {
   "cell_type": "markdown",
   "metadata": {},
   "source": [
    "## Other Regression Statistics\n",
    "\n",
    "What else do we have in this report?\n",
    "\n",
    "- **F-statistic**: The F-test measures the significance of your model relative to a model in which all coefficients are 0, i.e. relative to a model that says there is no correlation whatever between the predictors and the target. <br/><br/>\n",
    "- **Log-Likelihood**: The probability in question is the probability of seeing these data points, *given* the model parameter values. The higher this is, the more our data conform to our model and so the better our fit. AIC and BIC are related to the log-likelihood; we'll talk about those later. <br/><br/>\n",
    "- **coef**: These are the betas as calculated by the least-squares regression. We also have p-values and 95%-confidence intervals. <br/><br/>\n",
    "- **Omnibus**: This is a test for error normality. The probability is the chance that the errors are normally distributed. <br/><br/>\n",
    "- **Durbin-Watson**: This is a test for error homoskedasticity. We're looking for values between ~1.5 and ~2.5. <br/><br/>\n",
    "- **Jarque-Bera**: This is another test for error normality. <br/><br/>\n",
    "- **Cond. No.**: The condition number tests for independence of the predictors. Lower scores are better. When the predictors are *not* independent, we can run into problems of multicollinearity. For more on the condition number, see [here](https://stats.stackexchange.com/questions/168259/how-do-you-interpret-the-condition-number-of-a-correlation-matrix).\n",
    "\n",
    "**Many good regression diagnostics are available in** [statsmodels](https://www.statsmodels.org/dev/examples/notebooks/generated/regression_diagnostics.html). For more on statsmodels regression statistics, see [here](https://www.accelebrate.com/blog/interpreting-results-from-linear-regression-is-the-data-appropriate)."
   ]
  },
  {
   "cell_type": "markdown",
   "metadata": {
    "colab_type": "text",
    "id": "Drk8n9Fugd9R"
   },
   "source": [
    "# Interpreting a linear regression model"
   ]
  },
  {
   "cell_type": "code",
   "execution_count": 33,
   "metadata": {
    "ExecuteTime": {
     "end_time": "2021-02-09T20:01:09.759439Z",
     "start_time": "2021-02-09T20:01:09.752739Z"
    },
    "colab": {},
    "colab_type": "code",
    "id": "VjPLPhj1gd9W"
   },
   "outputs": [],
   "source": [
    "df = pd.read_csv(\"data/nhanes.csv\")"
   ]
  },
  {
   "cell_type": "code",
   "execution_count": 34,
   "metadata": {},
   "outputs": [
    {
     "data": {
      "text/html": [
       "<div>\n",
       "<style scoped>\n",
       "    .dataframe tbody tr th:only-of-type {\n",
       "        vertical-align: middle;\n",
       "    }\n",
       "\n",
       "    .dataframe tbody tr th {\n",
       "        vertical-align: top;\n",
       "    }\n",
       "\n",
       "    .dataframe thead th {\n",
       "        text-align: right;\n",
       "    }\n",
       "</style>\n",
       "<table border=\"1\" class=\"dataframe\">\n",
       "  <thead>\n",
       "    <tr style=\"text-align: right;\">\n",
       "      <th></th>\n",
       "      <th>blood_pressure</th>\n",
       "      <th>age</th>\n",
       "      <th>gender</th>\n",
       "      <th>bmi</th>\n",
       "    </tr>\n",
       "  </thead>\n",
       "  <tbody>\n",
       "    <tr>\n",
       "      <th>0</th>\n",
       "      <td>128.0</td>\n",
       "      <td>62</td>\n",
       "      <td>1</td>\n",
       "      <td>27.8</td>\n",
       "    </tr>\n",
       "    <tr>\n",
       "      <th>1</th>\n",
       "      <td>146.0</td>\n",
       "      <td>53</td>\n",
       "      <td>1</td>\n",
       "      <td>30.8</td>\n",
       "    </tr>\n",
       "    <tr>\n",
       "      <th>2</th>\n",
       "      <td>138.0</td>\n",
       "      <td>78</td>\n",
       "      <td>1</td>\n",
       "      <td>28.8</td>\n",
       "    </tr>\n",
       "    <tr>\n",
       "      <th>3</th>\n",
       "      <td>132.0</td>\n",
       "      <td>56</td>\n",
       "      <td>2</td>\n",
       "      <td>42.4</td>\n",
       "    </tr>\n",
       "    <tr>\n",
       "      <th>4</th>\n",
       "      <td>100.0</td>\n",
       "      <td>42</td>\n",
       "      <td>2</td>\n",
       "      <td>20.3</td>\n",
       "    </tr>\n",
       "  </tbody>\n",
       "</table>\n",
       "</div>"
      ],
      "text/plain": [
       "   blood_pressure  age  gender   bmi\n",
       "0           128.0   62       1  27.8\n",
       "1           146.0   53       1  30.8\n",
       "2           138.0   78       1  28.8\n",
       "3           132.0   56       2  42.4\n",
       "4           100.0   42       2  20.3"
      ]
     },
     "execution_count": 34,
     "metadata": {},
     "output_type": "execute_result"
    }
   ],
   "source": [
    "df.head()"
   ]
  },
  {
   "cell_type": "markdown",
   "metadata": {
    "colab_type": "text",
    "id": "bn3-A4H6gd9g"
   },
   "source": [
    "### Simple Linear Regression\n",
    "\n",
    "In the cell below, we create a linear regression model that calculates blood presure as a function of age. "
   ]
  },
  {
   "cell_type": "code",
   "execution_count": 35,
   "metadata": {
    "ExecuteTime": {
     "end_time": "2021-02-09T20:01:11.713138Z",
     "start_time": "2021-02-09T20:01:11.687112Z"
    },
    "colab": {},
    "colab_type": "code",
    "id": "XfDp1slKgd9h",
    "outputId": "287ba8c7-859b-4e85-b354-506c278039f3"
   },
   "outputs": [
    {
     "data": {
      "text/html": [
       "<table class=\"simpletable\">\n",
       "<caption>OLS Regression Results</caption>\n",
       "<tr>\n",
       "  <th>Dep. Variable:</th>     <td>blood_pressure</td>  <th>  R-squared:         </th> <td>   0.220</td> \n",
       "</tr>\n",
       "<tr>\n",
       "  <th>Model:</th>                   <td>OLS</td>       <th>  Adj. R-squared:    </th> <td>   0.220</td> \n",
       "</tr>\n",
       "<tr>\n",
       "  <th>Method:</th>             <td>Least Squares</td>  <th>  F-statistic:       </th> <td>   1524.</td> \n",
       "</tr>\n",
       "<tr>\n",
       "  <th>Date:</th>             <td>Sat, 20 Feb 2021</td> <th>  Prob (F-statistic):</th> <td>6.35e-294</td>\n",
       "</tr>\n",
       "<tr>\n",
       "  <th>Time:</th>                 <td>12:21:17</td>     <th>  Log-Likelihood:    </th> <td> -22745.</td> \n",
       "</tr>\n",
       "<tr>\n",
       "  <th>No. Observations:</th>      <td>  5401</td>      <th>  AIC:               </th> <td>4.549e+04</td>\n",
       "</tr>\n",
       "<tr>\n",
       "  <th>Df Residuals:</th>          <td>  5399</td>      <th>  BIC:               </th> <td>4.551e+04</td>\n",
       "</tr>\n",
       "<tr>\n",
       "  <th>Df Model:</th>              <td>     1</td>      <th>                     </th>     <td> </td>    \n",
       "</tr>\n",
       "<tr>\n",
       "  <th>Covariance Type:</th>      <td>nonrobust</td>    <th>                     </th>     <td> </td>    \n",
       "</tr>\n",
       "</table>\n",
       "<table class=\"simpletable\">\n",
       "<tr>\n",
       "      <td></td>         <th>coef</th>     <th>std err</th>      <th>t</th>      <th>P>|t|</th>  <th>[0.025</th>    <th>0.975]</th>  \n",
       "</tr>\n",
       "<tr>\n",
       "  <th>Intercept</th> <td>  102.5144</td> <td>    0.619</td> <td>  165.540</td> <td> 0.000</td> <td>  101.300</td> <td>  103.728</td>\n",
       "</tr>\n",
       "<tr>\n",
       "  <th>age</th>       <td>    0.4692</td> <td>    0.012</td> <td>   39.043</td> <td> 0.000</td> <td>    0.446</td> <td>    0.493</td>\n",
       "</tr>\n",
       "</table>\n",
       "<table class=\"simpletable\">\n",
       "<tr>\n",
       "  <th>Omnibus:</th>       <td>784.418</td> <th>  Durbin-Watson:     </th> <td>   2.024</td>\n",
       "</tr>\n",
       "<tr>\n",
       "  <th>Prob(Omnibus):</th> <td> 0.000</td>  <th>  Jarque-Bera (JB):  </th> <td>1825.182</td>\n",
       "</tr>\n",
       "<tr>\n",
       "  <th>Skew:</th>          <td> 0.840</td>  <th>  Prob(JB):          </th> <td>    0.00</td>\n",
       "</tr>\n",
       "<tr>\n",
       "  <th>Kurtosis:</th>      <td> 5.299</td>  <th>  Cond. No.          </th> <td>    144.</td>\n",
       "</tr>\n",
       "</table><br/><br/>Notes:<br/>[1] Standard Errors assume that the covariance matrix of the errors is correctly specified."
      ],
      "text/plain": [
       "<class 'statsmodels.iolib.summary.Summary'>\n",
       "\"\"\"\n",
       "                            OLS Regression Results                            \n",
       "==============================================================================\n",
       "Dep. Variable:         blood_pressure   R-squared:                       0.220\n",
       "Model:                            OLS   Adj. R-squared:                  0.220\n",
       "Method:                 Least Squares   F-statistic:                     1524.\n",
       "Date:                Sat, 20 Feb 2021   Prob (F-statistic):          6.35e-294\n",
       "Time:                        12:21:17   Log-Likelihood:                -22745.\n",
       "No. Observations:                5401   AIC:                         4.549e+04\n",
       "Df Residuals:                    5399   BIC:                         4.551e+04\n",
       "Df Model:                           1                                         \n",
       "Covariance Type:            nonrobust                                         \n",
       "==============================================================================\n",
       "                 coef    std err          t      P>|t|      [0.025      0.975]\n",
       "------------------------------------------------------------------------------\n",
       "Intercept    102.5144      0.619    165.540      0.000     101.300     103.728\n",
       "age            0.4692      0.012     39.043      0.000       0.446       0.493\n",
       "==============================================================================\n",
       "Omnibus:                      784.418   Durbin-Watson:                   2.024\n",
       "Prob(Omnibus):                  0.000   Jarque-Bera (JB):             1825.182\n",
       "Skew:                           0.840   Prob(JB):                         0.00\n",
       "Kurtosis:                       5.299   Cond. No.                         144.\n",
       "==============================================================================\n",
       "\n",
       "Notes:\n",
       "[1] Standard Errors assume that the covariance matrix of the errors is correctly specified.\n",
       "\"\"\""
      ]
     },
     "execution_count": 35,
     "metadata": {},
     "output_type": "execute_result"
    }
   ],
   "source": [
    "model = sm.OLS.from_formula(\"blood_pressure ~ age\", data=df)\n",
    "result = model.fit()\n",
    "result.summary()"
   ]
  },
  {
   "cell_type": "markdown",
   "metadata": {
    "colab_type": "text",
    "id": "rs88E0iMgd9n"
   },
   "source": [
    "### R-squared and correlation\n",
    "\n",
    "Looking at our R-Squares, we can say that this model, or the age column, explains 21%\n",
    "of the variance in blood pressure."
   ]
  },
  {
   "cell_type": "markdown",
   "metadata": {
    "colab_type": "text",
    "id": "1AmPwraTgd9s"
   },
   "source": [
    "### Adding a categorical\n",
    "\n",
    "Next, let's add gender to our model. "
   ]
  },
  {
   "cell_type": "code",
   "execution_count": 36,
   "metadata": {
    "ExecuteTime": {
     "end_time": "2021-02-09T20:01:23.621139Z",
     "start_time": "2021-02-09T20:01:23.615786Z"
    },
    "colab": {},
    "colab_type": "code",
    "id": "ztS5b0ptgd9t"
   },
   "outputs": [],
   "source": [
    "transform = lambda x: \"male\" if x == 1 else \"female\"\n",
    "df['gender_cat'] = df.gender.apply(transform)"
   ]
  },
  {
   "cell_type": "code",
   "execution_count": 37,
   "metadata": {
    "ExecuteTime": {
     "end_time": "2021-02-09T20:01:35.573984Z",
     "start_time": "2021-02-09T20:01:35.528930Z"
    },
    "colab": {},
    "colab_type": "code",
    "id": "1VSTpMLWgd9u",
    "outputId": "8ad2ccc3-cb12-48f0-d4da-2aeddbf638b7",
    "scrolled": false
   },
   "outputs": [
    {
     "data": {
      "text/html": [
       "<table class=\"simpletable\">\n",
       "<caption>OLS Regression Results</caption>\n",
       "<tr>\n",
       "  <th>Dep. Variable:</th>     <td>blood_pressure</td>  <th>  R-squared:         </th> <td>   0.229</td> \n",
       "</tr>\n",
       "<tr>\n",
       "  <th>Model:</th>                   <td>OLS</td>       <th>  Adj. R-squared:    </th> <td>   0.229</td> \n",
       "</tr>\n",
       "<tr>\n",
       "  <th>Method:</th>             <td>Least Squares</td>  <th>  F-statistic:       </th> <td>   801.0</td> \n",
       "</tr>\n",
       "<tr>\n",
       "  <th>Date:</th>             <td>Sat, 20 Feb 2021</td> <th>  Prob (F-statistic):</th> <td>2.41e-305</td>\n",
       "</tr>\n",
       "<tr>\n",
       "  <th>Time:</th>                 <td>12:26:15</td>     <th>  Log-Likelihood:    </th> <td> -22715.</td> \n",
       "</tr>\n",
       "<tr>\n",
       "  <th>No. Observations:</th>      <td>  5401</td>      <th>  AIC:               </th> <td>4.544e+04</td>\n",
       "</tr>\n",
       "<tr>\n",
       "  <th>Df Residuals:</th>          <td>  5398</td>      <th>  BIC:               </th> <td>4.546e+04</td>\n",
       "</tr>\n",
       "<tr>\n",
       "  <th>Df Model:</th>              <td>     2</td>      <th>                     </th>     <td> </td>    \n",
       "</tr>\n",
       "<tr>\n",
       "  <th>Covariance Type:</th>      <td>nonrobust</td>    <th>                     </th>     <td> </td>    \n",
       "</tr>\n",
       "</table>\n",
       "<table class=\"simpletable\">\n",
       "<tr>\n",
       "           <td></td>             <th>coef</th>     <th>std err</th>      <th>t</th>      <th>P>|t|</th>  <th>[0.025</th>    <th>0.975]</th>  \n",
       "</tr>\n",
       "<tr>\n",
       "  <th>Intercept</th>          <td>  100.9144</td> <td>    0.649</td> <td>  155.443</td> <td> 0.000</td> <td>   99.642</td> <td>  102.187</td>\n",
       "</tr>\n",
       "<tr>\n",
       "  <th>gender_cat[T.male]</th> <td>    3.4440</td> <td>    0.442</td> <td>    7.792</td> <td> 0.000</td> <td>    2.578</td> <td>    4.310</td>\n",
       "</tr>\n",
       "<tr>\n",
       "  <th>age</th>                <td>    0.4677</td> <td>    0.012</td> <td>   39.130</td> <td> 0.000</td> <td>    0.444</td> <td>    0.491</td>\n",
       "</tr>\n",
       "</table>\n",
       "<table class=\"simpletable\">\n",
       "<tr>\n",
       "  <th>Omnibus:</th>       <td>802.560</td> <th>  Durbin-Watson:     </th> <td>   2.022</td>\n",
       "</tr>\n",
       "<tr>\n",
       "  <th>Prob(Omnibus):</th> <td> 0.000</td>  <th>  Jarque-Bera (JB):  </th> <td>1921.111</td>\n",
       "</tr>\n",
       "<tr>\n",
       "  <th>Skew:</th>          <td> 0.848</td>  <th>  Prob(JB):          </th> <td>    0.00</td>\n",
       "</tr>\n",
       "<tr>\n",
       "  <th>Kurtosis:</th>      <td> 5.379</td>  <th>  Cond. No.          </th> <td>    157.</td>\n",
       "</tr>\n",
       "</table><br/><br/>Notes:<br/>[1] Standard Errors assume that the covariance matrix of the errors is correctly specified."
      ],
      "text/plain": [
       "<class 'statsmodels.iolib.summary.Summary'>\n",
       "\"\"\"\n",
       "                            OLS Regression Results                            \n",
       "==============================================================================\n",
       "Dep. Variable:         blood_pressure   R-squared:                       0.229\n",
       "Model:                            OLS   Adj. R-squared:                  0.229\n",
       "Method:                 Least Squares   F-statistic:                     801.0\n",
       "Date:                Sat, 20 Feb 2021   Prob (F-statistic):          2.41e-305\n",
       "Time:                        12:26:15   Log-Likelihood:                -22715.\n",
       "No. Observations:                5401   AIC:                         4.544e+04\n",
       "Df Residuals:                    5398   BIC:                         4.546e+04\n",
       "Df Model:                           2                                         \n",
       "Covariance Type:            nonrobust                                         \n",
       "======================================================================================\n",
       "                         coef    std err          t      P>|t|      [0.025      0.975]\n",
       "--------------------------------------------------------------------------------------\n",
       "Intercept            100.9144      0.649    155.443      0.000      99.642     102.187\n",
       "gender_cat[T.male]     3.4440      0.442      7.792      0.000       2.578       4.310\n",
       "age                    0.4677      0.012     39.130      0.000       0.444       0.491\n",
       "==============================================================================\n",
       "Omnibus:                      802.560   Durbin-Watson:                   2.022\n",
       "Prob(Omnibus):                  0.000   Jarque-Bera (JB):             1921.111\n",
       "Skew:                           0.848   Prob(JB):                         0.00\n",
       "Kurtosis:                       5.379   Cond. No.                         157.\n",
       "==============================================================================\n",
       "\n",
       "Notes:\n",
       "[1] Standard Errors assume that the covariance matrix of the errors is correctly specified.\n",
       "\"\"\""
      ]
     },
     "execution_count": 37,
     "metadata": {},
     "output_type": "execute_result"
    }
   ],
   "source": [
    "model = sm.OLS.from_formula(\"blood_pressure ~ age + gender_cat\", data=df)\n",
    "result = model.fit()\n",
    "result.summary()"
   ]
  },
  {
   "cell_type": "markdown",
   "metadata": {
    "colab_type": "text",
    "id": "xfPLqR0agd9y"
   },
   "source": [
    "\n",
    "------\n",
    "When interpreting coefficients for multiple predictors, it is important to interpret them with all other coefficients held constant. \n",
    "\n",
    "So for example, the the above model finds that if two people share the same gender and have an age difference of one year, their blood pressure will differ on average by 0.47. Following this same logic, how can we interpret the coefficient for gender?\n",
    "\n",
    "----"
   ]
  },
  {
   "cell_type": "code",
   "execution_count": 38,
   "metadata": {
    "ExecuteTime": {
     "end_time": "2021-02-09T20:08:32.898103Z",
     "start_time": "2021-02-09T20:08:32.889179Z"
    },
    "colab": {},
    "colab_type": "code",
    "id": "pQXMD09lgd9z",
    "outputId": "a7d887fa-c813-4d90-8c8b-0bc3df23c289"
   },
   "outputs": [
    {
     "data": {
      "text/html": [
       "<div>\n",
       "<style scoped>\n",
       "    .dataframe tbody tr th:only-of-type {\n",
       "        vertical-align: middle;\n",
       "    }\n",
       "\n",
       "    .dataframe tbody tr th {\n",
       "        vertical-align: top;\n",
       "    }\n",
       "\n",
       "    .dataframe thead th {\n",
       "        text-align: right;\n",
       "    }\n",
       "</style>\n",
       "<table border=\"1\" class=\"dataframe\">\n",
       "  <thead>\n",
       "    <tr style=\"text-align: right;\">\n",
       "      <th></th>\n",
       "      <th>age</th>\n",
       "      <th>gender</th>\n",
       "    </tr>\n",
       "  </thead>\n",
       "  <tbody>\n",
       "    <tr>\n",
       "      <th>age</th>\n",
       "      <td>1.000000</td>\n",
       "      <td>-0.014613</td>\n",
       "    </tr>\n",
       "    <tr>\n",
       "      <th>gender</th>\n",
       "      <td>-0.014613</td>\n",
       "      <td>1.000000</td>\n",
       "    </tr>\n",
       "  </tbody>\n",
       "</table>\n",
       "</div>"
      ],
      "text/plain": [
       "             age    gender\n",
       "age     1.000000 -0.014613\n",
       "gender -0.014613  1.000000"
      ]
     },
     "execution_count": 38,
     "metadata": {},
     "output_type": "execute_result"
    }
   ],
   "source": [
    "df[[\"age\", \"gender\"]].corr()"
   ]
  },
  {
   "cell_type": "markdown",
   "metadata": {
    "colab_type": "text",
    "id": "k0Tl6mtngd92"
   },
   "source": [
    "### Let's add a third predictor.\n",
    "\n",
    "In the cell below we add, body mass index ([BMI](https://en.wikipedia.org/wiki/Body_mass_index)) to our model for blood pressure. \n"
   ]
  },
  {
   "cell_type": "code",
   "execution_count": 39,
   "metadata": {
    "ExecuteTime": {
     "end_time": "2021-02-09T20:10:16.927563Z",
     "start_time": "2021-02-09T20:10:16.882241Z"
    },
    "colab": {},
    "colab_type": "code",
    "id": "mxFsbNOFgd93",
    "outputId": "d6324212-40a1-43ac-b872-c5c037d4dcbf"
   },
   "outputs": [
    {
     "data": {
      "text/html": [
       "<table class=\"simpletable\">\n",
       "<caption>OLS Regression Results</caption>\n",
       "<tr>\n",
       "  <th>Dep. Variable:</th>     <td>blood_pressure</td>  <th>  R-squared:         </th> <td>   0.244</td> \n",
       "</tr>\n",
       "<tr>\n",
       "  <th>Model:</th>                   <td>OLS</td>       <th>  Adj. R-squared:    </th> <td>   0.244</td> \n",
       "</tr>\n",
       "<tr>\n",
       "  <th>Method:</th>             <td>Least Squares</td>  <th>  F-statistic:       </th> <td>   574.7</td> \n",
       "</tr>\n",
       "<tr>\n",
       "  <th>Date:</th>             <td>Sat, 20 Feb 2021</td> <th>  Prob (F-statistic):</th> <td>9.88e-324</td>\n",
       "</tr>\n",
       "<tr>\n",
       "  <th>Time:</th>                 <td>12:41:51</td>     <th>  Log-Likelihood:    </th> <td> -22409.</td> \n",
       "</tr>\n",
       "<tr>\n",
       "  <th>No. Observations:</th>      <td>  5347</td>      <th>  AIC:               </th> <td>4.483e+04</td>\n",
       "</tr>\n",
       "<tr>\n",
       "  <th>Df Residuals:</th>          <td>  5343</td>      <th>  BIC:               </th> <td>4.485e+04</td>\n",
       "</tr>\n",
       "<tr>\n",
       "  <th>Df Model:</th>              <td>     3</td>      <th>                     </th>     <td> </td>    \n",
       "</tr>\n",
       "<tr>\n",
       "  <th>Covariance Type:</th>      <td>nonrobust</td>    <th>                     </th>     <td> </td>    \n",
       "</tr>\n",
       "</table>\n",
       "<table class=\"simpletable\">\n",
       "<tr>\n",
       "           <td></td>             <th>coef</th>     <th>std err</th>      <th>t</th>      <th>P>|t|</th>  <th>[0.025</th>    <th>0.975]</th>  \n",
       "</tr>\n",
       "<tr>\n",
       "  <th>Intercept</th>          <td>   91.9966</td> <td>    1.111</td> <td>   82.800</td> <td> 0.000</td> <td>   89.818</td> <td>   94.175</td>\n",
       "</tr>\n",
       "<tr>\n",
       "  <th>gender_cat[T.male]</th> <td>    3.7808</td> <td>    0.439</td> <td>    8.607</td> <td> 0.000</td> <td>    2.920</td> <td>    4.642</td>\n",
       "</tr>\n",
       "<tr>\n",
       "  <th>age</th>                <td>    0.4614</td> <td>    0.012</td> <td>   38.832</td> <td> 0.000</td> <td>    0.438</td> <td>    0.485</td>\n",
       "</tr>\n",
       "<tr>\n",
       "  <th>bmi</th>                <td>    0.3078</td> <td>    0.031</td> <td>    9.802</td> <td> 0.000</td> <td>    0.246</td> <td>    0.369</td>\n",
       "</tr>\n",
       "</table>\n",
       "<table class=\"simpletable\">\n",
       "<tr>\n",
       "  <th>Omnibus:</th>       <td>806.802</td> <th>  Durbin-Watson:     </th> <td>   2.029</td>\n",
       "</tr>\n",
       "<tr>\n",
       "  <th>Prob(Omnibus):</th> <td> 0.000</td>  <th>  Jarque-Bera (JB):  </th> <td>1980.135</td>\n",
       "</tr>\n",
       "<tr>\n",
       "  <th>Skew:</th>          <td> 0.852</td>  <th>  Prob(JB):          </th> <td>    0.00</td>\n",
       "</tr>\n",
       "<tr>\n",
       "  <th>Kurtosis:</th>      <td> 5.447</td>  <th>  Cond. No.          </th> <td>    300.</td>\n",
       "</tr>\n",
       "</table><br/><br/>Notes:<br/>[1] Standard Errors assume that the covariance matrix of the errors is correctly specified."
      ],
      "text/plain": [
       "<class 'statsmodels.iolib.summary.Summary'>\n",
       "\"\"\"\n",
       "                            OLS Regression Results                            \n",
       "==============================================================================\n",
       "Dep. Variable:         blood_pressure   R-squared:                       0.244\n",
       "Model:                            OLS   Adj. R-squared:                  0.244\n",
       "Method:                 Least Squares   F-statistic:                     574.7\n",
       "Date:                Sat, 20 Feb 2021   Prob (F-statistic):          9.88e-324\n",
       "Time:                        12:41:51   Log-Likelihood:                -22409.\n",
       "No. Observations:                5347   AIC:                         4.483e+04\n",
       "Df Residuals:                    5343   BIC:                         4.485e+04\n",
       "Df Model:                           3                                         \n",
       "Covariance Type:            nonrobust                                         \n",
       "======================================================================================\n",
       "                         coef    std err          t      P>|t|      [0.025      0.975]\n",
       "--------------------------------------------------------------------------------------\n",
       "Intercept             91.9966      1.111     82.800      0.000      89.818      94.175\n",
       "gender_cat[T.male]     3.7808      0.439      8.607      0.000       2.920       4.642\n",
       "age                    0.4614      0.012     38.832      0.000       0.438       0.485\n",
       "bmi                    0.3078      0.031      9.802      0.000       0.246       0.369\n",
       "==============================================================================\n",
       "Omnibus:                      806.802   Durbin-Watson:                   2.029\n",
       "Prob(Omnibus):                  0.000   Jarque-Bera (JB):             1980.135\n",
       "Skew:                           0.852   Prob(JB):                         0.00\n",
       "Kurtosis:                       5.447   Cond. No.                         300.\n",
       "==============================================================================\n",
       "\n",
       "Notes:\n",
       "[1] Standard Errors assume that the covariance matrix of the errors is correctly specified.\n",
       "\"\"\""
      ]
     },
     "execution_count": 39,
     "metadata": {},
     "output_type": "execute_result"
    }
   ],
   "source": [
    "model = sm.OLS.from_formula(\"blood_pressure ~ age + bmi + gender_cat\", data=df)\n",
    "result = model.fit()\n",
    "result.summary()"
   ]
  },
  {
   "cell_type": "markdown",
   "metadata": {
    "colab_type": "text",
    "id": "NmdQDd1ugd96"
   },
   "source": [
    "How would we interpret this model?"
   ]
  },
  {
   "cell_type": "code",
   "execution_count": 40,
   "metadata": {
    "ExecuteTime": {
     "end_time": "2021-02-09T19:25:34.421760Z",
     "start_time": "2021-02-09T19:25:34.412482Z"
    },
    "colab": {},
    "colab_type": "code",
    "id": "BweSe7ozgd97",
    "outputId": "fc64c74e-d096-4577-c666-9ca1d0048a8c"
   },
   "outputs": [
    {
     "data": {
      "text/html": [
       "<div>\n",
       "<style scoped>\n",
       "    .dataframe tbody tr th:only-of-type {\n",
       "        vertical-align: middle;\n",
       "    }\n",
       "\n",
       "    .dataframe tbody tr th {\n",
       "        vertical-align: top;\n",
       "    }\n",
       "\n",
       "    .dataframe thead th {\n",
       "        text-align: right;\n",
       "    }\n",
       "</style>\n",
       "<table border=\"1\" class=\"dataframe\">\n",
       "  <thead>\n",
       "    <tr style=\"text-align: right;\">\n",
       "      <th></th>\n",
       "      <th>age</th>\n",
       "      <th>gender</th>\n",
       "      <th>bmi</th>\n",
       "    </tr>\n",
       "  </thead>\n",
       "  <tbody>\n",
       "    <tr>\n",
       "      <th>age</th>\n",
       "      <td>1.000000</td>\n",
       "      <td>-0.014613</td>\n",
       "      <td>0.059597</td>\n",
       "    </tr>\n",
       "    <tr>\n",
       "      <th>gender</th>\n",
       "      <td>-0.014613</td>\n",
       "      <td>1.000000</td>\n",
       "      <td>0.081811</td>\n",
       "    </tr>\n",
       "    <tr>\n",
       "      <th>bmi</th>\n",
       "      <td>0.059597</td>\n",
       "      <td>0.081811</td>\n",
       "      <td>1.000000</td>\n",
       "    </tr>\n",
       "  </tbody>\n",
       "</table>\n",
       "</div>"
      ],
      "text/plain": [
       "             age    gender       bmi\n",
       "age     1.000000 -0.014613  0.059597\n",
       "gender -0.014613  1.000000  0.081811\n",
       "bmi     0.059597  0.081811  1.000000"
      ]
     },
     "execution_count": 40,
     "metadata": {},
     "output_type": "execute_result"
    }
   ],
   "source": [
    "df[[\"age\", \"gender\", \"bmi\"]].corr()"
   ]
  },
  {
   "cell_type": "code",
   "execution_count": null,
   "metadata": {},
   "outputs": [],
   "source": []
  }
 ],
 "metadata": {
  "colab": {
   "collapsed_sections": [],
   "name": "Linear Regression NHANES Walkthrough.ipynb",
   "provenance": [],
   "version": "0.3.2"
  },
  "kernelspec": {
   "display_name": "Python 3",
   "language": "python",
   "name": "python3"
  },
  "language_info": {
   "codemirror_mode": {
    "name": "ipython",
    "version": 3
   },
   "file_extension": ".py",
   "mimetype": "text/x-python",
   "name": "python",
   "nbconvert_exporter": "python",
   "pygments_lexer": "ipython3",
   "version": "3.8.5"
  },
  "toc": {
   "base_numbering": 1,
   "nav_menu": {},
   "number_sections": false,
   "sideBar": true,
   "skip_h1_title": false,
   "title_cell": "Table of Contents",
   "title_sidebar": "Contents",
   "toc_cell": false,
   "toc_position": {},
   "toc_section_display": true,
   "toc_window_display": false
  }
 },
 "nbformat": 4,
 "nbformat_minor": 2
}
