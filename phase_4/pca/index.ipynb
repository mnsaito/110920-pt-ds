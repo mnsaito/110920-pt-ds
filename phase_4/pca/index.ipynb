{
 "cells": [
  {
   "cell_type": "markdown",
   "metadata": {
    "index": 0
   },
   "source": [
    "# Principal Component Analysis"
   ]
  },
  {
   "cell_type": "code",
   "execution_count": 1,
   "metadata": {
    "ExecuteTime": {
     "end_time": "2021-05-11T16:47:52.673340Z",
     "start_time": "2021-05-11T16:47:51.442485Z"
    },
    "index": 1
   },
   "outputs": [],
   "source": [
    "import pandas as pd\n",
    "import numpy as np\n",
    "\n",
    "from sklearn.decomposition import PCA\n",
    "from sklearn.impute import SimpleImputer\n",
    "from sklearn.preprocessing import StandardScaler, OneHotEncoder\n",
    "\n",
    "from sklearn.linear_model import LinearRegression\n",
    "\n",
    "from sklearn.pipeline import make_pipeline\n",
    "from sklearn.compose import make_column_selector, make_column_transformer\n",
    "from sklearn.model_selection import train_test_split, cross_val_score\n",
    "\n",
    "import seaborn as sns\n",
    "from matplotlib import pyplot as plt\n",
    "\n",
    "%config Completer.use_jedi = False"
   ]
  },
  {
   "cell_type": "markdown",
   "metadata": {
    "index": 3
   },
   "source": [
    "Think of the predictors in your dataset as dimensions in what we can usefully call \"feature space\". If we're predicting house prices, then we might have a 'square feet' dimension or a 'number of bathrooms' dimension, etc. Then each record (of a house or a house sale, say) would be represented as a point (or vector) in this feature space. Some would score higher on the 'latitude' dimension or lower on the 'number of bedrooms' dimension, or whatever.\n",
    "\n",
    "One difficulty is that, despite our working nomenclature, these things aren't really *dimensions* in the truest sense, since they're not independent of each other. When we talk about the x-, y-, and z-dimensions of Euclidean 3-space, for example, one important feature is that values of x have no bearing (per se) on values of y or of z. I can move three units along the x-dimension without changing my y- or z-position.\n",
    "\n",
    "But the same thing is generally not true for datasets. When I increase my position along the 'number of bedrooms' dimension (or, better, *direction*), I also tend to increase my position along, say, the 'square feet' direction as well.\n",
    "\n",
    "This is problematic for a couple reasons: One is that my model could be in effect \"double-counting\" certain features of my signal, which can lead to overfit models. And if my goal is inference or explanation, then I'm going to have a very hard time distinguishing between the idea that the number of bedrooms is what's *really* predictive of housing prices and the idea that the number of square feet is what's really so predictive.\n",
    "\n",
    "Within a predictive lense, sometimes we may have a feature space that is so large (often as a product of OneHotEncoding) that there is no concievable way to produce a model that is not highly overfit to the training data. \n",
    "\n",
    "The idea behind Principal Component Analysis (PCA) is to transform our dataset into something more useful for building models. What we want to do is to build new dimensions (predictors) out of the dimensions we are given in such a way that:\n",
    "\n",
    "(1) each dimension we draw captures as much of the remaining variance among our predictors as possible; and <br/>\n",
    "(2) each dimension we draw is orthogonal to the ones we've already drawn.\n",
    "\n",
    "## Motivation\n",
    "\n",
    "Think back to multiple linear regression for a moment.\n",
    "\n",
    "The fundamental idea is that I can get a better prediction for my dependent variable by considering a *linear combination of my predictors* than I can get by considering any one predictor by itself.\n",
    "\n",
    "$\\rightarrow$ **PCA insight**: If the combinations of predictors work better than the predictors themselves, then let's just treat the combinations as our primary dimensions!\n",
    "\n",
    "But one problem with having lots of predictors is that it raises the chance that some will be nearly *collinear*.\n",
    "\n",
    "$\\rightarrow$ **PCA insight**: Since we're reconstructing our dimensions anyway, let's make sure that the dimensions we construct are mutually orthogonal! <br/>\n",
    "$\\rightarrow$ **PCA insight**: Moreover, since we'll be capturing much of the variance among our predictors in the first few dimensions we construct, we'll be able in effect to *reduce  the dimensionality* of our problem. Thus PCA is a fundamental tool in *dimensionality reduction*."
   ]
  },
  {
   "cell_type": "code",
   "execution_count": 2,
   "metadata": {
    "ExecuteTime": {
     "end_time": "2021-05-11T16:47:52.680032Z",
     "start_time": "2021-05-11T16:47:52.674716Z"
    },
    "index": 4,
    "scrolled": true
   },
   "outputs": [],
   "source": [
    "cars = pd.read_csv('cars.csv')"
   ]
  },
  {
   "cell_type": "code",
   "execution_count": 3,
   "metadata": {
    "ExecuteTime": {
     "end_time": "2021-05-11T16:47:52.750634Z",
     "start_time": "2021-05-11T16:47:52.736567Z"
    },
    "index": 6
   },
   "outputs": [
    {
     "data": {
      "text/html": [
       "<div>\n",
       "<style scoped>\n",
       "    .dataframe tbody tr th:only-of-type {\n",
       "        vertical-align: middle;\n",
       "    }\n",
       "\n",
       "    .dataframe tbody tr th {\n",
       "        vertical-align: top;\n",
       "    }\n",
       "\n",
       "    .dataframe thead th {\n",
       "        text-align: right;\n",
       "    }\n",
       "</style>\n",
       "<table border=\"1\" class=\"dataframe\">\n",
       "  <thead>\n",
       "    <tr style=\"text-align: right;\">\n",
       "      <th></th>\n",
       "      <th>mpg</th>\n",
       "      <th>cylinders</th>\n",
       "      <th>cubicinches</th>\n",
       "      <th>hp</th>\n",
       "      <th>weightlbs</th>\n",
       "      <th>time-to-60</th>\n",
       "      <th>year</th>\n",
       "      <th>brand</th>\n",
       "    </tr>\n",
       "  </thead>\n",
       "  <tbody>\n",
       "    <tr>\n",
       "      <th>0</th>\n",
       "      <td>14.0</td>\n",
       "      <td>8</td>\n",
       "      <td>350</td>\n",
       "      <td>165</td>\n",
       "      <td>4209</td>\n",
       "      <td>12</td>\n",
       "      <td>1972</td>\n",
       "      <td>US.</td>\n",
       "    </tr>\n",
       "    <tr>\n",
       "      <th>1</th>\n",
       "      <td>31.9</td>\n",
       "      <td>4</td>\n",
       "      <td>89</td>\n",
       "      <td>71</td>\n",
       "      <td>1925</td>\n",
       "      <td>14</td>\n",
       "      <td>1980</td>\n",
       "      <td>Europe.</td>\n",
       "    </tr>\n",
       "    <tr>\n",
       "      <th>2</th>\n",
       "      <td>17.0</td>\n",
       "      <td>8</td>\n",
       "      <td>302</td>\n",
       "      <td>140</td>\n",
       "      <td>3449</td>\n",
       "      <td>11</td>\n",
       "      <td>1971</td>\n",
       "      <td>US.</td>\n",
       "    </tr>\n",
       "    <tr>\n",
       "      <th>3</th>\n",
       "      <td>15.0</td>\n",
       "      <td>8</td>\n",
       "      <td>400</td>\n",
       "      <td>150</td>\n",
       "      <td>3761</td>\n",
       "      <td>10</td>\n",
       "      <td>1971</td>\n",
       "      <td>US.</td>\n",
       "    </tr>\n",
       "    <tr>\n",
       "      <th>4</th>\n",
       "      <td>30.5</td>\n",
       "      <td>4</td>\n",
       "      <td>98</td>\n",
       "      <td>63</td>\n",
       "      <td>2051</td>\n",
       "      <td>17</td>\n",
       "      <td>1978</td>\n",
       "      <td>US.</td>\n",
       "    </tr>\n",
       "  </tbody>\n",
       "</table>\n",
       "</div>"
      ],
      "text/plain": [
       "    mpg   cylinders  cubicinches   hp  weightlbs   time-to-60   year     brand\n",
       "0  14.0           8          350  165       4209           12   1972       US.\n",
       "1  31.9           4           89   71       1925           14   1980   Europe.\n",
       "2  17.0           8          302  140       3449           11   1971       US.\n",
       "3  15.0           8          400  150       3761           10   1971       US.\n",
       "4  30.5           4           98   63       2051           17   1978       US."
      ]
     },
     "execution_count": 3,
     "metadata": {},
     "output_type": "execute_result"
    }
   ],
   "source": [
    "cars.head()"
   ]
  },
  {
   "cell_type": "code",
   "execution_count": 4,
   "metadata": {
    "ExecuteTime": {
     "end_time": "2021-05-11T16:47:53.194434Z",
     "start_time": "2021-05-11T16:47:53.189757Z"
    },
    "index": 8
   },
   "outputs": [
    {
     "data": {
      "text/plain": [
       "mpg             float64\n",
       " cylinders        int64\n",
       " cubicinches     object\n",
       " hp               int64\n",
       " weightlbs       object\n",
       " time-to-60       int64\n",
       " year             int64\n",
       " brand           object\n",
       "dtype: object"
      ]
     },
     "execution_count": 4,
     "metadata": {},
     "output_type": "execute_result"
    }
   ],
   "source": [
    "cars.dtypes"
   ]
  },
  {
   "cell_type": "markdown",
   "metadata": {
    "index": 10
   },
   "source": [
    "**Data Formatting**\n",
    "\n",
    "In the cell below, reformat the column names so \n",
    "- There are not preceeding or trailing spaces \n",
    "- All spaces and dashes have been replaced with underscores"
   ]
  },
  {
   "cell_type": "code",
   "execution_count": 5,
   "metadata": {
    "index": 11
   },
   "outputs": [],
   "source": [
    "# Your code here\n",
    "cars.columns = [x.strip().replace(' ', '_').replace('-', '_') for x in cars.columns]"
   ]
  },
  {
   "cell_type": "code",
   "execution_count": 6,
   "metadata": {},
   "outputs": [
    {
     "data": {
      "text/plain": [
       "Index(['mpg', 'cylinders', 'cubicinches', 'hp', 'weightlbs', 'time_to_60',\n",
       "       'year', 'brand'],\n",
       "      dtype='object')"
      ]
     },
     "execution_count": 6,
     "metadata": {},
     "output_type": "execute_result"
    }
   ],
   "source": [
    "cars.columns"
   ]
  },
  {
   "cell_type": "markdown",
   "metadata": {
    "index": 13
   },
   "source": [
    "In the cell below, change `'cubicinches'` and `'weightlbs'` to a numeric datatype. Replace non convertable observations to `np.nan`."
   ]
  },
  {
   "cell_type": "code",
   "execution_count": 7,
   "metadata": {
    "index": 14
   },
   "outputs": [],
   "source": [
    "# Your code here\n",
    "cars.cubicinches = pd.to_numeric(cars.cubicinches, errors='coerce')\n",
    "cars.weightlbs = pd.to_numeric(cars.weightlbs, errors='coerce')"
   ]
  },
  {
   "cell_type": "markdown",
   "metadata": {
    "index": 16
   },
   "source": [
    "In the cell below, seperate `'mpg'` from the rest of the data, and create a train test split. \n",
    "- Assign the `'mpg'` column to the variable `y`.\n",
    "- Assign all other columns to the variable `X`.\n",
    "- Create a train test split with a `random_state` of 20\n"
   ]
  },
  {
   "cell_type": "code",
   "execution_count": 8,
   "metadata": {
    "index": 17
   },
   "outputs": [],
   "source": [
    "# Your code here\n",
    "y = cars.mpg\n",
    "X = cars.drop(columns = 'mpg')\n",
    "\n",
    "X_train, X_test, y_train, y_test = train_test_split(X, y, random_state = 20)"
   ]
  },
  {
   "cell_type": "code",
   "execution_count": 9,
   "metadata": {
    "ExecuteTime": {
     "end_time": "2021-05-11T16:47:55.175921Z",
     "start_time": "2021-05-11T16:47:55.172390Z"
    },
    "index": 19
   },
   "outputs": [],
   "source": [
    "number_selector = make_column_selector(dtype_include='number')\n",
    "object_selector = make_column_selector(dtype_include='object')\n",
    "\n",
    "column_transform = make_column_transformer(\n",
    "                    (StandardScaler(), number_selector),\n",
    "                    (OneHotEncoder(), object_selector),\n",
    "                    remainder='passthrough')\n",
    "\n",
    "preprocessing = make_pipeline(column_transform, SimpleImputer())"
   ]
  },
  {
   "cell_type": "code",
   "execution_count": 10,
   "metadata": {
    "ExecuteTime": {
     "end_time": "2021-05-11T16:47:55.679907Z",
     "start_time": "2021-05-11T16:47:55.659044Z"
    },
    "index": 21
   },
   "outputs": [
    {
     "data": {
      "text/plain": [
       "Pipeline(steps=[('columntransformer',\n",
       "                 ColumnTransformer(remainder='passthrough',\n",
       "                                   transformers=[('standardscaler',\n",
       "                                                  StandardScaler(),\n",
       "                                                  <sklearn.compose._column_transformer.make_column_selector object at 0x7fdadec9a250>),\n",
       "                                                 ('onehotencoder',\n",
       "                                                  OneHotEncoder(),\n",
       "                                                  <sklearn.compose._column_transformer.make_column_selector object at 0x7fdadec9a5b0>)])),\n",
       "                ('simpleimputer', SimpleImputer())])"
      ]
     },
     "execution_count": 10,
     "metadata": {},
     "output_type": "execute_result"
    }
   ],
   "source": [
    "preprocessing.fit(X_train)"
   ]
  },
  {
   "cell_type": "code",
   "execution_count": 11,
   "metadata": {
    "ExecuteTime": {
     "end_time": "2021-05-11T16:47:56.182520Z",
     "start_time": "2021-05-11T16:47:56.170294Z"
    },
    "index": 23
   },
   "outputs": [],
   "source": [
    "X_tr_pp = preprocessing.transform(X_train)\n",
    "X_te_pp = preprocessing.transform(X_test)"
   ]
  },
  {
   "cell_type": "code",
   "execution_count": 12,
   "metadata": {
    "ExecuteTime": {
     "end_time": "2021-05-11T16:47:56.685797Z",
     "start_time": "2021-05-11T16:47:56.674679Z"
    },
    "index": 25
   },
   "outputs": [
    {
     "data": {
      "text/plain": [
       "0.8194994945551486"
      ]
     },
     "execution_count": 12,
     "metadata": {},
     "output_type": "execute_result"
    }
   ],
   "source": [
    "# Let's construct a linear regression\n",
    "\n",
    "lr = LinearRegression().fit(X_tr_pp, y_train)\n",
    "\n",
    "# Score on train\n",
    "lr.score(X_tr_pp, y_train)"
   ]
  },
  {
   "cell_type": "code",
   "execution_count": 13,
   "metadata": {
    "ExecuteTime": {
     "end_time": "2021-05-11T16:47:57.185115Z",
     "start_time": "2021-05-11T16:47:57.181260Z"
    },
    "index": 27
   },
   "outputs": [
    {
     "data": {
      "text/plain": [
       "0.7735358857922057"
      ]
     },
     "execution_count": 13,
     "metadata": {},
     "output_type": "execute_result"
    }
   ],
   "source": [
    "# Score on test\n",
    "\n",
    "lr.score(X_te_pp, y_test)"
   ]
  },
  {
   "cell_type": "code",
   "execution_count": 14,
   "metadata": {
    "ExecuteTime": {
     "end_time": "2021-05-11T16:47:57.736227Z",
     "start_time": "2021-05-11T16:47:57.732564Z"
    },
    "index": 29
   },
   "outputs": [
    {
     "data": {
      "text/plain": [
       "array([-1.55471557,  2.18857575, -1.15449626, -4.68100076, -0.26656104,\n",
       "        2.60363016,  0.70774264,  0.91202361, -1.61976625])"
      ]
     },
     "execution_count": 14,
     "metadata": {},
     "output_type": "execute_result"
    }
   ],
   "source": [
    "# Get the coefficients of the best-fit hyperplane\n",
    "\n",
    "lr.coef_"
   ]
  },
  {
   "cell_type": "markdown",
   "metadata": {
    "index": 31
   },
   "source": [
    "Thus, our best-fit hyperplane is given by:\n",
    "\n",
    "$- 1.555\\times cyl\\_sd + 2.189\\times in^3\\_sd - 1.154\\times hp\\_sd - 4.681\\times lbs.\\_sd  - 0.267\\times time_{60}\\_sd + 2.604\\times yr\\_sd + 0.708\\times brand_{Europe} + 0.912\\times brand_{Japan} - 1.620\\times brand_{US}$"
   ]
  },
  {
   "cell_type": "markdown",
   "metadata": {
    "index": 32
   },
   "source": [
    "## Eigenvalues and Eigenvectors\n",
    "\n",
    "The key idea is to diagonalize (i.e. find the eigendecomposition of) the covariance matrix. The decomposition will produce a set of orthogonal vectors that explain as much of the remaining variance as possible. These are our [principal components](https://math.stackexchange.com/questions/23596/why-is-the-eigenvector-of-a-covariance-matrix-equal-to-a-principal-component)."
   ]
  },
  {
   "cell_type": "code",
   "execution_count": 15,
   "metadata": {},
   "outputs": [
    {
     "data": {
      "text/html": [
       "<div>\n",
       "<style scoped>\n",
       "    .dataframe tbody tr th:only-of-type {\n",
       "        vertical-align: middle;\n",
       "    }\n",
       "\n",
       "    .dataframe tbody tr th {\n",
       "        vertical-align: top;\n",
       "    }\n",
       "\n",
       "    .dataframe thead th {\n",
       "        text-align: right;\n",
       "    }\n",
       "</style>\n",
       "<table border=\"1\" class=\"dataframe\">\n",
       "  <thead>\n",
       "    <tr style=\"text-align: right;\">\n",
       "      <th></th>\n",
       "      <th>cylinders</th>\n",
       "      <th>cubicinches</th>\n",
       "      <th>hp</th>\n",
       "      <th>weightlbs</th>\n",
       "      <th>time_to_60</th>\n",
       "      <th>year</th>\n",
       "    </tr>\n",
       "  </thead>\n",
       "  <tbody>\n",
       "    <tr>\n",
       "      <th>cylinders</th>\n",
       "      <td>2.888078</td>\n",
       "      <td>174.589621</td>\n",
       "      <td>57.410124</td>\n",
       "      <td>1273.768434</td>\n",
       "      <td>-2.910759</td>\n",
       "      <td>-1.786413</td>\n",
       "    </tr>\n",
       "    <tr>\n",
       "      <th>cubicinches</th>\n",
       "      <td>174.589621</td>\n",
       "      <td>11680.199590</td>\n",
       "      <td>3966.867039</td>\n",
       "      <td>84124.377026</td>\n",
       "      <td>-199.495790</td>\n",
       "      <td>-127.292449</td>\n",
       "    </tr>\n",
       "    <tr>\n",
       "      <th>hp</th>\n",
       "      <td>57.410124</td>\n",
       "      <td>3966.867039</td>\n",
       "      <td>1633.480307</td>\n",
       "      <td>29046.361693</td>\n",
       "      <td>-87.992598</td>\n",
       "      <td>-51.598863</td>\n",
       "    </tr>\n",
       "    <tr>\n",
       "      <th>weightlbs</th>\n",
       "      <td>1273.768434</td>\n",
       "      <td>84124.377026</td>\n",
       "      <td>29046.361693</td>\n",
       "      <td>707678.272142</td>\n",
       "      <td>-1183.859184</td>\n",
       "      <td>-727.437009</td>\n",
       "    </tr>\n",
       "    <tr>\n",
       "      <th>time_to_60</th>\n",
       "      <td>-2.910759</td>\n",
       "      <td>-199.495790</td>\n",
       "      <td>-87.992598</td>\n",
       "      <td>-1183.859184</td>\n",
       "      <td>8.609728</td>\n",
       "      <td>2.966825</td>\n",
       "    </tr>\n",
       "    <tr>\n",
       "      <th>year</th>\n",
       "      <td>-1.786413</td>\n",
       "      <td>-127.292449</td>\n",
       "      <td>-51.598863</td>\n",
       "      <td>-727.437009</td>\n",
       "      <td>2.966825</td>\n",
       "      <td>13.614327</td>\n",
       "    </tr>\n",
       "  </tbody>\n",
       "</table>\n",
       "</div>"
      ],
      "text/plain": [
       "               cylinders   cubicinches            hp      weightlbs  \\\n",
       "cylinders       2.888078    174.589621     57.410124    1273.768434   \n",
       "cubicinches   174.589621  11680.199590   3966.867039   84124.377026   \n",
       "hp             57.410124   3966.867039   1633.480307   29046.361693   \n",
       "weightlbs    1273.768434  84124.377026  29046.361693  707678.272142   \n",
       "time_to_60     -2.910759   -199.495790    -87.992598   -1183.859184   \n",
       "year           -1.786413   -127.292449    -51.598863    -727.437009   \n",
       "\n",
       "              time_to_60        year  \n",
       "cylinders      -2.910759   -1.786413  \n",
       "cubicinches  -199.495790 -127.292449  \n",
       "hp            -87.992598  -51.598863  \n",
       "weightlbs   -1183.859184 -727.437009  \n",
       "time_to_60      8.609728    2.966825  \n",
       "year            2.966825   13.614327  "
      ]
     },
     "execution_count": 15,
     "metadata": {},
     "output_type": "execute_result"
    }
   ],
   "source": [
    "# Covariance Matrix (looking at variance between all features)\n",
    "X_train.cov()"
   ]
  },
  {
   "cell_type": "code",
   "execution_count": 16,
   "metadata": {
    "ExecuteTime": {
     "end_time": "2021-05-11T16:48:18.004449Z",
     "start_time": "2021-05-11T16:48:18.000929Z"
    },
    "index": 33
   },
   "outputs": [
    {
     "data": {
      "text/plain": [
       "array([[0, 1],\n",
       "       [1, 0]])"
      ]
     },
     "execution_count": 16,
     "metadata": {},
     "output_type": "execute_result"
    }
   ],
   "source": [
    "matrix = np.array([[0,1], [1,0]])\n",
    "matrix"
   ]
  },
  {
   "cell_type": "code",
   "execution_count": 17,
   "metadata": {
    "ExecuteTime": {
     "end_time": "2021-05-11T16:48:19.348814Z",
     "start_time": "2021-05-11T16:48:19.344762Z"
    },
    "index": 35
   },
   "outputs": [
    {
     "data": {
      "text/plain": [
       "array([2, 5])"
      ]
     },
     "execution_count": 17,
     "metadata": {},
     "output_type": "execute_result"
    }
   ],
   "source": [
    "vector = [5,2]\n",
    "matrix.dot(vector)"
   ]
  },
  {
   "cell_type": "code",
   "execution_count": 18,
   "metadata": {
    "ExecuteTime": {
     "end_time": "2021-05-11T16:48:20.334823Z",
     "start_time": "2021-05-11T16:48:20.330544Z"
    },
    "index": 37
   },
   "outputs": [
    {
     "data": {
      "text/plain": [
       "(array([ 1., -1.]),\n",
       " array([[ 0.70710678, -0.70710678],\n",
       "        [ 0.70710678,  0.70710678]]))"
      ]
     },
     "execution_count": 18,
     "metadata": {},
     "output_type": "execute_result"
    }
   ],
   "source": [
    "np.linalg.eig(matrix)"
   ]
  },
  {
   "cell_type": "code",
   "execution_count": 19,
   "metadata": {
    "ExecuteTime": {
     "end_time": "2021-05-11T16:48:21.575289Z",
     "start_time": "2021-05-11T16:48:21.571366Z"
    },
    "index": 39
   },
   "outputs": [
    {
     "data": {
      "text/plain": [
       "array([0.70710678, 0.70710678])"
      ]
     },
     "execution_count": 19,
     "metadata": {},
     "output_type": "execute_result"
    }
   ],
   "source": [
    "matrix.dot([0.70710678,0.70710678])"
   ]
  },
  {
   "cell_type": "code",
   "execution_count": 27,
   "metadata": {},
   "outputs": [
    {
     "data": {
      "text/plain": [
       "array([ 0.70710678, -0.70710678])"
      ]
     },
     "execution_count": 27,
     "metadata": {},
     "output_type": "execute_result"
    }
   ],
   "source": [
    "matrix.dot([-0.70710678,0.70710678])"
   ]
  },
  {
   "cell_type": "markdown",
   "metadata": {
    "index": 41
   },
   "source": [
    "The definition of an eigenvector is: $\\vec{x}$ is an eigenvector of the matrix $A$ if $A\\vec{x} = \\lambda\\vec{x}$, for some scalar $\\lambda$. That is, the vector is oriented in just such a direction that multiplying the matrix by it serves only to lengthen or shorten the original vector.\n",
    "\n",
    "Suppose we have the matrix\n",
    "$A =\n",
    "\\begin{bmatrix}\n",
    "a_{11} & a_{12} \\\\\n",
    "a_{21} & a_{22} \\\\\n",
    "\\end{bmatrix}\n",
    "$.\n",
    "\n",
    "Let's calculate the eigendecomposition of this matrix.\n",
    "\n",
    "In order to do this, we set $(A - \\lambda I)\\vec{x} = 0$. One trivial solution is $\\vec{x} = \\vec{0}$, but if there are more interesting solutions, then it must be that $|A - \\lambda I| = 0$, which is to say that some column vector in $A - \\lambda I$ must be expressible as a linear combination of the other columns. (Otherwise, there would be no way to \"undo\" the multiplicative effect of a column vector on $\\vec{x}$!) For more on this point, see [this page](http://www2.math.uconn.edu/~troby/math2210f16/LT/sec1_7.pdf).\n",
    "\n",
    "So we have:\n",
    "\n",
    "$\\begin{vmatrix}\n",
    "a_{11} - \\lambda & a_{12} \\\\\n",
    "a_{21} & a_{22} - \\lambda\n",
    "\\end{vmatrix} = 0$\n",
    "\n",
    "$(a_{11} - \\lambda)(a_{22} - \\lambda) - a_{12}a_{21} = 0$\n",
    "\n",
    "$\\lambda^2 - (a_{11} + a_{22})\\lambda + a_{11}a_{22} - a_{12}a_{21}$\n",
    "\n",
    "$\\lambda = \\frac{a_{11} + a_{22}\\pm\\sqrt{(a_{11} + a_{22})^2 + 4(a_{12}a_{21} - a_{11}a_{22})}}{2}$\n",
    "\n",
    "Suppose e.g. we had\n",
    "\n",
    "$A = \\begin{bmatrix}\n",
    "5 & 3 \\\\\n",
    "3 & 5\n",
    "\\end{bmatrix}$.\n",
    "\n",
    "We can use the equation we just derived to solve for the eigenvalues of this matrix. Then we can plug *those* into our eigenvector definition to solve for the eigenvectors:\n",
    "\n",
    "So:\n",
    "\n",
    "### Eigenvalues\n",
    "\n",
    "$\\lambda = \\frac{5+5\\pm\\sqrt{(5+5)^2+4(3\\times 3 - 5\\times 5)}}{2} = 5\\pm\\frac{\\sqrt{36}}{2} = 2, 8$.\n",
    "\n",
    "### Eigenvectors\n",
    "\n",
    "Now we can plug those in. If we plug in $\\lambda = 8$, then we get:\n",
    "\n",
    "$\\begin{bmatrix}\n",
    "5-8 & 3 \\\\\n",
    "3 & 5-8\n",
    "\\end{bmatrix}\n",
    "\\begin{bmatrix}\n",
    "x_1 \\\\\n",
    "x_2\n",
    "\\end{bmatrix}\n",
    "=\n",
    "\\begin{bmatrix}\n",
    "-3 & 3 \\\\\n",
    "3 & -3\n",
    "\\end{bmatrix}\n",
    "\\begin{bmatrix}\n",
    "x_1 \\\\\n",
    "x_2\n",
    "\\end{bmatrix} = 0.$\n",
    "\n",
    "So:\n",
    "\n",
    "$-3x_1 + 3x_2 = 0$ (or $3x_1 - 3x_2 = 0$)\n",
    "\n",
    "$x_1 = x_2$.\n",
    "\n",
    "Therefore, we find that any 2 element column vector in which the two elements have equal magnitude and the same sign are eigenvectors for this matrix.\n",
    "\n",
    "It is standard to scale eigenvectors to a magnitude of 1, and so we would write this eigenvector as\n",
    "$\\begin{bmatrix}\n",
    "\\frac{\\sqrt{2}}{2} \\\\\n",
    "\\frac{\\sqrt{2}}{2}\n",
    "\\end{bmatrix}$.\n",
    "\n",
    "If we plug in $\\lambda = 2$, we find a second eigenvector equal to\n",
    "$\\begin{bmatrix}\n",
    "-\\frac{\\sqrt{2}}{2} \\\\\n",
    "\\frac{\\sqrt{2}}{2}\n",
    "\\end{bmatrix}$. Therefore, we find that any 2 element column vector in which the two elements have equal magnitude and opposite signs are eigenvectors for this matrix.\n",
    " (I'll leave this as an exercise.)\n",
    "\n",
    "**Thus we can express the full diagonalization of our matrix as follows**:\n",
    "\n",
    "$A = \\begin{bmatrix}\n",
    "5 & 3 \\\\\n",
    "3 & 5\n",
    "\\end{bmatrix} =\n",
    "\\begin{bmatrix}\n",
    "\\frac{\\sqrt{2}}{2} & -\\frac{\\sqrt{2}}{2} \\\\\n",
    "\\frac{\\sqrt{2}}{2} & \\frac{\\sqrt{2}}{2}\n",
    "\\end{bmatrix}\n",
    "\\begin{bmatrix}\n",
    "8 & 0 \\\\\n",
    "0 & 2\n",
    "\\end{bmatrix}\n",
    "\\begin{bmatrix}\n",
    "\\frac{\\sqrt{2}}{2} & \\frac{\\sqrt{2}}{2} \\\\\n",
    "-\\frac{\\sqrt{2}}{2} & \\frac{\\sqrt{2}}{2}\n",
    "\\end{bmatrix}$"
   ]
  },
  {
   "cell_type": "markdown",
   "metadata": {
    "index": 42
   },
   "source": [
    "### In Code"
   ]
  },
  {
   "cell_type": "code",
   "execution_count": 22,
   "metadata": {
    "ExecuteTime": {
     "end_time": "2021-05-11T21:19:54.013876Z",
     "start_time": "2021-05-11T21:19:53.929880Z"
    },
    "index": 43
   },
   "outputs": [
    {
     "data": {
      "text/plain": [
       "(array([8., 2.]),\n",
       " array([[ 0.70710678, -0.70710678],\n",
       "        [ 0.70710678,  0.70710678]]))"
      ]
     },
     "execution_count": 22,
     "metadata": {},
     "output_type": "execute_result"
    }
   ],
   "source": [
    "# We can use np.linalg.eig()\n",
    "\n",
    "A = np.array([[5, 3], [3, 5]])\n",
    "np.linalg.eig(A)"
   ]
  },
  {
   "cell_type": "code",
   "execution_count": null,
   "metadata": {},
   "outputs": [],
   "source": [
    "# Eigenvectors are columns [0.70710678,  0.70710678] and [-0.70710678,  0.70710678]"
   ]
  },
  {
   "cell_type": "code",
   "execution_count": 23,
   "metadata": {
    "ExecuteTime": {
     "end_time": "2021-05-11T16:48:25.711982Z",
     "start_time": "2021-05-11T16:48:25.709487Z"
    },
    "index": 45
   },
   "outputs": [],
   "source": [
    "# np.linalg.eig(X) returns a double of NumPy arrays, the first containing\n",
    "# the eigenvalues of X and the second containing the eigenvectors of X.\n",
    "\n",
    "values, vectors = np.linalg.eig(A)"
   ]
  },
  {
   "cell_type": "code",
   "execution_count": 24,
   "metadata": {
    "ExecuteTime": {
     "end_time": "2021-05-11T16:48:26.209061Z",
     "start_time": "2021-05-11T16:48:26.205612Z"
    },
    "index": 47
   },
   "outputs": [
    {
     "data": {
      "text/plain": [
       "array([8., 2.])"
      ]
     },
     "execution_count": 24,
     "metadata": {},
     "output_type": "execute_result"
    }
   ],
   "source": [
    "values"
   ]
  },
  {
   "cell_type": "code",
   "execution_count": 25,
   "metadata": {
    "ExecuteTime": {
     "end_time": "2021-05-11T16:48:26.622523Z",
     "start_time": "2021-05-11T16:48:26.619026Z"
    },
    "index": 49
   },
   "outputs": [
    {
     "data": {
      "text/plain": [
       "array([[8., 0.],\n",
       "       [0., 2.]])"
      ]
     },
     "execution_count": 25,
     "metadata": {},
     "output_type": "execute_result"
    }
   ],
   "source": [
    "# np.diag()\n",
    "\n",
    "np.diag(values)"
   ]
  },
  {
   "cell_type": "code",
   "execution_count": 26,
   "metadata": {
    "ExecuteTime": {
     "end_time": "2021-05-11T16:48:27.569049Z",
     "start_time": "2021-05-11T16:48:27.565212Z"
    },
    "index": 51
   },
   "outputs": [
    {
     "data": {
      "text/plain": [
       "array([[5., 3.],\n",
       "       [3., 5.]])"
      ]
     },
     "execution_count": 26,
     "metadata": {},
     "output_type": "execute_result"
    }
   ],
   "source": [
    "# Reconstruct A by multiplication\n",
    "\n",
    "vectors.dot(np.diag(values)).dot(vectors.T)"
   ]
  },
  {
   "cell_type": "markdown",
   "metadata": {
    "index": 53
   },
   "source": [
    "## PCA by Hand\n",
    "\n",
    "What follows is indebted to [Sebastian Raschka](http://sebastianraschka.com/Articles/2015_pca_in_3_steps.html#pca-vs-lda)."
   ]
  },
  {
   "cell_type": "code",
   "execution_count": 28,
   "metadata": {},
   "outputs": [
    {
     "data": {
      "text/plain": [
       "array([[-0.91365933, -0.73374036, -0.75054527, ...,  0.        ,\n",
       "         1.        ,  0.        ],\n",
       "       [-0.91365933, -0.94710908, -1.46992382, ...,  1.        ,\n",
       "         0.        ,  0.        ],\n",
       "       [-0.91365933, -1.03060118, -0.72573911, ...,  1.        ,\n",
       "         0.        ,  0.        ],\n",
       "       ...,\n",
       "       [-0.91365933, -0.80795556, -0.42806522, ...,  0.        ,\n",
       "         0.        ,  1.        ],\n",
       "       [ 0.26623186, -0.24206462,  0.24170102, ...,  0.        ,\n",
       "         0.        ,  1.        ],\n",
       "       [ 0.26623186, -0.28844913,  0.3657318 , ...,  1.        ,\n",
       "         0.        ,  0.        ]])"
      ]
     },
     "execution_count": 28,
     "metadata": {},
     "output_type": "execute_result"
    }
   ],
   "source": [
    "X_tr_pp"
   ]
  },
  {
   "cell_type": "code",
   "execution_count": 29,
   "metadata": {
    "ExecuteTime": {
     "end_time": "2021-05-11T16:48:28.856567Z",
     "start_time": "2021-05-11T16:48:28.852683Z"
    },
    "index": 54
   },
   "outputs": [
    {
     "data": {
      "text/plain": [
       "(9, 9)"
      ]
     },
     "execution_count": 29,
     "metadata": {},
     "output_type": "execute_result"
    }
   ],
   "source": [
    "# We'll start by producing the covariance matrix for the columns of X_tr_pp.\n",
    "\n",
    "cov_mat = np.cov(X_tr_pp, rowvar=False)\n",
    "cov_mat.shape"
   ]
  },
  {
   "cell_type": "code",
   "execution_count": 30,
   "metadata": {
    "ExecuteTime": {
     "end_time": "2021-05-11T16:48:29.349318Z",
     "start_time": "2021-05-11T16:48:29.344563Z"
    },
    "index": 56
   },
   "outputs": [
    {
     "data": {
      "text/plain": [
       "array([[ 1.00515464,  0.94565515,  0.84015601,  0.88175937, -0.58673216,\n",
       "        -0.28635987, -0.15296792, -0.14492108,  0.297889  ],\n",
       "       [ 0.94565515,  0.99484536,  0.90346127,  0.90612332, -0.62583216,\n",
       "        -0.31755825, -0.15696376, -0.15637655,  0.31334032],\n",
       "       [ 0.84015601,  0.90346127,  1.00515464,  0.8454713 , -0.74580856,\n",
       "        -0.34779071, -0.11424734, -0.12220459,  0.23645192],\n",
       "       [ 0.88175937,  0.90612332,  0.8454713 ,  0.98969072, -0.47464555,\n",
       "        -0.23193238, -0.11376261, -0.16352081,  0.27728342],\n",
       "       [-0.58673216, -0.62583216, -0.74580856, -0.47464555,  1.00515464,\n",
       "         0.2754432 ,  0.10550315,  0.06139071, -0.16689386],\n",
       "       [-0.28635987, -0.31755825, -0.34779071, -0.23193238,  0.2754432 ,\n",
       "         1.00515464, -0.03993529,  0.05702989, -0.0170946 ],\n",
       "       [-0.15296792, -0.15696376, -0.11424734, -0.11376261,  0.10550315,\n",
       "        -0.03993529,  0.15453344, -0.03325403, -0.12127941],\n",
       "       [-0.14492108, -0.15637655, -0.12220459, -0.16352081,  0.06139071,\n",
       "         0.05702989, -0.03325403,  0.14469997, -0.11144594],\n",
       "       [ 0.297889  ,  0.31334032,  0.23645192,  0.27728342, -0.16689386,\n",
       "        -0.0170946 , -0.12127941, -0.11144594,  0.23272535]])"
      ]
     },
     "execution_count": 30,
     "metadata": {},
     "output_type": "execute_result"
    }
   ],
   "source": [
    "cov_mat"
   ]
  },
  {
   "cell_type": "code",
   "execution_count": 31,
   "metadata": {
    "ExecuteTime": {
     "end_time": "2021-05-11T16:48:30.386978Z",
     "start_time": "2021-05-11T16:48:30.381567Z"
    },
    "index": 58,
    "scrolled": true
   },
   "outputs": [
    {
     "data": {
      "text/plain": [
       "(array([4.38933267e+00, 9.22453671e-01, 6.05467320e-01, 2.25938398e-01,\n",
       "        1.74183560e-01, 1.17666549e-01, 3.30715097e-02, 6.89997267e-02,\n",
       "        1.86697863e-16]),\n",
       " array([[ 4.50493972e-01,  1.31516586e-01,  1.89377391e-01,\n",
       "         -1.68669148e-01,  1.95013697e-01, -6.88498751e-01,\n",
       "         -4.14419189e-01,  1.77880171e-01, -3.34616330e-15],\n",
       "        [ 4.63752118e-01,  9.96079091e-02,  1.42972191e-01,\n",
       "         -9.70945887e-02,  6.00289237e-02, -3.63338354e-02,\n",
       "          8.28603022e-01,  2.31597158e-01,  1.27465869e-15],\n",
       "        [ 4.55012282e-01, -4.77921413e-03, -1.42511891e-01,\n",
       "          3.70538847e-01,  5.18532087e-02,  5.06832022e-01,\n",
       "         -3.14650574e-01,  5.26079717e-01, -5.95082193e-16],\n",
       "        [ 4.32607002e-01,  1.94139845e-01,  3.40880602e-01,\n",
       "          3.19179467e-01, -5.00236660e-02,  1.80719400e-01,\n",
       "         -7.44780853e-02, -7.18593718e-01,  1.99465910e-15],\n",
       "        [-3.50473904e-01,  1.22681926e-01,  8.50838640e-01,\n",
       "          8.02940529e-02,  1.45206459e-01,  1.50707875e-01,\n",
       "         -4.19606454e-02,  2.93573136e-01, -4.44784847e-16],\n",
       "        [-1.87712952e-01,  9.37897463e-01, -2.36414653e-01,\n",
       "          1.38165552e-01, -3.27256299e-02, -4.89130565e-02,\n",
       "          2.80922873e-02,  7.66678378e-02, -3.04142623e-16],\n",
       "        [-6.77780477e-02, -1.29552362e-01,  4.14807719e-02,\n",
       "          5.42724067e-01, -4.54588474e-01, -3.45090509e-01,\n",
       "          9.41979406e-02,  1.20031366e-01,  5.77350269e-01],\n",
       "        [-7.29876654e-02, -2.23739859e-02, -1.32065746e-01,\n",
       "          8.61207046e-02,  7.84538869e-01,  4.72963393e-02,\n",
       "          5.60078882e-02, -1.22905127e-01,  5.77350269e-01],\n",
       "        [ 1.40765713e-01,  1.51926348e-01,  9.05849745e-02,\n",
       "         -6.28844772e-01, -3.29950396e-01,  2.97794170e-01,\n",
       "         -1.50205829e-01,  2.87376156e-03,  5.77350269e-01]]))"
      ]
     },
     "execution_count": 31,
     "metadata": {},
     "output_type": "execute_result"
    }
   ],
   "source": [
    "np.linalg.eig(cov_mat)"
   ]
  },
  {
   "cell_type": "code",
   "execution_count": 32,
   "metadata": {
    "ExecuteTime": {
     "end_time": "2021-05-11T16:48:31.734638Z",
     "start_time": "2021-05-11T16:48:31.732023Z"
    },
    "index": 60
   },
   "outputs": [],
   "source": [
    "# Let's assign the results of eig(cov_mat) to a double of variables.\n",
    "\n",
    "eigvals, eigvecs = np.linalg.eig(cov_mat)"
   ]
  },
  {
   "cell_type": "code",
   "execution_count": 33,
   "metadata": {
    "ExecuteTime": {
     "end_time": "2021-05-11T16:48:32.350930Z",
     "start_time": "2021-05-11T16:48:32.346324Z"
    },
    "index": 62
   },
   "outputs": [
    {
     "data": {
      "text/plain": [
       "array([[ 4.50493972e-01,  1.31516586e-01,  1.89377391e-01,\n",
       "        -1.68669148e-01,  1.95013697e-01, -6.88498751e-01,\n",
       "        -4.14419189e-01,  1.77880171e-01, -3.34616330e-15],\n",
       "       [ 4.63752118e-01,  9.96079091e-02,  1.42972191e-01,\n",
       "        -9.70945887e-02,  6.00289237e-02, -3.63338354e-02,\n",
       "         8.28603022e-01,  2.31597158e-01,  1.27465869e-15],\n",
       "       [ 4.55012282e-01, -4.77921413e-03, -1.42511891e-01,\n",
       "         3.70538847e-01,  5.18532087e-02,  5.06832022e-01,\n",
       "        -3.14650574e-01,  5.26079717e-01, -5.95082193e-16],\n",
       "       [ 4.32607002e-01,  1.94139845e-01,  3.40880602e-01,\n",
       "         3.19179467e-01, -5.00236660e-02,  1.80719400e-01,\n",
       "        -7.44780853e-02, -7.18593718e-01,  1.99465910e-15],\n",
       "       [-3.50473904e-01,  1.22681926e-01,  8.50838640e-01,\n",
       "         8.02940529e-02,  1.45206459e-01,  1.50707875e-01,\n",
       "        -4.19606454e-02,  2.93573136e-01, -4.44784847e-16],\n",
       "       [-1.87712952e-01,  9.37897463e-01, -2.36414653e-01,\n",
       "         1.38165552e-01, -3.27256299e-02, -4.89130565e-02,\n",
       "         2.80922873e-02,  7.66678378e-02, -3.04142623e-16],\n",
       "       [-6.77780477e-02, -1.29552362e-01,  4.14807719e-02,\n",
       "         5.42724067e-01, -4.54588474e-01, -3.45090509e-01,\n",
       "         9.41979406e-02,  1.20031366e-01,  5.77350269e-01],\n",
       "       [-7.29876654e-02, -2.23739859e-02, -1.32065746e-01,\n",
       "         8.61207046e-02,  7.84538869e-01,  4.72963393e-02,\n",
       "         5.60078882e-02, -1.22905127e-01,  5.77350269e-01],\n",
       "       [ 1.40765713e-01,  1.51926348e-01,  9.05849745e-02,\n",
       "        -6.28844772e-01, -3.29950396e-01,  2.97794170e-01,\n",
       "        -1.50205829e-01,  2.87376156e-03,  5.77350269e-01]])"
      ]
     },
     "execution_count": 33,
     "metadata": {},
     "output_type": "execute_result"
    }
   ],
   "source": [
    "# The columns of \"eigvecs\" are the eigenvectors!\n",
    "\n",
    "eigvecs"
   ]
  },
  {
   "cell_type": "code",
   "execution_count": 34,
   "metadata": {
    "ExecuteTime": {
     "end_time": "2021-05-11T16:48:33.706028Z",
     "start_time": "2021-05-11T16:48:33.703259Z"
    },
    "index": 64
   },
   "outputs": [],
   "source": [
    "# The eigenvectors of the covariance matrix are our principal components.\n",
    "# Let's look at the first three.\n",
    "\n",
    "pcabh = np.vstack([row[:3] for row in eigvecs])"
   ]
  },
  {
   "cell_type": "code",
   "execution_count": 35,
   "metadata": {
    "ExecuteTime": {
     "end_time": "2021-05-11T16:48:34.316802Z",
     "start_time": "2021-05-11T16:48:34.313097Z"
    },
    "index": 66
   },
   "outputs": [
    {
     "data": {
      "text/plain": [
       "array([[ 0.45049397,  0.13151659,  0.18937739],\n",
       "       [ 0.46375212,  0.09960791,  0.14297219],\n",
       "       [ 0.45501228, -0.00477921, -0.14251189],\n",
       "       [ 0.432607  ,  0.19413984,  0.3408806 ],\n",
       "       [-0.3504739 ,  0.12268193,  0.85083864],\n",
       "       [-0.18771295,  0.93789746, -0.23641465],\n",
       "       [-0.06777805, -0.12955236,  0.04148077],\n",
       "       [-0.07298767, -0.02237399, -0.13206575],\n",
       "       [ 0.14076571,  0.15192635,  0.09058497]])"
      ]
     },
     "execution_count": 35,
     "metadata": {},
     "output_type": "execute_result"
    }
   ],
   "source": [
    "pcabh"
   ]
  },
  {
   "cell_type": "markdown",
   "metadata": {
    "index": 68
   },
   "source": [
    "Now, to transform our data points into the space defined by the principal components, we simply need to compute the dot-product of `X_tr_pp` with those principal components.\n",
    "\n",
    "Why? Think about what this matrix product looks like:\n",
    "\n",
    "We take a row of `X_tr_pp` and multiply it by a column of `pcabh`, pairwise. The row of `X_tr_pp` represents the values for the columns in the original space. The column of `pcabh` represents the weights we need on each of the original columns in order to transform a value into principal-component space. And so the product of these two matrices will be each row, transformed into principal-component space!"
   ]
  },
  {
   "cell_type": "code",
   "execution_count": 36,
   "metadata": {
    "ExecuteTime": {
     "end_time": "2021-05-11T16:48:35.830841Z",
     "start_time": "2021-05-11T16:48:35.826833Z"
    },
    "index": 69
   },
   "outputs": [
    {
     "data": {
      "text/plain": [
       "array([[-0.91365933, -0.73374036, -0.75054527, -0.54147778,  0.80251396,\n",
       "         1.15654312,  0.        ,  1.        ,  0.        ],\n",
       "       [-0.91365933, -0.94710908, -1.46992382, -1.24704389,  1.82755909,\n",
       "        -0.74548261,  1.        ,  0.        ,  0.        ],\n",
       "       [-0.91365933, -1.03060118, -0.72573911, -1.1099829 , -0.22253116,\n",
       "        -1.28891854,  1.        ,  0.        ,  0.        ],\n",
       "       [ 1.44612305,  2.37402138,  2.9703783 ,  0.10688025, -1.93093971,\n",
       "        -1.5606365 ,  0.        ,  0.        ,  1.        ],\n",
       "       [ 1.44612305,  1.3999468 ,  0.98588573,  1.29394754, -0.90589458,\n",
       "        -0.74548261,  0.        ,  0.        ,  1.        ]])"
      ]
     },
     "execution_count": 36,
     "metadata": {},
     "output_type": "execute_result"
    }
   ],
   "source": [
    "X_tr_pp[:5, :]"
   ]
  },
  {
   "cell_type": "code",
   "execution_count": 37,
   "metadata": {
    "ExecuteTime": {
     "end_time": "2021-05-11T16:48:36.807409Z",
     "start_time": "2021-05-11T16:48:36.803351Z"
    },
    "index": 71
   },
   "outputs": [
    {
     "data": {
      "text/plain": [
       "array([[-1.89897205,  0.86601574, -0.07822813],\n",
       "       [-2.62748825, -1.05410688,  1.24863355],\n",
       "       [-1.44778807, -1.80056717, -0.43845703],\n",
       "       [ 4.26068429, -1.11546795, -0.95697458],\n",
       "       [ 2.90725376, -0.08226684,  0.27065552]])"
      ]
     },
     "execution_count": 37,
     "metadata": {},
     "output_type": "execute_result"
    }
   ],
   "source": [
    "X_tr_pp.dot(pcabh)[:5, :]"
   ]
  },
  {
   "cell_type": "markdown",
   "metadata": {
    "index": 73
   },
   "source": [
    "# Sklearn"
   ]
  },
  {
   "cell_type": "code",
   "execution_count": 38,
   "metadata": {
    "ExecuteTime": {
     "end_time": "2021-05-11T16:48:37.518592Z",
     "start_time": "2021-05-11T16:48:37.514425Z"
    },
    "index": 74
   },
   "outputs": [],
   "source": [
    "# Naturally, sklearn has a shortcut for this!\n",
    "\n",
    "pca = PCA(n_components=3) # Check out how `n_components` works\n",
    "\n",
    "X_train_new = pca.fit_transform(X_tr_pp)"
   ]
  },
  {
   "cell_type": "code",
   "execution_count": 39,
   "metadata": {
    "ExecuteTime": {
     "end_time": "2021-05-11T16:48:38.739823Z",
     "start_time": "2021-05-11T16:48:38.736650Z"
    },
    "index": 76
   },
   "outputs": [
    {
     "data": {
      "text/plain": [
       "array([4.38933267, 0.92245367, 0.60546732])"
      ]
     },
     "execution_count": 39,
     "metadata": {},
     "output_type": "execute_result"
    }
   ],
   "source": [
    "# Let's check out the explained variance\n",
    "\n",
    "pca.explained_variance_"
   ]
  },
  {
   "cell_type": "code",
   "execution_count": 40,
   "metadata": {
    "ExecuteTime": {
     "end_time": "2021-05-11T16:48:39.770718Z",
     "start_time": "2021-05-11T16:48:39.767105Z"
    },
    "index": 78
   },
   "outputs": [
    {
     "data": {
      "text/plain": [
       "array([0.67144815, 0.14111024, 0.09261998])"
      ]
     },
     "execution_count": 40,
     "metadata": {},
     "output_type": "execute_result"
    }
   ],
   "source": [
    "# The ratio is often more informative\n",
    "\n",
    "pca.explained_variance_ratio_"
   ]
  },
  {
   "cell_type": "code",
   "execution_count": 41,
   "metadata": {
    "ExecuteTime": {
     "end_time": "2021-05-11T16:48:41.526948Z",
     "start_time": "2021-05-11T16:48:41.523283Z"
    },
    "index": 80,
    "scrolled": false
   },
   "outputs": [
    {
     "data": {
      "text/plain": [
       "array([[ 0.45049397,  0.46375212,  0.45501228,  0.432607  , -0.3504739 ,\n",
       "        -0.18771295, -0.06777805, -0.07298767,  0.14076571],\n",
       "       [-0.13151659, -0.09960791,  0.00477921, -0.19413984, -0.12268193,\n",
       "        -0.93789746,  0.12955236,  0.02237399, -0.15192635],\n",
       "       [ 0.18937739,  0.14297219, -0.14251189,  0.3408806 ,  0.85083864,\n",
       "        -0.23641465,  0.04148077, -0.13206575,  0.09058497]])"
      ]
     },
     "execution_count": 41,
     "metadata": {},
     "output_type": "execute_result"
    }
   ],
   "source": [
    "# We can also check out the Principal Components themselves\n",
    "\n",
    "pca.components_"
   ]
  },
  {
   "cell_type": "code",
   "execution_count": 42,
   "metadata": {
    "ExecuteTime": {
     "end_time": "2021-05-11T16:48:42.864133Z",
     "start_time": "2021-05-11T16:48:42.860618Z"
    },
    "index": 82
   },
   "outputs": [
    {
     "data": {
      "text/plain": [
       "Index(['cylinders', 'cubicinches', 'hp', 'weightlbs', 'time_to_60', 'year',\n",
       "       'brand'],\n",
       "      dtype='object')"
      ]
     },
     "execution_count": 42,
     "metadata": {},
     "output_type": "execute_result"
    }
   ],
   "source": [
    "X_train.columns"
   ]
  },
  {
   "cell_type": "markdown",
   "metadata": {
    "index": 84
   },
   "source": [
    "The results of our PCA are as follows: \n",
    "\n",
    "**PC1** = 0.450 * cylinders_sd + 0.464 * cubicinches_sd + 0.455 * hp_sd + 0.433 * 𝑙𝑏𝑠_𝑠𝑑 - 0.350 * time-to-60_sd - 0.188 * year_sd - 0.068 * Europe - 0.073 * Japan + 0.141 * US\n",
    "\n",
    "**PC2** = -0.132 * cylinders_sd - 0.1 * cubicinches_sd + 0.005 * hp_sd  -0.194 * 𝑙𝑏𝑠_𝑠𝑑 - 0.123 * time-to-60_sd - 0.938 * year_sd + 0.13 * Europe + 0.022 * Japan - 0.152 * US\n",
    "\n",
    "**PC3** = 0.189 * cylinders_sd + 0.142 * cubicinches_sd - 0.143 * hp_sd + 0.341 * 𝑙𝑏𝑠_𝑠𝑑 + 0.851 * time-to-60_sd - 0.236 * year_sd - 0.041 * Europe - 0.132 * Japan + 0.091 * US"
   ]
  },
  {
   "cell_type": "markdown",
   "metadata": {
    "index": 85
   },
   "source": [
    "## Orthogonality"
   ]
  },
  {
   "cell_type": "markdown",
   "metadata": {
    "index": 86
   },
   "source": [
    "These principal components should also be mutually orthogonal. If they are, then the dot product of any two of them should be 0. Let's check!"
   ]
  },
  {
   "cell_type": "code",
   "execution_count": 43,
   "metadata": {
    "ExecuteTime": {
     "end_time": "2021-05-11T16:49:03.202857Z",
     "start_time": "2021-05-11T16:49:03.199212Z"
    },
    "index": 87
   },
   "outputs": [
    {
     "data": {
      "text/plain": [
       "-1.3877787807814457e-17"
      ]
     },
     "execution_count": 43,
     "metadata": {},
     "output_type": "execute_result"
    }
   ],
   "source": [
    "pca.components_[0].dot(pca.components_[1])"
   ]
  },
  {
   "cell_type": "code",
   "execution_count": 44,
   "metadata": {
    "ExecuteTime": {
     "end_time": "2021-05-11T16:49:03.640877Z",
     "start_time": "2021-05-11T16:49:03.637099Z"
    },
    "index": 89
   },
   "outputs": [
    {
     "data": {
      "text/plain": [
       "-1.3877787807814457e-17"
      ]
     },
     "execution_count": 44,
     "metadata": {},
     "output_type": "execute_result"
    }
   ],
   "source": [
    "pca.components_[0].dot(pca.components_[2])"
   ]
  },
  {
   "cell_type": "code",
   "execution_count": 45,
   "metadata": {
    "ExecuteTime": {
     "end_time": "2021-05-11T16:49:04.147442Z",
     "start_time": "2021-05-11T16:49:04.143872Z"
    },
    "index": 91
   },
   "outputs": [
    {
     "data": {
      "text/plain": [
       "-4.163336342344337e-17"
      ]
     },
     "execution_count": 45,
     "metadata": {},
     "output_type": "execute_result"
    }
   ],
   "source": [
    "pca.components_[1].dot(pca.components_[2])"
   ]
  },
  {
   "cell_type": "markdown",
   "metadata": {
    "index": 93
   },
   "source": [
    "## Transformed dimensions have zero correlation"
   ]
  },
  {
   "cell_type": "code",
   "execution_count": 46,
   "metadata": {
    "ExecuteTime": {
     "end_time": "2021-05-11T16:49:06.140889Z",
     "start_time": "2021-05-11T16:49:06.136574Z"
    },
    "index": 94
   },
   "outputs": [
    {
     "data": {
      "text/plain": [
       "array([[ 1.00000000e+00,  7.82113286e-17, -6.17840773e-17],\n",
       "       [ 7.82113286e-17,  1.00000000e+00,  3.17023317e-16],\n",
       "       [-6.17840773e-17,  3.17023317e-16,  1.00000000e+00]])"
      ]
     },
     "execution_count": 46,
     "metadata": {},
     "output_type": "execute_result"
    }
   ],
   "source": [
    "np.corrcoef(X_train_new.T)"
   ]
  },
  {
   "cell_type": "markdown",
   "metadata": {
    "index": 96
   },
   "source": [
    "## Visualizations"
   ]
  },
  {
   "cell_type": "code",
   "execution_count": 47,
   "metadata": {
    "ExecuteTime": {
     "end_time": "2021-05-11T16:49:07.735045Z",
     "start_time": "2021-05-11T16:49:07.732381Z"
    },
    "index": 97
   },
   "outputs": [],
   "source": [
    "X_test_new = pca.transform(X_te_pp)"
   ]
  },
  {
   "cell_type": "code",
   "execution_count": 48,
   "metadata": {
    "ExecuteTime": {
     "end_time": "2021-05-11T16:49:08.258635Z",
     "start_time": "2021-05-11T16:49:08.255864Z"
    },
    "index": 99
   },
   "outputs": [],
   "source": [
    "# Reassembling the whole dataset for the sake of visualization\n",
    "\n",
    "X_transformed = np.vstack([X_train_new, X_test_new])\n",
    "y_new = np.concatenate([y_train, y_test])"
   ]
  },
  {
   "cell_type": "code",
   "execution_count": 52,
   "metadata": {
    "ExecuteTime": {
     "end_time": "2021-05-11T16:49:08.786763Z",
     "start_time": "2021-05-11T16:49:08.662472Z"
    },
    "index": 101
   },
   "outputs": [
    {
     "data": {
      "image/png": "[encoded data removed]",
      "text/plain": [
       "<Figure size 432x288 with 1 Axes>"
      ]
     },
     "metadata": {
      "needs_background": "light"
     },
     "output_type": "display_data"
    }
   ],
   "source": [
    "f, a = plt.subplots()\n",
    "a.plot(X_transformed[:, 0], y_new, 'r.');"
   ]
  },
  {
   "cell_type": "code",
   "execution_count": 53,
   "metadata": {
    "ExecuteTime": {
     "end_time": "2021-05-11T16:49:09.829552Z",
     "start_time": "2021-05-11T16:49:09.661840Z"
    },
    "index": 103
   },
   "outputs": [
    {
     "data": {
      "image/png": "[encoded data removed]",
      "text/plain": [
       "<Figure size 432x288 with 1 Axes>"
      ]
     },
     "metadata": {
      "needs_background": "light"
     },
     "output_type": "display_data"
    }
   ],
   "source": [
    "f, a = plt.subplots()\n",
    "a.plot(X_transformed[:, 1], y_new, 'g.');"
   ]
  },
  {
   "cell_type": "code",
   "execution_count": 54,
   "metadata": {
    "ExecuteTime": {
     "end_time": "2021-05-11T16:49:10.463020Z",
     "start_time": "2021-05-11T16:49:10.347645Z"
    },
    "index": 105
   },
   "outputs": [
    {
     "data": {
      "image/png": "[encoded data removed]",
      "text/plain": [
       "<Figure size 432x288 with 1 Axes>"
      ]
     },
     "metadata": {
      "needs_background": "light"
     },
     "output_type": "display_data"
    }
   ],
   "source": [
    "f, a = plt.subplots()\n",
    "a.plot(X_transformed[:, 2], y_new, 'k.');"
   ]
  },
  {
   "cell_type": "code",
   "execution_count": 55,
   "metadata": {
    "ExecuteTime": {
     "end_time": "2021-05-11T16:49:15.677406Z",
     "start_time": "2021-05-11T16:49:15.667878Z"
    },
    "index": 107
   },
   "outputs": [
    {
     "data": {
      "text/html": [
       "<div>\n",
       "<style scoped>\n",
       "    .dataframe tbody tr th:only-of-type {\n",
       "        vertical-align: middle;\n",
       "    }\n",
       "\n",
       "    .dataframe tbody tr th {\n",
       "        vertical-align: top;\n",
       "    }\n",
       "\n",
       "    .dataframe thead th {\n",
       "        text-align: right;\n",
       "    }\n",
       "</style>\n",
       "<table border=\"1\" class=\"dataframe\">\n",
       "  <thead>\n",
       "    <tr style=\"text-align: right;\">\n",
       "      <th></th>\n",
       "      <th>PC1</th>\n",
       "      <th>PC2</th>\n",
       "      <th>PC3</th>\n",
       "      <th>y</th>\n",
       "    </tr>\n",
       "  </thead>\n",
       "  <tbody>\n",
       "    <tr>\n",
       "      <th>0</th>\n",
       "      <td>-1.962898</td>\n",
       "      <td>-0.797889</td>\n",
       "      <td>-0.120675</td>\n",
       "      <td>31.3</td>\n",
       "    </tr>\n",
       "    <tr>\n",
       "      <th>1</th>\n",
       "      <td>-2.691414</td>\n",
       "      <td>1.122234</td>\n",
       "      <td>1.206187</td>\n",
       "      <td>26.0</td>\n",
       "    </tr>\n",
       "    <tr>\n",
       "      <th>2</th>\n",
       "      <td>-1.511714</td>\n",
       "      <td>1.868694</td>\n",
       "      <td>-0.480904</td>\n",
       "      <td>30.0</td>\n",
       "    </tr>\n",
       "    <tr>\n",
       "      <th>3</th>\n",
       "      <td>4.196758</td>\n",
       "      <td>1.183595</td>\n",
       "      <td>-0.999421</td>\n",
       "      <td>14.0</td>\n",
       "    </tr>\n",
       "    <tr>\n",
       "      <th>4</th>\n",
       "      <td>2.843328</td>\n",
       "      <td>0.150394</td>\n",
       "      <td>0.228209</td>\n",
       "      <td>15.0</td>\n",
       "    </tr>\n",
       "  </tbody>\n",
       "</table>\n",
       "</div>"
      ],
      "text/plain": [
       "        PC1       PC2       PC3     y\n",
       "0 -1.962898 -0.797889 -0.120675  31.3\n",
       "1 -2.691414  1.122234  1.206187  26.0\n",
       "2 -1.511714  1.868694 -0.480904  30.0\n",
       "3  4.196758  1.183595 -0.999421  14.0\n",
       "4  2.843328  0.150394  0.228209  15.0"
      ]
     },
     "execution_count": 55,
     "metadata": {},
     "output_type": "execute_result"
    }
   ],
   "source": [
    "df = pd.DataFrame(np.hstack([X_transformed, y_new[:, np.newaxis]]),\n",
    "                  columns=['PC1', 'PC2', 'PC3', 'y'])\n",
    "df.head()"
   ]
  },
  {
   "cell_type": "code",
   "execution_count": 56,
   "metadata": {
    "ExecuteTime": {
     "end_time": "2021-05-11T16:49:41.812062Z",
     "start_time": "2021-05-11T16:49:41.465677Z"
    },
    "index": 109,
    "scrolled": false
   },
   "outputs": [
    {
     "data": {
      "image/png": "[encoded data removed]",
      "text/plain": [
       "<Figure size 408.75x360 with 1 Axes>"
      ]
     },
     "metadata": {
      "needs_background": "light"
     },
     "output_type": "display_data"
    }
   ],
   "source": [
    "sns.relplot(data=df,\n",
    "            x='PC1',\n",
    "            y='PC2',\n",
    "           hue='y');"
   ]
  },
  {
   "cell_type": "markdown",
   "metadata": {
    "index": 111
   },
   "source": [
    "## Relation to Linear Regression\n",
    "\n",
    "Question: Is the first principal component the same line we would get if we constructed an ordinary least-squares regression line?\n",
    "\n",
    "Answer: No. The best-fit line minimizes the sum of squared errors, i.e. the minimum sum of (\"vertical\") distances between the predictions and the real values of the dependent variable. Principal Component Analysis, by contrast, is not a modeling procedure and so has no target. The first principal component thus cannot minimize the sum of distances between predictions and real values; instead, it minimizes the sum of (\"perpendicular\") distances between the data points and *it (the line) itself*.\n",
    "\n",
    "Suppose we look at MPG vs. z-scores of weight in lbs. Let's make a scatter plot:"
   ]
  },
  {
   "cell_type": "code",
   "execution_count": 57,
   "metadata": {},
   "outputs": [
    {
     "data": {
      "text/plain": [
       "array([[-0.91365933, -0.73374036, -0.75054527, ...,  0.        ,\n",
       "         1.        ,  0.        ],\n",
       "       [-0.91365933, -0.94710908, -1.46992382, ...,  1.        ,\n",
       "         0.        ,  0.        ],\n",
       "       [-0.91365933, -1.03060118, -0.72573911, ...,  1.        ,\n",
       "         0.        ,  0.        ],\n",
       "       ...,\n",
       "       [-0.91365933, -0.80795556, -0.42806522, ...,  0.        ,\n",
       "         0.        ,  1.        ],\n",
       "       [ 0.26623186, -0.24206462,  0.24170102, ...,  0.        ,\n",
       "         0.        ,  1.        ],\n",
       "       [ 0.26623186, -0.28844913,  0.3657318 , ...,  1.        ,\n",
       "         0.        ,  0.        ]])"
      ]
     },
     "execution_count": 57,
     "metadata": {},
     "output_type": "execute_result"
    }
   ],
   "source": [
    "X_tr_pp"
   ]
  },
  {
   "cell_type": "code",
   "execution_count": 58,
   "metadata": {},
   "outputs": [
    {
     "data": {
      "text/plain": [
       "array([-7.33740359e-01, -9.47109075e-01, -1.03060118e+00,  2.37402138e+00,\n",
       "        1.39994680e+00,  2.37402138e+00,  9.54655569e-01,  4.72256733e-01,\n",
       "        1.86379184e+00, -9.37832174e-01, -9.47109075e-01,  1.40922370e+00,\n",
       "        1.10308598e+00, -5.48202345e-01,  1.10308598e+00, -1.11409329e+00,\n",
       "       -7.24463458e-01,  1.00104007e+00, -1.11409329e+00, -7.70847962e-01,\n",
       "       -4.46156437e-01,  1.10308598e+00,  1.40922370e+00,  3.05272520e-01,\n",
       "        1.10308598e+00, -8.72893869e-01, -9.47109075e-01,  1.86379184e+00,\n",
       "       -3.34833629e-01, -8.54340068e-01,  3.05272520e-01,  4.72256733e-01,\n",
       "        1.86379184e+00,  3.05272520e-01, -1.00277048e+00, -1.07698568e+00,\n",
       "        4.72256733e-01, -7.15186557e-01,  2.95995619e-01,  1.39994680e+00,\n",
       "       -9.37832174e-01, -5.94586848e-01, -6.31694451e-01,  9.54655569e-01,\n",
       "        1.86379184e+00, -5.38925444e-01,  9.73209371e-01, -9.37832174e-01,\n",
       "        4.72256733e-01,  1.86379184e+00,  2.23486787e+00, -7.33740359e-01,\n",
       "       -9.47109075e-01, -9.47109075e-01,  2.37402138e+00,  1.86379184e+00,\n",
       "       -7.70847962e-01, -1.17903159e+00, -7.33740359e-01, -8.54340068e-01,\n",
       "       -8.72893869e-01,  9.54655569e-01,  4.72256733e-01,  2.36474448e+00,\n",
       "        2.95995619e-01,  1.39994680e+00, -4.46156437e-01, -1.21613920e+00,\n",
       "       -9.47109075e-01, -1.10481639e+00, -8.65203175e-04, -7.89401763e-01,\n",
       "       -1.01421039e-02, -7.33740359e-01,  8.41169753e-03, -1.01204738e+00,\n",
       "       -9.47109075e-01, -4.46156437e-01, -1.09553949e+00,  9.54655569e-01,\n",
       "        9.54655569e-01, -2.88449125e-01, -8.26509366e-01, -9.37832174e-01,\n",
       "       -9.47109075e-01,  9.82486272e-01, -1.00277048e+00,  1.49271581e+00,\n",
       "       -5.48202345e-01, -2.42064621e-01, -3.99771933e-01,  2.40334215e-01,\n",
       "        5.65025740e-01,  4.72256733e-01,  1.39994680e+00, -8.07955564e-01,\n",
       "        1.30717780e+00, -6.03863749e-01, -9.56385976e-01, -1.02132428e+00,\n",
       "        1.40922370e+00,  4.72256733e-01, -9.47109075e-01, -8.54340068e-01,\n",
       "       -1.00277048e+00, -9.47109075e-01,  3.05272520e-01, -8.72893869e-01,\n",
       "       -3.99771933e-01,  3.05272520e-01, -9.37832174e-01, -1.14192399e+00,\n",
       "       -7.98678664e-01,  9.73209371e-01, -1.00277048e+00,  1.10308598e+00,\n",
       "       -7.24463458e-01,  2.40334215e-01, -5.48202345e-01,  9.82486272e-01,\n",
       "       -1.04915498e+00, -1.05843188e+00, -1.49295614e-01, -4.92540941e-01,\n",
       "        1.40922370e+00, -9.37832174e-01, -5.11094742e-01,  8.41169753e-03,\n",
       "        6.55779403e-17, -1.01421039e-02, -5.48202345e-01,  9.54655569e-01,\n",
       "       -9.37832174e-01,  4.72256733e-01, -8.65203175e-04,  4.72256733e-01,\n",
       "        2.40334215e-01, -1.02132428e+00, -9.37832174e-01, -4.46156437e-01,\n",
       "        1.39994680e+00, -8.07955564e-01, -9.37832174e-01,  9.82486272e-01,\n",
       "       -7.24463458e-01, -1.05843188e+00,  1.10308598e+00, -8.45063167e-01,\n",
       "        5.46471938e-01,  1.10308598e+00,  4.72256733e-01, -7.33740359e-01,\n",
       "        2.40334215e-01,  1.86379184e+00, -7.98678664e-01,  5.83579541e-01,\n",
       "       -7.15186557e-01, -8.45063167e-01, -7.33740359e-01, -9.47109075e-01,\n",
       "        1.10308598e+00,  8.41169753e-03, -7.80124862e-01,  1.77102283e+00,\n",
       "       -8.45063167e-01,  1.10308598e+00,  5.65025740e-01, -4.46156437e-01,\n",
       "       -1.00277048e+00,  4.72256733e-01,  2.40334215e-01, -9.47109075e-01,\n",
       "       -7.24463458e-01,  1.40922370e+00,  1.49271581e+00, -5.48202345e-01,\n",
       "        2.23486787e+00,  1.86379184e+00, -4.46156437e-01,  6.29964045e-01,\n",
       "       -3.99771933e-01, -9.47109075e-01,  1.70608453e+00, -1.05843188e+00,\n",
       "        2.95995619e-01, -7.24463458e-01, -1.18830849e+00,  3.05272520e-01,\n",
       "       -1.11409329e+00,  6.55779403e-17, -9.37832174e-01, -2.60618423e-01,\n",
       "       -8.07955564e-01, -2.42064621e-01, -2.88449125e-01])"
      ]
     },
     "execution_count": 58,
     "metadata": {},
     "output_type": "execute_result"
    }
   ],
   "source": [
    "X_tr_pp[:, 1]"
   ]
  },
  {
   "cell_type": "code",
   "execution_count": 59,
   "metadata": {
    "ExecuteTime": {
     "end_time": "2021-05-11T16:49:44.571278Z",
     "start_time": "2021-05-11T16:49:44.423767Z"
    },
    "index": 112
   },
   "outputs": [
    {
     "data": {
      "image/png": "[encoded data removed]",
      "text/plain": [
       "<Figure size 432x288 with 1 Axes>"
      ]
     },
     "metadata": {
      "needs_background": "light"
     },
     "output_type": "display_data"
    }
   ],
   "source": [
    "f, a = plt.subplots()\n",
    "\n",
    "a.scatter(X_tr_pp[:, 1], y_train)\n",
    "a.set_xlabel('weight z-scores (lbs.)')\n",
    "a.set_ylabel('efficiency (MPG)')\n",
    "a.set_title('MPG vs. Weight');"
   ]
  },
  {
   "cell_type": "markdown",
   "metadata": {
    "index": 114
   },
   "source": [
    "Let's add the best-fit line:"
   ]
  },
  {
   "cell_type": "code",
   "execution_count": 60,
   "metadata": {
    "ExecuteTime": {
     "end_time": "2021-05-11T16:49:47.099063Z",
     "start_time": "2021-05-11T16:49:47.094468Z"
    },
    "index": 115
   },
   "outputs": [],
   "source": [
    "beta1 = LinearRegression().fit(X_tr_pp[:, 1].reshape(-1, 1),\n",
    "                               y_train).coef_\n",
    "beta0 = LinearRegression().fit(X_tr_pp[:, 1].reshape(-1, 1),\n",
    "                               y_train).intercept_"
   ]
  },
  {
   "cell_type": "code",
   "execution_count": 61,
   "metadata": {
    "ExecuteTime": {
     "end_time": "2021-05-11T16:49:51.924084Z",
     "start_time": "2021-05-11T16:49:51.760638Z"
    },
    "index": 117
   },
   "outputs": [
    {
     "data": {
      "image/png": "[encoded data removed]",
      "text/plain": [
       "<Figure size 432x288 with 1 Axes>"
      ]
     },
     "metadata": {
      "needs_background": "light"
     },
     "output_type": "display_data"
    }
   ],
   "source": [
    "f, a = plt.subplots()\n",
    "\n",
    "a.scatter(X_tr_pp[:, 1], y_train)\n",
    "a.plot(X_tr_pp[:, 1],\n",
    "       beta1[0] * X_tr_pp[:, 1] + beta0,\n",
    "      c='r', label='best-fit line')\n",
    "a.set_xlabel('weight z-scores (lbs.)')\n",
    "a.set_ylabel('efficiency (MPG)')\n",
    "a.set_title('MPG vs. Weight')\n",
    "plt.legend();"
   ]
  },
  {
   "cell_type": "markdown",
   "metadata": {
    "index": 119
   },
   "source": [
    "Now let's see what the principal component looks like. We'll make use of the `inverse_transform()` method of `PCA()` objects."
   ]
  },
  {
   "cell_type": "code",
   "execution_count": 62,
   "metadata": {
    "ExecuteTime": {
     "end_time": "2021-05-11T16:49:53.022462Z",
     "start_time": "2021-05-11T16:49:53.016392Z"
    },
    "index": 120
   },
   "outputs": [],
   "source": [
    "pc1 = PCA(n_components=1).fit(np.concatenate((X_tr_pp[:, 1].reshape(-1, 1),\n",
    "                                 y_train.values.reshape(-1, 1)),\n",
    "                                axis=1))\n",
    "\n",
    "pc = pc1.transform(np.concatenate((X_tr_pp[:, 1].reshape(-1, 1),\n",
    "                                 y_train.values.reshape(-1, 1)),\n",
    "                                axis=1))\n",
    "\n",
    "pc_inv = pc1.inverse_transform(pc)"
   ]
  },
  {
   "cell_type": "code",
   "execution_count": 63,
   "metadata": {
    "ExecuteTime": {
     "end_time": "2021-05-11T16:50:16.082046Z",
     "start_time": "2021-05-11T16:50:15.914763Z"
    },
    "index": 122
   },
   "outputs": [
    {
     "data": {
      "image/png": "[encoded data removed]",
      "text/plain": [
       "<Figure size 432x288 with 1 Axes>"
      ]
     },
     "metadata": {
      "needs_background": "light"
     },
     "output_type": "display_data"
    }
   ],
   "source": [
    "f, a = plt.subplots()\n",
    "\n",
    "a.scatter(X_tr_pp[:, 1], y_train)\n",
    "a.plot(X_tr_pp[:, 1],\n",
    "       beta1[0] * X_tr_pp[:, 1] + beta0,\n",
    "      c='r', label='best-fit line')\n",
    "a.plot(pc_inv[:, 0],\n",
    "       pc_inv[:, 1],\n",
    "      c='b', label='principal component')\n",
    "a.set_xlabel('weight z-scores (lbs.)')\n",
    "a.set_ylabel('efficiency (MPG)')\n",
    "a.set_title('MPG vs. Weight')\n",
    "plt.legend();"
   ]
  },
  {
   "cell_type": "markdown",
   "metadata": {
    "index": 124
   },
   "source": [
    "Check out this post, to which I am indebted, for more on this subtle point: https://shankarmsy.github.io/posts/pca-vs-lr.html"
   ]
  },
  {
   "cell_type": "markdown",
   "metadata": {
    "index": 125
   },
   "source": [
    "## Modeling with New Dimensions\n",
    "\n",
    "Now that we have optimized our features, we can build a new model with them!"
   ]
  },
  {
   "cell_type": "code",
   "execution_count": 64,
   "metadata": {
    "ExecuteTime": {
     "end_time": "2021-05-11T16:50:18.665840Z",
     "start_time": "2021-05-11T16:50:18.659936Z"
    },
    "index": 126
   },
   "outputs": [
    {
     "data": {
      "text/plain": [
       "0.7942095288150963"
      ]
     },
     "execution_count": 64,
     "metadata": {},
     "output_type": "execute_result"
    }
   ],
   "source": [
    "lr_pca = LinearRegression()\n",
    "lr_pca.fit(X_train_new, y_train)\n",
    "lr_pca.score(X_train_new, y_train)"
   ]
  },
  {
   "cell_type": "code",
   "execution_count": 65,
   "metadata": {
    "ExecuteTime": {
     "end_time": "2021-05-11T16:50:19.407566Z",
     "start_time": "2021-05-11T16:50:19.404650Z"
    },
    "index": 128
   },
   "outputs": [],
   "source": [
    "X_test_new = pca.transform(X_te_pp)"
   ]
  },
  {
   "cell_type": "code",
   "execution_count": 66,
   "metadata": {
    "ExecuteTime": {
     "end_time": "2021-05-11T16:50:20.097311Z",
     "start_time": "2021-05-11T16:50:20.093004Z"
    },
    "index": 130
   },
   "outputs": [
    {
     "data": {
      "text/plain": [
       "0.7161359404824603"
      ]
     },
     "execution_count": 66,
     "metadata": {},
     "output_type": "execute_result"
    }
   ],
   "source": [
    "lr_pca.score(X_test_new, y_test)"
   ]
  },
  {
   "cell_type": "code",
   "execution_count": 67,
   "metadata": {
    "ExecuteTime": {
     "end_time": "2021-05-11T16:50:21.288496Z",
     "start_time": "2021-05-11T16:50:21.285061Z"
    },
    "index": 132
   },
   "outputs": [
    {
     "data": {
      "text/plain": [
       "array([-2.97363289, -1.16133279, -2.49280802])"
      ]
     },
     "execution_count": 67,
     "metadata": {},
     "output_type": "execute_result"
    }
   ],
   "source": [
    "lr_pca.coef_"
   ]
  },
  {
   "cell_type": "markdown",
   "metadata": {
    "index": 134
   },
   "source": [
    "Thus, our best-fit hyperplane is given by:\n",
    "\n",
    "$-2.967\\times PC1 - 1.162\\times PC2 -2.486\\times PC3$\n",
    "\n",
    "Of course, since the principal components are just linear combinations of our original predictors, we could re-express this hyperplane in terms of those original predictors!\n",
    "\n",
    "And if the PCA was worth anything, we should expect the new linear model to be *different from* the first!\n",
    "\n",
    "Recall that we had:\n",
    "\n",
    "**PC1** = 0.450 * cylinders_sd + 0.464 * cubicinches_sd + 0.455 * hp_sd + 0.433 * 𝑙𝑏𝑠_𝑠𝑑 - 0.350 * timeto60sd - 0.188 * year_sd - 0.068 * Europe - 0.073 * Japan + 0.141 * US\n",
    "\n",
    "**PC2** = -0.132 * cylinders_sd - 0.1 * cubicinches_sd + 0.005 * hp_sd  -0.194 * 𝑙𝑏𝑠_𝑠𝑑 - 0.123 * timeto60sd - 0.938 * year_sd + 0.13 * Europe + 0.022 * Japan - 0.152 * US\n",
    "\n",
    "**PC3** = 0.189 * cylinders_sd + 0.142 * cubicinches_sd - 0.143 * hp_sd + 0.341 * 𝑙𝑏𝑠_𝑠𝑑 + 0.851 * timeto60sd - 0.236 * year_sd - 0.041 * Europe - 0.132 * Japan + 0.091 * US\n",
    "\n",
    "Therefore, our new PCA-made hyperplane can be expressed as:\n",
    "\n",
    "$-2.967\\times(0.450 * cylinderssd + 0.464 * cubicinchessd + 0.455 * hpsd + 0.433 * 𝑙𝑏𝑠𝑠𝑑 - 0.350 * timeto60sd - 0.188 * yearsd - 0.068 * Europe - 0.073 * Japan + 0.141 * US)$ <br/> $- 1.162\\times(-0.132 * cylinderssd - 0.1 * cubicinchessd + 0.005 * hpsd -0.194 * 𝑙𝑏𝑠𝑠𝑑 - 0.123 * timeto60sd - 0.938 * yearsd + 0.13 * Europe + 0.022 * Japan - 0.152 * US)$ <br/> $- 2.486\\times(0.189 * cylinderssd + 0.142 * cubicinchessd - 0.143 * hpsd + 0.341 * 𝑙𝑏𝑠𝑠𝑑 + 0.851 * timeto60sd - 0.236 * yearsd - 0.041 * Europe - 0.132 * Japan + 0.091 * US)$\n",
    "\n",
    "Let's make these calculations:"
   ]
  },
  {
   "cell_type": "code",
   "execution_count": 68,
   "metadata": {
    "ExecuteTime": {
     "end_time": "2021-05-11T16:50:58.756084Z",
     "start_time": "2021-05-11T16:50:58.751682Z"
    },
    "index": 135
   },
   "outputs": [],
   "source": [
    "def pca_original(feature_names, model, pca, class_index=1):\n",
    "    \"\"\"\n",
    "    \n",
    "    Returns the coefficients for a model that has been reduced\n",
    "    with sklearn's PCA.\n",
    "    \n",
    "    \"\"\"\n",
    "    \n",
    "    coeffs = {}\n",
    "    # For multi class classification problems, model.coef_\n",
    "    # returns a matrix of coefficients for each class\n",
    "    # If model.coef_.shape[1] exists and is not 0\n",
    "    # then the coefficients are collected for the desired\n",
    "    # class\n",
    "    try:\n",
    "        if model.coef_.shape[1]:\n",
    "            weights = model.coef_[class_index]\n",
    "        else:\n",
    "            weights = model.coef_\n",
    "    except:\n",
    "        weights = model.coef_\n",
    "    \n",
    "    for idx in range(len(feature_names)):\n",
    "        coeffs[feature_names[idx]] = np.round(weights @ pca.components_[:,idx], 3)\n",
    "    return coeffs"
   ]
  },
  {
   "cell_type": "code",
   "execution_count": 69,
   "metadata": {
    "ExecuteTime": {
     "end_time": "2021-05-11T16:51:00.046013Z",
     "start_time": "2021-05-11T16:51:00.041509Z"
    },
    "index": 137
   },
   "outputs": [
    {
     "data": {
      "text/plain": [
       "{'cylinders_sd': -1.659,\n",
       " 'cubicinches_sd': -1.62,\n",
       " 'horsepower_sd': -1.003,\n",
       " 'weightlbs_sd': -1.911,\n",
       " 'timeto60_sd': -0.936,\n",
       " 'year_sd': 2.237,\n",
       " 'Europe': -0.052,\n",
       " 'Japan': 0.52,\n",
       " 'US': -0.468}"
      ]
     },
     "execution_count": 69,
     "metadata": {},
     "output_type": "execute_result"
    }
   ],
   "source": [
    "feature_names = ['cylinders_sd', 'cubicinches_sd', 'horsepower_sd', \n",
    "                 'weightlbs_sd','timeto60_sd', 'year_sd', 'Europe',\n",
    "                'Japan', 'US']\n",
    "\n",
    "pca_original(feature_names, lr_pca, pca)"
   ]
  },
  {
   "cell_type": "markdown",
   "metadata": {
    "index": 139
   },
   "source": [
    "So our best-fit hyperplane using PCA is:\n",
    "\n",
    "$-1.659\\times cyl\\_sd -1.62\\times in^3\\_sd-1.003\\times hp\\_sd-1.911\\times lbs.\\_sd -0.936\\times time_{60}\\_sd + 2.237\\times yr\\_sd -0.052\\times brand_{Europe} + 0.52\\times brand_{Japan} -0.468\\times brand_{US}$\n",
    "\n",
    "\n",
    "Recall that our first linear regression model had:\n",
    "\n",
    "$- 1.555\\times cyl\\_sd + 2.189\\times in^3\\_sd - 1.154\\times hp\\_sd - 4.681\\times lbs.\\_sd  - 0.267\\times time_{60}\\_sd + 2.604\\times yr\\_sd + 0.708\\times brand_{Europe} + 0.912\\times brand_{Japan} - 1.620\\times brand_{US}$\n",
    "\n",
    "which is clearly a different hyperplane."
   ]
  },
  {
   "cell_type": "markdown",
   "metadata": {
    "ExecuteTime": {
     "end_time": "2021-05-11T01:46:43.165835Z",
     "start_time": "2021-05-11T01:46:43.163819Z"
    },
    "index": 140
   },
   "source": [
    "# Importance of scaling"
   ]
  },
  {
   "cell_type": "code",
   "execution_count": 70,
   "metadata": {
    "ExecuteTime": {
     "end_time": "2021-05-11T16:52:27.583914Z",
     "start_time": "2021-05-11T16:52:27.548178Z"
    },
    "index": 141
   },
   "outputs": [],
   "source": [
    "from sklearn.datasets import load_wine\n",
    "from sklearn.pipeline import make_pipeline\n",
    "from sklearn.linear_model import LogisticRegression\n",
    "from sklearn.model_selection import cross_val_score"
   ]
  },
  {
   "cell_type": "code",
   "execution_count": 71,
   "metadata": {
    "ExecuteTime": {
     "end_time": "2021-05-11T16:52:28.238685Z",
     "start_time": "2021-05-11T16:52:28.231528Z"
    },
    "index": 143
   },
   "outputs": [],
   "source": [
    "unscaled = make_pipeline(PCA(.95), LogisticRegression())\n",
    "scaled = make_pipeline(StandardScaler(), PCA(.95), LogisticRegression())\n",
    "data = load_wine()\n",
    "X = pd.DataFrame(data['data'], columns=data['feature_names'])\n",
    "y = data['target']"
   ]
  },
  {
   "cell_type": "code",
   "execution_count": 72,
   "metadata": {
    "ExecuteTime": {
     "end_time": "2021-05-11T16:52:28.978533Z",
     "start_time": "2021-05-11T16:52:28.889110Z"
    },
    "index": 145
   },
   "outputs": [
    {
     "data": {
      "text/plain": [
       "array([0.63888889, 0.61111111, 0.72222222, 0.74285714, 0.8       ])"
      ]
     },
     "execution_count": 72,
     "metadata": {},
     "output_type": "execute_result"
    }
   ],
   "source": [
    "cross_val_score(unscaled, X, y)"
   ]
  },
  {
   "cell_type": "code",
   "execution_count": 73,
   "metadata": {
    "ExecuteTime": {
     "end_time": "2021-05-11T16:52:29.454155Z",
     "start_time": "2021-05-11T16:52:29.378808Z"
    },
    "index": 147
   },
   "outputs": [
    {
     "data": {
      "text/plain": [
       "array([0.97222222, 0.94444444, 1.        , 1.        , 1.        ])"
      ]
     },
     "execution_count": 73,
     "metadata": {},
     "output_type": "execute_result"
    }
   ],
   "source": [
    "cross_val_score(scaled, X, y)"
   ]
  },
  {
   "cell_type": "code",
   "execution_count": 74,
   "metadata": {
    "ExecuteTime": {
     "end_time": "2021-05-11T16:52:30.628580Z",
     "start_time": "2021-05-11T16:52:30.361597Z"
    },
    "index": 149
   },
   "outputs": [
    {
     "data": {
      "image/png": "[encoded data removed]",
      "text/plain": [
       "<Figure size 1080x432 with 2 Axes>"
      ]
     },
     "metadata": {
      "needs_background": "light"
     },
     "output_type": "display_data"
    }
   ],
   "source": [
    "pca = PCA(2)\n",
    "scaler = StandardScaler()\n",
    "X_scaled = scaler.fit_transform(X)\n",
    "X_pca = pca.fit_transform(X)\n",
    "X_pca = pd.DataFrame(X_pca, columns=['f1', 'f2'])\n",
    "X_scaled_pca = pca.fit_transform(X_scaled)\n",
    "X_scaled_pca = pd.DataFrame(X_scaled_pca, columns=['f1', 'f2'])\n",
    "\n",
    "fig, ax = plt.subplots(1,2, figsize=(15,6))\n",
    "for label in pd.Series(y).unique():\n",
    "    frame = X_pca[y==label]\n",
    "    frame_scaled = X_scaled_pca[y==label]\n",
    "    ax[0].scatter(frame.f1, frame.f2, label=label)\n",
    "    ax[1].scatter(frame_scaled.f1, frame_scaled.f2, label=label)\n",
    "ax[0].set_title('PCA Unscaled')\n",
    "ax[1].set_title('PCA Scaled')\n",
    "plt.legend();"
   ]
  },
  {
   "cell_type": "markdown",
   "metadata": {
    "ExecuteTime": {
     "end_time": "2021-05-11T01:59:58.097235Z",
     "start_time": "2021-05-11T01:59:58.095136Z"
    },
    "index": 151
   },
   "source": [
    "# Selecting `n_components`."
   ]
  },
  {
   "cell_type": "code",
   "execution_count": 75,
   "metadata": {
    "ExecuteTime": {
     "end_time": "2021-05-11T16:52:33.766158Z",
     "start_time": "2021-05-11T16:52:33.653807Z"
    },
    "index": 152
   },
   "outputs": [
    {
     "data": {
      "image/png": "[encoded data removed]",
      "text/plain": [
       "<Figure size 432x288 with 1 Axes>"
      ]
     },
     "metadata": {
      "needs_background": "light"
     },
     "output_type": "display_data"
    }
   ],
   "source": [
    "pca = PCA().fit(X_scaled)\n",
    "cumulative_variance = np.cumsum(pca.explained_variance_ratio_)\n",
    "plt.plot(cumulative_variance)\n",
    "plt.xlabel('Number of Components')\n",
    "plt.ylabel('Percentage of explained variance');"
   ]
  },
  {
   "cell_type": "code",
   "execution_count": 76,
   "metadata": {
    "ExecuteTime": {
     "end_time": "2021-05-11T16:52:34.809411Z",
     "start_time": "2021-05-11T16:52:34.736365Z"
    },
    "index": 154
   },
   "outputs": [
    {
     "data": {
      "text/plain": [
       "array([0.97222222, 0.97222222, 1.        , 1.        , 1.        ])"
      ]
     },
     "execution_count": 76,
     "metadata": {},
     "output_type": "execute_result"
    }
   ],
   "source": [
    "pca = PCA(12)\n",
    "pipeline = make_pipeline(StandardScaler(), pca, LogisticRegression())\n",
    "cross_val_score(pipeline, X, y)"
   ]
  },
  {
   "cell_type": "code",
   "execution_count": null,
   "metadata": {
    "ExecuteTime": {
     "end_time": "2021-05-11T16:52:35.555589Z",
     "start_time": "2021-05-11T16:52:35.535970Z"
    },
    "index": 156
   },
   "outputs": [],
   "source": [
    "pipeline.fit(X, y)"
   ]
  },
  {
   "cell_type": "code",
   "execution_count": null,
   "metadata": {
    "ExecuteTime": {
     "end_time": "2021-05-11T16:52:36.414578Z",
     "start_time": "2021-05-11T16:52:36.409546Z"
    },
    "index": 158
   },
   "outputs": [],
   "source": [
    "pca_original(X.columns, pipeline.steps[-1][1], pipeline.steps[-2][1])"
   ]
  },
  {
   "cell_type": "markdown",
   "metadata": {
    "index": 160
   },
   "source": [
    "## Extra Resource\n",
    "\n",
    "- [StatQuests Longform PCA video](https://www.youtube.com/watch?v=_UVHneBUBW0)\n",
    "- [Three Blue One Brown Video on Eigan Vectors](https://www.youtube.com/watch?v=PFDu9oVAE-g)\n",
    "- [Python Data Science Handbook - In Depth PCA](https://jakevdp.github.io/PythonDataScienceHandbook/05.09-principal-component-analysis.html#:~:text=PCA%20is%20fundamentally%20a%20dimensionality,and%20engineering%2C%20and%20much%20more)"
   ]
  }
 ],
 "metadata": {
  "kernelspec": {
   "display_name": "Python 3",
   "language": "python",
   "name": "python3"
  },
  "language_info": {
   "codemirror_mode": {
    "name": "ipython",
    "version": 3
   },
   "file_extension": ".py",
   "mimetype": "text/x-python",
   "name": "python",
   "nbconvert_exporter": "python",
   "pygments_lexer": "ipython3",
   "version": "3.8.5"
  },
  "toc": {
   "base_numbering": 1,
   "nav_menu": {},
   "number_sections": false,
   "sideBar": true,
   "skip_h1_title": false,
   "title_cell": "Table of Contents",
   "title_sidebar": "Contents",
   "toc_cell": false,
   "toc_position": {},
   "toc_section_display": true,
   "toc_window_display": false
  }
 },
 "nbformat": 4,
 "nbformat_minor": 2
}
